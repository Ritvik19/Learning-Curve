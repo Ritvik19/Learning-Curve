{
 "cells": [
  {
   "cell_type": "markdown",
   "metadata": {},
   "source": [
    "# Introduction\n",
    "\n",
    "**Hypothesis**: A hypothesis is an educated guess about something in the world around you. It should be testable, either by experiment or observation.\n",
    "\n",
    "**Hypothesis statement**: A good hypothesis statement should:\n",
    "* Include an “if” and “then” statement.\n",
    "* Include both the independent and dependent variables.\n",
    "* Be testable by experiment, survey or other scientifically sound technique.\n",
    "\n",
    "**Hypothesis Testing**: Hypothesis testing in statistics is a way for you to test the results of a survey or experiment to see if you have meaningful results. You’re basically testing whether your results are valid by figuring out the odds that your results have happened by chance. If your results may have happened by chance, the experiment won’t be repeatable and so has little use.\n",
    "\n",
    "**Hypothesis Testing Process**:\n",
    "* Figure out your null hypothesis.\n",
    "* State your null hypothesis.\n",
    "* Choose what kind of test you need to perform.\n",
    "* Either support or reject the null hypothesis.\n",
    "\n",
    "The assumption of a statistical test is called the null hypothesis, or hypothesis 0 (H0 for short). It is often called the default assumption, or the assumption that nothing has changed.\n",
    "\n",
    "A violation of the test’s assumption is often called the first hypothesis, hypothesis 1 or H1 for short. H1 is really a short hand for “some other hypothesis,” as all we know is that the evidence suggests that the H0 can be rejected.\n",
    "\n",
    "**Hypothesis 0 (H0)**: Assumption of the test holds and is failed to be rejected at some level of significance.\n",
    "\n",
    "**Hypothesis 1 (H1)**: Assumption of the test does not hold and is rejected at some level of significance.\n",
    "\n",
    "Before we can reject or fail to reject the null hypothesis, we must interpret the result of the test\n",
    "\n",
    "**Statistical Test Interpretation**:\n",
    "\n",
    "A statistical hypothesis test may return a value called p or the p-value. This is a quantity that we can use to interpret or quantify the result of the test and either reject or fail to reject the null hypothesis. This is done by comparing the p-value to a threshold value chosen beforehand called the significance level.\n",
    "\n",
    "The significance level is often referred to by the Greek lower case letter alpha.\n",
    "\n",
    "A common value used for alpha is 5% or 0.05. A smaller alpha value suggests a more robust interpretation of the null hypothesis, such as 1% or 0.1%.\n",
    "\n",
    "The p-value is compared to the pre-chosen alpha value. A result is statistically significant when the p-value is less than alpha. This signifies a change was detected: that the default hypothesis can be rejected.\n",
    "\n",
    "If p-value > alpha: Fail to reject the null hypothesis (i.e. not significant result).\n",
    "\n",
    "If p-value <= alpha: Reject the null hypothesis (i.e. significant result)."
   ]
  },
  {
   "cell_type": "markdown",
   "metadata": {},
   "source": [
    "# Implementation\n",
    "\n",
    "1. Normality Tests\n",
    "    1. Shapiro-Wilk Test\n",
    "    2. D’Agostino’s K^2 Test\n",
    "    3. Anderson-Darling Test\n",
    "2. Correlation Tests\n",
    "    1. Pearson’s Correlation Coefficient\n",
    "    2. Spearman’s Rank Correlation\n",
    "    3. Kendall’s Rank Correlation\n",
    "    4. Chi-Squared Test\n",
    "3. Stationary Tests\n",
    "    1. Augmented Dickey-Fuller\n",
    "    2. Kwiatkowski-Phillips-Schmidt-Shin\n",
    "4. Parametric Statistical Hypothesis Tests\n",
    "    1. Student’s t-test\n",
    "    2. Paired Student’s t-test\n",
    "    3. Analysis of Variance Test (ANOVA)\n",
    "    4. Repeated Measures ANOVA Test\n",
    "5. Nonparametric Statistical Hypothesis Tests\n",
    "    1. Mann-Whitney U Test\n",
    "    2. Wilcoxon Signed-Rank Test\n",
    "    3. Kruskal-Wallis H Test\n",
    "    4. Friedman Test"
   ]
  },
  {
   "cell_type": "markdown",
   "metadata": {},
   "source": [
    "## Shapiro-Wilk Test\n",
    "Tests whether a data sample has a Gaussian distribution.\n",
    "\n",
    "**Assumptions**\n",
    "* Observations in each sample are independent and identically distributed (iid).\n",
    "\n",
    "**Interpretation**\n",
    "* H0: the sample has a Gaussian distribution.\n",
    "* H1: the sample does not have a Gaussian distribution."
   ]
  },
  {
   "cell_type": "code",
   "execution_count": 1,
   "metadata": {},
   "outputs": [
    {
     "name": "stdout",
     "output_type": "stream",
     "text": [
      "stat=0.895, p=0.193\n",
      "Probably Gaussian\n"
     ]
    }
   ],
   "source": [
    "from scipy.stats import shapiro\n",
    "data = [0.873, 2.817, 0.121, -0.945, -0.055, -1.436, 0.360, -1.478, -1.637, -1.869]\n",
    "stat, p = shapiro(data)\n",
    "print('stat=%.3f, p=%.3f' % (stat, p))\n",
    "if p > 0.05:\n",
    "    print('Probably Gaussian')\n",
    "else:\n",
    "    print('Probably not Gaussian')"
   ]
  },
  {
   "cell_type": "markdown",
   "metadata": {},
   "source": [
    "## D’Agostino’s K^2 Test\n",
    "Tests whether a data sample has a Gaussian distribution.\n",
    "\n",
    "**Assumptions**\n",
    "* Observations in each sample are independent and identically distributed (iid).\n",
    "\n",
    "**Interpretation**\n",
    "* H0: the sample has a Gaussian distribution.\n",
    "* H1: the sample does not have a Gaussian distribution."
   ]
  },
  {
   "cell_type": "code",
   "execution_count": 2,
   "metadata": {},
   "outputs": [
    {
     "name": "stdout",
     "output_type": "stream",
     "text": [
      "stat=3.392, p=0.183\n",
      "Probably Gaussian\n"
     ]
    },
    {
     "name": "stderr",
     "output_type": "stream",
     "text": [
      "c:\\users\\rr_0124\\appdata\\local\\programs\\python\\python36\\lib\\site-packages\\scipy\\stats\\stats.py:1535: UserWarning: kurtosistest only valid for n>=20 ... continuing anyway, n=10\n",
      "  \"anyway, n=%i\" % int(n))\n"
     ]
    }
   ],
   "source": [
    "from scipy.stats import normaltest\n",
    "data = [0.873, 2.817, 0.121, -0.945, -0.055, -1.436, 0.360, -1.478, -1.637, -1.869]\n",
    "stat, p = normaltest(data)\n",
    "print('stat=%.3f, p=%.3f' % (stat, p))\n",
    "if p > 0.05:\n",
    "    print('Probably Gaussian')\n",
    "else:\n",
    "    print('Probably not Gaussian')"
   ]
  },
  {
   "cell_type": "markdown",
   "metadata": {},
   "source": [
    "## Anderson-Darling Test\n",
    "Tests whether a data sample has a Gaussian distribution.\n",
    "\n",
    "**Assumptions**\n",
    "* Observations in each sample are independent and identically distributed (iid).\n",
    "\n",
    "**Interpretation** \n",
    "* H0: the sample has a Gaussian distribution.\n",
    "* H1: the sample does not have a Gaussian distribution."
   ]
  },
  {
   "cell_type": "code",
   "execution_count": 3,
   "metadata": {},
   "outputs": [
    {
     "name": "stdout",
     "output_type": "stream",
     "text": [
      "stat=0.424\n",
      "Probably Gaussian at the 15.0% level\n",
      "Probably Gaussian at the 10.0% level\n",
      "Probably Gaussian at the 5.0% level\n",
      "Probably Gaussian at the 2.5% level\n",
      "Probably Gaussian at the 1.0% level\n"
     ]
    }
   ],
   "source": [
    "from scipy.stats import anderson\n",
    "data = [0.873, 2.817, 0.121, -0.945, -0.055, -1.436, 0.360, -1.478, -1.637, -1.869]\n",
    "result = anderson(data)\n",
    "print('stat=%.3f' % (result.statistic))\n",
    "for i in range(len(result.critical_values)):\n",
    "    sl, cv = result.significance_level[i], result.critical_values[i]\n",
    "    if result.statistic < cv:\n",
    "        print('Probably Gaussian at the %.1f%% level' % (sl))\n",
    "    else:\n",
    "        print('Probably not Gaussian at the %.1f%% level' % (sl))"
   ]
  },
  {
   "cell_type": "markdown",
   "metadata": {},
   "source": [
    "## Pearson’s Correlation Coefficient\n",
    "Tests whether two samples have a linear relationship.\n",
    "\n",
    "**Assumptions**\n",
    "* Observations in each sample are independent and identically distributed (iid).\n",
    "* Observations in each sample are normally distributed.\n",
    "* Observations in each sample have the same variance.\n",
    "\n",
    "**Interpretation**\n",
    "* H0: the two samples are independent.\n",
    "* H1: there is a dependency between the samples."
   ]
  },
  {
   "cell_type": "code",
   "execution_count": 4,
   "metadata": {},
   "outputs": [
    {
     "name": "stdout",
     "output_type": "stream",
     "text": [
      "stat=0.688, p=0.028\n",
      "Probably dependent\n"
     ]
    }
   ],
   "source": [
    "from scipy.stats import pearsonr\n",
    "data1 = [0.873, 2.817, 0.121, -0.945, -0.055, -1.436, 0.360, -1.478, -1.637, -1.869]\n",
    "data2 = [0.353, 3.517, 0.125, -7.545, -0.555, -1.536, 3.350, -1.578, -3.537, -1.579]\n",
    "stat, p = pearsonr(data1, data2)\n",
    "print('stat=%.3f, p=%.3f' % (stat, p))\n",
    "if p > 0.05:\n",
    "    print('Probably independent')\n",
    "else:\n",
    "    print('Probably dependent')"
   ]
  },
  {
   "cell_type": "markdown",
   "metadata": {},
   "source": [
    "## Spearman’s Rank Correlation\n",
    "Tests whether two samples have a monotonic relationship.\n",
    "\n",
    "**Assumptions**\n",
    "* Observations in each sample are independent and identically distributed (iid).\n",
    "* Observations in each sample can be ranked.\n",
    "\n",
    "**Interpretation**\n",
    "* H0: the two samples are independent.\n",
    "* H1: there is a dependency between the samples."
   ]
  },
  {
   "cell_type": "code",
   "execution_count": 5,
   "metadata": {},
   "outputs": [
    {
     "name": "stdout",
     "output_type": "stream",
     "text": [
      "stat=0.855, p=0.002\n",
      "Probably dependent\n"
     ]
    }
   ],
   "source": [
    "from scipy.stats import spearmanr\n",
    "data1 = [0.873, 2.817, 0.121, -0.945, -0.055, -1.436, 0.360, -1.478, -1.637, -1.869]\n",
    "data2 = [0.353, 3.517, 0.125, -7.545, -0.555, -1.536, 3.350, -1.578, -3.537, -1.579]\n",
    "stat, p = spearmanr(data1, data2)\n",
    "print('stat=%.3f, p=%.3f' % (stat, p))\n",
    "if p > 0.05:\n",
    "    print('Probably independent')\n",
    "else:\n",
    "    print('Probably dependent')"
   ]
  },
  {
   "cell_type": "markdown",
   "metadata": {},
   "source": [
    "## Kendall’s Rank Correlation\n",
    "Tests whether two samples have a monotonic relationship.\n",
    "\n",
    "**Assumptions**\n",
    "* Observations in each sample are independent and identically distributed (iid).\n",
    "* Observations in each sample can be ranked.\n",
    "\n",
    "**Interpretation**\n",
    "* H0: the two samples are independent.\n",
    "* H1: there is a dependency between the samples."
   ]
  },
  {
   "cell_type": "code",
   "execution_count": 6,
   "metadata": {},
   "outputs": [
    {
     "name": "stdout",
     "output_type": "stream",
     "text": [
      "stat=0.733, p=0.002\n",
      "Probably dependent\n"
     ]
    }
   ],
   "source": [
    "from scipy.stats import kendalltau\n",
    "data1 = [0.873, 2.817, 0.121, -0.945, -0.055, -1.436, 0.360, -1.478, -1.637, -1.869]\n",
    "data2 = [0.353, 3.517, 0.125, -7.545, -0.555, -1.536, 3.350, -1.578, -3.537, -1.579]\n",
    "stat, p = kendalltau(data1, data2)\n",
    "print('stat=%.3f, p=%.3f' % (stat, p))\n",
    "if p > 0.05:\n",
    "    print('Probably independent')\n",
    "else:\n",
    "    print('Probably dependent')"
   ]
  },
  {
   "cell_type": "markdown",
   "metadata": {},
   "source": [
    "## Chi-Squared Test\n",
    "Tests whether two categorical variables are related or independent.\n",
    "\n",
    "**Assumptions**\n",
    "* Observations used in the calculation of the contingency table are independent.\n",
    "* 25 or more examples in each cell of the contingency table.\n",
    "\n",
    "**Interpretation**\n",
    "* H0: the two samples are independent.\n",
    "* H1: there is a dependency between the samples."
   ]
  },
  {
   "cell_type": "code",
   "execution_count": 7,
   "metadata": {},
   "outputs": [
    {
     "name": "stdout",
     "output_type": "stream",
     "text": [
      "stat=0.272, p=0.873\n",
      "Probably independent\n"
     ]
    }
   ],
   "source": [
    "from scipy.stats import chi2_contingency\n",
    "table = [[10, 20, 30],[6,  9,  17]]\n",
    "stat, p, dof, expected = chi2_contingency(table)\n",
    "print('stat=%.3f, p=%.3f' % (stat, p))\n",
    "if p > 0.05:\n",
    "    print('Probably independent')\n",
    "else:\n",
    "    print('Probably dependent')"
   ]
  },
  {
   "cell_type": "markdown",
   "metadata": {},
   "source": [
    "## Augmented Dickey-Fuller Unit Root Test\n",
    "Tests whether a time series has a unit root, e.g. has a trend or more generally is autoregressive.\n",
    "\n",
    "**Assumptions**\n",
    "* Observations in are temporally ordered.\n",
    "\n",
    "**Interpretation**\n",
    "* H0: a unit root is present (series is non-stationary).\n",
    "* H1: a unit root is not present (series is stationary)."
   ]
  },
  {
   "cell_type": "code",
   "execution_count": 8,
   "metadata": {},
   "outputs": [
    {
     "name": "stdout",
     "output_type": "stream",
     "text": [
      "stat=0.175, p=0.971\n",
      "Probably not Stationary\n"
     ]
    }
   ],
   "source": [
    "from statsmodels.tsa.stattools import adfuller\n",
    "data = [0, 1, 2, 3, 4, 5, 6, 7, 8, 9]\n",
    "stat, p, lags, obs, crit, t = adfuller(data)\n",
    "print('stat=%.3f, p=%.3f' % (stat, p))\n",
    "if p > 0.05:\n",
    "    print('Probably not Stationary')\n",
    "else:\n",
    "    print('Probably Stationary')"
   ]
  },
  {
   "cell_type": "markdown",
   "metadata": {},
   "source": [
    "## Kwiatkowski-Phillips-Schmidt-Shin\n",
    "Tests whether a time series is trend stationary or not.\n",
    "\n",
    "**Assumptions**\n",
    "* Observations in are temporally ordered.\n",
    "\n",
    "**Interpretation**\n",
    "* H0: the time series is not trend-stationary.\n",
    "* H1: the time series is trend-stationary."
   ]
  },
  {
   "cell_type": "code",
   "execution_count": 9,
   "metadata": {},
   "outputs": [
    {
     "name": "stdout",
     "output_type": "stream",
     "text": [
      "stat=0.594, p=0.023\n",
      "Probably Stationary\n"
     ]
    }
   ],
   "source": [
    "from statsmodels.tsa.stattools import kpss\n",
    "data = [0, 1, 2, 3, 4, 5, 6, 7, 8, 9]\n",
    "stat, p, lags, crit = kpss(data, nlags='auto')\n",
    "print('stat=%.3f, p=%.3f' % (stat, p))\n",
    "if p > 0.05:\n",
    "    print('Probably not Stationary')\n",
    "else:\n",
    "    print('Probably Stationary')"
   ]
  },
  {
   "cell_type": "markdown",
   "metadata": {},
   "source": [
    "## Student’s t-test\n",
    "Tests whether the means of two independent samples are significantly different.\n",
    "\n",
    "**Assumptions**\n",
    "* Observations in each sample are independent and identically distributed (iid).\n",
    "* Observations in each sample are normally distributed.\n",
    "* Observations in each sample have the same variance.\n",
    "\n",
    "**Interpretation**\n",
    "* H0: the means of the samples are equal.\n",
    "* H1: the means of the samples are unequal."
   ]
  },
  {
   "cell_type": "code",
   "execution_count": 10,
   "metadata": {},
   "outputs": [
    {
     "name": "stdout",
     "output_type": "stream",
     "text": [
      "stat=-0.326, p=0.748\n",
      "Probably the same distribution\n"
     ]
    }
   ],
   "source": [
    "from scipy.stats import ttest_ind\n",
    "data1 = [0.873, 2.817, 0.121, -0.945, -0.055, -1.436, 0.360, -1.478, -1.637, -1.869]\n",
    "data2 = [1.142, -0.432, -0.938, -0.729, -0.846, -0.157, 0.500, 1.183, -1.075, -0.169]\n",
    "stat, p = ttest_ind(data1, data2)\n",
    "print('stat=%.3f, p=%.3f' % (stat, p))\n",
    "if p > 0.05:\n",
    "    print('Probably the same distribution')\n",
    "else:\n",
    "    print('Probably different distributions')"
   ]
  },
  {
   "cell_type": "markdown",
   "metadata": {},
   "source": [
    "## Paired Student’s t-test\n",
    "Tests whether the means of two paired samples are significantly different.\n",
    "\n",
    "**Assumptions**\n",
    "* Observations in each sample are independent and identically distributed (iid).\n",
    "* Observations in each sample are normally distributed.\n",
    "* Observations in each sample have the same variance.\n",
    "* Observations across each sample are paired.\n",
    "\n",
    "**Interpretation**\n",
    "* H0: the means of the samples are equal.\n",
    "* H1: the means of the samples are unequal."
   ]
  },
  {
   "cell_type": "code",
   "execution_count": 11,
   "metadata": {},
   "outputs": [
    {
     "name": "stdout",
     "output_type": "stream",
     "text": [
      "stat=-0.334, p=0.746\n",
      "Probably the same distribution\n"
     ]
    }
   ],
   "source": [
    "from scipy.stats import ttest_rel\n",
    "data1 = [0.873, 2.817, 0.121, -0.945, -0.055, -1.436, 0.360, -1.478, -1.637, -1.869]\n",
    "data2 = [1.142, -0.432, -0.938, -0.729, -0.846, -0.157, 0.500, 1.183, -1.075, -0.169]\n",
    "stat, p = ttest_rel(data1, data2)\n",
    "print('stat=%.3f, p=%.3f' % (stat, p))\n",
    "if p > 0.05:\n",
    "    print('Probably the same distribution')\n",
    "else:\n",
    "    print('Probably different distributions')"
   ]
  },
  {
   "cell_type": "markdown",
   "metadata": {},
   "source": [
    "## Analysis of Variance Test (ANOVA)\n",
    "Tests whether the means of two or more independent samples are significantly different.\n",
    "\n",
    "**Assumptions**\n",
    "* Observations in each sample are independent and identically distributed (iid).\n",
    "* Observations in each sample are normally distributed.\n",
    "* Observations in each sample have the same variance.\n",
    "\n",
    "**Interpretation**\n",
    "* H0: the means of the samples are equal.\n",
    "* H1: one or more of the means of the samples are unequal."
   ]
  },
  {
   "cell_type": "code",
   "execution_count": 12,
   "metadata": {},
   "outputs": [
    {
     "name": "stdout",
     "output_type": "stream",
     "text": [
      "stat=0.096, p=0.908\n",
      "Probably the same distribution\n"
     ]
    }
   ],
   "source": [
    "from scipy.stats import f_oneway\n",
    "data1 = [0.873, 2.817, 0.121, -0.945, -0.055, -1.436, 0.360, -1.478, -1.637, -1.869]\n",
    "data2 = [1.142, -0.432, -0.938, -0.729, -0.846, -0.157, 0.500, 1.183, -1.075, -0.169]\n",
    "data3 = [-0.208, 0.696, 0.928, -1.148, -0.213, 0.229, 0.137, 0.269, -0.870, -1.204]\n",
    "stat, p = f_oneway(data1, data2, data3)\n",
    "print('stat=%.3f, p=%.3f' % (stat, p))\n",
    "if p > 0.05:\n",
    "    print('Probably the same distribution')\n",
    "else:\n",
    "    print('Probably different distributions')"
   ]
  },
  {
   "cell_type": "markdown",
   "metadata": {},
   "source": [
    "## Repeated Measures ANOVA Test\n",
    "Tests whether the means of two or more paired samples are significantly different.\n",
    "\n",
    "**Assumptions**\n",
    "* Observations in each sample are independent and identically distributed (iid).\n",
    "* Observations in each sample are normally distributed.\n",
    "* Observations in each sample have the same variance.\n",
    "* Observations across each sample are paired.\n",
    "\n",
    "**Interpretation**\n",
    "* H0: the means of the samples are equal.\n",
    "* H1: one or more of the means of the samples are unequal."
   ]
  },
  {
   "cell_type": "markdown",
   "metadata": {},
   "source": [
    "## Mann-Whitney U Test\n",
    "Tests whether the distributions of two independent samples are equal or not.\n",
    "\n",
    "**Assumptions**\n",
    "* Observations in each sample are independent and identically distributed (iid).\n",
    "* Observations in each sample can be ranked.\n",
    "\n",
    "**Interpretation**\n",
    "* H0: the distributions of both samples are equal.\n",
    "* H1: the distributions of both samples are not equal."
   ]
  },
  {
   "cell_type": "code",
   "execution_count": 13,
   "metadata": {},
   "outputs": [
    {
     "name": "stdout",
     "output_type": "stream",
     "text": [
      "stat=40.000, p=0.236\n",
      "Probably the same distribution\n"
     ]
    }
   ],
   "source": [
    "from scipy.stats import mannwhitneyu\n",
    "data1 = [0.873, 2.817, 0.121, -0.945, -0.055, -1.436, 0.360, -1.478, -1.637, -1.869]\n",
    "data2 = [1.142, -0.432, -0.938, -0.729, -0.846, -0.157, 0.500, 1.183, -1.075, -0.169]\n",
    "stat, p = mannwhitneyu(data1, data2)\n",
    "print('stat=%.3f, p=%.3f' % (stat, p))\n",
    "if p > 0.05:\n",
    "    print('Probably the same distribution')\n",
    "else:\n",
    "    print('Probably different distributions')"
   ]
  },
  {
   "cell_type": "markdown",
   "metadata": {},
   "source": [
    "## Wilcoxon Signed-Rank Test\n",
    "Tests whether the distributions of two paired samples are equal or not.\n",
    "\n",
    "**Assumptions**\n",
    "* Observations in each sample are independent and identically distributed (iid).\n",
    "* Observations in each sample can be ranked.\n",
    "* Observations across each sample are paired.\n",
    "\n",
    "**Interpretation**\n",
    "* H0: the distributions of both samples are equal.\n",
    "* H1: the distributions of both samples are not equal."
   ]
  },
  {
   "cell_type": "code",
   "execution_count": 14,
   "metadata": {},
   "outputs": [
    {
     "name": "stdout",
     "output_type": "stream",
     "text": [
      "stat=21.000, p=0.508\n",
      "Probably the same distribution\n"
     ]
    }
   ],
   "source": [
    "from scipy.stats import wilcoxon\n",
    "data1 = [0.873, 2.817, 0.121, -0.945, -0.055, -1.436, 0.360, -1.478, -1.637, -1.869]\n",
    "data2 = [1.142, -0.432, -0.938, -0.729, -0.846, -0.157, 0.500, 1.183, -1.075, -0.169]\n",
    "stat, p = wilcoxon(data1, data2)\n",
    "print('stat=%.3f, p=%.3f' % (stat, p))\n",
    "if p > 0.05:\n",
    "    print('Probably the same distribution')\n",
    "else:\n",
    "    print('Probably different distributions')"
   ]
  },
  {
   "cell_type": "markdown",
   "metadata": {},
   "source": [
    "## Kruskal-Wallis H Test\n",
    "Tests whether the distributions of two or more independent samples are equal or not.\n",
    "\n",
    "**Assumptions**\n",
    "* Observations in each sample are independent and identically distributed (iid).\n",
    "* Observations in each sample can be ranked.\n",
    "\n",
    "**Interpretation**\n",
    "* H0: the distributions of all samples are equal.\n",
    "* H1: the distributions of one or more samples are not equal."
   ]
  },
  {
   "cell_type": "code",
   "execution_count": 15,
   "metadata": {},
   "outputs": [
    {
     "name": "stdout",
     "output_type": "stream",
     "text": [
      "stat=0.571, p=0.450\n",
      "Probably the same distribution\n"
     ]
    }
   ],
   "source": [
    "from scipy.stats import kruskal\n",
    "data1 = [0.873, 2.817, 0.121, -0.945, -0.055, -1.436, 0.360, -1.478, -1.637, -1.869]\n",
    "data2 = [1.142, -0.432, -0.938, -0.729, -0.846, -0.157, 0.500, 1.183, -1.075, -0.169]\n",
    "stat, p = kruskal(data1, data2)\n",
    "print('stat=%.3f, p=%.3f' % (stat, p))\n",
    "if p > 0.05:\n",
    "    print('Probably the same distribution')\n",
    "else:\n",
    "    print('Probably different distributions')"
   ]
  },
  {
   "cell_type": "markdown",
   "metadata": {},
   "source": [
    "## Friedman Test\n",
    "Tests whether the distributions of two or more paired samples are equal or not.\n",
    "\n",
    "**Assumptions**\n",
    "* Observations in each sample are independent and identically distributed (iid).\n",
    "* Observations in each sample can be ranked.\n",
    "* Observations across each sample are paired.\n",
    "\n",
    "**Interpretation**\n",
    "* H0: the distributions of all samples are equal.\n",
    "* H1: the distributions of one or more samples are not equal."
   ]
  },
  {
   "cell_type": "code",
   "execution_count": 16,
   "metadata": {},
   "outputs": [
    {
     "name": "stdout",
     "output_type": "stream",
     "text": [
      "stat=0.800, p=0.670\n",
      "Probably the same distribution\n"
     ]
    }
   ],
   "source": [
    "from scipy.stats import friedmanchisquare\n",
    "data1 = [0.873, 2.817, 0.121, -0.945, -0.055, -1.436, 0.360, -1.478, -1.637, -1.869]\n",
    "data2 = [1.142, -0.432, -0.938, -0.729, -0.846, -0.157, 0.500, 1.183, -1.075, -0.169]\n",
    "data3 = [-0.208, 0.696, 0.928, -1.148, -0.213, 0.229, 0.137, 0.269, -0.870, -1.204]\n",
    "stat, p = friedmanchisquare(data1, data2, data3)\n",
    "print('stat=%.3f, p=%.3f' % (stat, p))\n",
    "if p > 0.05:\n",
    "    print('Probably the same distribution')\n",
    "else:\n",
    "    print('Probably different distributions')"
   ]
  },
  {
   "cell_type": "code",
   "execution_count": null,
   "metadata": {},
   "outputs": [],
   "source": []
  }
 ],
 "metadata": {
  "kernelspec": {
   "display_name": "Python 3",
   "language": "python",
   "name": "python3"
  },
  "language_info": {
   "codemirror_mode": {
    "name": "ipython",
    "version": 3
   },
   "file_extension": ".py",
   "mimetype": "text/x-python",
   "name": "python",
   "nbconvert_exporter": "python",
   "pygments_lexer": "ipython3",
   "version": "3.6.8"
  }
 },
 "nbformat": 4,
 "nbformat_minor": 4
}
