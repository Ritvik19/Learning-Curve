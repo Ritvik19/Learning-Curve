{
 "cells": [
  {
   "cell_type": "markdown",
   "metadata": {},
   "source": [
    "# Text Vectorization Methods"
   ]
  },
  {
   "cell_type": "markdown",
   "metadata": {},
   "source": [
    "**<center>Overview</center>**\n",
    "\n",
    "Vectorization Method | Function | Good For | Considerations\n",
    "---|---|---|---\n",
    "Frequency | Counts term frequencies | Bayesian models | Most frequent words not always most informative\n",
    "One-Hot Encoding | Binarizes term occurrence (0, 1) | Neural networks | All words equidistant, so normalization extra important\n",
    "TF–IDF | Normalizes term frequencies across documents | General purpose | Moderately frequent terms may not be representative of document topics\n",
    "Distributed Representations | Context-based, continuous term similarity encoding | Modeling more complex relationships | Performance intensive; difficult to scale without additional tools (e.g., Tensorflow)"
   ]
  },
  {
   "cell_type": "markdown",
   "metadata": {},
   "source": [
    "**Doc2Vec Demonstration**"
   ]
  },
  {
   "cell_type": "code",
   "execution_count": 1,
   "metadata": {
    "ExecuteTime": {
     "end_time": "2020-07-03T14:59:00.499963Z",
     "start_time": "2020-07-03T14:58:57.720659Z"
    }
   },
   "outputs": [],
   "source": [
    "corpus = [\n",
    "\"The elephant sneezed at the sight of potatoes.\",\n",
    "\"Bats can see via echolocation. See the bat sight sneeze!\",\n",
    "\"Wondering, she opened the door to the studio.\",\n",
    "]\n",
    "\n",
    "from gensim.models.doc2vec import TaggedDocument, Doc2Vec\n",
    "corpus = [list(doc.split()) for doc in corpus]\n",
    "corpus = [\n",
    "    TaggedDocument(words, ['d{}'.format(idx)]) for idx, words in enumerate(corpus)\n",
    "]\n",
    "\n",
    "model = Doc2Vec(vector_size=5, min_count=0)"
   ]
  },
  {
   "cell_type": "code",
   "execution_count": 2,
   "metadata": {
    "ExecuteTime": {
     "end_time": "2020-07-03T14:59:00.601699Z",
     "start_time": "2020-07-03T14:59:00.504951Z"
    }
   },
   "outputs": [],
   "source": [
    "model.build_vocab(corpus)\n",
    "model.train(corpus, total_examples=model.corpus_count, epochs=model.epochs)"
   ]
  },
  {
   "cell_type": "code",
   "execution_count": 3,
   "metadata": {
    "ExecuteTime": {
     "end_time": "2020-07-03T14:59:00.646577Z",
     "start_time": "2020-07-03T14:59:00.605682Z"
    }
   },
   "outputs": [
    {
     "name": "stdout",
     "output_type": "stream",
     "text": [
      "[-0.03661469 -0.06084158 -0.08878306  0.01230712 -0.03080011]\n"
     ]
    }
   ],
   "source": [
    "print(model.docvecs[0])"
   ]
  },
  {
   "cell_type": "code",
   "execution_count": 4,
   "metadata": {
    "ExecuteTime": {
     "end_time": "2020-07-03T14:59:00.799076Z",
     "start_time": "2020-07-03T14:59:00.653559Z"
    }
   },
   "outputs": [
    {
     "data": {
      "text/plain": [
       "array([ 0.06216872, -0.04823388,  0.01324501,  0.05525212, -0.02168426],\n",
       "      dtype=float32)"
      ]
     },
     "execution_count": 4,
     "metadata": {},
     "output_type": "execute_result"
    }
   ],
   "source": [
    "model.infer_vector(['The', 'Bats', 'sneezed', 'at', 'the', 'door'])"
   ]
  },
  {
   "cell_type": "code",
   "execution_count": null,
   "metadata": {},
   "outputs": [],
   "source": []
  }
 ],
 "metadata": {
  "kernelspec": {
   "display_name": "Python 3",
   "language": "python",
   "name": "python3"
  },
  "language_info": {
   "codemirror_mode": {
    "name": "ipython",
    "version": 3
   },
   "file_extension": ".py",
   "mimetype": "text/x-python",
   "name": "python",
   "nbconvert_exporter": "python",
   "pygments_lexer": "ipython3",
   "version": "3.7.7"
  },
  "toc": {
   "base_numbering": 1,
   "nav_menu": {},
   "number_sections": true,
   "sideBar": true,
   "skip_h1_title": false,
   "title_cell": "Table of Contents",
   "title_sidebar": "Contents",
   "toc_cell": false,
   "toc_position": {},
   "toc_section_display": true,
   "toc_window_display": false
  },
  "varInspector": {
   "cols": {
    "lenName": 16,
    "lenType": 16,
    "lenVar": 40
   },
   "kernels_config": {
    "python": {
     "delete_cmd_postfix": "",
     "delete_cmd_prefix": "del ",
     "library": "var_list.py",
     "varRefreshCmd": "print(var_dic_list())"
    },
    "r": {
     "delete_cmd_postfix": ") ",
     "delete_cmd_prefix": "rm(",
     "library": "var_list.r",
     "varRefreshCmd": "cat(var_dic_list()) "
    }
   },
   "types_to_exclude": [
    "module",
    "function",
    "builtin_function_or_method",
    "instance",
    "_Feature"
   ],
   "window_display": false
  }
 },
 "nbformat": 4,
 "nbformat_minor": 4
}
