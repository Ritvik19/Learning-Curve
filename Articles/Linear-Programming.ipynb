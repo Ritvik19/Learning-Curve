{
 "cells": [
  {
   "cell_type": "markdown",
   "metadata": {},
   "source": [
    "# Linear Programming\n",
    "Linear programming is a set of techniques used in mathematical programming, sometimes called mathematical optimization, to solve systems of linear equations and inequalities while maximizing or minimizing some linear function. It’s important in fields like scientific computing, economics, technical sciences, manufacturing, transportation, military, management, energy, and so on.\n",
    "\n",
    "## What Is Linear Programming?\n",
    "Imagine that you have a system of linear equations and inequalities. Such systems often have many possible solutions. Linear programming is a set of mathematical and computational tools that allows you to find a particular solution to this system that corresponds to the maximum or minimum of some other linear function.\n",
    "\n",
    "## What Is Mixed-Integer Linear Programming?\n",
    "Mixed-integer linear programming is an extension of linear programming. It handles problems in which at least one variable takes a discrete integer rather than a continuous value. Although mixed-integer problems look similar to continuous variable problems at first sight, they offer significant advantages in terms of flexibility and precision.\n",
    "\n",
    "Integer variables are important for properly representing quantities naturally expressed with integers, like the number of airplanes produced or the number of customers served.\n",
    "\n",
    "A particularly important kind of integer variable is the binary variable. It can take only the values zero or one and is useful in making yes-or-no decisions, such as whether a plant should be built or if a machine should be turned on or off. You can also use them to mimic logical constraints.\n",
    "\n",
    "## Why Is Linear Programming Important?\n",
    "Linear programming is a fundamental optimization technique that’s been used for decades in science- and math-intensive fields. It’s precise, relatively fast, and suitable for a range of practical applications.\n",
    "\n",
    "Mixed-integer linear programming allows you to overcome many of the limitations of linear programming. You can approximate non-linear functions with piecewise linear functions, use semi-continuous variables, model logical constraints, and more. It’s a computationally intensive tool, but the advances in computer hardware and software make it more applicable every day.\n",
    "\n",
    "Often, when people try to formulate and solve an optimization problem, the first question is whether they can apply linear programming or mixed-integer linear programming."
   ]
  },
  {
   "cell_type": "code",
   "execution_count": 1,
   "metadata": {
    "ExecuteTime": {
     "end_time": "2020-12-03T18:29:04.187541Z",
     "start_time": "2020-12-03T18:29:02.313199Z"
    }
   },
   "outputs": [],
   "source": [
    "import numpy as np\n",
    "import pandas as pd\n",
    "\n",
    "import matplotlib.pyplot as plt\n",
    "import seaborn as sns\n",
    "\n",
    "sns.set_style('darkgrid')"
   ]
  },
  {
   "cell_type": "markdown",
   "metadata": {},
   "source": [
    "## Linear Programming Example\n",
    "  \n",
    "maximize: <br>\n",
    "    $ z = x + 2y \\tag{1} $ <br> <br>\n",
    "subject to: <br>\n",
    "    $  2x +  y \\leq 20  \\tag{2} $ <br> \n",
    "    $ -4x + 5y \\leq 10 \\tag{3} $ <br>\n",
    "    $ -x + 2y \\geq -2 \\tag{4} $ <br>\n",
    "    $ x \\geq 0 \\tag{5} $ <br>\n",
    "    $ y \\geq 0 \\tag{6} $ <br>\n",
    "    \n"
   ]
  },
  {
   "cell_type": "markdown",
   "metadata": {},
   "source": [
    "You need to find x and y such that the inequalities, (2), (3), (4) as well as the inequalities(5) and (6), are satisfied. At the same time, your solution must correspond to the largest possible value of z.\n",
    "\n",
    "The independent variables you need to find—in this case **x and y** are called the **decision variables**. The function of the decision variables to be maximized or minimized—in this case **z** is called the **objective function, the cost function, or just the goal**. The **inequalities you need to satisfy** are called the **inequality constraints**. You can also have equations among the constraints called equality constraints."
   ]
  },
  {
   "cell_type": "code",
   "execution_count": 2,
   "metadata": {
    "ExecuteTime": {
     "end_time": "2020-12-03T18:29:04.522044Z",
     "start_time": "2020-12-03T18:29:04.190456Z"
    }
   },
   "outputs": [
    {
     "data": {
      "image/png": "[encoded data removed]",
      "text/plain": [
       "<Figure size 432x288 with 1 Axes>"
      ]
     },
     "metadata": {},
     "output_type": "display_data"
    }
   ],
   "source": [
    "fig, ax = plt.subplots()\n",
    "\n",
    "pts = np.linspace(0, 10, 100)\n",
    "\n",
    "x = np.linspace(5, 10, 100); ax.plot(x, 20-2*x) # 2x + y = 20\n",
    "ax.fill_between(x, 20-2*x, 10, alpha=0.3)\n",
    "x = np.linspace(0, 10, 100); ax.plot(x, (10+(4*x))/5) # -4x + 5y = 10\n",
    "ax.fill_between(x, (10+(4*x))/5, 10, alpha=0.3)\n",
    "x = np.linspace(2, 10, 100); ax.plot(x, (x-2)/2) # -x + 2y = -2\n",
    "ax.fill_between(x, 0, (x-2)/2, alpha=0.3)\n",
    "\n",
    "ax.plot(pts, np.zeros(100)) # x = 0\n",
    "ax.plot(np.zeros(100), pts); # y = 0"
   ]
  },
  {
   "cell_type": "markdown",
   "metadata": {},
   "source": [
    "The shaded areas shows where the corresponding colored inequalities are not satisfied. If you disregard the shaded areas, only the gray area remains. Each point of the gray area satisfies all constraints and is a potential solution to the problem. This area is called the **feasible region**, and its points are **feasible solutions**. In this case, there’s an infinite number of feasible solutions.\n",
    "\n",
    "You want to maximize z. The feasible solution that corresponds to maximal z is the **optimal solution**. If you were trying to minimize the objective function instead, then the optimal solution would correspond to its feasible minimum.\n",
    "\n",
    "Note that z is linear. You can imagine it as a plane in three-dimensional space. This is why the optimal solution must be on a vertex, or corner, of the feasible region.\n",
    "\n",
    "Sometimes a whole edge of the feasible region, or even the entire region, can correspond to the same value of z. In that case, you have many optimal solutions.\n",
    "\n",
    "This example illustrates **feasible linear programming problem** because it has **bounded feasible regions and finite solutions**"
   ]
  },
  {
   "cell_type": "markdown",
   "metadata": {},
   "source": [
    "## Infeasible Linear Programming Problem\n",
    "A linear programming problem is infeasible if it doesn’t have a solution. This usually happens when no solution can satisfy all constraints at once.\n",
    "\n",
    "For example, consider what would happen if you added the constraint x + y ≤ −1. Then at least one of the decision variables (x or y) would have to be negative. This is in conflict with the given constraints x ≥ 0 and y ≥ 0. Such a system doesn’t have a feasible solution, so it’s called infeasible."
   ]
  },
  {
   "cell_type": "markdown",
   "metadata": {},
   "source": [
    "## Unbounded Linear Programming Problem\n",
    "A linear programming problem is unbounded if its feasible region isn’t bounded and the solution is not finite. This means that at least one of your variables isn’t constrained and can reach to positive or negative infinity, making the objective infinite as well.\n",
    "\n",
    "For example, say you take the initial problem above and drop the (2) and (4) constraints. Dropping constraints out of a problem is called relaxing the problem. In such a case, x and y wouldn’t be bounded on the positive side. You’d be able to increase them toward positive infinity, yielding an infinitely large z value."
   ]
  },
  {
   "cell_type": "markdown",
   "metadata": {},
   "source": [
    "# Linear Programming Python Implementation\n"
   ]
  },
  {
   "cell_type": "code",
   "execution_count": 3,
   "metadata": {
    "ExecuteTime": {
     "end_time": "2020-12-03T18:29:04.537600Z",
     "start_time": "2020-12-03T18:29:04.524636Z"
    }
   },
   "outputs": [],
   "source": [
    "from scipy.optimize import linprog"
   ]
  },
  {
   "cell_type": "markdown",
   "metadata": {},
   "source": [
    "linprog() solves only minimization (not maximization) problems and doesn’t allow inequality constraints with the greater than or equal to sign (≥). To work around these issues, you need to modify your problem before starting optimization:\n",
    "* Instead of maximizing z = x + 2y, you can minimize its negative(−z = −x − 2y).\n",
    "* Instead of having the greater than or equal to sign, you can multiply the (4) inequality by −1 and get the opposite less than or equal to sign (≤).\n",
    "\n",
    "Let's add one more constraint\n",
    "\n",
    "    -x +5y = 15"
   ]
  },
  {
   "cell_type": "markdown",
   "metadata": {},
   "source": [
    "minimize: <br>\n",
    "    $ -z = -x - 2y \\tag{1} $ <br> <br>\n",
    "subject to: <br>\n",
    "    $  2x +  y \\leq 20  \\tag{2} $ <br> \n",
    "    $ -4x + 5y \\leq 10 \\tag{3} $ <br>\n",
    "    $ x - 2y \\leq 2 \\tag{4} $ <br>\n",
    "    $ -x + 5y = 15 \\tag{5} $ <br>\n",
    "    $ x \\geq 0 \\tag{6} $ <br>\n",
    "    $ y \\geq 0 \\tag{7} $ <br>"
   ]
  },
  {
   "cell_type": "code",
   "execution_count": 4,
   "metadata": {
    "ExecuteTime": {
     "end_time": "2020-12-03T18:29:04.696554Z",
     "start_time": "2020-12-03T18:29:04.540595Z"
    }
   },
   "outputs": [],
   "source": [
    "obj = [-1, -2]\n",
    "#      ─┬  ─┬\n",
    "#       │   └┤ Coefficient for y\n",
    "#       └────┤ Coefficient for x\n",
    "\n",
    "lhs_ineq = [[ 2,  1],  \n",
    "            [-4,  5],  \n",
    "            [ 1, -2]] \n",
    "\n",
    "rhs_ineq = [20, \n",
    "            10,  \n",
    "             2]  \n",
    "\n",
    "lhs_eq = [[-1, 5]] \n",
    "rhs_eq = [15] "
   ]
  },
  {
   "cell_type": "markdown",
   "metadata": {},
   "source": [
    "You put the values from the system above into the appropriate lists, tuples, or NumPy arrays:\n",
    "\n",
    "* obj holds the coefficients from the objective function.\n",
    "* lhs_ineq holds the left-side coefficients from the inequality (red, blue, and yellow) constraints.\n",
    "* rhs_ineq holds the right-side coefficients from the inequality (red, blue, and yellow) constraints.\n",
    "* lhs_eq holds the left-side coefficients from the equality constraint.\n",
    "* rhs_eq holds the right-side coefficients from the equality constraint.\n",
    "\n",
    "The next step is to define the bounds for each variable in the same order as the coefficients. In this case, they’re both between zero and positive infinity:"
   ]
  },
  {
   "cell_type": "code",
   "execution_count": 5,
   "metadata": {
    "ExecuteTime": {
     "end_time": "2020-12-03T18:29:04.852651Z",
     "start_time": "2020-12-03T18:29:04.699477Z"
    }
   },
   "outputs": [],
   "source": [
    "bnd = [(0, float(\"inf\")),  # Bounds of x\n",
    "       (0, float(\"inf\"))]  # Bounds of y"
   ]
  },
  {
   "cell_type": "markdown",
   "metadata": {},
   "source": [
    "Finally, it’s time to optimize and solve your problem of interest."
   ]
  },
  {
   "cell_type": "code",
   "execution_count": 6,
   "metadata": {
    "ExecuteTime": {
     "end_time": "2020-12-03T18:29:05.026286Z",
     "start_time": "2020-12-03T18:29:04.854618Z"
    }
   },
   "outputs": [
    {
     "data": {
      "text/plain": [
       "     con: array([0.])\n",
       "     fun: -16.818181818181817\n",
       " message: 'Optimization terminated successfully.'\n",
       "     nit: 3\n",
       "   slack: array([ 0.        , 18.18181818,  3.36363636])\n",
       "  status: 0\n",
       " success: True\n",
       "       x: array([7.72727273, 4.54545455])"
      ]
     },
     "execution_count": 6,
     "metadata": {},
     "output_type": "execute_result"
    }
   ],
   "source": [
    "opt = linprog(\n",
    "    c=obj, A_ub=lhs_ineq, b_ub=rhs_ineq,\n",
    "    A_eq=lhs_eq, b_eq=rhs_eq, bounds=bnd, \n",
    "    method=\"revised simplex\"\n",
    ")\n",
    "opt"
   ]
  },
  {
   "cell_type": "markdown",
   "metadata": {},
   "source": [
    "You can use the parameter method to define the linear programming method that you want to use. There are three options:\n",
    "\n",
    "* method=\"interior-point\" selects the interior-point method. This option is set by default.\n",
    "* method=\"revised simplex\" selects the revised two-phase simplex method.\n",
    "* method=\"simplex\" selects the legacy two-phase simplex method.\n",
    "\n",
    "linprog() returns a data structure with these attributes:\n",
    "* .con is the equality constraints residuals.\n",
    "* .fun is the objective function value at the optimum (if found).\n",
    "* .message is the status of the solution.\n",
    "* .nit is the number of iterations needed to finish the calculation.\n",
    "* .slack is the values of the slack variables, or the differences between the values of the left and right sides of the constraints.\n",
    "* .status is an integer between 0 and 4 that shows the status of the solution, such as 0 for when the optimal solution has been found.\n",
    "* .success is a Boolean that shows whether the optimal solution has been found.\n",
    "* .x is a NumPy array holding the optimal values of the decision variables."
   ]
  },
  {
   "cell_type": "markdown",
   "metadata": {},
   "source": [
    "## Another Example\n",
    "\n",
    "maximize: <br>\n",
    "    $ z = 20x_{1} + 12x_{2} + 40x_{3} + 25x_{4} \\tag{1} $ <br> <br>\n",
    "subject to: <br>\n",
    "    $  x_{1} + x_{2} + x_{3} + x_{4} \\leq 50  \\tag{2} $ <br> \n",
    "    $  3x_{1} + 2x_{2} + x_{3} \\leq 100  \\tag{3} $ <br> \n",
    "    $  x_{2} + 2x_{3} + 3x_{4} \\leq 90  \\tag{4} $ <br> \n",
    "    $ x_{1}, x_{2}, x_{3}, x_{4} \\geq 0 \\tag{5} $ <br>"
   ]
  },
  {
   "cell_type": "code",
   "execution_count": 7,
   "metadata": {
    "ExecuteTime": {
     "end_time": "2020-12-03T18:29:05.198170Z",
     "start_time": "2020-12-03T18:29:05.028245Z"
    }
   },
   "outputs": [],
   "source": [
    "def solve_lpp(constraints, objective, direction, col_names):\n",
    "    \"\"\"\n",
    "        solves an lpp using scipy\n",
    "        parameters:\n",
    "            constraints: pandas.DataFrame with row representing a constraint\n",
    "            objective: string of comma separated coefficients in the objective function\n",
    "            direction: minimize or maximize the objective function\n",
    "            col_names: dictionary: {\n",
    "                coeff: list of column names forming the LHS\n",
    "                dir: name of inequality or equality column\n",
    "                rhs: name of RHS column\n",
    "            }\n",
    "    \"\"\"\n",
    "    coeff_cols = col_names['coeff']\n",
    "    dir_col = col_names['dir']\n",
    "    rhs_col = col_names['rhs']\n",
    "    \n",
    "    \n",
    "    for idx in constraints[(constraints[dir_col] == '>=') | (constraints[dir_col] == '>=')].index:\n",
    "        constraints.loc[idx,coeff_cols] *= -1\n",
    "        constraints.loc[idx, dir_col] = constraints.loc[idx, dir_col].replace('>', '<')\n",
    "        constraints.loc[idx, rhs_col] *= -1\n",
    "        \n",
    "    objective = list(map(float, objective.split(',')))\n",
    "    if direction == 'maximize':\n",
    "        objective = list(map(lambda x: -1*x, objective))    \n",
    "        \n",
    "    obj = objective\n",
    "\n",
    "    lhs_ineq = constraints[constraints[dir_col].isin(['<', '<='])][coeff_cols].values\n",
    "\n",
    "    rhs_ineq = constraints[constraints[dir_col].isin(['<', '<='])][rhs_col].values \n",
    "\n",
    "    lhs_eq = constraints[constraints[dir_col] == '='][coeff_cols].values\n",
    "    rhs_eq = constraints[constraints[dir_col] == '='][rhs_col].values\n",
    "    \n",
    "    return linprog(\n",
    "        c=obj, A_ub=lhs_ineq, b_ub=rhs_ineq,\n",
    "        A_eq=lhs_eq, b_eq=rhs_eq,\n",
    "        method=\"revised simplex\"\n",
    "    )"
   ]
  },
  {
   "cell_type": "code",
   "execution_count": 8,
   "metadata": {
    "ExecuteTime": {
     "end_time": "2020-12-03T18:29:05.433448Z",
     "start_time": "2020-12-03T18:29:05.202156Z"
    }
   },
   "outputs": [],
   "source": [
    "constraints = pd.DataFrame([\n",
    "    [1, 1, 1, 1, '<=', 50],\n",
    "    [3, 2, 1, 0, '<=', 100],\n",
    "    [0, -1, -2, -3, '>=', -90],\n",
    "], columns=['x1', 'x2', 'x3', 'x4', 'direction', 'rhs'])\n",
    "\n",
    "direction = 'maximize'\n",
    "objective = '20, 12, 40, 25'\n",
    "\n",
    "col_names = {\n",
    "    'coeff': ['x1', 'x2', 'x3', 'x4'],\n",
    "    'dir': 'direction',\n",
    "    'rhs': 'rhs'\n",
    "}"
   ]
  },
  {
   "cell_type": "code",
   "execution_count": 9,
   "metadata": {
    "ExecuteTime": {
     "end_time": "2020-12-03T18:29:05.576303Z",
     "start_time": "2020-12-03T18:29:05.441424Z"
    }
   },
   "outputs": [
    {
     "data": {
      "text/html": [
       "<div>\n",
       "<style scoped>\n",
       "    .dataframe tbody tr th:only-of-type {\n",
       "        vertical-align: middle;\n",
       "    }\n",
       "\n",
       "    .dataframe tbody tr th {\n",
       "        vertical-align: top;\n",
       "    }\n",
       "\n",
       "    .dataframe thead th {\n",
       "        text-align: right;\n",
       "    }\n",
       "</style>\n",
       "<table border=\"1\" class=\"dataframe\">\n",
       "  <thead>\n",
       "    <tr style=\"text-align: right;\">\n",
       "      <th></th>\n",
       "      <th>x1</th>\n",
       "      <th>x2</th>\n",
       "      <th>x3</th>\n",
       "      <th>x4</th>\n",
       "      <th>direction</th>\n",
       "      <th>rhs</th>\n",
       "    </tr>\n",
       "  </thead>\n",
       "  <tbody>\n",
       "    <tr>\n",
       "      <th>0</th>\n",
       "      <td>1</td>\n",
       "      <td>1</td>\n",
       "      <td>1</td>\n",
       "      <td>1</td>\n",
       "      <td>&lt;=</td>\n",
       "      <td>50</td>\n",
       "    </tr>\n",
       "    <tr>\n",
       "      <th>1</th>\n",
       "      <td>3</td>\n",
       "      <td>2</td>\n",
       "      <td>1</td>\n",
       "      <td>0</td>\n",
       "      <td>&lt;=</td>\n",
       "      <td>100</td>\n",
       "    </tr>\n",
       "    <tr>\n",
       "      <th>2</th>\n",
       "      <td>0</td>\n",
       "      <td>-1</td>\n",
       "      <td>-2</td>\n",
       "      <td>-3</td>\n",
       "      <td>&gt;=</td>\n",
       "      <td>-90</td>\n",
       "    </tr>\n",
       "  </tbody>\n",
       "</table>\n",
       "</div>"
      ],
      "text/plain": [
       "   x1  x2  x3  x4 direction  rhs\n",
       "0   1   1   1   1        <=   50\n",
       "1   3   2   1   0        <=  100\n",
       "2   0  -1  -2  -3        >=  -90"
      ]
     },
     "execution_count": 9,
     "metadata": {},
     "output_type": "execute_result"
    }
   ],
   "source": [
    "constraints"
   ]
  },
  {
   "cell_type": "code",
   "execution_count": 10,
   "metadata": {
    "ExecuteTime": {
     "end_time": "2020-12-03T18:29:05.766181Z",
     "start_time": "2020-12-03T18:29:05.579297Z"
    }
   },
   "outputs": [
    {
     "data": {
      "text/plain": [
       "     con: array([], dtype=float64)\n",
       "     fun: -1900.0\n",
       " message: 'Optimization terminated successfully.'\n",
       "     nit: 2\n",
       "   slack: array([ 0., 40.,  0.])\n",
       "  status: 0\n",
       " success: True\n",
       "       x: array([ 5.,  0., 45.,  0.])"
      ]
     },
     "execution_count": 10,
     "metadata": {},
     "output_type": "execute_result"
    }
   ],
   "source": [
    "solve_lpp(constraints, objective, direction, col_names)"
   ]
  },
  {
   "cell_type": "markdown",
   "metadata": {},
   "source": [
    "## Using PuLP"
   ]
  },
  {
   "cell_type": "code",
   "execution_count": 11,
   "metadata": {
    "ExecuteTime": {
     "end_time": "2020-12-03T18:29:05.968733Z",
     "start_time": "2020-12-03T18:29:05.769173Z"
    }
   },
   "outputs": [],
   "source": [
    "from pulp import LpProblem, LpStatus, LpVariable"
   ]
  },
  {
   "cell_type": "code",
   "execution_count": 12,
   "metadata": {
    "ExecuteTime": {
     "end_time": "2020-12-03T18:29:06.048634Z",
     "start_time": "2020-12-03T18:29:05.971729Z"
    }
   },
   "outputs": [],
   "source": [
    "# Create the model\n",
    "model = LpProblem(name=\"small-problem\", sense=-1)"
   ]
  },
  {
   "cell_type": "markdown",
   "metadata": {},
   "source": [
    "You use the sense parameter to choose whether to perform minimization (LpMinimize or 1, which is the default) or maximization (LpMaximize or -1). This choice will affect the result of your problem."
   ]
  },
  {
   "cell_type": "markdown",
   "metadata": {},
   "source": [
    "Once that you have the model, you can define the decision variables as instances of the LpVariable class:"
   ]
  },
  {
   "cell_type": "code",
   "execution_count": 13,
   "metadata": {
    "ExecuteTime": {
     "end_time": "2020-12-03T18:29:06.174614Z",
     "start_time": "2020-12-03T18:29:06.051620Z"
    }
   },
   "outputs": [],
   "source": [
    "# Initialize the decision variables\n",
    "x = LpVariable(name=\"x\", lowBound=0)\n",
    "y = LpVariable(name=\"y\", lowBound=0)"
   ]
  },
  {
   "cell_type": "markdown",
   "metadata": {},
   "source": [
    "* You need to provide a lower bound with lowBound=0 because the default value is negative infinity. \n",
    "* The parameter upBound defines the upper bound, but you can omit it here because it defaults to positive infinity.\n",
    "* The optional parameter cat defines the category of a decision variable. If you’re working with continuous variables, then you can use the default value \"Continuous\""
   ]
  },
  {
   "cell_type": "code",
   "execution_count": 14,
   "metadata": {
    "ExecuteTime": {
     "end_time": "2020-12-03T18:29:06.316027Z",
     "start_time": "2020-12-03T18:29:06.177603Z"
    }
   },
   "outputs": [],
   "source": [
    "# Add the constraints to the model\n",
    "model += (2 * x + y <= 20, \"constraint 1\")\n",
    "model += (4 * x - 5 * y >= -10, \"constraint 2\")\n",
    "model += (-x + 2 * y >= -2, \"constraint 3\")\n",
    "model += (-x + 5 * y == 15, \"constraint 4\")"
   ]
  },
  {
   "cell_type": "code",
   "execution_count": 15,
   "metadata": {
    "ExecuteTime": {
     "end_time": "2020-12-03T18:29:06.456536Z",
     "start_time": "2020-12-03T18:29:06.319018Z"
    }
   },
   "outputs": [],
   "source": [
    "obj_func = x + 2 * y\n",
    "model += obj_func"
   ]
  },
  {
   "cell_type": "code",
   "execution_count": 16,
   "metadata": {
    "ExecuteTime": {
     "end_time": "2020-12-03T18:29:06.659886Z",
     "start_time": "2020-12-03T18:29:06.458449Z"
    }
   },
   "outputs": [
    {
     "data": {
      "text/plain": [
       "small-problem:\n",
       "MAXIMIZE\n",
       "1*x + 2*y + 0\n",
       "SUBJECT TO\n",
       "constraint_1: 2 x + y <= 20\n",
       "\n",
       "constraint_2: 4 x - 5 y >= -10\n",
       "\n",
       "constraint_3: - x + 2 y >= -2\n",
       "\n",
       "constraint_4: - x + 5 y = 15\n",
       "\n",
       "VARIABLES\n",
       "x Continuous\n",
       "y Continuous"
      ]
     },
     "execution_count": 16,
     "metadata": {},
     "output_type": "execute_result"
    }
   ],
   "source": [
    "model"
   ]
  },
  {
   "cell_type": "code",
   "execution_count": 17,
   "metadata": {
    "ExecuteTime": {
     "end_time": "2020-12-03T18:29:06.879296Z",
     "start_time": "2020-12-03T18:29:06.668781Z"
    }
   },
   "outputs": [],
   "source": [
    "status = model.solve()"
   ]
  },
  {
   "cell_type": "code",
   "execution_count": 18,
   "metadata": {
    "ExecuteTime": {
     "end_time": "2020-12-03T18:29:06.956670Z",
     "start_time": "2020-12-03T18:29:06.882294Z"
    }
   },
   "outputs": [
    {
     "name": "stdout",
     "output_type": "stream",
     "text": [
      "status: 1, Optimal\n",
      "objective: 16.8181817\n",
      "x: 7.7272727\n",
      "y: 4.5454545\n",
      "constraint_1: -9.99999993922529e-08\n",
      "constraint_2: 18.181818300000003\n",
      "constraint_3: 3.3636362999999996\n",
      "constraint_4: -2.0000000233721948e-07\n"
     ]
    }
   ],
   "source": [
    "print(f\"status: {model.status}, {LpStatus[model.status]}\")\n",
    "print(f\"objective: {model.objective.value()}\")\n",
    "for var in model.variables():\n",
    "    print(f\"{var.name}: {var.value()}\")\n",
    "for name, constraint in model.constraints.items():\n",
    "    print(f\"{name}: {constraint.value()}\")"
   ]
  },
  {
   "cell_type": "markdown",
   "metadata": {},
   "source": [
    "### Wrapper for LPP of the form AX <= b"
   ]
  },
  {
   "cell_type": "code",
   "execution_count": 19,
   "metadata": {
    "ExecuteTime": {
     "end_time": "2020-12-03T18:29:07.083848Z",
     "start_time": "2020-12-03T18:29:06.960625Z"
    }
   },
   "outputs": [],
   "source": [
    "def solve_lpp_pulp(model_name, A, b, objective, sense):\n",
    "    \"\"\"\n",
    "    Wrapper for LPP of the form AX <= b\n",
    "    \n",
    "        model_name: string\n",
    "        A = Matrix of shape n x m, where n = num of constraints, m = num of variables\n",
    "        b = Vector of length n\n",
    "        objective = Vector of length m+1\n",
    "    \"\"\"\n",
    "    n, m = A.shape\n",
    "    model = LpProblem(name=model_name, sense=sense)\n",
    "    X = [LpVariable(name=f\"x_{i+1}\", lowBound=0) for i in range(m)]\n",
    "    for i in range(n):\n",
    "        model += eval(\" + \".join(f\"A[{i}][{j}] * X[{j}]\" for j in range(len(X))) + \" <= \" + f\"b[{i}]\")\n",
    "    model += eval(\" + \".join(f\"objective[{i}] * X[{i}]\" for i in range(len(X))) + \" + objective[-1]\")\n",
    "    model.solve()\n",
    "    result = {\n",
    "        'Status': LpStatus[model.status],\n",
    "        'Objective': model.objective.value(),\n",
    "    }    \n",
    "\n",
    "    result_var = {var.name: var.value() for var in model.variables()}\n",
    "    result_slack = {name: constraint.value() for name, constraint in model.constraints.items()}\n",
    "    \n",
    "    return {**result, **result_var, **result_slack}"
   ]
  },
  {
   "cell_type": "code",
   "execution_count": 20,
   "metadata": {
    "ExecuteTime": {
     "end_time": "2020-12-03T18:29:07.224958Z",
     "start_time": "2020-12-03T18:29:07.088804Z"
    }
   },
   "outputs": [
    {
     "data": {
      "text/html": [
       "<div>\n",
       "<style scoped>\n",
       "    .dataframe tbody tr th:only-of-type {\n",
       "        vertical-align: middle;\n",
       "    }\n",
       "\n",
       "    .dataframe tbody tr th {\n",
       "        vertical-align: top;\n",
       "    }\n",
       "\n",
       "    .dataframe thead th {\n",
       "        text-align: right;\n",
       "    }\n",
       "</style>\n",
       "<table border=\"1\" class=\"dataframe\">\n",
       "  <thead>\n",
       "    <tr style=\"text-align: right;\">\n",
       "      <th></th>\n",
       "      <th>x1</th>\n",
       "      <th>x2</th>\n",
       "      <th>x3</th>\n",
       "      <th>x4</th>\n",
       "      <th>rhs</th>\n",
       "    </tr>\n",
       "  </thead>\n",
       "  <tbody>\n",
       "    <tr>\n",
       "      <th>0</th>\n",
       "      <td>1</td>\n",
       "      <td>1</td>\n",
       "      <td>1</td>\n",
       "      <td>1</td>\n",
       "      <td>50</td>\n",
       "    </tr>\n",
       "    <tr>\n",
       "      <th>1</th>\n",
       "      <td>3</td>\n",
       "      <td>2</td>\n",
       "      <td>1</td>\n",
       "      <td>0</td>\n",
       "      <td>100</td>\n",
       "    </tr>\n",
       "    <tr>\n",
       "      <th>2</th>\n",
       "      <td>0</td>\n",
       "      <td>1</td>\n",
       "      <td>2</td>\n",
       "      <td>3</td>\n",
       "      <td>90</td>\n",
       "    </tr>\n",
       "  </tbody>\n",
       "</table>\n",
       "</div>"
      ],
      "text/plain": [
       "   x1  x2  x3  x4  rhs\n",
       "0   1   1   1   1   50\n",
       "1   3   2   1   0  100\n",
       "2   0   1   2   3   90"
      ]
     },
     "execution_count": 20,
     "metadata": {},
     "output_type": "execute_result"
    }
   ],
   "source": [
    "Ab = pd.DataFrame(\n",
    "    [[1, 1, 1, 1, 50],\n",
    "    [3, 2, 1, 0, 100],\n",
    "    [0, 1, 2, 3, 90]],\n",
    "    columns = ['x1', 'x2', 'x3', 'x4', 'rhs']\n",
    ") \n",
    "Ab"
   ]
  },
  {
   "cell_type": "code",
   "execution_count": 21,
   "metadata": {
    "ExecuteTime": {
     "end_time": "2020-12-03T18:29:07.445970Z",
     "start_time": "2020-12-03T18:29:07.226917Z"
    }
   },
   "outputs": [
    {
     "data": {
      "text/plain": [
       "{'Status': 'Optimal',\n",
       " 'Objective': 1901.0,\n",
       " 'x_1': 5.0,\n",
       " 'x_2': 0.0,\n",
       " 'x_3': 45.0,\n",
       " 'x_4': 0.0,\n",
       " '_C1': 0.0,\n",
       " '_C2': -40.0,\n",
       " '_C3': 0.0}"
      ]
     },
     "execution_count": 21,
     "metadata": {},
     "output_type": "execute_result"
    }
   ],
   "source": [
    "A = Ab.iloc[:, :-1].values\n",
    "b = Ab.iloc[:, -1].values.reshape(-1, 1)\n",
    "objective = [20, 12, 40, 25, 1]\n",
    "sense = -1\n",
    "solve_lpp_pulp('demo', A, b, objective, sense)"
   ]
  },
  {
   "cell_type": "markdown",
   "metadata": {},
   "source": [
    "# Linear Fractional Programming\n",
    "\n",
    "In mathematical optimization, linear-fractional programming (LFP) is a generalization of linear programming (LP). Whereas the objective function in a linear program is a linear function, the objective function in a linear-fractional program is a ratio of two linear functions. A linear program can be regarded as a special case of a linear-fractional program in which the denominator is the constant function one.\n",
    "\n",
    "Formally, a linear-fractional program is defined as the problem of maximizing (or minimizing) a ratio of affine functions over a polyhedron\n",
    "\n",
    "\\begin{aligned}{\\text{maximize}}\\quad &{\\frac {\\mathbf {c} ^{T}\\mathbf {x} +\\alpha }{\\mathbf {d} ^{T}\\mathbf {x} +\\beta }}\\\\{\\text{subject to}}\\quad &A\\mathbf {x} \\leq \\mathbf {b} ,\\end{aligned}\n",
    "\n",
    "where $ {x} \\in  {R} ^{n} $ represents the vector of variables to be determined, $ {c} , {d} \\in  {R} ^{n} $ are vectors of (known) coefficients, $ A\\in  {R} ^{m\\times n} $ is a (known) matrix of coefficients and $ \\alpha ,\\beta \\in  {R} $  are constants. The constraints have to restrict the feasible region to { $ {x} | {d} ^{T}  {x} +\\beta >0 $ }, i.e. the region on which the denominator is positive. Alternatively, the denominator of the objective function has to be strictly negative in the entire feasible region.\n",
    "\n",
    "## Transformation to a linear program\n",
    "Under the assumption that the feasible region is non-empty and bounded,\n",
    "\n",
    "Transformation of objective function\n",
    "$ Z = (c ^{T} - d ^{T} \\frac{\\alpha}{\\beta}) y + \\frac{\\alpha}{\\beta} \\tag{1} $\n",
    "\n",
    "Transformation of constraints\n",
    "$ A + \\frac{1}{\\beta} b d^{T} \\leq \\frac{1}{\\beta} b \\tag{2} $\n",
    "\n",
    "where,\n",
    "\n",
    "$ y = \\frac{x}{d^{T}x + \\beta} \\tag{3} $\n",
    "therefore,\n",
    "$ x = \\beta \\frac{y}{1 - d^{T}y} \\tag{4} $\n",
    "\n",
    "Reference: [Solving LFP by Converting it into a Single LP ](http://www.orstw.org.tw/ijor/vol8no3/1-Vol_8,%20No.%203,%20pp.1-14.pdf)"
   ]
  },
  {
   "cell_type": "code",
   "execution_count": 22,
   "metadata": {
    "ExecuteTime": {
     "end_time": "2020-12-03T18:29:07.492712Z",
     "start_time": "2020-12-03T18:29:07.449077Z"
    }
   },
   "outputs": [],
   "source": [
    "def solve_lfp_pulp(model_name, Ab, c, d, alpha, beta, sense):\n",
    "    \"\"\"\n",
    "    Solves LFP problem by tranforming it to LPP\n",
    "    \n",
    "    Z = max (c_t * x + alpha) / (d_t * x + beta)\n",
    "    subjected to constraints: A*x < b\n",
    "    \n",
    "        model_name: string\n",
    "        Ab: DataFrame [A:b] of shape n x m+1, where n = num of constraints, m = num of variables\n",
    "        c, d: Vectors of length m\n",
    "        alpha, beta: float\n",
    "    \"\"\"\n",
    "    A = Ab.iloc[:, :-1].values\n",
    "    b = Ab.iloc[:, -1].values.reshape(-1, 1)\n",
    "    c_t = np.array(c).reshape(-1, 1).T\n",
    "    d_t = np.array(d).reshape(-1, 1).T\n",
    "    \n",
    "    Z = np.append(c_t - (d_t*(alpha/beta)), [alpha/beta])\n",
    "    A_new = A + ((b @ d_t) / beta)\n",
    "    b_new = b / beta\n",
    "    \n",
    "    results = solve_lpp_pulp(model_name, A_new, b_new, Z, sense)\n",
    "    m = A.shape[1]\n",
    "    for i in range(m):\n",
    "        results[f'y_{i+1}'] = results[f'x_{i+1}']\n",
    "        results[f'x_{i+1}'] = (results[f'y_{i+1}'] * beta) / (1 - d_t[0][i] * results[f'y_{i+1}'])\n",
    "    return results"
   ]
  },
  {
   "cell_type": "code",
   "execution_count": 23,
   "metadata": {
    "ExecuteTime": {
     "end_time": "2020-12-03T18:29:07.664431Z",
     "start_time": "2020-12-03T18:29:07.499608Z"
    }
   },
   "outputs": [
    {
     "data": {
      "text/html": [
       "<div>\n",
       "<style scoped>\n",
       "    .dataframe tbody tr th:only-of-type {\n",
       "        vertical-align: middle;\n",
       "    }\n",
       "\n",
       "    .dataframe tbody tr th {\n",
       "        vertical-align: top;\n",
       "    }\n",
       "\n",
       "    .dataframe thead th {\n",
       "        text-align: right;\n",
       "    }\n",
       "</style>\n",
       "<table border=\"1\" class=\"dataframe\">\n",
       "  <thead>\n",
       "    <tr style=\"text-align: right;\">\n",
       "      <th></th>\n",
       "      <th>x1</th>\n",
       "      <th>x2</th>\n",
       "      <th>rhs</th>\n",
       "    </tr>\n",
       "  </thead>\n",
       "  <tbody>\n",
       "    <tr>\n",
       "      <th>0</th>\n",
       "      <td>4</td>\n",
       "      <td>-2</td>\n",
       "      <td>20</td>\n",
       "    </tr>\n",
       "    <tr>\n",
       "      <th>1</th>\n",
       "      <td>3</td>\n",
       "      <td>5</td>\n",
       "      <td>25</td>\n",
       "    </tr>\n",
       "    <tr>\n",
       "      <th>2</th>\n",
       "      <td>1</td>\n",
       "      <td>1</td>\n",
       "      <td>10</td>\n",
       "    </tr>\n",
       "  </tbody>\n",
       "</table>\n",
       "</div>"
      ],
      "text/plain": [
       "   x1  x2  rhs\n",
       "0   4  -2   20\n",
       "1   3   5   25\n",
       "2   1   1   10"
      ]
     },
     "execution_count": 23,
     "metadata": {},
     "output_type": "execute_result"
    }
   ],
   "source": [
    "Ab = pd.DataFrame(\n",
    "    [[4, -2, 20],\n",
    "    [3, 5, 25],\n",
    "    [1, 1, 10]],\n",
    "    columns = ['x1', 'x2', 'rhs']\n",
    ") \n",
    "c = np.array([6, 3])\n",
    "d = np.array([5, 2])\n",
    "alpha = 6\n",
    "beta = 5\n",
    "sense = -1\n",
    "Ab"
   ]
  },
  {
   "cell_type": "code",
   "execution_count": 24,
   "metadata": {
    "ExecuteTime": {
     "end_time": "2020-12-03T18:29:07.898308Z",
     "start_time": "2020-12-03T18:29:07.668419Z"
    }
   },
   "outputs": [
    {
     "data": {
      "text/plain": [
       "{'Status': 'Optimal',\n",
       " 'Objective': 1.399999998,\n",
       " 'x_1': 0.0,\n",
       " 'x_2': 4.999999850000002,\n",
       " '_C1': -2.00000002,\n",
       " '_C2': -5.000000058430487e-08,\n",
       " '_C3': -0.3333333500000002,\n",
       " 'y_1': 0.0,\n",
       " 'y_2': 0.33333333}"
      ]
     },
     "execution_count": 24,
     "metadata": {},
     "output_type": "execute_result"
    }
   ],
   "source": [
    "solve_lfp_pulp('LFP', Ab, c, d, alpha, beta, sense)"
   ]
  },
  {
   "cell_type": "code",
   "execution_count": null,
   "metadata": {},
   "outputs": [],
   "source": []
  }
 ],
 "metadata": {
  "kernelspec": {
   "display_name": "Python 3",
   "language": "python",
   "name": "python3"
  },
  "language_info": {
   "codemirror_mode": {
    "name": "ipython",
    "version": 3
   },
   "file_extension": ".py",
   "mimetype": "text/x-python",
   "name": "python",
   "nbconvert_exporter": "python",
   "pygments_lexer": "ipython3",
   "version": "3.7.7"
  },
  "toc": {
   "base_numbering": 1,
   "nav_menu": {},
   "number_sections": true,
   "sideBar": true,
   "skip_h1_title": false,
   "title_cell": "Table of Contents",
   "title_sidebar": "Contents",
   "toc_cell": false,
   "toc_position": {},
   "toc_section_display": true,
   "toc_window_display": false
  },
  "varInspector": {
   "cols": {
    "lenName": 16,
    "lenType": 16,
    "lenVar": 40
   },
   "kernels_config": {
    "python": {
     "delete_cmd_postfix": "",
     "delete_cmd_prefix": "del ",
     "library": "var_list.py",
     "varRefreshCmd": "print(var_dic_list())"
    },
    "r": {
     "delete_cmd_postfix": ") ",
     "delete_cmd_prefix": "rm(",
     "library": "var_list.r",
     "varRefreshCmd": "cat(var_dic_list()) "
    }
   },
   "types_to_exclude": [
    "module",
    "function",
    "builtin_function_or_method",
    "instance",
    "_Feature"
   ],
   "window_display": false
  }
 },
 "nbformat": 4,
 "nbformat_minor": 4
}
