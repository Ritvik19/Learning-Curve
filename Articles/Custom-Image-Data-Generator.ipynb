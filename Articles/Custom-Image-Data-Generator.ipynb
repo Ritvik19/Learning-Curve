{
 "cells": [
  {
   "cell_type": "code",
   "execution_count": 1,
   "metadata": {
    "ExecuteTime": {
     "end_time": "2021-02-06T16:18:50.410537Z",
     "start_time": "2021-02-06T16:18:45.611794Z"
    }
   },
   "outputs": [
    {
     "name": "stderr",
     "output_type": "stream",
     "text": [
      "Using TensorFlow backend.\n"
     ]
    }
   ],
   "source": [
    "import numpy as np\n",
    "import matplotlib.pyplot as plt\n",
    "\n",
    "from keras.datasets import cifar10, mnist\n",
    "from keras.preprocessing.image import ImageDataGenerator"
   ]
  },
  {
   "cell_type": "code",
   "execution_count": 2,
   "metadata": {
    "ExecuteTime": {
     "end_time": "2021-02-06T16:18:50.741002Z",
     "start_time": "2021-02-06T16:18:50.413554Z"
    }
   },
   "outputs": [],
   "source": [
    "(X_train, y_train), (_, _) = cifar10.load_data()\n",
    "\n",
    "X1_train = X_train[:100]\n",
    "X2_train = X_train[100:200]\n",
    "y_train = y_train[:100]\n",
    "\n",
    "def CustomImageDataGenerator(X_list, y, batch_size):\n",
    "    # bring data in range(0, 1)\n",
    "    generator = ImageDataGenerator(rescale=1 / 255.0)\n",
    "\n",
    "    [X1, X2] = X_list\n",
    "\n",
    "    # define data generators\n",
    "    datagen1 = generator.flow(X1, y, batch_size=batch_size)\n",
    "    datagen2 = generator.flow(X2, y, batch_size=batch_size)\n",
    "\n",
    "    while True:\n",
    "        X1_proc, y = datagen1.__next__()\n",
    "        X2_proc, _ = datagen2.__next__()\n",
    "        yield [X1_proc, X2_proc], y"
   ]
  },
  {
   "cell_type": "code",
   "execution_count": 3,
   "metadata": {
    "ExecuteTime": {
     "end_time": "2021-02-06T16:18:50.756984Z",
     "start_time": "2021-02-06T16:18:50.744018Z"
    }
   },
   "outputs": [],
   "source": [
    "for [X1_batch, X2_batch], y_batch in CustomImageDataGenerator([X1_train, X2_train], y_train, batch_size=1):\n",
    "    break"
   ]
  },
  {
   "cell_type": "code",
   "execution_count": 4,
   "metadata": {
    "ExecuteTime": {
     "end_time": "2021-02-06T16:18:50.912882Z",
     "start_time": "2021-02-06T16:18:50.762967Z"
    }
   },
   "outputs": [
    {
     "data": {
      "text/plain": [
       "((1, 32, 32, 3), (1, 32, 32, 3))"
      ]
     },
     "execution_count": 4,
     "metadata": {},
     "output_type": "execute_result"
    }
   ],
   "source": [
    "X1_batch.shape, X2_batch.shape"
   ]
  },
  {
   "cell_type": "code",
   "execution_count": 5,
   "metadata": {
    "ExecuteTime": {
     "end_time": "2021-02-06T16:18:51.244173Z",
     "start_time": "2021-02-06T16:18:50.917867Z"
    }
   },
   "outputs": [
    {
     "data": {
      "image/png": "[encoded data removed]",
      "text/plain": [
       "<Figure size 432x288 with 1 Axes>"
      ]
     },
     "metadata": {
      "needs_background": "light"
     },
     "output_type": "display_data"
    }
   ],
   "source": [
    "plt.imshow(X1_batch[0]);"
   ]
  },
  {
   "cell_type": "code",
   "execution_count": 6,
   "metadata": {
    "ExecuteTime": {
     "end_time": "2021-02-06T16:18:51.449696Z",
     "start_time": "2021-02-06T16:18:51.247166Z"
    }
   },
   "outputs": [
    {
     "data": {
      "image/png": "[encoded data removed]",
      "text/plain": [
       "<Figure size 432x288 with 1 Axes>"
      ]
     },
     "metadata": {
      "needs_background": "light"
     },
     "output_type": "display_data"
    }
   ],
   "source": [
    "plt.imshow(X2_batch[0]);"
   ]
  },
  {
   "cell_type": "code",
   "execution_count": null,
   "metadata": {},
   "outputs": [],
   "source": []
  }
 ],
 "metadata": {
  "kernelspec": {
   "display_name": "Python 3",
   "language": "python",
   "name": "python3"
  },
  "language_info": {
   "codemirror_mode": {
    "name": "ipython",
    "version": 3
   },
   "file_extension": ".py",
   "mimetype": "text/x-python",
   "name": "python",
   "nbconvert_exporter": "python",
   "pygments_lexer": "ipython3",
   "version": "3.7.7"
  },
  "toc": {
   "base_numbering": 1,
   "nav_menu": {},
   "number_sections": true,
   "sideBar": true,
   "skip_h1_title": false,
   "title_cell": "Table of Contents",
   "title_sidebar": "Contents",
   "toc_cell": false,
   "toc_position": {},
   "toc_section_display": true,
   "toc_window_display": false
  },
  "varInspector": {
   "cols": {
    "lenName": 16,
    "lenType": 16,
    "lenVar": 40
   },
   "kernels_config": {
    "python": {
     "delete_cmd_postfix": "",
     "delete_cmd_prefix": "del ",
     "library": "var_list.py",
     "varRefreshCmd": "print(var_dic_list())"
    },
    "r": {
     "delete_cmd_postfix": ") ",
     "delete_cmd_prefix": "rm(",
     "library": "var_list.r",
     "varRefreshCmd": "cat(var_dic_list()) "
    }
   },
   "types_to_exclude": [
    "module",
    "function",
    "builtin_function_or_method",
    "instance",
    "_Feature"
   ],
   "window_display": false
  }
 },
 "nbformat": 4,
 "nbformat_minor": 4
}
