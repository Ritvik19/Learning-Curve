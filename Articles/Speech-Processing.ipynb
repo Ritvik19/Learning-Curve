{
 "cells": [
  {
   "cell_type": "markdown",
   "metadata": {},
   "source": [
    "# Speech Processing\n",
    "\n",
    "**Dealing with Audio**\n",
    "\n",
    "Different kinds all of audio 􀃗les\n",
    "\n",
    "* mp3\n",
    "* wav\n",
    "* m4a\n",
    "* flac\n",
    "\n",
    "Digital sounds measured in frequency (kHz)\n",
    "\n",
    "* 1 kHz = 1000 pieces of information per second\n",
    "* Streaming songs have a frequency of 32 kHz\n",
    "* Audiobooks and spoken language are between 8 and 16 kHz"
   ]
  },
  {
   "cell_type": "code",
   "execution_count": 1,
   "metadata": {
    "ExecuteTime": {
     "end_time": "2020-08-16T11:09:04.829397Z",
     "start_time": "2020-08-16T11:08:54.567218Z"
    }
   },
   "outputs": [],
   "source": [
    "import wave\n",
    "import numpy as np\n",
    "import matplotlib.pyplot as plt"
   ]
  },
  {
   "cell_type": "code",
   "execution_count": 2,
   "metadata": {
    "ExecuteTime": {
     "end_time": "2020-08-16T11:09:05.003523Z",
     "start_time": "2020-08-16T11:09:04.837133Z"
    }
   },
   "outputs": [
    {
     "data": {
      "text/plain": [
       "b'\\xfd\\xff\\xfb\\xff\\xf8\\xff\\xf8\\xff\\xf7\\xff'"
      ]
     },
     "execution_count": 2,
     "metadata": {},
     "output_type": "execute_result"
    }
   ],
   "source": [
    "good_morning = wave.open(\"../meta/good-morning.wav\", \"r\")\n",
    "soundwave_gm = good_morning.readframes(-1)\n",
    "\n",
    "soundwave_gm[:10]"
   ]
  },
  {
   "cell_type": "markdown",
   "metadata": {},
   "source": [
    "**Converting bytes to integers**\n",
    "\n",
    "* Can't use bytes\n",
    "* Convert bytes to integers using numpy"
   ]
  },
  {
   "cell_type": "code",
   "execution_count": 3,
   "metadata": {
    "ExecuteTime": {
     "end_time": "2020-08-16T11:09:05.238089Z",
     "start_time": "2020-08-16T11:09:05.011500Z"
    }
   },
   "outputs": [
    {
     "data": {
      "text/plain": [
       "array([ -3,  -5,  -8,  -8,  -9, -13,  -8, -10,  -9, -11], dtype=int16)"
      ]
     },
     "execution_count": 3,
     "metadata": {},
     "output_type": "execute_result"
    }
   ],
   "source": [
    "signal_gm = np.frombuffer(soundwave_gm, dtype='int16')\n",
    "signal_gm[:10]"
   ]
  },
  {
   "cell_type": "markdown",
   "metadata": {},
   "source": [
    "**Finding the frame rate**\n",
    "\n",
    "* Frequency (Hz) = length of wave object array/duration of audio "
   ]
  },
  {
   "cell_type": "code",
   "execution_count": 4,
   "metadata": {
    "ExecuteTime": {
     "end_time": "2020-08-16T11:09:05.479544Z",
     "start_time": "2020-08-16T11:09:05.243075Z"
    }
   },
   "outputs": [
    {
     "data": {
      "text/plain": [
       "48000"
      ]
     },
     "execution_count": 4,
     "metadata": {},
     "output_type": "execute_result"
    }
   ],
   "source": [
    "framerate_gm = good_morning.getframerate()\n",
    "framerate_gm"
   ]
  },
  {
   "cell_type": "markdown",
   "metadata": {},
   "source": [
    "**Finding sound wave timestamps**"
   ]
  },
  {
   "cell_type": "code",
   "execution_count": 5,
   "metadata": {
    "ExecuteTime": {
     "end_time": "2020-08-16T11:09:05.961573Z",
     "start_time": "2020-08-16T11:09:05.487525Z"
    }
   },
   "outputs": [
    {
     "data": {
      "text/plain": [
       "array([0.00000000e+00, 2.08334167e-05, 4.16668333e-05, 6.25002500e-05,\n",
       "       8.33336667e-05, 1.04167083e-04, 1.25000500e-04, 1.45833917e-04,\n",
       "       1.66667333e-04, 1.87500750e-04])"
      ]
     },
     "execution_count": 5,
     "metadata": {},
     "output_type": "execute_result"
    }
   ],
   "source": [
    "time_gm = np.linspace(start=0, stop=len(signal_gm)/framerate_gm, num=len(signal_gm))\n",
    "time_gm[:10]"
   ]
  },
  {
   "cell_type": "markdown",
   "metadata": {},
   "source": [
    "**Visualizing sound waves**"
   ]
  },
  {
   "cell_type": "code",
   "execution_count": 6,
   "metadata": {
    "ExecuteTime": {
     "end_time": "2020-08-16T11:09:06.072461Z",
     "start_time": "2020-08-16T11:09:05.978484Z"
    }
   },
   "outputs": [],
   "source": [
    "good_afternoon = wave.open(\"../meta/good-afternoon.wav\", \"r\")\n",
    "soundwave_ga = good_afternoon.readframes(-1)\n",
    "signal_ga = np.frombuffer(soundwave_ga, dtype='int16')\n",
    "framerate_ga = good_afternoon.getframerate()\n",
    "time_ga = np.linspace(start=0, stop=len(signal_ga)/framerate_ga, num=len(signal_ga))"
   ]
  },
  {
   "cell_type": "code",
   "execution_count": 7,
   "metadata": {
    "ExecuteTime": {
     "end_time": "2020-08-16T11:09:09.488991Z",
     "start_time": "2020-08-16T11:09:06.080918Z"
    }
   },
   "outputs": [
    {
     "name": "stderr",
     "output_type": "stream",
     "text": [
      "D:\\Users\\Ritvik\\Anaconda3\\envs\\ailab\\lib\\site-packages\\IPython\\core\\pylabtools.py:132: UserWarning: Creating legend with loc=\"best\" can be slow with large amounts of data.\n",
      "  fig.canvas.print_figure(bytes_io, **kw)\n"
     ]
    },
    {
     "data": {
      "image/png": "[encoded data removed]",
      "text/plain": [
       "<Figure size 432x288 with 1 Axes>"
      ]
     },
     "metadata": {
      "needs_background": "light"
     },
     "output_type": "display_data"
    }
   ],
   "source": [
    "plt.title(\"Good Afternoon vs. Good Morning\")\n",
    "\n",
    "plt.xlabel(\"Time (seconds)\")\n",
    "plt.ylabel(\"Amplitude\")\n",
    "\n",
    "\n",
    "plt.plot(time_gm, signal_gm, label=\"Good Morning\", alpha=0.5)\n",
    "plt.plot(time_ga, signal_ga, label =\"Good Afternoon\", alpha=0.5)\n",
    "\n",
    "plt.legend()\n",
    "plt.show()"
   ]
  },
  {
   "cell_type": "markdown",
   "metadata": {},
   "source": [
    "**Speech Recognition**\n",
    "```\n",
    "pip install SpeechRecognition\n",
    "```"
   ]
  },
  {
   "cell_type": "code",
   "execution_count": 8,
   "metadata": {
    "ExecuteTime": {
     "end_time": "2020-08-16T11:09:09.787003Z",
     "start_time": "2020-08-16T11:09:09.492981Z"
    }
   },
   "outputs": [],
   "source": [
    "import speech_recognition as sr\n",
    "recognizer = sr.Recognizer()\n",
    "recognizer.energy_threshold = 300"
   ]
  },
  {
   "cell_type": "markdown",
   "metadata": {},
   "source": [
    "Recognizer class has built-in functions which interact with speech APIs\n",
    "\n",
    "* recognize_bing()\n",
    "* recognize_google()\n",
    "* recognize_google_cloud()\n",
    "* recognize_wit()\n",
    "\n",
    "Input: audio_file\n",
    "\n",
    "Output: transcribed speech from audio_file"
   ]
  },
  {
   "cell_type": "code",
   "execution_count": 9,
   "metadata": {
    "ExecuteTime": {
     "end_time": "2020-08-16T11:09:11.322722Z",
     "start_time": "2020-08-16T11:09:09.797627Z"
    }
   },
   "outputs": [
    {
     "name": "stdout",
     "output_type": "stream",
     "text": [
      "{'alternative': [{'transcript': 'good afternoon', 'confidence': 0.92995483}, {'transcript': 'good afternoon n'}, {'transcript': 'good afternoon I'}, {'transcript': 'good afternoon in'}, {'transcript': 'good afternoon time'}], 'final': True}\n"
     ]
    }
   ],
   "source": [
    "with sr.AudioFile(\"../meta/good-afternoon.wav\") as audio_file:\n",
    "    # For handling bg noise\n",
    "    recognizer.adjust_for_ambient_noise(audio_file,duration=0.5)\n",
    "    audio_data = recognizer.record(audio_file, duration=None, offset=None)\n",
    "\n",
    "results = recognizer.recognize_google(audio_data=audio_data, language=\"en-US\", show_all=True)\n",
    "print(results)"
   ]
  },
  {
   "cell_type": "markdown",
   "metadata": {
    "ExecuteTime": {
     "end_time": "2020-08-13T05:27:34.634268Z",
     "start_time": "2020-08-13T05:27:34.627287Z"
    }
   },
   "source": [
    "**Audio Manipulation**\n",
    "```\n",
    "pip install pydub\n",
    "pip install simpleaudio\n",
    "```\n",
    "\n",
    "If using files other than `.wav` ffmpeg is required"
   ]
  },
  {
   "cell_type": "code",
   "execution_count": 10,
   "metadata": {
    "ExecuteTime": {
     "end_time": "2020-08-16T11:09:12.043584Z",
     "start_time": "2020-08-16T11:09:11.337684Z"
    }
   },
   "outputs": [
    {
     "name": "stderr",
     "output_type": "stream",
     "text": [
      "D:\\Users\\Ritvik\\Anaconda3\\envs\\ailab\\lib\\site-packages\\pydub\\utils.py:170: RuntimeWarning: Couldn't find ffmpeg or avconv - defaulting to ffmpeg, but may not work\n",
      "  warn(\"Couldn't find ffmpeg or avconv - defaulting to ffmpeg, but may not work\", RuntimeWarning)\n"
     ]
    },
    {
     "data": {
      "text/plain": [
       "pydub.audio_segment.AudioSegment"
      ]
     },
     "execution_count": 10,
     "metadata": {},
     "output_type": "execute_result"
    }
   ],
   "source": [
    "from pydub import AudioSegment\n",
    "\n",
    "wav_file = AudioSegment.from_file(file=\"../meta/wav_file.wav\")\n",
    "type(wav_file)"
   ]
  },
  {
   "cell_type": "markdown",
   "metadata": {},
   "source": [
    "**Playing an audio**"
   ]
  },
  {
   "cell_type": "code",
   "execution_count": 11,
   "metadata": {
    "ExecuteTime": {
     "end_time": "2020-08-16T11:09:16.691761Z",
     "start_time": "2020-08-16T11:09:12.051555Z"
    }
   },
   "outputs": [
    {
     "name": "stderr",
     "output_type": "stream",
     "text": [
      "D:\\Users\\Ritvik\\Anaconda3\\envs\\ailab\\lib\\site-packages\\pydub\\utils.py:184: RuntimeWarning: Couldn't find ffplay or avplay - defaulting to ffplay, but may not work\n",
      "  warn(\"Couldn't find ffplay or avplay - defaulting to ffplay, but may not work\", RuntimeWarning)\n"
     ]
    }
   ],
   "source": [
    "from pydub.playback import play\n",
    "play(wav_file)"
   ]
  },
  {
   "cell_type": "markdown",
   "metadata": {},
   "source": [
    "**Audio parameters**"
   ]
  },
  {
   "cell_type": "code",
   "execution_count": 12,
   "metadata": {
    "ExecuteTime": {
     "end_time": "2020-08-16T11:09:16.718846Z",
     "start_time": "2020-08-16T11:09:16.699740Z"
    }
   },
   "outputs": [
    {
     "name": "stdout",
     "output_type": "stream",
     "text": [
      "2\n",
      "48000\n",
      "2\n",
      "8484\n",
      "3284\n"
     ]
    }
   ],
   "source": [
    "# Check number of channels\n",
    "print(wav_file.channels)\n",
    "\n",
    "# Check frame rate\n",
    "print(wav_file.frame_rate)\n",
    "\n",
    "# Find the number of bytes per sample\n",
    "print(wav_file.sample_width)\n",
    "\n",
    "# Find the max amplitude\n",
    "print(wav_file.max)\n",
    "\n",
    "# Duration of audio file in milliseconds\n",
    "print(len(wav_file))"
   ]
  },
  {
   "cell_type": "markdown",
   "metadata": {},
   "source": [
    "**Changing audio parameters**\n",
    "```\n",
    "changed_audio_segment = audio_segment.set_ATTRIBUTENAME(x)\n",
    "```"
   ]
  },
  {
   "cell_type": "markdown",
   "metadata": {},
   "source": [
    "**Decreasing/Increasing the volume**"
   ]
  },
  {
   "cell_type": "code",
   "execution_count": 13,
   "metadata": {
    "ExecuteTime": {
     "end_time": "2020-08-16T11:09:28.095512Z",
     "start_time": "2020-08-16T11:09:16.724675Z"
    }
   },
   "outputs": [],
   "source": [
    "play(wav_file)\n",
    "quieter_wav_file = wav_file - 10\n",
    "play(quieter_wav_file)\n",
    "louder_wav_file = wav_file + 10\n",
    "play(louder_wav_file)"
   ]
  },
  {
   "cell_type": "markdown",
   "metadata": {},
   "source": [
    "**Normalizing the Audio**"
   ]
  },
  {
   "cell_type": "code",
   "execution_count": 14,
   "metadata": {
    "ExecuteTime": {
     "end_time": "2020-08-16T11:09:28.109513Z",
     "start_time": "2020-08-16T11:09:28.099427Z"
    }
   },
   "outputs": [],
   "source": [
    "from pydub.effects import normalize"
   ]
  },
  {
   "cell_type": "code",
   "execution_count": 15,
   "metadata": {
    "ExecuteTime": {
     "end_time": "2020-08-16T11:09:32.026079Z",
     "start_time": "2020-08-16T11:09:28.118915Z"
    }
   },
   "outputs": [],
   "source": [
    "normalized = normalize(wav_file)\n",
    "play(wav_file)"
   ]
  },
  {
   "cell_type": "markdown",
   "metadata": {},
   "source": [
    "**Remixing your audio**"
   ]
  },
  {
   "cell_type": "code",
   "execution_count": 16,
   "metadata": {
    "ExecuteTime": {
     "end_time": "2020-08-16T11:09:53.283986Z",
     "start_time": "2020-08-16T11:09:32.029071Z"
    }
   },
   "outputs": [],
   "source": [
    "part_1 = AudioSegment.from_file('../meta/slicing_part_1.wav')\n",
    "part_2 = AudioSegment.from_file('../meta/slicing_part_2.wav')\n",
    "\n",
    "play(part_1)\n",
    "play(part_2)\n",
    "\n",
    "# Remove the first four seconds of part 1\n",
    "part_1_removed = part_1[4000:]\n",
    "\n",
    "# Add the remainder of part 1 and part 2 together\n",
    "part_3 = part_1_removed + part_2\n",
    "play(part_3)"
   ]
  },
  {
   "cell_type": "markdown",
   "metadata": {},
   "source": [
    "**Splitting stereo audio to mono**"
   ]
  },
  {
   "cell_type": "code",
   "execution_count": 17,
   "metadata": {
    "ExecuteTime": {
     "end_time": "2020-08-16T11:12:11.455857Z",
     "start_time": "2020-08-16T11:09:53.287472Z"
    }
   },
   "outputs": [
    {
     "name": "stdout",
     "output_type": "stream",
     "text": [
      "Stereo number channels: 2\n",
      "Split number channels: 1, 1\n"
     ]
    }
   ],
   "source": [
    "stereo_phone_call = AudioSegment.from_file('../meta/stereo_call.wav')\n",
    "print(f\"Stereo number channels: {stereo_phone_call.channels}\")\n",
    "play(stereo_phone_call)\n",
    "\n",
    "# Split stereo phone call and check channels\n",
    "channels = stereo_phone_call.split_to_mono()\n",
    "print(f\"Split number channels: {channels[0].channels}, {channels[1].channels}\")\n",
    "\n",
    "# Save new channels separately\n",
    "phone_call_channel_1 = channels[0]\n",
    "phone_call_channel_2 = channels[1]\n",
    "\n",
    "play(phone_call_channel_1)\n",
    "play(phone_call_channel_2)"
   ]
  },
  {
   "cell_type": "markdown",
   "metadata": {},
   "source": [
    "**Export audio file**\n",
    "```\n",
    "modified_wav_file.export(out_f=\"modified_wav_file.wav\", format=\"wav\")\n",
    "```"
   ]
  },
  {
   "cell_type": "code",
   "execution_count": null,
   "metadata": {},
   "outputs": [],
   "source": []
  }
 ],
 "metadata": {
  "kernelspec": {
   "display_name": "Python 3",
   "language": "python",
   "name": "python3"
  },
  "language_info": {
   "codemirror_mode": {
    "name": "ipython",
    "version": 3
   },
   "file_extension": ".py",
   "mimetype": "text/x-python",
   "name": "python",
   "nbconvert_exporter": "python",
   "pygments_lexer": "ipython3",
   "version": "3.7.7"
  },
  "toc": {
   "base_numbering": 1,
   "nav_menu": {},
   "number_sections": true,
   "sideBar": true,
   "skip_h1_title": false,
   "title_cell": "Table of Contents",
   "title_sidebar": "Contents",
   "toc_cell": false,
   "toc_position": {},
   "toc_section_display": true,
   "toc_window_display": false
  },
  "varInspector": {
   "cols": {
    "lenName": 16,
    "lenType": 16,
    "lenVar": 40
   },
   "kernels_config": {
    "python": {
     "delete_cmd_postfix": "",
     "delete_cmd_prefix": "del ",
     "library": "var_list.py",
     "varRefreshCmd": "print(var_dic_list())"
    },
    "r": {
     "delete_cmd_postfix": ") ",
     "delete_cmd_prefix": "rm(",
     "library": "var_list.r",
     "varRefreshCmd": "cat(var_dic_list()) "
    }
   },
   "types_to_exclude": [
    "module",
    "function",
    "builtin_function_or_method",
    "instance",
    "_Feature"
   ],
   "window_display": false
  }
 },
 "nbformat": 4,
 "nbformat_minor": 4
}
