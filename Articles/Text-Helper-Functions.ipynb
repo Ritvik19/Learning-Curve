{
 "cells": [
  {
   "cell_type": "markdown",
   "metadata": {},
   "source": [
    "# Text Helper Functions\n",
    "\n",
    "* [1. Text Helper Functions](#1)\n",
    "    - [1.1 URL](#1.1)\n",
    "    - [1.2 Emoticons](#1.2)\n",
    "    - [1.3 Email](#1.3)\n",
    "    - [1.4 Hash](#1.4)\n",
    "    - [1.5 Mention](#1.5)\n",
    "    - [1.6 Number](#1.6)\n",
    "    - [1.7 Phone Number](#1.7)\n",
    "    - [1.8 Year](#1.8)\n",
    "    - [1.9 Non Alphanumeric](#1.9)\n",
    "    - [1.10 Punctuations](#1.10)\n",
    "    - [1.11 Stopwords](#1.11)\n",
    "    - [1.12 N-grams](#1.12)\n",
    "    - [1.13 Repetitive Character](#1.13)\n",
    "    - [1.14 Dollar](#1.14)\n",
    "    - [1.15 Number-Greater](#1.15)\n",
    "    - [1.16 Number- Lesser](#1.16)\n",
    "    - [1.17 OR](#1.17)\n",
    "    - [1.18 AND](#1.18)\n",
    "    - [1.19 Dates](#1.19)\n",
    "    - [1.20 Only Words](#1.20)\n",
    "    - [1.21 Only Numbers](#1.21)\n",
    "    - [1.22 Boundaries](#1.22)\n",
    "    - [1.23 Search](#1.23)\n",
    "    - [1.24 Pick Sentence](#1.24)\n",
    "    - [1.25 Duplicate Sentence](#1.25)\n",
    "    - [1.26 Caps Words](#1.26)\n",
    "    - [1.27 Length of Words](#1.27)\n",
    "    - [1.28 Length of Characters](#1.28)\n",
    "    - [1.29 Get ID](#1.29)\n",
    "    - [1.30 Specific String Rows](#1.30)\n",
    "    - [1.31 Hex code to Color](#1.31)\n",
    "    - [1.32 Tags](#1.32)\n",
    "    - [1.33 IP Address](#1.33)\n",
    "    - [1.34 Mac Address](#1.34)\n",
    "    - [1.35 Subword](#1.35)\n",
    "    - [1.36 Latitude & Longitude](#1.36)\n",
    "    - [1.37 PAN](#1.37)\n",
    "   "
   ]
  },
  {
   "cell_type": "code",
   "execution_count": 1,
   "metadata": {
    "ExecuteTime": {
     "end_time": "2020-07-12T18:28:13.092185Z",
     "start_time": "2020-07-12T18:28:09.797437Z"
    },
    "_cell_guid": "b1076dfc-b9ad-4769-8c92-a6c4dae69d19",
    "_uuid": "8f2839f25d086af736a60e9eeb907d3b93b6e0e5"
   },
   "outputs": [],
   "source": [
    "import numpy as np\n",
    "import pandas as pd\n",
    "\n",
    "from sklearn.feature_extraction.text import CountVectorizer,TfidfVectorizer\n",
    "\n",
    "from nltk.corpus import stopwords \n",
    "from nltk.tokenize import word_tokenize \n",
    "import re, emoji, webcolors, nltk"
   ]
  },
  {
   "cell_type": "code",
   "execution_count": 2,
   "metadata": {
    "ExecuteTime": {
     "end_time": "2020-07-12T18:28:13.305691Z",
     "start_time": "2020-07-12T18:28:13.097351Z"
    }
   },
   "outputs": [],
   "source": [
    "raw = nltk.corpus.gutenberg.sents('shakespeare-caesar.txt')\n",
    "corpus = []\n",
    "for sent in raw:\n",
    "    corpus.append(' '.join(sent))"
   ]
  },
  {
   "cell_type": "code",
   "execution_count": 3,
   "metadata": {
    "ExecuteTime": {
     "end_time": "2020-07-12T18:28:13.397406Z",
     "start_time": "2020-07-12T18:28:13.310680Z"
    }
   },
   "outputs": [
    {
     "data": {
      "text/html": [
       "<div>\n",
       "<style scoped>\n",
       "    .dataframe tbody tr th:only-of-type {\n",
       "        vertical-align: middle;\n",
       "    }\n",
       "\n",
       "    .dataframe tbody tr th {\n",
       "        vertical-align: top;\n",
       "    }\n",
       "\n",
       "    .dataframe thead th {\n",
       "        text-align: right;\n",
       "    }\n",
       "</style>\n",
       "<table border=\"1\" class=\"dataframe\">\n",
       "  <thead>\n",
       "    <tr style=\"text-align: right;\">\n",
       "      <th></th>\n",
       "      <th>Text</th>\n",
       "    </tr>\n",
       "  </thead>\n",
       "  <tbody>\n",
       "    <tr>\n",
       "      <th>0</th>\n",
       "      <td>[ The Tragedie of Julius Caesar by William Sha...</td>\n",
       "    </tr>\n",
       "    <tr>\n",
       "      <th>1</th>\n",
       "      <td>Actus Primus .</td>\n",
       "    </tr>\n",
       "    <tr>\n",
       "      <th>2</th>\n",
       "      <td>Scoena Prima .</td>\n",
       "    </tr>\n",
       "    <tr>\n",
       "      <th>3</th>\n",
       "      <td>Enter Flauius , Murellus , and certaine Common...</td>\n",
       "    </tr>\n",
       "    <tr>\n",
       "      <th>4</th>\n",
       "      <td>Flauius .</td>\n",
       "    </tr>\n",
       "  </tbody>\n",
       "</table>\n",
       "</div>"
      ],
      "text/plain": [
       "                                                Text\n",
       "0  [ The Tragedie of Julius Caesar by William Sha...\n",
       "1                                     Actus Primus .\n",
       "2                                     Scoena Prima .\n",
       "3  Enter Flauius , Murellus , and certaine Common...\n",
       "4                                          Flauius ."
      ]
     },
     "execution_count": 3,
     "metadata": {},
     "output_type": "execute_result"
    }
   ],
   "source": [
    "df = pd.DataFrame(corpus, columns=['Text'])\n",
    "df.head()"
   ]
  },
  {
   "cell_type": "markdown",
   "metadata": {},
   "source": [
    "## URL\n",
    "<a id=\"1.1\"></a>"
   ]
  },
  {
   "cell_type": "code",
   "execution_count": 4,
   "metadata": {
    "ExecuteTime": {
     "end_time": "2020-07-12T18:28:13.629140Z",
     "start_time": "2020-07-12T18:28:13.400397Z"
    },
    "_cell_guid": "79c7e3d0-c299-4dcb-8224-4455121ee9b0",
    "_uuid": "d629ff2d2480ee46fbb7e2d37f6b5fab8052498a"
   },
   "outputs": [],
   "source": [
    "def find_url(string): \n",
    "    text = re.findall('http[s]?://(?:[a-zA-Z]|[0-9]|[$-_@.&+]|[!*\\(\\),]|(?:%[0-9a-fA-F][0-9a-fA-F]))+',string)\n",
    "    return \"\".join(text) # converting return value from list to string"
   ]
  },
  {
   "cell_type": "code",
   "execution_count": 5,
   "metadata": {
    "ExecuteTime": {
     "end_time": "2020-07-12T18:28:13.849290Z",
     "start_time": "2020-07-12T18:28:13.631134Z"
    }
   },
   "outputs": [
    {
     "data": {
      "text/plain": [
       "'https://www.kaggle.com/'"
      ]
     },
     "execution_count": 5,
     "metadata": {},
     "output_type": "execute_result"
    }
   ],
   "source": [
    "sentence=\"I love spending time at https://www.kaggle.com/\"\n",
    "find_url(sentence)"
   ]
  },
  {
   "cell_type": "markdown",
   "metadata": {},
   "source": [
    "## Emoticons \n",
    "\n",
    "<a id=\"1.2\"></a>"
   ]
  },
  {
   "cell_type": "markdown",
   "metadata": {},
   "source": [
    "### Find and convert emoji to text"
   ]
  },
  {
   "cell_type": "code",
   "execution_count": 6,
   "metadata": {
    "ExecuteTime": {
     "end_time": "2020-07-12T18:28:14.020219Z",
     "start_time": "2020-07-12T18:28:13.855596Z"
    }
   },
   "outputs": [],
   "source": [
    "def find_emoji(text):\n",
    "    emo_text=emoji.demojize(text)\n",
    "    line=re.findall(r'\\:(.*?)\\:',emo_text)\n",
    "    return line"
   ]
  },
  {
   "cell_type": "code",
   "execution_count": 7,
   "metadata": {
    "ExecuteTime": {
     "end_time": "2020-07-12T18:28:14.425015Z",
     "start_time": "2020-07-12T18:28:14.031187Z"
    }
   },
   "outputs": [
    {
     "data": {
      "text/plain": [
       "['soccer_ball', 'beaming_face_with_smiling_eyes']"
      ]
     },
     "execution_count": 7,
     "metadata": {},
     "output_type": "execute_result"
    }
   ],
   "source": [
    "sentence=\"I love ⚽ very much 😁\"\n",
    "find_emoji(sentence)\n",
    "\n",
    "# Emoji cheat sheet - https://www.webfx.com/tools/emoji-cheat-sheet/\n",
    "# Uniceode for all emoji : https://unicode.org/emoji/charts/full-emoji-list.html"
   ]
  },
  {
   "cell_type": "markdown",
   "metadata": {},
   "source": [
    "### Remove Emoji from text"
   ]
  },
  {
   "cell_type": "code",
   "execution_count": 8,
   "metadata": {
    "ExecuteTime": {
     "end_time": "2020-07-12T18:28:14.502191Z",
     "start_time": "2020-07-12T18:28:14.429997Z"
    }
   },
   "outputs": [],
   "source": [
    "def remove_emoji(text):\n",
    "    emoji_pattern = re.compile(\"[\"\n",
    "                           u\"\\U0001F600-\\U0001F64F\"  # emoticons\n",
    "                           u\"\\U0001F300-\\U0001F5FF\"  # symbols & pictographs\n",
    "                           u\"\\U0001F680-\\U0001F6FF\"  # transport & map symbols\n",
    "                           u\"\\U0001F1E0-\\U0001F1FF\"  # flags (iOS)\n",
    "                           u\"\\U00002702-\\U000027B0\"\n",
    "                           u\"\\U000024C2-\\U0001F251\"\n",
    "                           \"]+\", flags=re.UNICODE)\n",
    "    return emoji_pattern.sub(r'', text)\n",
    "\n"
   ]
  },
  {
   "cell_type": "code",
   "execution_count": 9,
   "metadata": {
    "ExecuteTime": {
     "end_time": "2020-07-12T18:28:14.696957Z",
     "start_time": "2020-07-12T18:28:14.520013Z"
    }
   },
   "outputs": [
    {
     "name": "stdout",
     "output_type": "stream",
     "text": [
      "Its all about 😀 face\n"
     ]
    },
    {
     "data": {
      "text/plain": [
       "'Its all about  face'"
      ]
     },
     "execution_count": 9,
     "metadata": {},
     "output_type": "execute_result"
    }
   ],
   "source": [
    "sentence=\"Its all about \\U0001F600 face\"\n",
    "print(sentence)\n",
    "remove_emoji(sentence)"
   ]
  },
  {
   "cell_type": "markdown",
   "metadata": {},
   "source": [
    "## Email\n",
    "<a id=\"1.3\"></a>\n",
    "\n",
    "Extract email from text"
   ]
  },
  {
   "cell_type": "code",
   "execution_count": 10,
   "metadata": {
    "ExecuteTime": {
     "end_time": "2020-07-12T18:28:14.906294Z",
     "start_time": "2020-07-12T18:28:14.698947Z"
    }
   },
   "outputs": [],
   "source": [
    "def find_email(text):\n",
    "    line = re.findall(r'[\\w\\.-]+@[\\w\\.-]+',str(text))\n",
    "    return \",\".join(line)"
   ]
  },
  {
   "cell_type": "code",
   "execution_count": 11,
   "metadata": {
    "ExecuteTime": {
     "end_time": "2020-07-12T18:28:15.127318Z",
     "start_time": "2020-07-12T18:28:14.924185Z"
    }
   },
   "outputs": [
    {
     "data": {
      "text/plain": [
       "'abc99@gmail.com'"
      ]
     },
     "execution_count": 11,
     "metadata": {},
     "output_type": "execute_result"
    }
   ],
   "source": [
    "sentence=\"My gmail is abc99@gmail.com\"\n",
    "find_email(sentence)"
   ]
  },
  {
   "cell_type": "markdown",
   "metadata": {},
   "source": [
    "## Hash\n",
    "<a id=\"1.4\"></a>\n",
    "\n",
    "This value is especially to denote trends in twitter."
   ]
  },
  {
   "cell_type": "code",
   "execution_count": 12,
   "metadata": {
    "ExecuteTime": {
     "end_time": "2020-07-12T18:28:15.331415Z",
     "start_time": "2020-07-12T18:28:15.133227Z"
    }
   },
   "outputs": [],
   "source": [
    "def find_hash(text):\n",
    "    line=re.findall(r'(?<=#)\\w+',text)\n",
    "    return \" \".join(line)"
   ]
  },
  {
   "cell_type": "code",
   "execution_count": 13,
   "metadata": {
    "ExecuteTime": {
     "end_time": "2020-07-12T18:28:15.581081Z",
     "start_time": "2020-07-12T18:28:15.339721Z"
    }
   },
   "outputs": [
    {
     "data": {
      "text/plain": [
       "'Corona'"
      ]
     },
     "execution_count": 13,
     "metadata": {},
     "output_type": "execute_result"
    }
   ],
   "source": [
    "sentence=\"#Corona is trending now in the world\" \n",
    "find_hash(sentence)"
   ]
  },
  {
   "cell_type": "markdown",
   "metadata": {},
   "source": [
    "## Mention\n",
    "<a id=\"1.5\"></a>\n",
    "\n",
    "@ - Used to mention someone in tweets"
   ]
  },
  {
   "cell_type": "code",
   "execution_count": 14,
   "metadata": {
    "ExecuteTime": {
     "end_time": "2020-07-12T18:28:15.815406Z",
     "start_time": "2020-07-12T18:28:15.598773Z"
    }
   },
   "outputs": [],
   "source": [
    "def find_at(text):\n",
    "    line=re.findall(r'(?<=@)\\w+',text)\n",
    "    return \" \".join(line)"
   ]
  },
  {
   "cell_type": "code",
   "execution_count": 15,
   "metadata": {
    "ExecuteTime": {
     "end_time": "2020-07-12T18:28:16.028776Z",
     "start_time": "2020-07-12T18:28:15.837258Z"
    }
   },
   "outputs": [
    {
     "data": {
      "text/plain": [
       "'David'"
      ]
     },
     "execution_count": 15,
     "metadata": {},
     "output_type": "execute_result"
    }
   ],
   "source": [
    "sentence=\"@David,can you help me out\"\n",
    "find_at(sentence)"
   ]
  },
  {
   "cell_type": "markdown",
   "metadata": {},
   "source": [
    "## Number\n",
    "<a id=\"1.6\"></a>\n",
    "\n",
    "Pick only number from sentence"
   ]
  },
  {
   "cell_type": "code",
   "execution_count": 16,
   "metadata": {
    "ExecuteTime": {
     "end_time": "2020-07-12T18:28:17.044189Z",
     "start_time": "2020-07-12T18:28:16.036534Z"
    }
   },
   "outputs": [],
   "source": [
    "def find_number(text):\n",
    "    line=re.findall(r'[0-9]+',text)\n",
    "    return \" \".join(line)"
   ]
  },
  {
   "cell_type": "code",
   "execution_count": 17,
   "metadata": {
    "ExecuteTime": {
     "end_time": "2020-07-12T18:28:17.291020Z",
     "start_time": "2020-07-12T18:28:17.063085Z"
    }
   },
   "outputs": [
    {
     "data": {
      "text/plain": [
       "'2833047'"
      ]
     },
     "execution_count": 17,
     "metadata": {},
     "output_type": "execute_result"
    }
   ],
   "source": [
    "sentence=\"2833047 people are affected by corona now\"\n",
    "find_number(sentence)"
   ]
  },
  {
   "cell_type": "markdown",
   "metadata": {},
   "source": [
    "## Phone Number\n",
    "<a id=\"1.7\"></a>\n",
    "\n",
    "Indian Mobile numbers have ten digit."
   ]
  },
  {
   "cell_type": "code",
   "execution_count": 18,
   "metadata": {
    "ExecuteTime": {
     "end_time": "2020-07-12T18:28:17.732072Z",
     "start_time": "2020-07-12T18:28:17.305073Z"
    }
   },
   "outputs": [],
   "source": [
    "def find_phone_number(text):\n",
    "    line=re.findall(r\"\\b\\d{10}\\b\",text)\n",
    "    return \"\".join(line)"
   ]
  },
  {
   "cell_type": "code",
   "execution_count": 19,
   "metadata": {
    "ExecuteTime": {
     "end_time": "2020-07-12T18:28:18.052239Z",
     "start_time": "2020-07-12T18:28:17.740003Z"
    }
   },
   "outputs": [
    {
     "data": {
      "text/plain": [
       "'9998887776'"
      ]
     },
     "execution_count": 19,
     "metadata": {},
     "output_type": "execute_result"
    }
   ],
   "source": [
    "find_phone_number(\"9998887776 is a phone number of Mark from 210,North Avenue\")"
   ]
  },
  {
   "cell_type": "markdown",
   "metadata": {},
   "source": [
    "## Year\n",
    "<a id=\"1.8\"></a>\n",
    "\n",
    "Extract year from 1940 till 2020"
   ]
  },
  {
   "cell_type": "code",
   "execution_count": 20,
   "metadata": {
    "ExecuteTime": {
     "end_time": "2020-07-12T18:28:18.250853Z",
     "start_time": "2020-07-12T18:28:18.065326Z"
    }
   },
   "outputs": [],
   "source": [
    "def find_year(text):\n",
    "    line=re.findall(r\"\\b(19[40][0-9]|20[0-1][0-9]|2020)\\b\",text)\n",
    "    return line"
   ]
  },
  {
   "cell_type": "code",
   "execution_count": 21,
   "metadata": {
    "ExecuteTime": {
     "end_time": "2020-07-12T18:28:18.452053Z",
     "start_time": "2020-07-12T18:28:18.268568Z"
    }
   },
   "outputs": [
    {
     "data": {
      "text/plain": [
       "['1947']"
      ]
     },
     "execution_count": 21,
     "metadata": {},
     "output_type": "execute_result"
    }
   ],
   "source": [
    "sentence=\"India got independence on 1947.\"\n",
    "find_year(sentence)"
   ]
  },
  {
   "cell_type": "markdown",
   "metadata": {},
   "source": [
    "## Non Alphanumeric\n",
    "<a id=\"1.9\"></a>"
   ]
  },
  {
   "cell_type": "code",
   "execution_count": 22,
   "metadata": {
    "ExecuteTime": {
     "end_time": "2020-07-12T18:28:18.662385Z",
     "start_time": "2020-07-12T18:28:18.459109Z"
    }
   },
   "outputs": [],
   "source": [
    "def find_nonalp(text):\n",
    "    line = re.findall(\"[^A-Za-z0-9 ]\",text)\n",
    "    return line"
   ]
  },
  {
   "cell_type": "code",
   "execution_count": 23,
   "metadata": {
    "ExecuteTime": {
     "end_time": "2020-07-12T18:28:18.864294Z",
     "start_time": "2020-07-12T18:28:18.701947Z"
    }
   },
   "outputs": [
    {
     "data": {
      "text/plain": [
       "['@', '#', '.', '(', ')']"
      ]
     },
     "execution_count": 23,
     "metadata": {},
     "output_type": "execute_result"
    }
   ],
   "source": [
    "sentence=\"Twitter has lots of @ and # in posts.(general tweet)\"\n",
    "find_nonalp(sentence)"
   ]
  },
  {
   "cell_type": "markdown",
   "metadata": {},
   "source": [
    "## Punctuations\n",
    "<a id=\"1.10\"></a>\n",
    "\n",
    "Retrieve punctuations from sentence."
   ]
  },
  {
   "cell_type": "code",
   "execution_count": 24,
   "metadata": {
    "ExecuteTime": {
     "end_time": "2020-07-12T18:28:19.076198Z",
     "start_time": "2020-07-12T18:28:18.878249Z"
    }
   },
   "outputs": [],
   "source": [
    "def find_punct(text):\n",
    "    line = re.findall(r'[!\"\\$%&\\'()*+,\\-.\\/:;=#@?\\[\\\\\\]^_`{|}~]*', text)\n",
    "    string=\"\".join(line)\n",
    "    return list(string)"
   ]
  },
  {
   "cell_type": "code",
   "execution_count": 25,
   "metadata": {
    "ExecuteTime": {
     "end_time": "2020-07-12T18:28:19.290978Z",
     "start_time": "2020-07-12T18:28:19.087300Z"
    }
   },
   "outputs": [
    {
     "name": "stdout",
     "output_type": "stream",
     "text": [
      "['#', '.', '#', '(', ')']\n"
     ]
    }
   ],
   "source": [
    "example=\"Corona virus have kiled #24506 confirmed cases now.#Corona is un(tolerable)\"\n",
    "print(find_punct(example))"
   ]
  },
  {
   "cell_type": "markdown",
   "metadata": {},
   "source": [
    "## Stopwords\n",
    "<a id=\"1.11\"></a>"
   ]
  },
  {
   "cell_type": "code",
   "execution_count": 26,
   "metadata": {
    "ExecuteTime": {
     "end_time": "2020-07-12T18:28:19.483050Z",
     "start_time": "2020-07-12T18:28:19.297948Z"
    }
   },
   "outputs": [],
   "source": [
    "def stop_word_fn(text):\n",
    "    stop_words = set(stopwords.words('english')) \n",
    "    word_tokens = word_tokenize(text) \n",
    "    non_stop_words = [w for w in word_tokens if not w in stop_words] \n",
    "    stop_words= [w for w in word_tokens if w in stop_words] \n",
    "    return stop_words"
   ]
  },
  {
   "cell_type": "code",
   "execution_count": 27,
   "metadata": {
    "ExecuteTime": {
     "end_time": "2020-07-12T18:28:19.690904Z",
     "start_time": "2020-07-12T18:28:19.500251Z"
    }
   },
   "outputs": [
    {
     "data": {
      "text/plain": [
       "['is', 'a', 'off', 'the']"
      ]
     },
     "execution_count": 27,
     "metadata": {},
     "output_type": "execute_result"
    }
   ],
   "source": [
    "example_sent = \"This is a sample sentence, showing off the stop words filtration.\"\n",
    "stop_word_fn(example_sent)"
   ]
  },
  {
   "cell_type": "markdown",
   "metadata": {},
   "source": [
    "## N-grams\n",
    "<a id=\"1.12\"></a>"
   ]
  },
  {
   "cell_type": "code",
   "execution_count": 28,
   "metadata": {
    "ExecuteTime": {
     "end_time": "2020-07-12T18:28:19.927331Z",
     "start_time": "2020-07-12T18:28:19.694322Z"
    }
   },
   "outputs": [],
   "source": [
    "def ngrams_top(corpus,ngram_range,n=None):\n",
    "    \"\"\"\n",
    "    List the top n words in a vocabulary according to occurrence in a text corpus.\n",
    "    \"\"\"\n",
    "    vec = CountVectorizer(stop_words = 'english',ngram_range=ngram_range).fit(corpus)\n",
    "    bag_of_words = vec.transform(corpus)\n",
    "    sum_words = bag_of_words.sum(axis=0) \n",
    "    words_freq = [(word, sum_words[0, idx]) for word, idx in vec.vocabulary_.items()]\n",
    "    words_freq =sorted(words_freq, key = lambda x: x[1], reverse=True)\n",
    "    total_list=words_freq[:n]\n",
    "    df=pd.DataFrame(total_list,columns=['text','count'])\n",
    "    return df"
   ]
  },
  {
   "cell_type": "code",
   "execution_count": 29,
   "metadata": {
    "ExecuteTime": {
     "end_time": "2020-07-12T18:28:20.332118Z",
     "start_time": "2020-07-12T18:28:19.938087Z"
    }
   },
   "outputs": [
    {
     "data": {
      "text/html": [
       "<div>\n",
       "<style scoped>\n",
       "    .dataframe tbody tr th:only-of-type {\n",
       "        vertical-align: middle;\n",
       "    }\n",
       "\n",
       "    .dataframe tbody tr th {\n",
       "        vertical-align: top;\n",
       "    }\n",
       "\n",
       "    .dataframe thead th {\n",
       "        text-align: right;\n",
       "    }\n",
       "</style>\n",
       "<table border=\"1\" class=\"dataframe\">\n",
       "  <thead>\n",
       "    <tr style=\"text-align: right;\">\n",
       "      <th></th>\n",
       "      <th>text</th>\n",
       "      <th>count</th>\n",
       "    </tr>\n",
       "  </thead>\n",
       "  <tbody>\n",
       "    <tr>\n",
       "      <th>0</th>\n",
       "      <td>caesar</td>\n",
       "      <td>190</td>\n",
       "    </tr>\n",
       "    <tr>\n",
       "      <th>1</th>\n",
       "      <td>brutus</td>\n",
       "      <td>161</td>\n",
       "    </tr>\n",
       "    <tr>\n",
       "      <th>2</th>\n",
       "      <td>bru</td>\n",
       "      <td>153</td>\n",
       "    </tr>\n",
       "    <tr>\n",
       "      <th>3</th>\n",
       "      <td>haue</td>\n",
       "      <td>148</td>\n",
       "    </tr>\n",
       "    <tr>\n",
       "      <th>4</th>\n",
       "      <td>shall</td>\n",
       "      <td>125</td>\n",
       "    </tr>\n",
       "    <tr>\n",
       "      <th>5</th>\n",
       "      <td>thou</td>\n",
       "      <td>115</td>\n",
       "    </tr>\n",
       "    <tr>\n",
       "      <th>6</th>\n",
       "      <td>cassi</td>\n",
       "      <td>107</td>\n",
       "    </tr>\n",
       "    <tr>\n",
       "      <th>7</th>\n",
       "      <td>cassius</td>\n",
       "      <td>85</td>\n",
       "    </tr>\n",
       "    <tr>\n",
       "      <th>8</th>\n",
       "      <td>did</td>\n",
       "      <td>82</td>\n",
       "    </tr>\n",
       "    <tr>\n",
       "      <th>9</th>\n",
       "      <td>antony</td>\n",
       "      <td>75</td>\n",
       "    </tr>\n",
       "  </tbody>\n",
       "</table>\n",
       "</div>"
      ],
      "text/plain": [
       "      text  count\n",
       "0   caesar    190\n",
       "1   brutus    161\n",
       "2      bru    153\n",
       "3     haue    148\n",
       "4    shall    125\n",
       "5     thou    115\n",
       "6    cassi    107\n",
       "7  cassius     85\n",
       "8      did     82\n",
       "9   antony     75"
      ]
     },
     "execution_count": 29,
     "metadata": {},
     "output_type": "execute_result"
    }
   ],
   "source": [
    "ngrams_top(corpus,(1,1),n=10)"
   ]
  },
  {
   "cell_type": "code",
   "execution_count": 30,
   "metadata": {
    "ExecuteTime": {
     "end_time": "2020-07-12T18:28:20.649127Z",
     "start_time": "2020-07-12T18:28:20.334883Z"
    }
   },
   "outputs": [
    {
     "data": {
      "text/html": [
       "<div>\n",
       "<style scoped>\n",
       "    .dataframe tbody tr th:only-of-type {\n",
       "        vertical-align: middle;\n",
       "    }\n",
       "\n",
       "    .dataframe tbody tr th {\n",
       "        vertical-align: top;\n",
       "    }\n",
       "\n",
       "    .dataframe thead th {\n",
       "        text-align: right;\n",
       "    }\n",
       "</style>\n",
       "<table border=\"1\" class=\"dataframe\">\n",
       "  <thead>\n",
       "    <tr style=\"text-align: right;\">\n",
       "      <th></th>\n",
       "      <th>text</th>\n",
       "      <th>count</th>\n",
       "    </tr>\n",
       "  </thead>\n",
       "  <tbody>\n",
       "    <tr>\n",
       "      <th>0</th>\n",
       "      <td>let vs</td>\n",
       "      <td>16</td>\n",
       "    </tr>\n",
       "    <tr>\n",
       "      <th>1</th>\n",
       "      <td>mark antony</td>\n",
       "      <td>13</td>\n",
       "    </tr>\n",
       "    <tr>\n",
       "      <th>2</th>\n",
       "      <td>st thou</td>\n",
       "      <td>12</td>\n",
       "    </tr>\n",
       "    <tr>\n",
       "      <th>3</th>\n",
       "      <td>marke antony</td>\n",
       "      <td>12</td>\n",
       "    </tr>\n",
       "    <tr>\n",
       "      <th>4</th>\n",
       "      <td>thou art</td>\n",
       "      <td>11</td>\n",
       "    </tr>\n",
       "    <tr>\n",
       "      <th>5</th>\n",
       "      <td>art thou</td>\n",
       "      <td>9</td>\n",
       "    </tr>\n",
       "    <tr>\n",
       "      <th>6</th>\n",
       "      <td>noble brutus</td>\n",
       "      <td>9</td>\n",
       "    </tr>\n",
       "    <tr>\n",
       "      <th>7</th>\n",
       "      <td>thou hast</td>\n",
       "      <td>9</td>\n",
       "    </tr>\n",
       "    <tr>\n",
       "      <th>8</th>\n",
       "      <td>good night</td>\n",
       "      <td>9</td>\n",
       "    </tr>\n",
       "    <tr>\n",
       "      <th>9</th>\n",
       "      <td>enter brutus</td>\n",
       "      <td>9</td>\n",
       "    </tr>\n",
       "  </tbody>\n",
       "</table>\n",
       "</div>"
      ],
      "text/plain": [
       "           text  count\n",
       "0        let vs     16\n",
       "1   mark antony     13\n",
       "2       st thou     12\n",
       "3  marke antony     12\n",
       "4      thou art     11\n",
       "5      art thou      9\n",
       "6  noble brutus      9\n",
       "7     thou hast      9\n",
       "8    good night      9\n",
       "9  enter brutus      9"
      ]
     },
     "execution_count": 30,
     "metadata": {},
     "output_type": "execute_result"
    }
   ],
   "source": [
    "ngrams_top(corpus,(2,2),n=10)"
   ]
  },
  {
   "cell_type": "code",
   "execution_count": 31,
   "metadata": {
    "ExecuteTime": {
     "end_time": "2020-07-12T18:28:20.861869Z",
     "start_time": "2020-07-12T18:28:20.652026Z"
    }
   },
   "outputs": [
    {
     "data": {
      "text/html": [
       "<div>\n",
       "<style scoped>\n",
       "    .dataframe tbody tr th:only-of-type {\n",
       "        vertical-align: middle;\n",
       "    }\n",
       "\n",
       "    .dataframe tbody tr th {\n",
       "        vertical-align: top;\n",
       "    }\n",
       "\n",
       "    .dataframe thead th {\n",
       "        text-align: right;\n",
       "    }\n",
       "</style>\n",
       "<table border=\"1\" class=\"dataframe\">\n",
       "  <thead>\n",
       "    <tr style=\"text-align: right;\">\n",
       "      <th></th>\n",
       "      <th>text</th>\n",
       "      <th>count</th>\n",
       "    </tr>\n",
       "  </thead>\n",
       "  <tbody>\n",
       "    <tr>\n",
       "      <th>0</th>\n",
       "      <td>did st thou</td>\n",
       "      <td>5</td>\n",
       "    </tr>\n",
       "    <tr>\n",
       "      <th>1</th>\n",
       "      <td>beware ides march</td>\n",
       "      <td>3</td>\n",
       "    </tr>\n",
       "    <tr>\n",
       "      <th>2</th>\n",
       "      <td>thou sleep st</td>\n",
       "      <td>3</td>\n",
       "    </tr>\n",
       "    <tr>\n",
       "      <th>3</th>\n",
       "      <td>mark antony shall</td>\n",
       "      <td>3</td>\n",
       "    </tr>\n",
       "    <tr>\n",
       "      <th>4</th>\n",
       "      <td>thee thou st</td>\n",
       "      <td>3</td>\n",
       "    </tr>\n",
       "    <tr>\n",
       "      <th>5</th>\n",
       "      <td>let vs heare</td>\n",
       "      <td>3</td>\n",
       "    </tr>\n",
       "    <tr>\n",
       "      <th>6</th>\n",
       "      <td>brutus honourable man</td>\n",
       "      <td>3</td>\n",
       "    </tr>\n",
       "    <tr>\n",
       "      <th>7</th>\n",
       "      <td>brutus sayes ambitious</td>\n",
       "      <td>3</td>\n",
       "    </tr>\n",
       "    <tr>\n",
       "      <th>8</th>\n",
       "      <td>thou did st</td>\n",
       "      <td>3</td>\n",
       "    </tr>\n",
       "    <tr>\n",
       "      <th>9</th>\n",
       "      <td>enter brutus messala</td>\n",
       "      <td>3</td>\n",
       "    </tr>\n",
       "  </tbody>\n",
       "</table>\n",
       "</div>"
      ],
      "text/plain": [
       "                     text  count\n",
       "0             did st thou      5\n",
       "1       beware ides march      3\n",
       "2           thou sleep st      3\n",
       "3       mark antony shall      3\n",
       "4            thee thou st      3\n",
       "5            let vs heare      3\n",
       "6   brutus honourable man      3\n",
       "7  brutus sayes ambitious      3\n",
       "8             thou did st      3\n",
       "9    enter brutus messala      3"
      ]
     },
     "execution_count": 31,
     "metadata": {},
     "output_type": "execute_result"
    }
   ],
   "source": [
    "ngrams_top(corpus,(3,3),n=10)"
   ]
  },
  {
   "cell_type": "markdown",
   "metadata": {},
   "source": [
    "## Repetitive Character\n",
    "<a id=\"1.13\"></a>"
   ]
  },
  {
   "cell_type": "markdown",
   "metadata": {},
   "source": [
    "If you want to change match repetitive characters to n numbers,**chage the return line in the *rep function* to grp[0:n]**."
   ]
  },
  {
   "cell_type": "code",
   "execution_count": 32,
   "metadata": {
    "ExecuteTime": {
     "end_time": "2020-07-12T18:28:20.979040Z",
     "start_time": "2020-07-12T18:28:20.865011Z"
    }
   },
   "outputs": [],
   "source": [
    "def rep(text):\n",
    "    grp = text.group(0)\n",
    "    if len(grp) > 1:\n",
    "        return grp[0:1] # can change the value here on repetition\n",
    "def unique_char(rep,sentence):\n",
    "    convert = re.sub(r'(\\w)\\1+', rep, sentence) \n",
    "    return convert"
   ]
  },
  {
   "cell_type": "code",
   "execution_count": 33,
   "metadata": {
    "ExecuteTime": {
     "end_time": "2020-07-12T18:28:21.169011Z",
     "start_time": "2020-07-12T18:28:20.996567Z"
    }
   },
   "outputs": [
    {
     "data": {
      "text/plain": [
       "'hey this is long text son'"
      ]
     },
     "execution_count": 33,
     "metadata": {},
     "output_type": "execute_result"
    }
   ],
   "source": [
    "sentence=\"heyyy this is loong textttt sooon\"\n",
    "unique_char(rep,sentence)"
   ]
  },
  {
   "cell_type": "markdown",
   "metadata": {},
   "source": [
    "## Dollar\n",
    "<a id=\"1.14\"></a>"
   ]
  },
  {
   "cell_type": "code",
   "execution_count": 34,
   "metadata": {
    "ExecuteTime": {
     "end_time": "2020-07-12T18:28:21.371883Z",
     "start_time": "2020-07-12T18:28:21.178187Z"
    }
   },
   "outputs": [],
   "source": [
    "def find_dollar(text):\n",
    "    line=re.findall(r'\\$\\d+(?:\\.\\d+)?',text)\n",
    "    return \" \".join(line)\n",
    "\n",
    "# \\$ - dollar sign followed by\n",
    "# \\d+ one or more digits\n",
    "# (?:\\.\\d+)? - decimal which is optional"
   ]
  },
  {
   "cell_type": "code",
   "execution_count": 35,
   "metadata": {
    "ExecuteTime": {
     "end_time": "2020-07-12T18:28:21.564224Z",
     "start_time": "2020-07-12T18:28:21.376399Z"
    }
   },
   "outputs": [
    {
     "data": {
      "text/plain": [
       "'$20.56'"
      ]
     },
     "execution_count": 35,
     "metadata": {},
     "output_type": "execute_result"
    }
   ],
   "source": [
    "sentence=\"this shirt costs $20.56\"\n",
    "find_dollar(sentence)"
   ]
  },
  {
   "cell_type": "markdown",
   "metadata": {},
   "source": [
    "## Number-Greater\n",
    "<a id=\"1.15\"></a>"
   ]
  },
  {
   "cell_type": "code",
   "execution_count": 36,
   "metadata": {
    "ExecuteTime": {
     "end_time": "2020-07-12T18:28:21.749494Z",
     "start_time": "2020-07-12T18:28:21.575202Z"
    }
   },
   "outputs": [],
   "source": [
    "#Number greater than 930\n",
    "def num_great(text): \n",
    "    line=re.findall(r'9[3-9][0-9]|[1-9]\\d{3,}',text)\n",
    "    return \" \".join(line)"
   ]
  },
  {
   "cell_type": "code",
   "execution_count": 37,
   "metadata": {
    "ExecuteTime": {
     "end_time": "2020-07-12T18:28:21.943026Z",
     "start_time": "2020-07-12T18:28:21.759059Z"
    }
   },
   "outputs": [
    {
     "data": {
      "text/plain": [
       "'935 29974'"
      ]
     },
     "execution_count": 37,
     "metadata": {},
     "output_type": "execute_result"
    }
   ],
   "source": [
    "sentence=\"It is expected to be more than 935 corona death and 29974 observation cases across 29 states in india\"\n",
    "num_great(sentence)"
   ]
  },
  {
   "cell_type": "markdown",
   "metadata": {},
   "source": [
    "## Number Lesser\n",
    "<a id=\"1.16\"></a>"
   ]
  },
  {
   "cell_type": "code",
   "execution_count": 38,
   "metadata": {
    "ExecuteTime": {
     "end_time": "2020-07-12T18:28:22.127306Z",
     "start_time": "2020-07-12T18:28:21.948044Z"
    }
   },
   "outputs": [],
   "source": [
    "# Number less than 930\n",
    "def num_less(text):\n",
    "    only_num=[]\n",
    "    for i in text.split():\n",
    "        line=re.findall(r'^(9[0-2][0-0]|[1-8][0-9][0-9]|[1-9][0-9]|[0-9])$',i) # 5 500\n",
    "        only_num.append(line)\n",
    "        all_num=[\",\".join(x) for x in only_num if x != []]\n",
    "    return \" \".join(all_num)"
   ]
  },
  {
   "cell_type": "code",
   "execution_count": 39,
   "metadata": {
    "ExecuteTime": {
     "end_time": "2020-07-12T18:28:22.430180Z",
     "start_time": "2020-07-12T18:28:22.142813Z"
    }
   },
   "outputs": [
    {
     "data": {
      "text/plain": [
       "'920'"
      ]
     },
     "execution_count": 39,
     "metadata": {},
     "output_type": "execute_result"
    }
   ],
   "source": [
    "sentence=\"There are some countries where less than 920 cases exist with 1100 observations\"\n",
    "num_less(sentence)"
   ]
  },
  {
   "cell_type": "markdown",
   "metadata": {},
   "source": [
    "## OR\n",
    "<a id=\"1.17\"></a>"
   ]
  },
  {
   "cell_type": "code",
   "execution_count": 40,
   "metadata": {
    "ExecuteTime": {
     "end_time": "2020-07-12T18:28:22.674368Z",
     "start_time": "2020-07-12T18:28:22.439966Z"
    }
   },
   "outputs": [],
   "source": [
    "def or_cond(text,key1,key2):\n",
    "    line=re.findall(r\"{}|{}\".format(key1,key2), text) \n",
    "    return \" \".join(line)"
   ]
  },
  {
   "cell_type": "code",
   "execution_count": 41,
   "metadata": {
    "ExecuteTime": {
     "end_time": "2020-07-12T18:28:22.961510Z",
     "start_time": "2020-07-12T18:28:22.687664Z"
    }
   },
   "outputs": [
    {
     "data": {
      "text/plain": [
       "'sad sorrow'"
      ]
     },
     "execution_count": 41,
     "metadata": {},
     "output_type": "execute_result"
    }
   ],
   "source": [
    "sentence=\"sad and sorrow displays emotions\"\n",
    "or_cond(sentence,'sad','sorrow')"
   ]
  },
  {
   "cell_type": "markdown",
   "metadata": {},
   "source": [
    "## AND\n",
    "<a id=\"1.18\"></a>"
   ]
  },
  {
   "cell_type": "code",
   "execution_count": 42,
   "metadata": {
    "ExecuteTime": {
     "end_time": "2020-07-12T18:28:23.234259Z",
     "start_time": "2020-07-12T18:28:22.970486Z"
    }
   },
   "outputs": [],
   "source": [
    "def and_cond(text):\n",
    "    line=re.findall(r'(?=.*do)(?=.*die).*', text) \n",
    "    return \" \".join(line)"
   ]
  },
  {
   "cell_type": "code",
   "execution_count": 43,
   "metadata": {
    "ExecuteTime": {
     "end_time": "2020-07-12T18:28:23.582046Z",
     "start_time": "2020-07-12T18:28:23.243189Z"
    }
   },
   "outputs": [
    {
     "name": "stdout",
     "output_type": "stream",
     "text": [
      "Both string present: do or die is a motivating phrase\n",
      "Only one string present : \n"
     ]
    }
   ],
   "source": [
    "print(\"Both string present:\",and_cond(\"do or die is a motivating phrase\"))\n",
    "print(\"Only one string present :\",and_cond('die word is other side of emotion'))"
   ]
  },
  {
   "cell_type": "markdown",
   "metadata": {},
   "source": [
    "## Dates\n",
    "<a id=\"1.19\"></a>"
   ]
  },
  {
   "cell_type": "code",
   "execution_count": 44,
   "metadata": {
    "ExecuteTime": {
     "end_time": "2020-07-12T18:28:23.777455Z",
     "start_time": "2020-07-12T18:28:23.592018Z"
    }
   },
   "outputs": [],
   "source": [
    "# mm-dd-yyyy format \n",
    "def find_dates(text):\n",
    "    line=re.findall(r'\\b(1[0-2]|0[1-9])/(3[01]|[12][0-9]|0[1-9])/([0-9]{4})\\b',text)\n",
    "    return line"
   ]
  },
  {
   "cell_type": "code",
   "execution_count": 45,
   "metadata": {
    "ExecuteTime": {
     "end_time": "2020-07-12T18:28:23.989442Z",
     "start_time": "2020-07-12T18:28:23.789097Z"
    }
   },
   "outputs": [
    {
     "data": {
      "text/plain": [
       "[('04', '28', '2020')]"
      ]
     },
     "execution_count": 45,
     "metadata": {},
     "output_type": "execute_result"
    }
   ],
   "source": [
    "sentence=\"Todays date is 04/28/2020 for format mm/dd/yyyy, not 28/04/2020\"\n",
    "find_dates(sentence)"
   ]
  },
  {
   "cell_type": "markdown",
   "metadata": {},
   "source": [
    "## Only Words\n",
    "<a id=\"1.20\"></a>"
   ]
  },
  {
   "cell_type": "code",
   "execution_count": 46,
   "metadata": {
    "ExecuteTime": {
     "end_time": "2020-07-12T18:28:24.154760Z",
     "start_time": "2020-07-12T18:28:24.000404Z"
    }
   },
   "outputs": [],
   "source": [
    "def only_words(text):\n",
    "    line=re.findall(r'\\b[^\\d\\W]+\\b', text)\n",
    "    return \" \".join(line)\n"
   ]
  },
  {
   "cell_type": "code",
   "execution_count": 47,
   "metadata": {
    "ExecuteTime": {
     "end_time": "2020-07-12T18:28:24.342171Z",
     "start_time": "2020-07-12T18:28:24.171006Z"
    }
   },
   "outputs": [
    {
     "data": {
      "text/plain": [
       "'the world population has grown from million to million'"
      ]
     },
     "execution_count": 47,
     "metadata": {},
     "output_type": "execute_result"
    }
   ],
   "source": [
    "sentence=\"the world population has grown from 1650 million to 6000 million\"\n",
    "only_words(sentence)"
   ]
  },
  {
   "cell_type": "markdown",
   "metadata": {},
   "source": [
    "## Only Numbers\n",
    "<a id=\"1.21\"></a>"
   ]
  },
  {
   "cell_type": "code",
   "execution_count": 48,
   "metadata": {
    "ExecuteTime": {
     "end_time": "2020-07-12T18:28:24.524370Z",
     "start_time": "2020-07-12T18:28:24.359273Z"
    }
   },
   "outputs": [],
   "source": [
    "def only_numbers(text):\n",
    "    line=re.findall(r'\\b\\d+\\b', text)\n",
    "    return \" \".join(line)"
   ]
  },
  {
   "cell_type": "code",
   "execution_count": 49,
   "metadata": {
    "ExecuteTime": {
     "end_time": "2020-07-12T18:28:24.727865Z",
     "start_time": "2020-07-12T18:28:24.539137Z"
    }
   },
   "outputs": [
    {
     "data": {
      "text/plain": [
       "'1650 6000'"
      ]
     },
     "execution_count": 49,
     "metadata": {},
     "output_type": "execute_result"
    }
   ],
   "source": [
    "sentence=\"the world population has grown from 1650 million to 6000 million\"\n",
    "only_numbers(sentence)"
   ]
  },
  {
   "cell_type": "markdown",
   "metadata": {},
   "source": [
    "## Boundaries\n",
    "Picking up the words with boundaries\n",
    "<a id=\"1.22\"></a>"
   ]
  },
  {
   "cell_type": "code",
   "execution_count": 50,
   "metadata": {
    "ExecuteTime": {
     "end_time": "2020-07-12T18:28:24.895721Z",
     "start_time": "2020-07-12T18:28:24.739527Z"
    }
   },
   "outputs": [],
   "source": [
    "# Extracting word with boundary\n",
    "def boundary(text):\n",
    "    line=re.findall(r'\\bneutral\\b', text)\n",
    "    return \" \".join(line)"
   ]
  },
  {
   "cell_type": "code",
   "execution_count": 51,
   "metadata": {
    "ExecuteTime": {
     "end_time": "2020-07-12T18:28:25.085953Z",
     "start_time": "2020-07-12T18:28:24.905218Z"
    }
   },
   "outputs": [
    {
     "data": {
      "text/plain": [
       "'neutral'"
      ]
     },
     "execution_count": 51,
     "metadata": {},
     "output_type": "execute_result"
    }
   ],
   "source": [
    "sentence=\"Most tweets are neutral in twitter\"\n",
    "boundary(sentence)"
   ]
  },
  {
   "cell_type": "markdown",
   "metadata": {},
   "source": [
    "\n",
    "## Search\n",
    "Is the key word present in the sentence?\n",
    "<a id=\"4.23\"></a>"
   ]
  },
  {
   "cell_type": "code",
   "execution_count": 52,
   "metadata": {
    "ExecuteTime": {
     "end_time": "2020-07-12T18:28:25.269999Z",
     "start_time": "2020-07-12T18:28:25.087947Z"
    }
   },
   "outputs": [],
   "source": [
    "def search_string(text,key):\n",
    "    return bool(re.search(r''+key+'', text))"
   ]
  },
  {
   "cell_type": "code",
   "execution_count": 53,
   "metadata": {
    "ExecuteTime": {
     "end_time": "2020-07-12T18:28:25.477336Z",
     "start_time": "2020-07-12T18:28:25.281013Z"
    }
   },
   "outputs": [
    {
     "data": {
      "text/plain": [
       "True"
      ]
     },
     "execution_count": 53,
     "metadata": {},
     "output_type": "execute_result"
    }
   ],
   "source": [
    "sentence=\"Happy Mothers day to all Moms\"\n",
    "search_string(sentence,'day')"
   ]
  },
  {
   "cell_type": "markdown",
   "metadata": {},
   "source": [
    "## Pick Sentence\n",
    "If we want to get all sentence with particular keyword.We can use below function\n",
    "<a id=\"1.24\"></a>"
   ]
  },
  {
   "cell_type": "code",
   "execution_count": 54,
   "metadata": {
    "ExecuteTime": {
     "end_time": "2020-07-12T18:28:25.633143Z",
     "start_time": "2020-07-12T18:28:25.493085Z"
    }
   },
   "outputs": [],
   "source": [
    "def pick_only_key_sentence(text,keyword):\n",
    "    line=re.findall(r'([^.]*'+keyword+'[^.]*)', text)\n",
    "    return line"
   ]
  },
  {
   "cell_type": "code",
   "execution_count": 55,
   "metadata": {
    "ExecuteTime": {
     "end_time": "2020-07-12T18:28:25.812113Z",
     "start_time": "2020-07-12T18:28:25.640125Z"
    }
   },
   "outputs": [
    {
     "data": {
      "text/plain": [
       "['People are fighting with covid these days', 'How will we survice covid']"
      ]
     },
     "execution_count": 55,
     "metadata": {},
     "output_type": "execute_result"
    }
   ],
   "source": [
    "sentence=\"People are fighting with covid these days.Economy has fallen down.How will we survice covid\"\n",
    "pick_only_key_sentence(sentence,'covid')"
   ]
  },
  {
   "cell_type": "markdown",
   "metadata": {},
   "source": [
    "## Duplicate Sentence\n",
    "Most webscrapped data contains duplicated sentence.This function could retrieve unique ones.\n",
    "<a id=\"1.25\"></a>"
   ]
  },
  {
   "cell_type": "code",
   "execution_count": 56,
   "metadata": {
    "ExecuteTime": {
     "end_time": "2020-07-12T18:28:25.994374Z",
     "start_time": "2020-07-12T18:28:25.821237Z"
    }
   },
   "outputs": [],
   "source": [
    "def pick_unique_sentence(text):\n",
    "    line=re.findall(r'(?sm)(^[^\\r\\n]+$)(?!.*^\\1$)', text)\n",
    "    return line"
   ]
  },
  {
   "cell_type": "code",
   "execution_count": 57,
   "metadata": {
    "ExecuteTime": {
     "end_time": "2020-07-12T18:28:26.330423Z",
     "start_time": "2020-07-12T18:28:26.008379Z"
    }
   },
   "outputs": [
    {
     "data": {
      "text/plain": [
       "['Doctors are working very hard in this pandemic situation', 'I thank doctors']"
      ]
     },
     "execution_count": 57,
     "metadata": {},
     "output_type": "execute_result"
    }
   ],
   "source": [
    "sentence=\"I thank doctors\\nDoctors are working very hard in this pandemic situation\\nI thank doctors\"\n",
    "pick_unique_sentence(sentence)"
   ]
  },
  {
   "cell_type": "markdown",
   "metadata": {},
   "source": [
    "## Caps Words\n",
    "Extract words starting with capital letter.Some words like names,place or universal object are usually mentioned in a text starting with CAPS.\n",
    "<a id=\"1.26\"></a>"
   ]
  },
  {
   "cell_type": "code",
   "execution_count": 58,
   "metadata": {
    "ExecuteTime": {
     "end_time": "2020-07-12T18:28:26.620879Z",
     "start_time": "2020-07-12T18:28:26.334012Z"
    }
   },
   "outputs": [],
   "source": [
    "def find_capital(text):\n",
    "    line=re.findall(r'\\b[A-Z]\\w+', text)\n",
    "    return line"
   ]
  },
  {
   "cell_type": "code",
   "execution_count": 59,
   "metadata": {
    "ExecuteTime": {
     "end_time": "2020-07-12T18:28:26.811104Z",
     "start_time": "2020-07-12T18:28:26.638930Z"
    }
   },
   "outputs": [
    {
     "data": {
      "text/plain": [
       "['World', 'No', 'God']"
      ]
     },
     "execution_count": 59,
     "metadata": {},
     "output_type": "execute_result"
    }
   ],
   "source": [
    "sentence=\"World is affected by corona crisis.No one other than God can save us from it\"\n",
    "find_capital(sentence)"
   ]
  },
  {
   "cell_type": "markdown",
   "metadata": {},
   "source": [
    "## Length of words\n",
    "<a id=\"1.27\"></a>\n",
    "No regex but added one liner to identify length of words in a sentence"
   ]
  },
  {
   "cell_type": "code",
   "execution_count": 60,
   "metadata": {
    "ExecuteTime": {
     "end_time": "2020-07-12T18:28:26.982996Z",
     "start_time": "2020-07-12T18:28:26.823063Z"
    }
   },
   "outputs": [
    {
     "data": {
      "text/plain": [
       "[11, 3, 3, 12, 2]"
      ]
     },
     "execution_count": 60,
     "metadata": {},
     "output_type": "execute_result"
    }
   ],
   "source": [
    "text_length = list(map(lambda x: len(x.split()), corpus))\n",
    "text_length[:5]"
   ]
  },
  {
   "cell_type": "markdown",
   "metadata": {},
   "source": [
    "## Length of characters\n",
    "<a id=\"1.28\"></a>\n",
    "No regex but added one liner to identify length of characters in a sentence including space"
   ]
  },
  {
   "cell_type": "code",
   "execution_count": 61,
   "metadata": {
    "ExecuteTime": {
     "end_time": "2020-07-12T18:28:27.178545Z",
     "start_time": "2020-07-12T18:28:26.989032Z"
    }
   },
   "outputs": [
    {
     "data": {
      "text/plain": [
       "[61, 14, 14, 66, 9]"
      ]
     },
     "execution_count": 61,
     "metadata": {},
     "output_type": "execute_result"
    }
   ],
   "source": [
    "char_length = list(map(len, corpus))\n",
    "char_length[:5]"
   ]
  },
  {
   "cell_type": "markdown",
   "metadata": {},
   "source": [
    "<a id=\"1.29\"></a>\n",
    "## Get ID\n",
    "Most data has IDs in it with some prefix.So if we want to pick only numbers in ID leaving the prefix out,we can apply below function."
   ]
  },
  {
   "cell_type": "code",
   "execution_count": 62,
   "metadata": {
    "ExecuteTime": {
     "end_time": "2020-07-12T18:28:27.334132Z",
     "start_time": "2020-07-12T18:28:27.189590Z"
    }
   },
   "outputs": [],
   "source": [
    "def find_id(text):\n",
    "    line=re.findall(r'\\bIND(\\d+)', text)\n",
    "    return line"
   ]
  },
  {
   "cell_type": "code",
   "execution_count": 63,
   "metadata": {
    "ExecuteTime": {
     "end_time": "2020-07-12T18:28:27.668903Z",
     "start_time": "2020-07-12T18:28:27.339541Z"
    }
   },
   "outputs": [
    {
     "data": {
      "text/plain": [
       "['50120']"
      ]
     },
     "execution_count": 63,
     "metadata": {},
     "output_type": "execute_result"
    }
   ],
   "source": [
    "sentence=\"My company id is IND50120.And I work under Asia region\"\n",
    "find_id(sentence)"
   ]
  },
  {
   "cell_type": "markdown",
   "metadata": {},
   "source": [
    "<a id=\"1.30\"></a>\n",
    "## Specific String Rows\n",
    "Quering for specific string can also be done by directly applying *\"str.contains(\"XXXX\")\"* to a series/column of a dataframe"
   ]
  },
  {
   "cell_type": "code",
   "execution_count": 64,
   "metadata": {
    "ExecuteTime": {
     "end_time": "2020-07-12T18:28:27.961448Z",
     "start_time": "2020-07-12T18:28:27.684149Z"
    }
   },
   "outputs": [
    {
     "data": {
      "text/html": [
       "<div>\n",
       "<style scoped>\n",
       "    .dataframe tbody tr th:only-of-type {\n",
       "        vertical-align: middle;\n",
       "    }\n",
       "\n",
       "    .dataframe tbody tr th {\n",
       "        vertical-align: top;\n",
       "    }\n",
       "\n",
       "    .dataframe thead th {\n",
       "        text-align: right;\n",
       "    }\n",
       "</style>\n",
       "<table border=\"1\" class=\"dataframe\">\n",
       "  <thead>\n",
       "    <tr style=\"text-align: right;\">\n",
       "      <th></th>\n",
       "      <th>Text</th>\n",
       "    </tr>\n",
       "  </thead>\n",
       "  <tbody>\n",
       "    <tr>\n",
       "      <th>1662</th>\n",
       "      <td>I do not thinke it good</td>\n",
       "    </tr>\n",
       "    <tr>\n",
       "      <th>979</th>\n",
       "      <td>For your part , To you , our Swords haue leade...</td>\n",
       "    </tr>\n",
       "    <tr>\n",
       "      <th>1725</th>\n",
       "      <td>Beare with me good Boy , I am much forgetfull .</td>\n",
       "    </tr>\n",
       "  </tbody>\n",
       "</table>\n",
       "</div>"
      ],
      "text/plain": [
       "                                                   Text\n",
       "1662                            I do not thinke it good\n",
       "979   For your part , To you , our Swords haue leade...\n",
       "1725    Beare with me good Boy , I am much forgetfull ."
      ]
     },
     "execution_count": 64,
     "metadata": {},
     "output_type": "execute_result"
    }
   ],
   "source": [
    "my_string_rows = df[df['Text'].str.contains(\"good\")]\n",
    "my_string_rows[['Text']].sample(3)"
   ]
  },
  {
   "cell_type": "markdown",
   "metadata": {},
   "source": [
    "<a id=\"1.31\"></a>\n",
    "## Hex code to Color\n",
    "Converting hex color codes to color names.We will install and import webcolors. (only for CSS3 colors)"
   ]
  },
  {
   "cell_type": "code",
   "execution_count": 65,
   "metadata": {
    "ExecuteTime": {
     "end_time": "2020-07-12T18:28:28.130010Z",
     "start_time": "2020-07-12T18:28:27.967273Z"
    }
   },
   "outputs": [],
   "source": [
    "def find_color(string): \n",
    "    text = re.findall('\\#(?:[0-9a-fA-F]{3}){1,2}',string)\n",
    "    conv_name=[]\n",
    "    for i in text:\n",
    "        conv_name.append(webcolors.hex_to_name(i))\n",
    "    return conv_name"
   ]
  },
  {
   "cell_type": "code",
   "execution_count": 66,
   "metadata": {
    "ExecuteTime": {
     "end_time": "2020-07-12T18:28:28.455576Z",
     "start_time": "2020-07-12T18:28:28.150256Z"
    }
   },
   "outputs": [
    {
     "data": {
      "text/plain": [
       "['lime', 'orangered']"
      ]
     },
     "execution_count": 66,
     "metadata": {},
     "output_type": "execute_result"
    }
   ],
   "source": [
    "sentence=\"Find the color of #00FF00 and #FF4500\"\n",
    "find_color(sentence)"
   ]
  },
  {
   "cell_type": "markdown",
   "metadata": {},
   "source": [
    "Try more hex codes:https://www.rapidtables.com/web/css/css-color.html"
   ]
  },
  {
   "cell_type": "markdown",
   "metadata": {},
   "source": [
    "<a id=\"1.32\"></a>\n",
    "## Tags\n",
    "Most of web scrapped data contains html tags.It can be removed from below re script"
   ]
  },
  {
   "cell_type": "code",
   "execution_count": 67,
   "metadata": {
    "ExecuteTime": {
     "end_time": "2020-07-12T18:28:28.478929Z",
     "start_time": "2020-07-12T18:28:28.467336Z"
    }
   },
   "outputs": [],
   "source": [
    "def remove_tag(string):\n",
    "    text=re.sub('<.*?>','',string)\n",
    "    return text"
   ]
  },
  {
   "cell_type": "code",
   "execution_count": 68,
   "metadata": {
    "ExecuteTime": {
     "end_time": "2020-07-12T18:28:28.754651Z",
     "start_time": "2020-07-12T18:28:28.524656Z"
    }
   },
   "outputs": [
    {
     "data": {
      "text/plain": [
       "'Markdown sentences can use  for breaks and  for italics'"
      ]
     },
     "execution_count": 68,
     "metadata": {},
     "output_type": "execute_result"
    }
   ],
   "source": [
    "sentence=\"Markdown sentences can use <br> for breaks and <i></i> for italics\"\n",
    "remove_tag(sentence)"
   ]
  },
  {
   "cell_type": "markdown",
   "metadata": {},
   "source": [
    "<a id=\"1.33\"></a>\n",
    "## IP Address\n",
    "Extract IP address from text."
   ]
  },
  {
   "cell_type": "code",
   "execution_count": 69,
   "metadata": {
    "ExecuteTime": {
     "end_time": "2020-07-12T18:28:28.999694Z",
     "start_time": "2020-07-12T18:28:28.788244Z"
    }
   },
   "outputs": [],
   "source": [
    "def ip_add(string):\n",
    "    text=re.findall('\\d{1,3}\\.\\d{1,3}\\.\\d{1,3}\\.\\d{1,3}',string)\n",
    "    return text"
   ]
  },
  {
   "cell_type": "code",
   "execution_count": 70,
   "metadata": {
    "ExecuteTime": {
     "end_time": "2020-07-12T18:28:29.269238Z",
     "start_time": "2020-07-12T18:28:29.009120Z"
    }
   },
   "outputs": [
    {
     "data": {
      "text/plain": [
       "['125.16.100.1']"
      ]
     },
     "execution_count": 70,
     "metadata": {},
     "output_type": "execute_result"
    }
   ],
   "source": [
    "sentence=\"An example of ip address is 125.16.100.1\"\n",
    "ip_add(sentence)"
   ]
  },
  {
   "cell_type": "markdown",
   "metadata": {},
   "source": [
    "<a id=\"1.34\"></a>\n",
    "## Mac Address\n",
    "Extract Mac address from text."
   ]
  },
  {
   "cell_type": "code",
   "execution_count": 71,
   "metadata": {
    "ExecuteTime": {
     "end_time": "2020-07-12T18:28:29.586638Z",
     "start_time": "2020-07-12T18:28:29.281204Z"
    }
   },
   "outputs": [],
   "source": [
    "def mac_add(string):\n",
    "    text=re.findall('(?:[0-9a-fA-F]:?){12}',string)\n",
    "    return text\n",
    "#https://stackoverflow.com/questions/26891833/python-regex-extract-mac-addresses-from-string/26892371"
   ]
  },
  {
   "cell_type": "code",
   "execution_count": 72,
   "metadata": {
    "ExecuteTime": {
     "end_time": "2020-07-12T18:28:29.885135Z",
     "start_time": "2020-07-12T18:28:29.602424Z"
    }
   },
   "outputs": [
    {
     "data": {
      "text/plain": [
       "['00:24:17:b1:cc:cc']"
      ]
     },
     "execution_count": 72,
     "metadata": {},
     "output_type": "execute_result"
    }
   ],
   "source": [
    "sentence=\"MAC ADDRESSES of this laptop - 00:24:17:b1:cc:cc .Other details will be mentioned\"\n",
    "mac_add(sentence)"
   ]
  },
  {
   "cell_type": "markdown",
   "metadata": {},
   "source": [
    "<a id=\"1.35\"></a>\n",
    "## Subword\n",
    "Extract number of subwords from sentences and words."
   ]
  },
  {
   "cell_type": "code",
   "execution_count": 73,
   "metadata": {
    "ExecuteTime": {
     "end_time": "2020-07-12T18:28:30.129214Z",
     "start_time": "2020-07-12T18:28:29.896870Z"
    }
   },
   "outputs": [],
   "source": [
    "def subword(string,sub): \n",
    "    text=re.findall(sub,string)\n",
    "    return len(text)"
   ]
  },
  {
   "cell_type": "code",
   "execution_count": 74,
   "metadata": {
    "ExecuteTime": {
     "end_time": "2020-07-12T18:28:30.308902Z",
     "start_time": "2020-07-12T18:28:30.149331Z"
    }
   },
   "outputs": [
    {
     "data": {
      "text/plain": [
       "2"
      ]
     },
     "execution_count": 74,
     "metadata": {},
     "output_type": "execute_result"
    }
   ],
   "source": [
    "sentence = 'Fundamentalism and constructivism are important skills'\n",
    "subword(sentence,'ism') # change subword and try for others"
   ]
  },
  {
   "cell_type": "markdown",
   "metadata": {},
   "source": [
    "<a id=\"1.36\"></a>\n",
    "## Latitude & Longitude\n",
    "Extract number of subwords from sentences and words."
   ]
  },
  {
   "cell_type": "code",
   "execution_count": 75,
   "metadata": {
    "ExecuteTime": {
     "end_time": "2020-07-12T18:28:30.731084Z",
     "start_time": "2020-07-12T18:28:30.318997Z"
    }
   },
   "outputs": [],
   "source": [
    "def lat_lon(string):\n",
    "    text=re.findall(r'^[-+]?([1-8]?\\d(\\.\\d+)?|90(\\.0+)?),\\s*[-+]?(180(\\.0+)?|((1[0-7]\\d)|([1-9]?\\d))(\\.\\d+)?)$',string)\n",
    "    if text!=[]:\n",
    "        print(\"[{}] is valid latitude & longitude\".format(string))\n",
    "    else:\n",
    "        print(\"[{}] is not a valid latitude & longitude\".format(string))"
   ]
  },
  {
   "cell_type": "code",
   "execution_count": 76,
   "metadata": {
    "ExecuteTime": {
     "end_time": "2020-07-12T18:28:31.016322Z",
     "start_time": "2020-07-12T18:28:30.744395Z"
    }
   },
   "outputs": [
    {
     "name": "stdout",
     "output_type": "stream",
     "text": [
      "[28.6466772,76.8130649] is valid latitude & longitude\n",
      "[2324.3244,3423.432423] is not a valid latitude & longitude\n"
     ]
    }
   ],
   "source": [
    "lat_lon('28.6466772,76.8130649')\n",
    "lat_lon('2324.3244,3423.432423')"
   ]
  },
  {
   "cell_type": "markdown",
   "metadata": {},
   "source": [
    "<a id=\"1.37\"></a>\n",
    "## PAN\n",
    "\n",
    "PAN Validation:\n",
    "\n",
    "[First 5 letters in CAPS+4 didgits+Last letter in CAPS]"
   ]
  },
  {
   "cell_type": "code",
   "execution_count": 77,
   "metadata": {
    "ExecuteTime": {
     "end_time": "2020-07-12T18:28:31.167821Z",
     "start_time": "2020-07-12T18:28:31.028369Z"
    }
   },
   "outputs": [],
   "source": [
    "def valid_pan(string):\n",
    "    text=re.findall(r'^([A-Z]){5}([0-9]){4}([A-Z]){1}$',string)\n",
    "    if text!=[]:\n",
    "        print(\"{} is valid PAN number\".format(string))\n",
    "    else:\n",
    "        print(\"{} is not a valid PAN number\".format(string))"
   ]
  },
  {
   "cell_type": "code",
   "execution_count": 78,
   "metadata": {
    "ExecuteTime": {
     "end_time": "2020-07-12T18:28:31.439466Z",
     "start_time": "2020-07-12T18:28:31.181697Z"
    }
   },
   "outputs": [
    {
     "name": "stdout",
     "output_type": "stream",
     "text": [
      "ABCSD0123K is valid PAN number\n",
      "LEcGD012eg is not a valid PAN number\n"
     ]
    }
   ],
   "source": [
    "valid_pan(\"ABCSD0123K\")\n",
    "valid_pan(\"LEcGD012eg\")"
   ]
  }
 ],
 "metadata": {
  "kernelspec": {
   "display_name": "Python 3",
   "language": "python",
   "name": "python3"
  },
  "language_info": {
   "codemirror_mode": {
    "name": "ipython",
    "version": 3
   },
   "file_extension": ".py",
   "mimetype": "text/x-python",
   "name": "python",
   "nbconvert_exporter": "python",
   "pygments_lexer": "ipython3",
   "version": "3.7.7"
  },
  "toc": {
   "base_numbering": 1,
   "nav_menu": {},
   "number_sections": true,
   "sideBar": true,
   "skip_h1_title": false,
   "title_cell": "Table of Contents",
   "title_sidebar": "Contents",
   "toc_cell": false,
   "toc_position": {},
   "toc_section_display": true,
   "toc_window_display": false
  },
  "varInspector": {
   "cols": {
    "lenName": 16,
    "lenType": 16,
    "lenVar": 40
   },
   "kernels_config": {
    "python": {
     "delete_cmd_postfix": "",
     "delete_cmd_prefix": "del ",
     "library": "var_list.py",
     "varRefreshCmd": "print(var_dic_list())"
    },
    "r": {
     "delete_cmd_postfix": ") ",
     "delete_cmd_prefix": "rm(",
     "library": "var_list.r",
     "varRefreshCmd": "cat(var_dic_list()) "
    }
   },
   "types_to_exclude": [
    "module",
    "function",
    "builtin_function_or_method",
    "instance",
    "_Feature"
   ],
   "window_display": false
  }
 },
 "nbformat": 4,
 "nbformat_minor": 4
}
