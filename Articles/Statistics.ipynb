{
 "cells": [
  {
   "cell_type": "markdown",
   "metadata": {},
   "source": [
    "# Statistics\n",
    "\n",
    "## Anecdotal Evidence\n",
    "\n",
    "Anecdotal evidence is evidence from anecdotes: evidence collected in a casual or informal manner and relying heavily or entirely on personal testimony.\n",
    "\n",
    "Anecdotal evidence usually fails, because:\n",
    "*  Small number of observations\n",
    "* Selection bias: people who join a discussion of some question might be interested because their they had similar experiences. In that case the process of selecting data would bias the results.\n",
    "* Confirmation bias: People who believe the claim might be more likely to contribute examples that confirm it. People who doubt the claim are more likely to cite counterexamples.\n",
    "* Inaccuracy: Anecdotes are often personal stories, and often misremembered, misrepresented, repeated inaccurately, etc.\n",
    "\n",
    "\n",
    "To address the limitations of anecdotes, we use the tools of statistics, which include:\n",
    "* Data collection: We use data from a large survey that was designed explicitly with the goal of generating statistically valid inferences.\n",
    "* Descriptive statistics: We generate statistics that summarize the data concisely, and evaluate different ways to visualize data.\n",
    "* Exploratory data analysis: We look for patterns, differences, and other features that address the questions we are interested in. At the same time we will check for inconsistencies and identify limitations.\n",
    "* Estimation: We use data from a sample to estimate characteristics of the general population.\n",
    "* Hypothesis testing: Where we see apparent effects, like a difference between two groups, we will evaluate whether the effect might have happened by chance.\n",
    "\n",
    "By performing these steps with care to avoid pitfalls, we can reach conclusions that are more justifiable and more likely to be correct."
   ]
  },
  {
   "cell_type": "markdown",
   "metadata": {},
   "source": [
    "## The National Survey of Family Growth\n",
    "\n",
    "Since 1973 the U.S. Centers for Disease Control and Prevention (CDC) have conducted the National Survey of Family Growth (NSFG), which is intended to gather \"nformation on family life, marriage and divorce, pregnancy, infertility, use of contraception, and men's and women's health. The survey results are used to plan health services and health education programs, and to do statistical studies of families, fertility, and health.\n",
    "\n",
    "We will use data collected by this survey to investigate whether first babies tend to come late, and other questions."
   ]
  },
  {
   "cell_type": "code",
   "execution_count": 1,
   "metadata": {
    "ExecuteTime": {
     "end_time": "2020-11-11T13:14:35.608072Z",
     "start_time": "2020-11-11T13:14:33.313625Z"
    }
   },
   "outputs": [],
   "source": [
    "import numpy as np\n",
    "import scipy.stats\n",
    "\n",
    "import pandas as pd\n",
    "pd.options.display.max_columns = 250\n",
    "\n",
    "import matplotlib.pyplot as plt\n",
    "import seaborn as sns\n",
    "sns.set_style('darkgrid')\n",
    "\n",
    "import warnings\n",
    "warnings.filterwarnings(\"ignore\")"
   ]
  },
  {
   "cell_type": "code",
   "execution_count": 2,
   "metadata": {
    "ExecuteTime": {
     "end_time": "2020-11-11T13:14:36.389939Z",
     "start_time": "2020-11-11T13:14:35.613689Z"
    }
   },
   "outputs": [
    {
     "name": "stdout",
     "output_type": "stream",
     "text": [
      "(13593, 243)\n"
     ]
    },
    {
     "data": {
      "text/html": [
       "<div>\n",
       "<style scoped>\n",
       "    .dataframe tbody tr th:only-of-type {\n",
       "        vertical-align: middle;\n",
       "    }\n",
       "\n",
       "    .dataframe tbody tr th {\n",
       "        vertical-align: top;\n",
       "    }\n",
       "\n",
       "    .dataframe thead th {\n",
       "        text-align: right;\n",
       "    }\n",
       "</style>\n",
       "<table border=\"1\" class=\"dataframe\">\n",
       "  <thead>\n",
       "    <tr style=\"text-align: right;\">\n",
       "      <th></th>\n",
       "      <th>caseid</th>\n",
       "      <th>pregordr</th>\n",
       "      <th>howpreg_n</th>\n",
       "      <th>howpreg_p</th>\n",
       "      <th>moscurrp</th>\n",
       "      <th>nowprgdk</th>\n",
       "      <th>pregend1</th>\n",
       "      <th>pregend2</th>\n",
       "      <th>nbrnaliv</th>\n",
       "      <th>multbrth</th>\n",
       "      <th>cmotpreg</th>\n",
       "      <th>prgoutcome</th>\n",
       "      <th>cmprgend</th>\n",
       "      <th>flgdkmo1</th>\n",
       "      <th>cmprgbeg</th>\n",
       "      <th>ageatend</th>\n",
       "      <th>hpageend</th>\n",
       "      <th>gestasun_m</th>\n",
       "      <th>gestasun_w</th>\n",
       "      <th>wksgest</th>\n",
       "      <th>mosgest</th>\n",
       "      <th>dk1gest</th>\n",
       "      <th>dk2gest</th>\n",
       "      <th>dk3gest</th>\n",
       "      <th>bpa_bdscheck1</th>\n",
       "      <th>bpa_bdscheck2</th>\n",
       "      <th>bpa_bdscheck3</th>\n",
       "      <th>babysex</th>\n",
       "      <th>birthwgt_lb</th>\n",
       "      <th>birthwgt_oz</th>\n",
       "      <th>lobthwgt</th>\n",
       "      <th>babysex2</th>\n",
       "      <th>birthwgt_lb2</th>\n",
       "      <th>birthwgt_oz2</th>\n",
       "      <th>lobthwgt2</th>\n",
       "      <th>babysex3</th>\n",
       "      <th>birthwgt_lb3</th>\n",
       "      <th>birthwgt_oz3</th>\n",
       "      <th>lobthwgt3</th>\n",
       "      <th>cmbabdob</th>\n",
       "      <th>kidage</th>\n",
       "      <th>hpagelb</th>\n",
       "      <th>birthplc</th>\n",
       "      <th>paybirth1</th>\n",
       "      <th>paybirth2</th>\n",
       "      <th>paybirth3</th>\n",
       "      <th>knewpreg</th>\n",
       "      <th>trimestr</th>\n",
       "      <th>ltrimest</th>\n",
       "      <th>priorsmk</th>\n",
       "      <th>postsmks</th>\n",
       "      <th>npostsmk</th>\n",
       "      <th>getprena</th>\n",
       "      <th>bgnprena</th>\n",
       "      <th>pnctrim</th>\n",
       "      <th>lpnctri</th>\n",
       "      <th>workpreg</th>\n",
       "      <th>workborn</th>\n",
       "      <th>didwork</th>\n",
       "      <th>matweeks</th>\n",
       "      <th>weeksdk</th>\n",
       "      <th>matleave</th>\n",
       "      <th>matchfound</th>\n",
       "      <th>livehere</th>\n",
       "      <th>alivenow</th>\n",
       "      <th>cmkidied</th>\n",
       "      <th>cmkidlft</th>\n",
       "      <th>lastage</th>\n",
       "      <th>wherenow</th>\n",
       "      <th>legagree</th>\n",
       "      <th>parenend</th>\n",
       "      <th>anynurse</th>\n",
       "      <th>fedsolid</th>\n",
       "      <th>frsteatd_n</th>\n",
       "      <th>frsteatd_p</th>\n",
       "      <th>frsteatd</th>\n",
       "      <th>quitnurs</th>\n",
       "      <th>ageqtnur_n</th>\n",
       "      <th>ageqtnur_p</th>\n",
       "      <th>ageqtnur</th>\n",
       "      <th>matchfound2</th>\n",
       "      <th>livehere2</th>\n",
       "      <th>alivenow2</th>\n",
       "      <th>cmkidied2</th>\n",
       "      <th>cmkidlft2</th>\n",
       "      <th>lastage2</th>\n",
       "      <th>wherenow2</th>\n",
       "      <th>legagree2</th>\n",
       "      <th>parenend2</th>\n",
       "      <th>anynurse2</th>\n",
       "      <th>fedsolid2</th>\n",
       "      <th>frsteatd_n2</th>\n",
       "      <th>frsteatd_p2</th>\n",
       "      <th>frsteatd2</th>\n",
       "      <th>quitnurs2</th>\n",
       "      <th>ageqtnur_n2</th>\n",
       "      <th>ageqtnur_p2</th>\n",
       "      <th>ageqtnur2</th>\n",
       "      <th>matchfound3</th>\n",
       "      <th>livehere3</th>\n",
       "      <th>alivenow3</th>\n",
       "      <th>cmkidied3</th>\n",
       "      <th>cmkidlft3</th>\n",
       "      <th>lastage3</th>\n",
       "      <th>wherenow3</th>\n",
       "      <th>legagree3</th>\n",
       "      <th>parenend3</th>\n",
       "      <th>anynurse3</th>\n",
       "      <th>fedsolid3</th>\n",
       "      <th>frsteatd_n3</th>\n",
       "      <th>frsteatd_p3</th>\n",
       "      <th>frsteatd3</th>\n",
       "      <th>quitnurs3</th>\n",
       "      <th>ageqtnur_n3</th>\n",
       "      <th>ageqtnur_p3</th>\n",
       "      <th>ageqtnur3</th>\n",
       "      <th>cmlastlb</th>\n",
       "      <th>cmfstprg</th>\n",
       "      <th>cmlstprg</th>\n",
       "      <th>cmintstr</th>\n",
       "      <th>cmintfin</th>\n",
       "      <th>cmintstrop</th>\n",
       "      <th>cmintfinop</th>\n",
       "      <th>cmintstrcr</th>\n",
       "      <th>cmintfincr</th>\n",
       "      <th>evuseint</th>\n",
       "      <th>stopduse</th>\n",
       "      <th>whystopd</th>\n",
       "      <th>whatmeth01</th>\n",
       "      <th>whatmeth02</th>\n",
       "      <th>whatmeth03</th>\n",
       "      <th>whatmeth04</th>\n",
       "      <th>resnouse</th>\n",
       "      <th>wantbold</th>\n",
       "      <th>probbabe</th>\n",
       "      <th>cnfrmno</th>\n",
       "      <th>wantbld2</th>\n",
       "      <th>timingok</th>\n",
       "      <th>toosoon_n</th>\n",
       "      <th>toosoon_p</th>\n",
       "      <th>wthpart1</th>\n",
       "      <th>wthpart2</th>\n",
       "      <th>feelinpg</th>\n",
       "      <th>hpwnold</th>\n",
       "      <th>timokhp</th>\n",
       "      <th>cohpbeg</th>\n",
       "      <th>cohpend</th>\n",
       "      <th>tellfath</th>\n",
       "      <th>whentell</th>\n",
       "      <th>tryscale</th>\n",
       "      <th>wantscal</th>\n",
       "      <th>whyprg1</th>\n",
       "      <th>whyprg2</th>\n",
       "      <th>whynouse1</th>\n",
       "      <th>whynouse2</th>\n",
       "      <th>whynouse3</th>\n",
       "      <th>anyusint</th>\n",
       "      <th>prglngth</th>\n",
       "      <th>outcome</th>\n",
       "      <th>birthord</th>\n",
       "      <th>datend</th>\n",
       "      <th>agepreg</th>\n",
       "      <th>datecon</th>\n",
       "      <th>agecon</th>\n",
       "      <th>fmarout5</th>\n",
       "      <th>pmarpreg</th>\n",
       "      <th>rmarout6</th>\n",
       "      <th>fmarcon5</th>\n",
       "      <th>learnprg</th>\n",
       "      <th>pncarewk</th>\n",
       "      <th>paydeliv</th>\n",
       "      <th>lbw1</th>\n",
       "      <th>bfeedwks</th>\n",
       "      <th>maternlv</th>\n",
       "      <th>oldwantr</th>\n",
       "      <th>oldwantp</th>\n",
       "      <th>wantresp</th>\n",
       "      <th>wantpart</th>\n",
       "      <th>cmbirth</th>\n",
       "      <th>ager</th>\n",
       "      <th>agescrn</th>\n",
       "      <th>fmarital</th>\n",
       "      <th>rmarital</th>\n",
       "      <th>educat</th>\n",
       "      <th>hieduc</th>\n",
       "      <th>race</th>\n",
       "      <th>hispanic</th>\n",
       "      <th>hisprace</th>\n",
       "      <th>rcurpreg</th>\n",
       "      <th>pregnum</th>\n",
       "      <th>parity</th>\n",
       "      <th>insuranc</th>\n",
       "      <th>pubassis</th>\n",
       "      <th>poverty</th>\n",
       "      <th>laborfor</th>\n",
       "      <th>religion</th>\n",
       "      <th>metro</th>\n",
       "      <th>brnout</th>\n",
       "      <th>yrstrus</th>\n",
       "      <th>prglngth_i</th>\n",
       "      <th>outcome_i</th>\n",
       "      <th>birthord_i</th>\n",
       "      <th>datend_i</th>\n",
       "      <th>agepreg_i</th>\n",
       "      <th>datecon_i</th>\n",
       "      <th>agecon_i</th>\n",
       "      <th>fmarout5_i</th>\n",
       "      <th>pmarpreg_i</th>\n",
       "      <th>rmarout6_i</th>\n",
       "      <th>fmarcon5_i</th>\n",
       "      <th>learnprg_i</th>\n",
       "      <th>pncarewk_i</th>\n",
       "      <th>paydeliv_i</th>\n",
       "      <th>lbw1_i</th>\n",
       "      <th>bfeedwks_i</th>\n",
       "      <th>maternlv_i</th>\n",
       "      <th>oldwantr_i</th>\n",
       "      <th>oldwantp_i</th>\n",
       "      <th>wantresp_i</th>\n",
       "      <th>wantpart_i</th>\n",
       "      <th>ager_i</th>\n",
       "      <th>fmarital_i</th>\n",
       "      <th>rmarital_i</th>\n",
       "      <th>educat_i</th>\n",
       "      <th>hieduc_i</th>\n",
       "      <th>race_i</th>\n",
       "      <th>hispanic_i</th>\n",
       "      <th>hisprace_i</th>\n",
       "      <th>rcurpreg_i</th>\n",
       "      <th>pregnum_i</th>\n",
       "      <th>parity_i</th>\n",
       "      <th>insuranc_i</th>\n",
       "      <th>pubassis_i</th>\n",
       "      <th>poverty_i</th>\n",
       "      <th>laborfor_i</th>\n",
       "      <th>religion_i</th>\n",
       "      <th>metro_i</th>\n",
       "      <th>basewgt</th>\n",
       "      <th>adj_mod_basewgt</th>\n",
       "      <th>finalwgt</th>\n",
       "      <th>secu_p</th>\n",
       "      <th>sest</th>\n",
       "      <th>cmintvw</th>\n",
       "    </tr>\n",
       "  </thead>\n",
       "  <tbody>\n",
       "    <tr>\n",
       "      <th>0</th>\n",
       "      <td>1</td>\n",
       "      <td>1</td>\n",
       "      <td>NaN</td>\n",
       "      <td>NaN</td>\n",
       "      <td>NaN</td>\n",
       "      <td>NaN</td>\n",
       "      <td>6.0</td>\n",
       "      <td>NaN</td>\n",
       "      <td>1.0</td>\n",
       "      <td>NaN</td>\n",
       "      <td>NaN</td>\n",
       "      <td>1.0</td>\n",
       "      <td>1093.0</td>\n",
       "      <td>NaN</td>\n",
       "      <td>1084.0</td>\n",
       "      <td>NaN</td>\n",
       "      <td>NaN</td>\n",
       "      <td>9.0</td>\n",
       "      <td>0.0</td>\n",
       "      <td>39.0</td>\n",
       "      <td>9.0</td>\n",
       "      <td>NaN</td>\n",
       "      <td>NaN</td>\n",
       "      <td>NaN</td>\n",
       "      <td>0.0</td>\n",
       "      <td>NaN</td>\n",
       "      <td>NaN</td>\n",
       "      <td>1.0</td>\n",
       "      <td>8.0</td>\n",
       "      <td>13.0</td>\n",
       "      <td>NaN</td>\n",
       "      <td>NaN</td>\n",
       "      <td>NaN</td>\n",
       "      <td>NaN</td>\n",
       "      <td>NaN</td>\n",
       "      <td>NaN</td>\n",
       "      <td>NaN</td>\n",
       "      <td>NaN</td>\n",
       "      <td>NaN</td>\n",
       "      <td>1093.0</td>\n",
       "      <td>138.0</td>\n",
       "      <td>37.0</td>\n",
       "      <td>NaN</td>\n",
       "      <td>NaN</td>\n",
       "      <td>NaN</td>\n",
       "      <td>NaN</td>\n",
       "      <td>NaN</td>\n",
       "      <td>NaN</td>\n",
       "      <td>NaN</td>\n",
       "      <td>NaN</td>\n",
       "      <td>NaN</td>\n",
       "      <td>NaN</td>\n",
       "      <td>NaN</td>\n",
       "      <td>NaN</td>\n",
       "      <td>NaN</td>\n",
       "      <td>NaN</td>\n",
       "      <td>NaN</td>\n",
       "      <td>NaN</td>\n",
       "      <td>NaN</td>\n",
       "      <td>NaN</td>\n",
       "      <td>NaN</td>\n",
       "      <td>NaN</td>\n",
       "      <td>1.0</td>\n",
       "      <td>NaN</td>\n",
       "      <td>NaN</td>\n",
       "      <td>NaN</td>\n",
       "      <td>NaN</td>\n",
       "      <td>NaN</td>\n",
       "      <td>NaN</td>\n",
       "      <td>NaN</td>\n",
       "      <td>NaN</td>\n",
       "      <td>5.0</td>\n",
       "      <td>NaN</td>\n",
       "      <td>NaN</td>\n",
       "      <td>NaN</td>\n",
       "      <td>NaN</td>\n",
       "      <td>NaN</td>\n",
       "      <td>NaN</td>\n",
       "      <td>NaN</td>\n",
       "      <td>NaN</td>\n",
       "      <td>NaN</td>\n",
       "      <td>NaN</td>\n",
       "      <td>NaN</td>\n",
       "      <td>NaN</td>\n",
       "      <td>NaN</td>\n",
       "      <td>NaN</td>\n",
       "      <td>NaN</td>\n",
       "      <td>NaN</td>\n",
       "      <td>NaN</td>\n",
       "      <td>NaN</td>\n",
       "      <td>NaN</td>\n",
       "      <td>NaN</td>\n",
       "      <td>NaN</td>\n",
       "      <td>NaN</td>\n",
       "      <td>NaN</td>\n",
       "      <td>NaN</td>\n",
       "      <td>NaN</td>\n",
       "      <td>NaN</td>\n",
       "      <td>NaN</td>\n",
       "      <td>NaN</td>\n",
       "      <td>NaN</td>\n",
       "      <td>NaN</td>\n",
       "      <td>NaN</td>\n",
       "      <td>NaN</td>\n",
       "      <td>NaN</td>\n",
       "      <td>NaN</td>\n",
       "      <td>NaN</td>\n",
       "      <td>NaN</td>\n",
       "      <td>NaN</td>\n",
       "      <td>NaN</td>\n",
       "      <td>NaN</td>\n",
       "      <td>NaN</td>\n",
       "      <td>NaN</td>\n",
       "      <td>NaN</td>\n",
       "      <td>NaN</td>\n",
       "      <td>NaN</td>\n",
       "      <td>1166.0</td>\n",
       "      <td>1093.0</td>\n",
       "      <td>1166.0</td>\n",
       "      <td>920.0</td>\n",
       "      <td>1093.0</td>\n",
       "      <td>NaN</td>\n",
       "      <td>NaN</td>\n",
       "      <td>NaN</td>\n",
       "      <td>NaN</td>\n",
       "      <td>1.0</td>\n",
       "      <td>1.0</td>\n",
       "      <td>1.0</td>\n",
       "      <td>NaN</td>\n",
       "      <td>NaN</td>\n",
       "      <td>NaN</td>\n",
       "      <td>NaN</td>\n",
       "      <td>NaN</td>\n",
       "      <td>NaN</td>\n",
       "      <td>NaN</td>\n",
       "      <td>NaN</td>\n",
       "      <td>NaN</td>\n",
       "      <td>3.0</td>\n",
       "      <td>NaN</td>\n",
       "      <td>NaN</td>\n",
       "      <td>1.0</td>\n",
       "      <td>NaN</td>\n",
       "      <td>NaN</td>\n",
       "      <td>1</td>\n",
       "      <td>2.0</td>\n",
       "      <td>NaN</td>\n",
       "      <td>NaN</td>\n",
       "      <td>1.0</td>\n",
       "      <td>1.0</td>\n",
       "      <td>NaN</td>\n",
       "      <td>NaN</td>\n",
       "      <td>NaN</td>\n",
       "      <td>NaN</td>\n",
       "      <td>NaN</td>\n",
       "      <td>NaN</td>\n",
       "      <td>NaN</td>\n",
       "      <td>5</td>\n",
       "      <td>39</td>\n",
       "      <td>1</td>\n",
       "      <td>1.0</td>\n",
       "      <td>1093.0</td>\n",
       "      <td>3316.0</td>\n",
       "      <td>1084</td>\n",
       "      <td>3241</td>\n",
       "      <td>1.0</td>\n",
       "      <td>2.0</td>\n",
       "      <td>1.0</td>\n",
       "      <td>1</td>\n",
       "      <td>NaN</td>\n",
       "      <td>NaN</td>\n",
       "      <td>NaN</td>\n",
       "      <td>2.0</td>\n",
       "      <td>995.0</td>\n",
       "      <td>NaN</td>\n",
       "      <td>1</td>\n",
       "      <td>2</td>\n",
       "      <td>1</td>\n",
       "      <td>2</td>\n",
       "      <td>695</td>\n",
       "      <td>44</td>\n",
       "      <td>44</td>\n",
       "      <td>1</td>\n",
       "      <td>1</td>\n",
       "      <td>16</td>\n",
       "      <td>12</td>\n",
       "      <td>2</td>\n",
       "      <td>2</td>\n",
       "      <td>2</td>\n",
       "      <td>2</td>\n",
       "      <td>2</td>\n",
       "      <td>2</td>\n",
       "      <td>2</td>\n",
       "      <td>2</td>\n",
       "      <td>469</td>\n",
       "      <td>3</td>\n",
       "      <td>2</td>\n",
       "      <td>1</td>\n",
       "      <td>5</td>\n",
       "      <td>NaN</td>\n",
       "      <td>0</td>\n",
       "      <td>0</td>\n",
       "      <td>0</td>\n",
       "      <td>0</td>\n",
       "      <td>0</td>\n",
       "      <td>0</td>\n",
       "      <td>0</td>\n",
       "      <td>0</td>\n",
       "      <td>0</td>\n",
       "      <td>0</td>\n",
       "      <td>0</td>\n",
       "      <td>0</td>\n",
       "      <td>0</td>\n",
       "      <td>0</td>\n",
       "      <td>0</td>\n",
       "      <td>0</td>\n",
       "      <td>0</td>\n",
       "      <td>0</td>\n",
       "      <td>0</td>\n",
       "      <td>0</td>\n",
       "      <td>0</td>\n",
       "      <td>0</td>\n",
       "      <td>0</td>\n",
       "      <td>0</td>\n",
       "      <td>0</td>\n",
       "      <td>0</td>\n",
       "      <td>0</td>\n",
       "      <td>0</td>\n",
       "      <td>0</td>\n",
       "      <td>0</td>\n",
       "      <td>0</td>\n",
       "      <td>0</td>\n",
       "      <td>0</td>\n",
       "      <td>0</td>\n",
       "      <td>0</td>\n",
       "      <td>0</td>\n",
       "      <td>0</td>\n",
       "      <td>0</td>\n",
       "      <td>3410.389399</td>\n",
       "      <td>3869.349602</td>\n",
       "      <td>6448.271112</td>\n",
       "      <td>2</td>\n",
       "      <td>9</td>\n",
       "      <td>1231</td>\n",
       "    </tr>\n",
       "    <tr>\n",
       "      <th>1</th>\n",
       "      <td>1</td>\n",
       "      <td>2</td>\n",
       "      <td>NaN</td>\n",
       "      <td>NaN</td>\n",
       "      <td>NaN</td>\n",
       "      <td>NaN</td>\n",
       "      <td>6.0</td>\n",
       "      <td>NaN</td>\n",
       "      <td>1.0</td>\n",
       "      <td>NaN</td>\n",
       "      <td>NaN</td>\n",
       "      <td>1.0</td>\n",
       "      <td>1166.0</td>\n",
       "      <td>NaN</td>\n",
       "      <td>1157.0</td>\n",
       "      <td>NaN</td>\n",
       "      <td>NaN</td>\n",
       "      <td>9.0</td>\n",
       "      <td>0.0</td>\n",
       "      <td>39.0</td>\n",
       "      <td>9.0</td>\n",
       "      <td>NaN</td>\n",
       "      <td>NaN</td>\n",
       "      <td>NaN</td>\n",
       "      <td>0.0</td>\n",
       "      <td>NaN</td>\n",
       "      <td>NaN</td>\n",
       "      <td>2.0</td>\n",
       "      <td>7.0</td>\n",
       "      <td>14.0</td>\n",
       "      <td>NaN</td>\n",
       "      <td>NaN</td>\n",
       "      <td>NaN</td>\n",
       "      <td>NaN</td>\n",
       "      <td>NaN</td>\n",
       "      <td>NaN</td>\n",
       "      <td>NaN</td>\n",
       "      <td>NaN</td>\n",
       "      <td>NaN</td>\n",
       "      <td>1166.0</td>\n",
       "      <td>65.0</td>\n",
       "      <td>42.0</td>\n",
       "      <td>1.0</td>\n",
       "      <td>1.0</td>\n",
       "      <td>2.0</td>\n",
       "      <td>NaN</td>\n",
       "      <td>2.0</td>\n",
       "      <td>NaN</td>\n",
       "      <td>NaN</td>\n",
       "      <td>0.0</td>\n",
       "      <td>5.0</td>\n",
       "      <td>NaN</td>\n",
       "      <td>1.0</td>\n",
       "      <td>4.0</td>\n",
       "      <td>NaN</td>\n",
       "      <td>NaN</td>\n",
       "      <td>5.0</td>\n",
       "      <td>NaN</td>\n",
       "      <td>NaN</td>\n",
       "      <td>NaN</td>\n",
       "      <td>NaN</td>\n",
       "      <td>NaN</td>\n",
       "      <td>5.0</td>\n",
       "      <td>1.0</td>\n",
       "      <td>NaN</td>\n",
       "      <td>NaN</td>\n",
       "      <td>NaN</td>\n",
       "      <td>NaN</td>\n",
       "      <td>NaN</td>\n",
       "      <td>NaN</td>\n",
       "      <td>NaN</td>\n",
       "      <td>1.0</td>\n",
       "      <td>NaN</td>\n",
       "      <td>4.0</td>\n",
       "      <td>1.0</td>\n",
       "      <td>4.0</td>\n",
       "      <td>NaN</td>\n",
       "      <td>20.0</td>\n",
       "      <td>1.0</td>\n",
       "      <td>20.0</td>\n",
       "      <td>NaN</td>\n",
       "      <td>NaN</td>\n",
       "      <td>NaN</td>\n",
       "      <td>NaN</td>\n",
       "      <td>NaN</td>\n",
       "      <td>NaN</td>\n",
       "      <td>NaN</td>\n",
       "      <td>NaN</td>\n",
       "      <td>NaN</td>\n",
       "      <td>NaN</td>\n",
       "      <td>NaN</td>\n",
       "      <td>NaN</td>\n",
       "      <td>NaN</td>\n",
       "      <td>NaN</td>\n",
       "      <td>NaN</td>\n",
       "      <td>NaN</td>\n",
       "      <td>NaN</td>\n",
       "      <td>NaN</td>\n",
       "      <td>NaN</td>\n",
       "      <td>NaN</td>\n",
       "      <td>NaN</td>\n",
       "      <td>NaN</td>\n",
       "      <td>NaN</td>\n",
       "      <td>NaN</td>\n",
       "      <td>NaN</td>\n",
       "      <td>NaN</td>\n",
       "      <td>NaN</td>\n",
       "      <td>NaN</td>\n",
       "      <td>NaN</td>\n",
       "      <td>NaN</td>\n",
       "      <td>NaN</td>\n",
       "      <td>NaN</td>\n",
       "      <td>NaN</td>\n",
       "      <td>NaN</td>\n",
       "      <td>NaN</td>\n",
       "      <td>NaN</td>\n",
       "      <td>1166.0</td>\n",
       "      <td>1093.0</td>\n",
       "      <td>1166.0</td>\n",
       "      <td>1093.0</td>\n",
       "      <td>1166.0</td>\n",
       "      <td>1166.0</td>\n",
       "      <td>1231.0</td>\n",
       "      <td>NaN</td>\n",
       "      <td>NaN</td>\n",
       "      <td>1.0</td>\n",
       "      <td>1.0</td>\n",
       "      <td>1.0</td>\n",
       "      <td>NaN</td>\n",
       "      <td>NaN</td>\n",
       "      <td>NaN</td>\n",
       "      <td>NaN</td>\n",
       "      <td>NaN</td>\n",
       "      <td>NaN</td>\n",
       "      <td>NaN</td>\n",
       "      <td>NaN</td>\n",
       "      <td>NaN</td>\n",
       "      <td>3.0</td>\n",
       "      <td>NaN</td>\n",
       "      <td>NaN</td>\n",
       "      <td>1.0</td>\n",
       "      <td>NaN</td>\n",
       "      <td>NaN</td>\n",
       "      <td>1</td>\n",
       "      <td>4.0</td>\n",
       "      <td>NaN</td>\n",
       "      <td>NaN</td>\n",
       "      <td>1.0</td>\n",
       "      <td>1.0</td>\n",
       "      <td>NaN</td>\n",
       "      <td>NaN</td>\n",
       "      <td>NaN</td>\n",
       "      <td>NaN</td>\n",
       "      <td>NaN</td>\n",
       "      <td>NaN</td>\n",
       "      <td>NaN</td>\n",
       "      <td>5</td>\n",
       "      <td>39</td>\n",
       "      <td>1</td>\n",
       "      <td>2.0</td>\n",
       "      <td>1166.0</td>\n",
       "      <td>3925.0</td>\n",
       "      <td>1157</td>\n",
       "      <td>3850</td>\n",
       "      <td>1.0</td>\n",
       "      <td>2.0</td>\n",
       "      <td>1.0</td>\n",
       "      <td>1</td>\n",
       "      <td>2.0</td>\n",
       "      <td>4.0</td>\n",
       "      <td>3.0</td>\n",
       "      <td>2.0</td>\n",
       "      <td>87.0</td>\n",
       "      <td>0.0</td>\n",
       "      <td>1</td>\n",
       "      <td>4</td>\n",
       "      <td>1</td>\n",
       "      <td>4</td>\n",
       "      <td>695</td>\n",
       "      <td>44</td>\n",
       "      <td>44</td>\n",
       "      <td>1</td>\n",
       "      <td>1</td>\n",
       "      <td>16</td>\n",
       "      <td>12</td>\n",
       "      <td>2</td>\n",
       "      <td>2</td>\n",
       "      <td>2</td>\n",
       "      <td>2</td>\n",
       "      <td>2</td>\n",
       "      <td>2</td>\n",
       "      <td>2</td>\n",
       "      <td>2</td>\n",
       "      <td>469</td>\n",
       "      <td>3</td>\n",
       "      <td>2</td>\n",
       "      <td>1</td>\n",
       "      <td>5</td>\n",
       "      <td>NaN</td>\n",
       "      <td>0</td>\n",
       "      <td>0</td>\n",
       "      <td>0</td>\n",
       "      <td>0</td>\n",
       "      <td>0</td>\n",
       "      <td>0</td>\n",
       "      <td>0</td>\n",
       "      <td>0</td>\n",
       "      <td>0</td>\n",
       "      <td>0</td>\n",
       "      <td>0</td>\n",
       "      <td>0</td>\n",
       "      <td>0</td>\n",
       "      <td>0</td>\n",
       "      <td>0</td>\n",
       "      <td>0</td>\n",
       "      <td>0</td>\n",
       "      <td>0</td>\n",
       "      <td>0</td>\n",
       "      <td>0</td>\n",
       "      <td>0</td>\n",
       "      <td>0</td>\n",
       "      <td>0</td>\n",
       "      <td>0</td>\n",
       "      <td>0</td>\n",
       "      <td>0</td>\n",
       "      <td>0</td>\n",
       "      <td>0</td>\n",
       "      <td>0</td>\n",
       "      <td>0</td>\n",
       "      <td>0</td>\n",
       "      <td>0</td>\n",
       "      <td>0</td>\n",
       "      <td>0</td>\n",
       "      <td>0</td>\n",
       "      <td>0</td>\n",
       "      <td>0</td>\n",
       "      <td>0</td>\n",
       "      <td>3410.389399</td>\n",
       "      <td>3869.349602</td>\n",
       "      <td>6448.271112</td>\n",
       "      <td>2</td>\n",
       "      <td>9</td>\n",
       "      <td>1231</td>\n",
       "    </tr>\n",
       "    <tr>\n",
       "      <th>2</th>\n",
       "      <td>2</td>\n",
       "      <td>1</td>\n",
       "      <td>NaN</td>\n",
       "      <td>NaN</td>\n",
       "      <td>NaN</td>\n",
       "      <td>NaN</td>\n",
       "      <td>5.0</td>\n",
       "      <td>NaN</td>\n",
       "      <td>3.0</td>\n",
       "      <td>5.0</td>\n",
       "      <td>NaN</td>\n",
       "      <td>1.0</td>\n",
       "      <td>1156.0</td>\n",
       "      <td>NaN</td>\n",
       "      <td>1147.0</td>\n",
       "      <td>NaN</td>\n",
       "      <td>NaN</td>\n",
       "      <td>0.0</td>\n",
       "      <td>39.0</td>\n",
       "      <td>39.0</td>\n",
       "      <td>9.0</td>\n",
       "      <td>NaN</td>\n",
       "      <td>NaN</td>\n",
       "      <td>NaN</td>\n",
       "      <td>0.0</td>\n",
       "      <td>NaN</td>\n",
       "      <td>NaN</td>\n",
       "      <td>1.0</td>\n",
       "      <td>9.0</td>\n",
       "      <td>2.0</td>\n",
       "      <td>NaN</td>\n",
       "      <td>2.0</td>\n",
       "      <td>2.0</td>\n",
       "      <td>0.0</td>\n",
       "      <td>NaN</td>\n",
       "      <td>1.0</td>\n",
       "      <td>1.0</td>\n",
       "      <td>4.0</td>\n",
       "      <td>NaN</td>\n",
       "      <td>1156.0</td>\n",
       "      <td>75.0</td>\n",
       "      <td>24.0</td>\n",
       "      <td>NaN</td>\n",
       "      <td>NaN</td>\n",
       "      <td>NaN</td>\n",
       "      <td>NaN</td>\n",
       "      <td>NaN</td>\n",
       "      <td>NaN</td>\n",
       "      <td>NaN</td>\n",
       "      <td>NaN</td>\n",
       "      <td>NaN</td>\n",
       "      <td>NaN</td>\n",
       "      <td>NaN</td>\n",
       "      <td>NaN</td>\n",
       "      <td>NaN</td>\n",
       "      <td>NaN</td>\n",
       "      <td>NaN</td>\n",
       "      <td>NaN</td>\n",
       "      <td>NaN</td>\n",
       "      <td>NaN</td>\n",
       "      <td>NaN</td>\n",
       "      <td>NaN</td>\n",
       "      <td>5.0</td>\n",
       "      <td>1.0</td>\n",
       "      <td>NaN</td>\n",
       "      <td>NaN</td>\n",
       "      <td>NaN</td>\n",
       "      <td>NaN</td>\n",
       "      <td>NaN</td>\n",
       "      <td>NaN</td>\n",
       "      <td>NaN</td>\n",
       "      <td>5.0</td>\n",
       "      <td>NaN</td>\n",
       "      <td>NaN</td>\n",
       "      <td>NaN</td>\n",
       "      <td>NaN</td>\n",
       "      <td>NaN</td>\n",
       "      <td>NaN</td>\n",
       "      <td>NaN</td>\n",
       "      <td>NaN</td>\n",
       "      <td>5.0</td>\n",
       "      <td>5.0</td>\n",
       "      <td>5.0</td>\n",
       "      <td>1156.0</td>\n",
       "      <td>NaN</td>\n",
       "      <td>0.0</td>\n",
       "      <td>NaN</td>\n",
       "      <td>NaN</td>\n",
       "      <td>NaN</td>\n",
       "      <td>NaN</td>\n",
       "      <td>NaN</td>\n",
       "      <td>NaN</td>\n",
       "      <td>NaN</td>\n",
       "      <td>NaN</td>\n",
       "      <td>NaN</td>\n",
       "      <td>NaN</td>\n",
       "      <td>NaN</td>\n",
       "      <td>NaN</td>\n",
       "      <td>5.0</td>\n",
       "      <td>5.0</td>\n",
       "      <td>5.0</td>\n",
       "      <td>1156.0</td>\n",
       "      <td>NaN</td>\n",
       "      <td>0.0</td>\n",
       "      <td>NaN</td>\n",
       "      <td>NaN</td>\n",
       "      <td>NaN</td>\n",
       "      <td>NaN</td>\n",
       "      <td>NaN</td>\n",
       "      <td>NaN</td>\n",
       "      <td>NaN</td>\n",
       "      <td>NaN</td>\n",
       "      <td>NaN</td>\n",
       "      <td>NaN</td>\n",
       "      <td>NaN</td>\n",
       "      <td>NaN</td>\n",
       "      <td>1204.0</td>\n",
       "      <td>1156.0</td>\n",
       "      <td>1204.0</td>\n",
       "      <td>1153.0</td>\n",
       "      <td>1156.0</td>\n",
       "      <td>NaN</td>\n",
       "      <td>NaN</td>\n",
       "      <td>NaN</td>\n",
       "      <td>NaN</td>\n",
       "      <td>5.0</td>\n",
       "      <td>NaN</td>\n",
       "      <td>NaN</td>\n",
       "      <td>NaN</td>\n",
       "      <td>NaN</td>\n",
       "      <td>NaN</td>\n",
       "      <td>NaN</td>\n",
       "      <td>5.0</td>\n",
       "      <td>5.0</td>\n",
       "      <td>NaN</td>\n",
       "      <td>NaN</td>\n",
       "      <td>NaN</td>\n",
       "      <td>NaN</td>\n",
       "      <td>NaN</td>\n",
       "      <td>NaN</td>\n",
       "      <td>NaN</td>\n",
       "      <td>4.0</td>\n",
       "      <td>NaN</td>\n",
       "      <td>5</td>\n",
       "      <td>NaN</td>\n",
       "      <td>5.0</td>\n",
       "      <td>5.0</td>\n",
       "      <td>1.0</td>\n",
       "      <td>1.0</td>\n",
       "      <td>NaN</td>\n",
       "      <td>NaN</td>\n",
       "      <td>NaN</td>\n",
       "      <td>NaN</td>\n",
       "      <td>NaN</td>\n",
       "      <td>NaN</td>\n",
       "      <td>NaN</td>\n",
       "      <td>5</td>\n",
       "      <td>39</td>\n",
       "      <td>1</td>\n",
       "      <td>1.0</td>\n",
       "      <td>1156.0</td>\n",
       "      <td>1433.0</td>\n",
       "      <td>1147</td>\n",
       "      <td>1358</td>\n",
       "      <td>5.0</td>\n",
       "      <td>1.0</td>\n",
       "      <td>6.0</td>\n",
       "      <td>5</td>\n",
       "      <td>NaN</td>\n",
       "      <td>NaN</td>\n",
       "      <td>NaN</td>\n",
       "      <td>2.0</td>\n",
       "      <td>995.0</td>\n",
       "      <td>NaN</td>\n",
       "      <td>5</td>\n",
       "      <td>5</td>\n",
       "      <td>5</td>\n",
       "      <td>5</td>\n",
       "      <td>984</td>\n",
       "      <td>20</td>\n",
       "      <td>20</td>\n",
       "      <td>5</td>\n",
       "      <td>6</td>\n",
       "      <td>11</td>\n",
       "      <td>7</td>\n",
       "      <td>1</td>\n",
       "      <td>2</td>\n",
       "      <td>3</td>\n",
       "      <td>2</td>\n",
       "      <td>3</td>\n",
       "      <td>5</td>\n",
       "      <td>3</td>\n",
       "      <td>2</td>\n",
       "      <td>100</td>\n",
       "      <td>2</td>\n",
       "      <td>3</td>\n",
       "      <td>1</td>\n",
       "      <td>5</td>\n",
       "      <td>NaN</td>\n",
       "      <td>0</td>\n",
       "      <td>0</td>\n",
       "      <td>0</td>\n",
       "      <td>0</td>\n",
       "      <td>0</td>\n",
       "      <td>0</td>\n",
       "      <td>0</td>\n",
       "      <td>0</td>\n",
       "      <td>0</td>\n",
       "      <td>0</td>\n",
       "      <td>0</td>\n",
       "      <td>0</td>\n",
       "      <td>0</td>\n",
       "      <td>0</td>\n",
       "      <td>0</td>\n",
       "      <td>0</td>\n",
       "      <td>0</td>\n",
       "      <td>0</td>\n",
       "      <td>0</td>\n",
       "      <td>0</td>\n",
       "      <td>0</td>\n",
       "      <td>0</td>\n",
       "      <td>0</td>\n",
       "      <td>0</td>\n",
       "      <td>0</td>\n",
       "      <td>0</td>\n",
       "      <td>0</td>\n",
       "      <td>0</td>\n",
       "      <td>0</td>\n",
       "      <td>0</td>\n",
       "      <td>0</td>\n",
       "      <td>0</td>\n",
       "      <td>0</td>\n",
       "      <td>0</td>\n",
       "      <td>0</td>\n",
       "      <td>0</td>\n",
       "      <td>0</td>\n",
       "      <td>0</td>\n",
       "      <td>7226.301740</td>\n",
       "      <td>8567.549110</td>\n",
       "      <td>12999.542264</td>\n",
       "      <td>2</td>\n",
       "      <td>12</td>\n",
       "      <td>1231</td>\n",
       "    </tr>\n",
       "    <tr>\n",
       "      <th>3</th>\n",
       "      <td>2</td>\n",
       "      <td>2</td>\n",
       "      <td>NaN</td>\n",
       "      <td>NaN</td>\n",
       "      <td>NaN</td>\n",
       "      <td>NaN</td>\n",
       "      <td>6.0</td>\n",
       "      <td>NaN</td>\n",
       "      <td>1.0</td>\n",
       "      <td>NaN</td>\n",
       "      <td>NaN</td>\n",
       "      <td>1.0</td>\n",
       "      <td>1198.0</td>\n",
       "      <td>NaN</td>\n",
       "      <td>1189.0</td>\n",
       "      <td>NaN</td>\n",
       "      <td>NaN</td>\n",
       "      <td>0.0</td>\n",
       "      <td>39.0</td>\n",
       "      <td>39.0</td>\n",
       "      <td>9.0</td>\n",
       "      <td>NaN</td>\n",
       "      <td>NaN</td>\n",
       "      <td>NaN</td>\n",
       "      <td>0.0</td>\n",
       "      <td>NaN</td>\n",
       "      <td>NaN</td>\n",
       "      <td>2.0</td>\n",
       "      <td>7.0</td>\n",
       "      <td>0.0</td>\n",
       "      <td>NaN</td>\n",
       "      <td>NaN</td>\n",
       "      <td>NaN</td>\n",
       "      <td>NaN</td>\n",
       "      <td>NaN</td>\n",
       "      <td>NaN</td>\n",
       "      <td>NaN</td>\n",
       "      <td>NaN</td>\n",
       "      <td>NaN</td>\n",
       "      <td>1198.0</td>\n",
       "      <td>33.0</td>\n",
       "      <td>25.0</td>\n",
       "      <td>1.0</td>\n",
       "      <td>3.0</td>\n",
       "      <td>NaN</td>\n",
       "      <td>NaN</td>\n",
       "      <td>3.0</td>\n",
       "      <td>NaN</td>\n",
       "      <td>NaN</td>\n",
       "      <td>0.0</td>\n",
       "      <td>5.0</td>\n",
       "      <td>NaN</td>\n",
       "      <td>1.0</td>\n",
       "      <td>4.0</td>\n",
       "      <td>NaN</td>\n",
       "      <td>NaN</td>\n",
       "      <td>5.0</td>\n",
       "      <td>NaN</td>\n",
       "      <td>NaN</td>\n",
       "      <td>NaN</td>\n",
       "      <td>NaN</td>\n",
       "      <td>NaN</td>\n",
       "      <td>5.0</td>\n",
       "      <td>5.0</td>\n",
       "      <td>1.0</td>\n",
       "      <td>NaN</td>\n",
       "      <td>1205.0</td>\n",
       "      <td>7.0</td>\n",
       "      <td>2.0</td>\n",
       "      <td>NaN</td>\n",
       "      <td>1.0</td>\n",
       "      <td>5.0</td>\n",
       "      <td>NaN</td>\n",
       "      <td>NaN</td>\n",
       "      <td>NaN</td>\n",
       "      <td>NaN</td>\n",
       "      <td>NaN</td>\n",
       "      <td>NaN</td>\n",
       "      <td>NaN</td>\n",
       "      <td>NaN</td>\n",
       "      <td>NaN</td>\n",
       "      <td>NaN</td>\n",
       "      <td>NaN</td>\n",
       "      <td>NaN</td>\n",
       "      <td>NaN</td>\n",
       "      <td>NaN</td>\n",
       "      <td>NaN</td>\n",
       "      <td>NaN</td>\n",
       "      <td>NaN</td>\n",
       "      <td>NaN</td>\n",
       "      <td>NaN</td>\n",
       "      <td>NaN</td>\n",
       "      <td>NaN</td>\n",
       "      <td>NaN</td>\n",
       "      <td>NaN</td>\n",
       "      <td>NaN</td>\n",
       "      <td>NaN</td>\n",
       "      <td>NaN</td>\n",
       "      <td>NaN</td>\n",
       "      <td>NaN</td>\n",
       "      <td>NaN</td>\n",
       "      <td>NaN</td>\n",
       "      <td>NaN</td>\n",
       "      <td>NaN</td>\n",
       "      <td>NaN</td>\n",
       "      <td>NaN</td>\n",
       "      <td>NaN</td>\n",
       "      <td>NaN</td>\n",
       "      <td>NaN</td>\n",
       "      <td>NaN</td>\n",
       "      <td>NaN</td>\n",
       "      <td>NaN</td>\n",
       "      <td>NaN</td>\n",
       "      <td>NaN</td>\n",
       "      <td>NaN</td>\n",
       "      <td>NaN</td>\n",
       "      <td>1204.0</td>\n",
       "      <td>1156.0</td>\n",
       "      <td>1204.0</td>\n",
       "      <td>1156.0</td>\n",
       "      <td>1198.0</td>\n",
       "      <td>NaN</td>\n",
       "      <td>NaN</td>\n",
       "      <td>NaN</td>\n",
       "      <td>NaN</td>\n",
       "      <td>NaN</td>\n",
       "      <td>NaN</td>\n",
       "      <td>NaN</td>\n",
       "      <td>4.0</td>\n",
       "      <td>NaN</td>\n",
       "      <td>NaN</td>\n",
       "      <td>NaN</td>\n",
       "      <td>NaN</td>\n",
       "      <td>5.0</td>\n",
       "      <td>NaN</td>\n",
       "      <td>NaN</td>\n",
       "      <td>NaN</td>\n",
       "      <td>NaN</td>\n",
       "      <td>NaN</td>\n",
       "      <td>NaN</td>\n",
       "      <td>NaN</td>\n",
       "      <td>4.0</td>\n",
       "      <td>3.0</td>\n",
       "      <td>1</td>\n",
       "      <td>1.0</td>\n",
       "      <td>5.0</td>\n",
       "      <td>5.0</td>\n",
       "      <td>1.0</td>\n",
       "      <td>1.0</td>\n",
       "      <td>2.0</td>\n",
       "      <td>3.0</td>\n",
       "      <td>2.0</td>\n",
       "      <td>NaN</td>\n",
       "      <td>NaN</td>\n",
       "      <td>NaN</td>\n",
       "      <td>NaN</td>\n",
       "      <td>1</td>\n",
       "      <td>39</td>\n",
       "      <td>1</td>\n",
       "      <td>2.0</td>\n",
       "      <td>1198.0</td>\n",
       "      <td>1783.0</td>\n",
       "      <td>1189</td>\n",
       "      <td>1708</td>\n",
       "      <td>5.0</td>\n",
       "      <td>1.0</td>\n",
       "      <td>6.0</td>\n",
       "      <td>5</td>\n",
       "      <td>3.0</td>\n",
       "      <td>4.0</td>\n",
       "      <td>4.0</td>\n",
       "      <td>2.0</td>\n",
       "      <td>995.0</td>\n",
       "      <td>0.0</td>\n",
       "      <td>5</td>\n",
       "      <td>3</td>\n",
       "      <td>5</td>\n",
       "      <td>3</td>\n",
       "      <td>984</td>\n",
       "      <td>20</td>\n",
       "      <td>20</td>\n",
       "      <td>5</td>\n",
       "      <td>6</td>\n",
       "      <td>11</td>\n",
       "      <td>7</td>\n",
       "      <td>1</td>\n",
       "      <td>2</td>\n",
       "      <td>3</td>\n",
       "      <td>2</td>\n",
       "      <td>3</td>\n",
       "      <td>5</td>\n",
       "      <td>3</td>\n",
       "      <td>2</td>\n",
       "      <td>100</td>\n",
       "      <td>2</td>\n",
       "      <td>3</td>\n",
       "      <td>1</td>\n",
       "      <td>5</td>\n",
       "      <td>NaN</td>\n",
       "      <td>0</td>\n",
       "      <td>0</td>\n",
       "      <td>0</td>\n",
       "      <td>0</td>\n",
       "      <td>0</td>\n",
       "      <td>0</td>\n",
       "      <td>0</td>\n",
       "      <td>0</td>\n",
       "      <td>0</td>\n",
       "      <td>0</td>\n",
       "      <td>0</td>\n",
       "      <td>0</td>\n",
       "      <td>0</td>\n",
       "      <td>0</td>\n",
       "      <td>0</td>\n",
       "      <td>0</td>\n",
       "      <td>0</td>\n",
       "      <td>0</td>\n",
       "      <td>0</td>\n",
       "      <td>0</td>\n",
       "      <td>0</td>\n",
       "      <td>0</td>\n",
       "      <td>0</td>\n",
       "      <td>0</td>\n",
       "      <td>0</td>\n",
       "      <td>0</td>\n",
       "      <td>0</td>\n",
       "      <td>0</td>\n",
       "      <td>0</td>\n",
       "      <td>0</td>\n",
       "      <td>0</td>\n",
       "      <td>0</td>\n",
       "      <td>0</td>\n",
       "      <td>0</td>\n",
       "      <td>0</td>\n",
       "      <td>0</td>\n",
       "      <td>0</td>\n",
       "      <td>0</td>\n",
       "      <td>7226.301740</td>\n",
       "      <td>8567.549110</td>\n",
       "      <td>12999.542264</td>\n",
       "      <td>2</td>\n",
       "      <td>12</td>\n",
       "      <td>1231</td>\n",
       "    </tr>\n",
       "    <tr>\n",
       "      <th>4</th>\n",
       "      <td>2</td>\n",
       "      <td>3</td>\n",
       "      <td>NaN</td>\n",
       "      <td>NaN</td>\n",
       "      <td>NaN</td>\n",
       "      <td>NaN</td>\n",
       "      <td>6.0</td>\n",
       "      <td>NaN</td>\n",
       "      <td>1.0</td>\n",
       "      <td>NaN</td>\n",
       "      <td>NaN</td>\n",
       "      <td>1.0</td>\n",
       "      <td>1204.0</td>\n",
       "      <td>NaN</td>\n",
       "      <td>1195.0</td>\n",
       "      <td>NaN</td>\n",
       "      <td>NaN</td>\n",
       "      <td>0.0</td>\n",
       "      <td>39.0</td>\n",
       "      <td>39.0</td>\n",
       "      <td>9.0</td>\n",
       "      <td>NaN</td>\n",
       "      <td>NaN</td>\n",
       "      <td>NaN</td>\n",
       "      <td>0.0</td>\n",
       "      <td>NaN</td>\n",
       "      <td>NaN</td>\n",
       "      <td>2.0</td>\n",
       "      <td>6.0</td>\n",
       "      <td>3.0</td>\n",
       "      <td>NaN</td>\n",
       "      <td>NaN</td>\n",
       "      <td>NaN</td>\n",
       "      <td>NaN</td>\n",
       "      <td>NaN</td>\n",
       "      <td>NaN</td>\n",
       "      <td>NaN</td>\n",
       "      <td>NaN</td>\n",
       "      <td>NaN</td>\n",
       "      <td>1204.0</td>\n",
       "      <td>27.0</td>\n",
       "      <td>25.0</td>\n",
       "      <td>1.0</td>\n",
       "      <td>3.0</td>\n",
       "      <td>NaN</td>\n",
       "      <td>NaN</td>\n",
       "      <td>2.0</td>\n",
       "      <td>NaN</td>\n",
       "      <td>NaN</td>\n",
       "      <td>0.0</td>\n",
       "      <td>5.0</td>\n",
       "      <td>NaN</td>\n",
       "      <td>1.0</td>\n",
       "      <td>4.0</td>\n",
       "      <td>NaN</td>\n",
       "      <td>NaN</td>\n",
       "      <td>1.0</td>\n",
       "      <td>5.0</td>\n",
       "      <td>2.0</td>\n",
       "      <td>NaN</td>\n",
       "      <td>NaN</td>\n",
       "      <td>NaN</td>\n",
       "      <td>5.0</td>\n",
       "      <td>5.0</td>\n",
       "      <td>1.0</td>\n",
       "      <td>NaN</td>\n",
       "      <td>1221.0</td>\n",
       "      <td>17.0</td>\n",
       "      <td>2.0</td>\n",
       "      <td>NaN</td>\n",
       "      <td>1.0</td>\n",
       "      <td>5.0</td>\n",
       "      <td>NaN</td>\n",
       "      <td>NaN</td>\n",
       "      <td>NaN</td>\n",
       "      <td>NaN</td>\n",
       "      <td>NaN</td>\n",
       "      <td>NaN</td>\n",
       "      <td>NaN</td>\n",
       "      <td>NaN</td>\n",
       "      <td>NaN</td>\n",
       "      <td>NaN</td>\n",
       "      <td>NaN</td>\n",
       "      <td>NaN</td>\n",
       "      <td>NaN</td>\n",
       "      <td>NaN</td>\n",
       "      <td>NaN</td>\n",
       "      <td>NaN</td>\n",
       "      <td>NaN</td>\n",
       "      <td>NaN</td>\n",
       "      <td>NaN</td>\n",
       "      <td>NaN</td>\n",
       "      <td>NaN</td>\n",
       "      <td>NaN</td>\n",
       "      <td>NaN</td>\n",
       "      <td>NaN</td>\n",
       "      <td>NaN</td>\n",
       "      <td>NaN</td>\n",
       "      <td>NaN</td>\n",
       "      <td>NaN</td>\n",
       "      <td>NaN</td>\n",
       "      <td>NaN</td>\n",
       "      <td>NaN</td>\n",
       "      <td>NaN</td>\n",
       "      <td>NaN</td>\n",
       "      <td>NaN</td>\n",
       "      <td>NaN</td>\n",
       "      <td>NaN</td>\n",
       "      <td>NaN</td>\n",
       "      <td>NaN</td>\n",
       "      <td>NaN</td>\n",
       "      <td>NaN</td>\n",
       "      <td>NaN</td>\n",
       "      <td>NaN</td>\n",
       "      <td>NaN</td>\n",
       "      <td>NaN</td>\n",
       "      <td>1204.0</td>\n",
       "      <td>1156.0</td>\n",
       "      <td>1204.0</td>\n",
       "      <td>1198.0</td>\n",
       "      <td>1204.0</td>\n",
       "      <td>1204.0</td>\n",
       "      <td>1231.0</td>\n",
       "      <td>NaN</td>\n",
       "      <td>NaN</td>\n",
       "      <td>NaN</td>\n",
       "      <td>NaN</td>\n",
       "      <td>NaN</td>\n",
       "      <td>4.0</td>\n",
       "      <td>NaN</td>\n",
       "      <td>NaN</td>\n",
       "      <td>NaN</td>\n",
       "      <td>NaN</td>\n",
       "      <td>5.0</td>\n",
       "      <td>NaN</td>\n",
       "      <td>NaN</td>\n",
       "      <td>NaN</td>\n",
       "      <td>NaN</td>\n",
       "      <td>NaN</td>\n",
       "      <td>NaN</td>\n",
       "      <td>NaN</td>\n",
       "      <td>4.0</td>\n",
       "      <td>5.0</td>\n",
       "      <td>5</td>\n",
       "      <td>NaN</td>\n",
       "      <td>1.0</td>\n",
       "      <td>1.0</td>\n",
       "      <td>NaN</td>\n",
       "      <td>NaN</td>\n",
       "      <td>4.0</td>\n",
       "      <td>4.0</td>\n",
       "      <td>2.0</td>\n",
       "      <td>NaN</td>\n",
       "      <td>NaN</td>\n",
       "      <td>NaN</td>\n",
       "      <td>NaN</td>\n",
       "      <td>1</td>\n",
       "      <td>39</td>\n",
       "      <td>1</td>\n",
       "      <td>3.0</td>\n",
       "      <td>1204.0</td>\n",
       "      <td>1833.0</td>\n",
       "      <td>1195</td>\n",
       "      <td>1758</td>\n",
       "      <td>5.0</td>\n",
       "      <td>1.0</td>\n",
       "      <td>6.0</td>\n",
       "      <td>5</td>\n",
       "      <td>2.0</td>\n",
       "      <td>4.0</td>\n",
       "      <td>4.0</td>\n",
       "      <td>2.0</td>\n",
       "      <td>995.0</td>\n",
       "      <td>3.0</td>\n",
       "      <td>5</td>\n",
       "      <td>5</td>\n",
       "      <td>5</td>\n",
       "      <td>5</td>\n",
       "      <td>984</td>\n",
       "      <td>20</td>\n",
       "      <td>20</td>\n",
       "      <td>5</td>\n",
       "      <td>6</td>\n",
       "      <td>11</td>\n",
       "      <td>7</td>\n",
       "      <td>1</td>\n",
       "      <td>2</td>\n",
       "      <td>3</td>\n",
       "      <td>2</td>\n",
       "      <td>3</td>\n",
       "      <td>5</td>\n",
       "      <td>3</td>\n",
       "      <td>2</td>\n",
       "      <td>100</td>\n",
       "      <td>2</td>\n",
       "      <td>3</td>\n",
       "      <td>1</td>\n",
       "      <td>5</td>\n",
       "      <td>NaN</td>\n",
       "      <td>0</td>\n",
       "      <td>0</td>\n",
       "      <td>0</td>\n",
       "      <td>0</td>\n",
       "      <td>0</td>\n",
       "      <td>0</td>\n",
       "      <td>0</td>\n",
       "      <td>0</td>\n",
       "      <td>0</td>\n",
       "      <td>0</td>\n",
       "      <td>0</td>\n",
       "      <td>0</td>\n",
       "      <td>0</td>\n",
       "      <td>0</td>\n",
       "      <td>0</td>\n",
       "      <td>0</td>\n",
       "      <td>0</td>\n",
       "      <td>0</td>\n",
       "      <td>0</td>\n",
       "      <td>0</td>\n",
       "      <td>0</td>\n",
       "      <td>0</td>\n",
       "      <td>0</td>\n",
       "      <td>0</td>\n",
       "      <td>0</td>\n",
       "      <td>0</td>\n",
       "      <td>0</td>\n",
       "      <td>0</td>\n",
       "      <td>0</td>\n",
       "      <td>0</td>\n",
       "      <td>0</td>\n",
       "      <td>0</td>\n",
       "      <td>0</td>\n",
       "      <td>0</td>\n",
       "      <td>0</td>\n",
       "      <td>0</td>\n",
       "      <td>0</td>\n",
       "      <td>0</td>\n",
       "      <td>7226.301740</td>\n",
       "      <td>8567.549110</td>\n",
       "      <td>12999.542264</td>\n",
       "      <td>2</td>\n",
       "      <td>12</td>\n",
       "      <td>1231</td>\n",
       "    </tr>\n",
       "  </tbody>\n",
       "</table>\n",
       "</div>"
      ],
      "text/plain": [
       "   caseid  pregordr  howpreg_n  howpreg_p  moscurrp  nowprgdk  pregend1  \\\n",
       "0       1         1        NaN        NaN       NaN       NaN       6.0   \n",
       "1       1         2        NaN        NaN       NaN       NaN       6.0   \n",
       "2       2         1        NaN        NaN       NaN       NaN       5.0   \n",
       "3       2         2        NaN        NaN       NaN       NaN       6.0   \n",
       "4       2         3        NaN        NaN       NaN       NaN       6.0   \n",
       "\n",
       "   pregend2  nbrnaliv  multbrth  cmotpreg  prgoutcome  cmprgend  flgdkmo1  \\\n",
       "0       NaN       1.0       NaN       NaN         1.0    1093.0       NaN   \n",
       "1       NaN       1.0       NaN       NaN         1.0    1166.0       NaN   \n",
       "2       NaN       3.0       5.0       NaN         1.0    1156.0       NaN   \n",
       "3       NaN       1.0       NaN       NaN         1.0    1198.0       NaN   \n",
       "4       NaN       1.0       NaN       NaN         1.0    1204.0       NaN   \n",
       "\n",
       "   cmprgbeg  ageatend  hpageend  gestasun_m  gestasun_w  wksgest  mosgest  \\\n",
       "0    1084.0       NaN       NaN         9.0         0.0     39.0      9.0   \n",
       "1    1157.0       NaN       NaN         9.0         0.0     39.0      9.0   \n",
       "2    1147.0       NaN       NaN         0.0        39.0     39.0      9.0   \n",
       "3    1189.0       NaN       NaN         0.0        39.0     39.0      9.0   \n",
       "4    1195.0       NaN       NaN         0.0        39.0     39.0      9.0   \n",
       "\n",
       "   dk1gest  dk2gest  dk3gest  bpa_bdscheck1  bpa_bdscheck2  bpa_bdscheck3  \\\n",
       "0      NaN      NaN      NaN            0.0            NaN            NaN   \n",
       "1      NaN      NaN      NaN            0.0            NaN            NaN   \n",
       "2      NaN      NaN      NaN            0.0            NaN            NaN   \n",
       "3      NaN      NaN      NaN            0.0            NaN            NaN   \n",
       "4      NaN      NaN      NaN            0.0            NaN            NaN   \n",
       "\n",
       "   babysex  birthwgt_lb  birthwgt_oz  lobthwgt  babysex2  birthwgt_lb2  \\\n",
       "0      1.0          8.0         13.0       NaN       NaN           NaN   \n",
       "1      2.0          7.0         14.0       NaN       NaN           NaN   \n",
       "2      1.0          9.0          2.0       NaN       2.0           2.0   \n",
       "3      2.0          7.0          0.0       NaN       NaN           NaN   \n",
       "4      2.0          6.0          3.0       NaN       NaN           NaN   \n",
       "\n",
       "   birthwgt_oz2  lobthwgt2  babysex3  birthwgt_lb3  birthwgt_oz3  lobthwgt3  \\\n",
       "0           NaN        NaN       NaN           NaN           NaN        NaN   \n",
       "1           NaN        NaN       NaN           NaN           NaN        NaN   \n",
       "2           0.0        NaN       1.0           1.0           4.0        NaN   \n",
       "3           NaN        NaN       NaN           NaN           NaN        NaN   \n",
       "4           NaN        NaN       NaN           NaN           NaN        NaN   \n",
       "\n",
       "   cmbabdob  kidage  hpagelb  birthplc  paybirth1  paybirth2  paybirth3  \\\n",
       "0    1093.0   138.0     37.0       NaN        NaN        NaN        NaN   \n",
       "1    1166.0    65.0     42.0       1.0        1.0        2.0        NaN   \n",
       "2    1156.0    75.0     24.0       NaN        NaN        NaN        NaN   \n",
       "3    1198.0    33.0     25.0       1.0        3.0        NaN        NaN   \n",
       "4    1204.0    27.0     25.0       1.0        3.0        NaN        NaN   \n",
       "\n",
       "   knewpreg  trimestr  ltrimest  priorsmk  postsmks  npostsmk  getprena  \\\n",
       "0       NaN       NaN       NaN       NaN       NaN       NaN       NaN   \n",
       "1       2.0       NaN       NaN       0.0       5.0       NaN       1.0   \n",
       "2       NaN       NaN       NaN       NaN       NaN       NaN       NaN   \n",
       "3       3.0       NaN       NaN       0.0       5.0       NaN       1.0   \n",
       "4       2.0       NaN       NaN       0.0       5.0       NaN       1.0   \n",
       "\n",
       "   bgnprena  pnctrim  lpnctri  workpreg  workborn  didwork  matweeks  weeksdk  \\\n",
       "0       NaN      NaN      NaN       NaN       NaN      NaN       NaN      NaN   \n",
       "1       4.0      NaN      NaN       5.0       NaN      NaN       NaN      NaN   \n",
       "2       NaN      NaN      NaN       NaN       NaN      NaN       NaN      NaN   \n",
       "3       4.0      NaN      NaN       5.0       NaN      NaN       NaN      NaN   \n",
       "4       4.0      NaN      NaN       1.0       5.0      2.0       NaN      NaN   \n",
       "\n",
       "   matleave  matchfound  livehere  alivenow  cmkidied  cmkidlft  lastage  \\\n",
       "0       NaN         1.0       NaN       NaN       NaN       NaN      NaN   \n",
       "1       NaN         5.0       1.0       NaN       NaN       NaN      NaN   \n",
       "2       NaN         5.0       1.0       NaN       NaN       NaN      NaN   \n",
       "3       NaN         5.0       5.0       1.0       NaN    1205.0      7.0   \n",
       "4       NaN         5.0       5.0       1.0       NaN    1221.0     17.0   \n",
       "\n",
       "   wherenow  legagree  parenend  anynurse  fedsolid  frsteatd_n  frsteatd_p  \\\n",
       "0       NaN       NaN       NaN       5.0       NaN         NaN         NaN   \n",
       "1       NaN       NaN       NaN       1.0       NaN         4.0         1.0   \n",
       "2       NaN       NaN       NaN       5.0       NaN         NaN         NaN   \n",
       "3       2.0       NaN       1.0       5.0       NaN         NaN         NaN   \n",
       "4       2.0       NaN       1.0       5.0       NaN         NaN         NaN   \n",
       "\n",
       "   frsteatd  quitnurs  ageqtnur_n  ageqtnur_p  ageqtnur  matchfound2  \\\n",
       "0       NaN       NaN         NaN         NaN       NaN          NaN   \n",
       "1       4.0       NaN        20.0         1.0      20.0          NaN   \n",
       "2       NaN       NaN         NaN         NaN       NaN          5.0   \n",
       "3       NaN       NaN         NaN         NaN       NaN          NaN   \n",
       "4       NaN       NaN         NaN         NaN       NaN          NaN   \n",
       "\n",
       "   livehere2  alivenow2  cmkidied2  cmkidlft2  lastage2  wherenow2  legagree2  \\\n",
       "0        NaN        NaN        NaN        NaN       NaN        NaN        NaN   \n",
       "1        NaN        NaN        NaN        NaN       NaN        NaN        NaN   \n",
       "2        5.0        5.0     1156.0        NaN       0.0        NaN        NaN   \n",
       "3        NaN        NaN        NaN        NaN       NaN        NaN        NaN   \n",
       "4        NaN        NaN        NaN        NaN       NaN        NaN        NaN   \n",
       "\n",
       "   parenend2  anynurse2  fedsolid2  frsteatd_n2  frsteatd_p2  frsteatd2  \\\n",
       "0        NaN        NaN        NaN          NaN          NaN        NaN   \n",
       "1        NaN        NaN        NaN          NaN          NaN        NaN   \n",
       "2        NaN        NaN        NaN          NaN          NaN        NaN   \n",
       "3        NaN        NaN        NaN          NaN          NaN        NaN   \n",
       "4        NaN        NaN        NaN          NaN          NaN        NaN   \n",
       "\n",
       "   quitnurs2  ageqtnur_n2  ageqtnur_p2  ageqtnur2  matchfound3  livehere3  \\\n",
       "0        NaN          NaN          NaN        NaN          NaN        NaN   \n",
       "1        NaN          NaN          NaN        NaN          NaN        NaN   \n",
       "2        NaN          NaN          NaN        NaN          5.0        5.0   \n",
       "3        NaN          NaN          NaN        NaN          NaN        NaN   \n",
       "4        NaN          NaN          NaN        NaN          NaN        NaN   \n",
       "\n",
       "   alivenow3  cmkidied3  cmkidlft3  lastage3  wherenow3  legagree3  parenend3  \\\n",
       "0        NaN        NaN        NaN       NaN        NaN        NaN        NaN   \n",
       "1        NaN        NaN        NaN       NaN        NaN        NaN        NaN   \n",
       "2        5.0     1156.0        NaN       0.0        NaN        NaN        NaN   \n",
       "3        NaN        NaN        NaN       NaN        NaN        NaN        NaN   \n",
       "4        NaN        NaN        NaN       NaN        NaN        NaN        NaN   \n",
       "\n",
       "   anynurse3  fedsolid3  frsteatd_n3  frsteatd_p3  frsteatd3  quitnurs3  \\\n",
       "0        NaN        NaN          NaN          NaN        NaN        NaN   \n",
       "1        NaN        NaN          NaN          NaN        NaN        NaN   \n",
       "2        NaN        NaN          NaN          NaN        NaN        NaN   \n",
       "3        NaN        NaN          NaN          NaN        NaN        NaN   \n",
       "4        NaN        NaN          NaN          NaN        NaN        NaN   \n",
       "\n",
       "   ageqtnur_n3  ageqtnur_p3  ageqtnur3  cmlastlb  cmfstprg  cmlstprg  \\\n",
       "0          NaN          NaN        NaN    1166.0    1093.0    1166.0   \n",
       "1          NaN          NaN        NaN    1166.0    1093.0    1166.0   \n",
       "2          NaN          NaN        NaN    1204.0    1156.0    1204.0   \n",
       "3          NaN          NaN        NaN    1204.0    1156.0    1204.0   \n",
       "4          NaN          NaN        NaN    1204.0    1156.0    1204.0   \n",
       "\n",
       "   cmintstr  cmintfin  cmintstrop  cmintfinop  cmintstrcr  cmintfincr  \\\n",
       "0     920.0    1093.0         NaN         NaN         NaN         NaN   \n",
       "1    1093.0    1166.0      1166.0      1231.0         NaN         NaN   \n",
       "2    1153.0    1156.0         NaN         NaN         NaN         NaN   \n",
       "3    1156.0    1198.0         NaN         NaN         NaN         NaN   \n",
       "4    1198.0    1204.0      1204.0      1231.0         NaN         NaN   \n",
       "\n",
       "   evuseint  stopduse  whystopd  whatmeth01  whatmeth02  whatmeth03  \\\n",
       "0       1.0       1.0       1.0         NaN         NaN         NaN   \n",
       "1       1.0       1.0       1.0         NaN         NaN         NaN   \n",
       "2       5.0       NaN       NaN         NaN         NaN         NaN   \n",
       "3       NaN       NaN       NaN         4.0         NaN         NaN   \n",
       "4       NaN       NaN       NaN         4.0         NaN         NaN   \n",
       "\n",
       "   whatmeth04  resnouse  wantbold  probbabe  cnfrmno  wantbld2  timingok  \\\n",
       "0         NaN       NaN       NaN       NaN      NaN       NaN       3.0   \n",
       "1         NaN       NaN       NaN       NaN      NaN       NaN       3.0   \n",
       "2         NaN       5.0       5.0       NaN      NaN       NaN       NaN   \n",
       "3         NaN       NaN       5.0       NaN      NaN       NaN       NaN   \n",
       "4         NaN       NaN       5.0       NaN      NaN       NaN       NaN   \n",
       "\n",
       "   toosoon_n  toosoon_p  wthpart1  wthpart2  feelinpg  hpwnold  timokhp  \\\n",
       "0        NaN        NaN       1.0       NaN       NaN        1      2.0   \n",
       "1        NaN        NaN       1.0       NaN       NaN        1      4.0   \n",
       "2        NaN        NaN       NaN       4.0       NaN        5      NaN   \n",
       "3        NaN        NaN       NaN       4.0       3.0        1      1.0   \n",
       "4        NaN        NaN       NaN       4.0       5.0        5      NaN   \n",
       "\n",
       "   cohpbeg  cohpend  tellfath  whentell  tryscale  wantscal  whyprg1  whyprg2  \\\n",
       "0      NaN      NaN       1.0       1.0       NaN       NaN      NaN      NaN   \n",
       "1      NaN      NaN       1.0       1.0       NaN       NaN      NaN      NaN   \n",
       "2      5.0      5.0       1.0       1.0       NaN       NaN      NaN      NaN   \n",
       "3      5.0      5.0       1.0       1.0       2.0       3.0      2.0      NaN   \n",
       "4      1.0      1.0       NaN       NaN       4.0       4.0      2.0      NaN   \n",
       "\n",
       "   whynouse1  whynouse2  whynouse3  anyusint  prglngth  outcome  birthord  \\\n",
       "0        NaN        NaN        NaN         5        39        1       1.0   \n",
       "1        NaN        NaN        NaN         5        39        1       2.0   \n",
       "2        NaN        NaN        NaN         5        39        1       1.0   \n",
       "3        NaN        NaN        NaN         1        39        1       2.0   \n",
       "4        NaN        NaN        NaN         1        39        1       3.0   \n",
       "\n",
       "   datend  agepreg  datecon  agecon  fmarout5  pmarpreg  rmarout6  fmarcon5  \\\n",
       "0  1093.0   3316.0     1084    3241       1.0       2.0       1.0         1   \n",
       "1  1166.0   3925.0     1157    3850       1.0       2.0       1.0         1   \n",
       "2  1156.0   1433.0     1147    1358       5.0       1.0       6.0         5   \n",
       "3  1198.0   1783.0     1189    1708       5.0       1.0       6.0         5   \n",
       "4  1204.0   1833.0     1195    1758       5.0       1.0       6.0         5   \n",
       "\n",
       "   learnprg  pncarewk  paydeliv  lbw1  bfeedwks  maternlv  oldwantr  oldwantp  \\\n",
       "0       NaN       NaN       NaN   2.0     995.0       NaN         1         2   \n",
       "1       2.0       4.0       3.0   2.0      87.0       0.0         1         4   \n",
       "2       NaN       NaN       NaN   2.0     995.0       NaN         5         5   \n",
       "3       3.0       4.0       4.0   2.0     995.0       0.0         5         3   \n",
       "4       2.0       4.0       4.0   2.0     995.0       3.0         5         5   \n",
       "\n",
       "   wantresp  wantpart  cmbirth  ager  agescrn  fmarital  rmarital  educat  \\\n",
       "0         1         2      695    44       44         1         1      16   \n",
       "1         1         4      695    44       44         1         1      16   \n",
       "2         5         5      984    20       20         5         6      11   \n",
       "3         5         3      984    20       20         5         6      11   \n",
       "4         5         5      984    20       20         5         6      11   \n",
       "\n",
       "   hieduc  race  hispanic  hisprace  rcurpreg  pregnum  parity  insuranc  \\\n",
       "0      12     2         2         2         2        2       2         2   \n",
       "1      12     2         2         2         2        2       2         2   \n",
       "2       7     1         2         3         2        3       5         3   \n",
       "3       7     1         2         3         2        3       5         3   \n",
       "4       7     1         2         3         2        3       5         3   \n",
       "\n",
       "   pubassis  poverty  laborfor  religion  metro  brnout  yrstrus  prglngth_i  \\\n",
       "0         2      469         3         2      1       5      NaN           0   \n",
       "1         2      469         3         2      1       5      NaN           0   \n",
       "2         2      100         2         3      1       5      NaN           0   \n",
       "3         2      100         2         3      1       5      NaN           0   \n",
       "4         2      100         2         3      1       5      NaN           0   \n",
       "\n",
       "   outcome_i  birthord_i  datend_i  agepreg_i  datecon_i  agecon_i  \\\n",
       "0          0           0         0          0          0         0   \n",
       "1          0           0         0          0          0         0   \n",
       "2          0           0         0          0          0         0   \n",
       "3          0           0         0          0          0         0   \n",
       "4          0           0         0          0          0         0   \n",
       "\n",
       "   fmarout5_i  pmarpreg_i  rmarout6_i  fmarcon5_i  learnprg_i  pncarewk_i  \\\n",
       "0           0           0           0           0           0           0   \n",
       "1           0           0           0           0           0           0   \n",
       "2           0           0           0           0           0           0   \n",
       "3           0           0           0           0           0           0   \n",
       "4           0           0           0           0           0           0   \n",
       "\n",
       "   paydeliv_i  lbw1_i  bfeedwks_i  maternlv_i  oldwantr_i  oldwantp_i  \\\n",
       "0           0       0           0           0           0           0   \n",
       "1           0       0           0           0           0           0   \n",
       "2           0       0           0           0           0           0   \n",
       "3           0       0           0           0           0           0   \n",
       "4           0       0           0           0           0           0   \n",
       "\n",
       "   wantresp_i  wantpart_i  ager_i  fmarital_i  rmarital_i  educat_i  hieduc_i  \\\n",
       "0           0           0       0           0           0         0         0   \n",
       "1           0           0       0           0           0         0         0   \n",
       "2           0           0       0           0           0         0         0   \n",
       "3           0           0       0           0           0         0         0   \n",
       "4           0           0       0           0           0         0         0   \n",
       "\n",
       "   race_i  hispanic_i  hisprace_i  rcurpreg_i  pregnum_i  parity_i  \\\n",
       "0       0           0           0           0          0         0   \n",
       "1       0           0           0           0          0         0   \n",
       "2       0           0           0           0          0         0   \n",
       "3       0           0           0           0          0         0   \n",
       "4       0           0           0           0          0         0   \n",
       "\n",
       "   insuranc_i  pubassis_i  poverty_i  laborfor_i  religion_i  metro_i  \\\n",
       "0           0           0          0           0           0        0   \n",
       "1           0           0          0           0           0        0   \n",
       "2           0           0          0           0           0        0   \n",
       "3           0           0          0           0           0        0   \n",
       "4           0           0          0           0           0        0   \n",
       "\n",
       "       basewgt  adj_mod_basewgt      finalwgt  secu_p  sest  cmintvw  \n",
       "0  3410.389399      3869.349602   6448.271112       2     9     1231  \n",
       "1  3410.389399      3869.349602   6448.271112       2     9     1231  \n",
       "2  7226.301740      8567.549110  12999.542264       2    12     1231  \n",
       "3  7226.301740      8567.549110  12999.542264       2    12     1231  \n",
       "4  7226.301740      8567.549110  12999.542264       2    12     1231  "
      ]
     },
     "execution_count": 2,
     "metadata": {},
     "output_type": "execute_result"
    }
   ],
   "source": [
    "df = pd.read_csv('../meta/2002FemPreg.csv')\n",
    "print(df.shape)\n",
    "df.head()"
   ]
  },
  {
   "cell_type": "markdown",
   "metadata": {},
   "source": [
    "* caseid is the integer ID of the respondent.\n",
    "* prglngth is the integer duration of the pregnancy in weeks.\n",
    "* outcome is an integer code for the outcome of the pregnancy. The code 1 indicates a live birth.\n",
    "* pregordr is a pregnancy serial number; for example, the code for a respondent's furst pregnancy is 1, for the second pregnancy is 2, and so on.\n",
    "* birthord is a serial number for live births; the code for a respondent's\n",
    "* first child is 1, and so on. For outcomes other than live birth, this field is blank.\n",
    "* birthwgt_lb and birthwgt_oz contain the pounds and ounces parts of the birth weight of the baby.\n",
    "* agepreg is the mother's age at the end of the pregnancy.\n",
    "* finalwgt is the statistical weight associated with the respondent. It is a floating-point value that indicates  the number of people in the U.S. population this respondent represents."
   ]
  },
  {
   "cell_type": "markdown",
   "metadata": {},
   "source": [
    "**Cleaning**"
   ]
  },
  {
   "cell_type": "code",
   "execution_count": 3,
   "metadata": {
    "ExecuteTime": {
     "end_time": "2020-11-11T13:14:36.437205Z",
     "start_time": "2020-11-11T13:14:36.393880Z"
    }
   },
   "outputs": [],
   "source": [
    "df.agepreg /= 100.0\n",
    "\n",
    "na_vals = [97, 98, 99]\n",
    "df.birthwgt_lb.replace(na_vals, np.nan, inplace=True)\n",
    "df.birthwgt_oz.replace(na_vals, np.nan, inplace=True)\n",
    "\n",
    "df['totalwgt_lb'] = df.birthwgt_lb + df.birthwgt_oz / 16.0"
   ]
  },
  {
   "cell_type": "markdown",
   "metadata": {},
   "source": [
    "* agepreg contains the mother's age at the end of the pregnancy. In the data fille, agepreg is encoded as an integer number of centiyears. So we divide each element of agepreg by 100, yielding a floating-point value in years.\n",
    "\n",
    "* birthwgt_lb and birthwgt_oz contain the weight of the baby, in pounds and ounces, for pregnancies that end in live birth. In addition it uses several special codes:\n",
    "    * 97 NOT ASCERTAINED\n",
    "    * 98 REFUSED\n",
    "    * 99 DON'T KNOW\n",
    "    \n",
    "  Special values encoded as numbers are dangerous because if they are not handled properly, they can generate bogus results, like a 99-pound baby.\n",
    "* The new column totalwgt_lb that combines pounds and ounces into a single quantity, in pounds."
   ]
  },
  {
   "cell_type": "markdown",
   "metadata": {},
   "source": [
    "Here is the table for outcome, which encodes the outcome of each pregnancy:\n",
    "\n",
    "value | label \n",
    "---|---\n",
    "1 | LIVE BIRTH \n",
    "2 | INDUCED ABORTION \n",
    "3 | STILLBIRTH \n",
    "4 | MISCARRIAGE \n",
    "5 | ECTOPIC PREGNANCY \n",
    "6 | CURRENT PREGNANCY "
   ]
  },
  {
   "cell_type": "code",
   "execution_count": 4,
   "metadata": {
    "ExecuteTime": {
     "end_time": "2020-11-11T13:14:36.563864Z",
     "start_time": "2020-11-11T13:14:36.441274Z"
    }
   },
   "outputs": [
    {
     "data": {
      "text/plain": [
       "1    9148\n",
       "2    1862\n",
       "3     120\n",
       "4    1921\n",
       "5     190\n",
       "6     352\n",
       "Name: outcome, dtype: int64"
      ]
     },
     "execution_count": 4,
     "metadata": {},
     "output_type": "execute_result"
    }
   ],
   "source": [
    "df.outcome.value_counts().sort_index()"
   ]
  },
  {
   "cell_type": "markdown",
   "metadata": {},
   "source": [
    "Birth weights"
   ]
  },
  {
   "cell_type": "code",
   "execution_count": 5,
   "metadata": {
    "ExecuteTime": {
     "end_time": "2020-11-11T13:14:36.753357Z",
     "start_time": "2020-11-11T13:14:36.568383Z"
    }
   },
   "outputs": [
    {
     "data": {
      "text/plain": [
       "8.0     1889\n",
       "7.0     3049\n",
       "6.0     2223\n",
       "4.0      229\n",
       "5.0      697\n",
       "10.0     132\n",
       "12.0      10\n",
       "14.0       3\n",
       "3.0       98\n",
       "1.0       40\n",
       "2.0       53\n",
       "0.0        8\n",
       "51.0       1\n",
       "9.0      623\n",
       "11.0      26\n",
       "13.0       3\n",
       "15.0       1\n",
       "Name: birthwgt_lb, dtype: int64"
      ]
     },
     "execution_count": 5,
     "metadata": {},
     "output_type": "execute_result"
    }
   ],
   "source": [
    "df.birthwgt_lb.value_counts(sort=False)"
   ]
  },
  {
   "cell_type": "markdown",
   "metadata": {},
   "source": [
    "if you look more closely, you will notice one value that has to be an error, a 51 pound baby!"
   ]
  },
  {
   "cell_type": "code",
   "execution_count": 6,
   "metadata": {
    "ExecuteTime": {
     "end_time": "2020-11-11T13:14:36.927156Z",
     "start_time": "2020-11-11T13:14:36.756350Z"
    }
   },
   "outputs": [],
   "source": [
    "df.loc[df.birthwgt_lb > 20, 'birthwgt_lb'] = np.nan"
   ]
  },
  {
   "cell_type": "markdown",
   "metadata": {},
   "source": [
    "# Distributions"
   ]
  },
  {
   "cell_type": "markdown",
   "metadata": {},
   "source": [
    "## Histograms\n",
    "One of the best ways to describe a variable is to report the values that appear in the dataset and how many times each value appears. This description is called the distribution of the variable.\n",
    "\n",
    "The most common representation of a distribution is a histogram, which is a graph that shows the frequency of each value. In this context, \"frequency\" means the number of times the value appears.\n",
    "\n",
    "When you start working with a new dataset, explore the variables you are planning to use one at a time, and a good way to start is by looking at histograms."
   ]
  },
  {
   "cell_type": "code",
   "execution_count": 7,
   "metadata": {
    "ExecuteTime": {
     "end_time": "2020-11-11T13:14:37.512086Z",
     "start_time": "2020-11-11T13:14:36.930662Z"
    }
   },
   "outputs": [
    {
     "data": {
      "image/png": "[encoded data removed]",
      "text/plain": [
       "<Figure size 432x288 with 1 Axes>"
      ]
     },
     "metadata": {},
     "output_type": "display_data"
    }
   ],
   "source": [
    "df[['birthwgt_lb']].plot.hist();"
   ]
  },
  {
   "cell_type": "markdown",
   "metadata": {},
   "source": [
    "The most common value, called the mode, is 7 pounds. The distribution is approximately bell-shaped, which is the shape of the normal distribution, also called a Gaussian distribution. But unlike a true normal distribution, this distribution is asymmetric; it has a tail that extends farther to the left than to the right."
   ]
  },
  {
   "cell_type": "code",
   "execution_count": 8,
   "metadata": {
    "ExecuteTime": {
     "end_time": "2020-11-11T13:14:37.892360Z",
     "start_time": "2020-11-11T13:14:37.517071Z"
    }
   },
   "outputs": [
    {
     "data": {
      "image/png": "[encoded data removed]",
      "text/plain": [
       "<Figure size 432x288 with 1 Axes>"
      ]
     },
     "metadata": {},
     "output_type": "display_data"
    }
   ],
   "source": [
    "df[['birthwgt_oz']].plot.hist();"
   ]
  },
  {
   "cell_type": "markdown",
   "metadata": {},
   "source": [
    "In theory we expect this distribution to be uniform; that is, all values should have the same frequency. In fact, 0 is more common than the other values, and 1 and 15 are less common, probably because respondents round off birth weights that are close to an integer value."
   ]
  },
  {
   "cell_type": "code",
   "execution_count": 9,
   "metadata": {
    "ExecuteTime": {
     "end_time": "2020-11-11T13:14:38.257370Z",
     "start_time": "2020-11-11T13:14:37.895250Z"
    }
   },
   "outputs": [
    {
     "data": {
      "image/png": "[encoded data removed]",
      "text/plain": [
       "<Figure size 432x288 with 1 Axes>"
      ]
     },
     "metadata": {},
     "output_type": "display_data"
    }
   ],
   "source": [
    "df[['agepreg']].plot.hist();"
   ]
  },
  {
   "cell_type": "markdown",
   "metadata": {},
   "source": [
    "The mode is 21 years. The distribution is very roughly bell-shaped, but in this case the tail extends farther to the right than left; most mothers are in their 20s, fewer in their 30s."
   ]
  },
  {
   "cell_type": "code",
   "execution_count": 10,
   "metadata": {
    "ExecuteTime": {
     "end_time": "2020-11-11T13:14:38.652079Z",
     "start_time": "2020-11-11T13:14:38.260323Z"
    }
   },
   "outputs": [
    {
     "data": {
      "image/png": "[encoded data removed]",
      "text/plain": [
       "<Figure size 432x288 with 1 Axes>"
      ]
     },
     "metadata": {},
     "output_type": "display_data"
    }
   ],
   "source": [
    "df[['prglngth']].plot.hist();"
   ]
  },
  {
   "cell_type": "markdown",
   "metadata": {},
   "source": [
    "By far the most common value is 39 weeks. The left tail is longer than the right; early babies are common, but pregnancies seldom go past 43 weeks, and doctors often intervene if they do."
   ]
  },
  {
   "cell_type": "markdown",
   "metadata": {},
   "source": [
    "## Outliers\n",
    "Looking at histograms, it is easy to identify the most common values and the shape of the distribution, but rare values are not always visible. Before going on, it is a good idea to check for outliers, which are extreme values that might be errors in measurement and recording, or might be accurate reports of rare events.\n",
    "\n",
    "The best way to handle outliers depends on \"domain knowledge\"; that is, information about where the data come from and what they mean. And it depends on what analysis you are planning to perform."
   ]
  },
  {
   "cell_type": "markdown",
   "metadata": {},
   "source": [
    "## Summarizing distributions\n",
    "A histogram is a complete description of the distribution of a sample; that is, given a histogram, we could reconstruct the values in the sample (although not their order).\n",
    "\n",
    "If the details of the distribution are important, it might be necessary to present a histogram. But often we want to summarize the distribution with a few descriptive statistics.\n",
    "\n",
    "Some of the characteristics we might want to report are:\n",
    "* central tendency: Do the values tend to cluster around a particular point?\n",
    "* modes: Is there more than one cluster?\n",
    "* spread: How much variability is there in the values?\n",
    "* tails: How quickly do the probabilities drop off as we move away from the modes?\n",
    "* outliers: Are there extreme values far from the modes?\n",
    "    \n",
    "Statistics designed to answer these questions are called summary statistics. By far the most common summary statistic is the **mean**, which is meant to describe the central tendency of the distribution.\n",
    "\n",
    "<center style=\"font-size:18px\"> $ \\bar{x} = \\frac{1}{n} \\sum \\limits _{i=1} ^{n} x_{i} $ </center>\n",
    "\n",
    "The words \"mean\" and \"average\" are sometimes used interchangeably, but there is a distinction:\n",
    "* The \"mean\" of a sample is the summary statistic computed with the previous formula.\n",
    "* An \"average\" is one of several summary statistics you might choose to describe a central tendency.\n",
    "\n",
    "If there is no single number that summarizes the distribution, we can do a little better with two numbers: mean and variance.\n",
    "**Variance** is a summary statistic intended to describe the variability or spread of a distribution. The variance of a set of values is\n",
    "\n",
    "<center style=\"font-size:18px\"> $ \\sigma ^{2} = \\frac{1}{n} \\sum \\limits _{i=1} ^{n} (x_{i} - \\bar{x})^{2} $ </center>\n",
    "\n",
    "The term $ x_{i} - \\bar{x}^{2} $ is called the \"deviation from the mean,\" so variance is the mean squared deviation. The square root of variance, $ \\sigma $, is the standard deviation.\n",
    "\n",
    "If you have prior experience, you might have seen a formula for variance with n - 1 in the denominator, rather than n. This statistic is used to estimate the variance in a population using a sample.\n",
    "\n",
    "An **effect size** is a summary statistic intended to describe the size of an effect. For example, to describe the difference between two groups, one obvious choice is the difference in the means.\n",
    "\n",
    "Mean pregnancy length for first babies is 38.601; for other babies it is 38.523. The difference is 0.078 weeks, which works out to 13 hours. As a fraction of the typical pregnancy length, this dfference is about 0.2%.\n",
    "\n",
    "If we assume this estimate is accurate, such a difference would have no practical consequences. In fact, without observing a large number of pregnancies, it is unlikely that anyone would notice this difference at all.\n",
    "\n",
    "Another way to convey the size of the effect is to compare the difference between groups to the variability within groups.\n",
    "\n",
    "**Cohen's d** is a statistic intended to do that; it is defined as\n",
    "\n",
    "<center style=\"font-size:18px\"> $ d  = \\frac{(\\bar{x_{1}} - \\bar{x_{2}})}{\\sigma}  $ </center>\n",
    "\n",
    "where $ \\bar{x_{1}} $ and $ \\bar{x_{2}} $ are the means of the groups and $ \\sigma $ is the \"pooled standard\n",
    "deviation\"."
   ]
  },
  {
   "cell_type": "code",
   "execution_count": 11,
   "metadata": {
    "ExecuteTime": {
     "end_time": "2020-11-11T13:14:38.667941Z",
     "start_time": "2020-11-11T13:14:38.658037Z"
    }
   },
   "outputs": [],
   "source": [
    "def CohenEffectSize(group1, group2):\n",
    "    diff = np.mean(group1)- np.mean(group2)\n",
    "    var1 = np.var(group1)\n",
    "    var2 = np.var(group2)\n",
    "    n1, n2 = len(group1), len(group2)\n",
    "    \n",
    "    pooled_var = (n1 * var1 + n2 * var2) / (n1 + n2)\n",
    "    d = diff / np.sqrt(pooled_var)\n",
    "    return d"
   ]
  },
  {
   "cell_type": "code",
   "execution_count": 12,
   "metadata": {
    "ExecuteTime": {
     "end_time": "2020-11-11T13:14:38.840536Z",
     "start_time": "2020-11-11T13:14:38.669905Z"
    }
   },
   "outputs": [],
   "source": [
    "live = df[df.outcome == 1]\n",
    "firsts = live[live.birthord == 1]\n",
    "others = live[live.birthord != 1]"
   ]
  },
  {
   "cell_type": "code",
   "execution_count": 13,
   "metadata": {
    "ExecuteTime": {
     "end_time": "2020-11-11T13:14:38.966797Z",
     "start_time": "2020-11-11T13:14:38.843679Z"
    }
   },
   "outputs": [
    {
     "data": {
      "text/plain": [
       "0.028882209288160925"
      ]
     },
     "execution_count": 13,
     "metadata": {},
     "output_type": "execute_result"
    }
   ],
   "source": [
    "CohenEffectSize(firsts.prglngth, others.prglngth)"
   ]
  },
  {
   "cell_type": "markdown",
   "metadata": {},
   "source": [
    "# Probability mass functions\n",
    "Another way to represent a distribution is a probability mass function (PMF), which maps from each value to its probability. A probability is a frequency expressed as a fraction of the sample size, n. To get from frequen cies to probabilities, we divide through by n, which is called normalization.\n"
   ]
  },
  {
   "cell_type": "code",
   "execution_count": 14,
   "metadata": {
    "ExecuteTime": {
     "end_time": "2020-11-11T13:14:39.770427Z",
     "start_time": "2020-11-11T13:14:38.969191Z"
    }
   },
   "outputs": [
    {
     "data": {
      "image/png": "[encoded data removed]",
      "text/plain": [
       "<Figure size 432x288 with 1 Axes>"
      ]
     },
     "metadata": {},
     "output_type": "display_data"
    }
   ],
   "source": [
    "pmf_firsts = (firsts.prglngth.value_counts() / firsts.prglngth.sum()).sort_index()\n",
    "pmf_others = (others.prglngth.value_counts() / others.prglngth.sum()).sort_index()\n",
    "\n",
    "pmf_firsts.plot.bar(legend=True, alpha=0.5)\n",
    "pmf_others.plot.bar(legend=True, color='orange', alpha=0.5);"
   ]
  },
  {
   "cell_type": "markdown",
   "metadata": {},
   "source": [
    "Histograms and PMFs are useful while you are exploring data and trying to identify patterns and relationships. Once you have an idea what is going on, a good next step is to design a visualization that makes the patterns you have identified as clear as possible.\n",
    "\n",
    "In the NSFG data, the biggest differences in the distributions are near the mode. So it makes sense to zoom in on that part of the graph, and to transform the data to emphasize differences:"
   ]
  },
  {
   "cell_type": "code",
   "execution_count": 15,
   "metadata": {
    "ExecuteTime": {
     "end_time": "2020-11-11T13:14:40.134516Z",
     "start_time": "2020-11-11T13:14:39.773418Z"
    }
   },
   "outputs": [
    {
     "data": {
      "image/png": "[encoded data removed]",
      "text/plain": [
       "<Figure size 432x288 with 1 Axes>"
      ]
     },
     "metadata": {},
     "output_type": "display_data"
    }
   ],
   "source": [
    "weeks = range(35, 46)\n",
    "diffs = []\n",
    "for week in weeks:\n",
    "    p1 = pmf_firsts[week]\n",
    "    p2 = pmf_others[week]\n",
    "    diff = 100 * (p1 - p2)\n",
    "    diffs.append(diff)\n",
    "plt.bar(weeks, diffs);"
   ]
  },
  {
   "cell_type": "markdown",
   "metadata": {},
   "source": [
    "This figure makes the pattern clearer: first babies are less likely to be born in week 39, and somewhat more likely to be born in weeks 41 and 42."
   ]
  },
  {
   "cell_type": "markdown",
   "metadata": {},
   "source": [
    "If you are given a PMF, you can compute the mean, but the process is slightly different:\n",
    "\n",
    "<center style=\"font-size:18px\"> $ \\bar{x} = \\sum \\limits _{i=1} ^{n} p_{i} x_{i} $ </center>\n",
    "\n",
    "Similarly variance can be computed like this:\n",
    "\n",
    "<center style=\"font-size:18px\"> $ \\sigma ^{2} = \\sum \\limits _{i=1} ^{n} p_{i} (x_{i} - \\bar{x}^{2}) $ </center>"
   ]
  },
  {
   "cell_type": "markdown",
   "metadata": {},
   "source": [
    "PMFs work well if the number of values is small. But as the number of values increases, the probability associated with each value gets smaller and the effect of random noise increases."
   ]
  },
  {
   "cell_type": "markdown",
   "metadata": {},
   "source": [
    "# Cumulative distribution functions\n",
    "PMFs work well if the number of values is small. But as the number of values increases, the probability associated with each value gets smaller and the effect of random noise increases.\n",
    "\n",
    "For example, we might be interested in the distribution of birth weights.\n",
    "\n",
    "Overall, these distributions resemble the bell shape of a normal distribution, with many values near the mean and a few values much higher and lower. But parts of this figure are hard to interpret. There are many spikes and valleys, and some apparent differences between the distributions. It is hard to tell which of these features are meaningful. Also, it is hard to see overall patterns; for example, which distribution do you think has the higher mean?"
   ]
  },
  {
   "cell_type": "code",
   "execution_count": 16,
   "metadata": {
    "ExecuteTime": {
     "end_time": "2020-11-11T13:14:48.091704Z",
     "start_time": "2020-11-11T13:14:40.138627Z"
    }
   },
   "outputs": [
    {
     "data": {
      "image/png": "[encoded data removed]",
      "text/plain": [
       "<Figure size 432x288 with 1 Axes>"
      ]
     },
     "metadata": {},
     "output_type": "display_data"
    }
   ],
   "source": [
    "pmf_firsts = (firsts.totalwgt_lb.value_counts() / firsts.totalwgt_lb.sum()).sort_index()\n",
    "pmf_others = (others.totalwgt_lb.value_counts() / others.totalwgt_lb.sum()).sort_index()\n",
    "\n",
    "ax1 = pmf_firsts.plot.bar(legend=True, alpha=0.5)\n",
    "pmf_others.plot.bar(legend=True, color='orange', alpha=0.5);\n",
    "plt.axis('off');"
   ]
  },
  {
   "cell_type": "markdown",
   "metadata": {},
   "source": [
    "This figure shows a limitation of PMFs:\n",
    "\n",
    "They are hard to compare visually. These problems can be mitigated by binning the data; that is, dividing the range of values into non-overlapping intervals and counting the number of values in each bin. Binning can be useful, but it is tricky to get the size of the bins right. If they are big enough to smooth out noise, they might also smooth out useful information.\n",
    "\n",
    "An alternative that avoids these problems is the cumulative distribution function (CDF)\n",
    "\n",
    "## Percentiles\n",
    "\n",
    "The percentile rank is the fraction of people who scored lower than you (or the same)."
   ]
  },
  {
   "cell_type": "code",
   "execution_count": 17,
   "metadata": {
    "ExecuteTime": {
     "end_time": "2020-11-11T13:14:48.106688Z",
     "start_time": "2020-11-11T13:14:48.094695Z"
    }
   },
   "outputs": [],
   "source": [
    "def PercentileRank(scores, your_score):\n",
    "    count = 0\n",
    "    for score in scores:\n",
    "        if score <= your_score:\n",
    "            count += 1\n",
    "    percentile_rank = 100.0 * count / len(scores)\n",
    "    return percentile_rank"
   ]
  },
  {
   "cell_type": "markdown",
   "metadata": {},
   "source": [
    "If you are given a value, it is easy to \f",
    "nd its percentile rank; going the other way is slightly harder. If you are given a percentile rank and you want to find the corresponding value, one option is to sort the values and search for the one you want:"
   ]
  },
  {
   "cell_type": "code",
   "execution_count": 18,
   "metadata": {
    "ExecuteTime": {
     "end_time": "2020-11-11T13:14:48.263133Z",
     "start_time": "2020-11-11T13:14:48.109653Z"
    }
   },
   "outputs": [],
   "source": [
    "def Percentile(scores, percentile_rank):\n",
    "    scores.sort()\n",
    "    index = percentile_rank * (len(scores)-1) // 100\n",
    "    return scores[index]"
   ]
  },
  {
   "cell_type": "markdown",
   "metadata": {},
   "source": [
    "The difference between \"percentile\" and \"percentile rank\" can be confusing, and people do not always use the terms precisely. To summarize, PercentileRank takes a value and computes its percentile rank in a set of values; Percentile takes a percentile rank and computes the corresponding value.\n",
    "\n",
    "**CDF**\n",
    "\n",
    "The CDF is the function that maps from a value to its percentile rank. The CDF is a function of x, where x is any value that might appear in the distribution. To evaluate CDF(x) for a particular value of x, we compute the fraction of values in the distribution less than or equal to x.\n",
    "\n",
    "This function is almost identical to PercentileRank, except that the result is a probability in the range 0-1 rather than a percentile rank in the range 0-100."
   ]
  },
  {
   "cell_type": "code",
   "execution_count": 19,
   "metadata": {
    "ExecuteTime": {
     "end_time": "2020-11-11T13:14:48.403740Z",
     "start_time": "2020-11-11T13:14:48.272069Z"
    }
   },
   "outputs": [],
   "source": [
    "def EvalCdf(sample, x):\n",
    "    count = 0.0\n",
    "    for value in sample:\n",
    "        if value <= x:\n",
    "            count += 1\n",
    "    prob = count / len(sample)\n",
    "    return prob"
   ]
  },
  {
   "cell_type": "markdown",
   "metadata": {},
   "source": [
    "Percentile can be used to compute percentile-based summary statistics\n",
    "\n",
    "* The 50th percentile is the value that divides the distribution in half, also known as the median. Like the mean, the median is a measure of the central tendency of a distribution. Actually, there are several definitions of \"median,\" each with different properties. But Percentile(50) is simple and efficient to compute.\n",
    "* Another percentile-based statistic is the interquartile range (IQR), which is a measure of the spread of a distribution. The IQR is the difference between the 75th and 25th percentiles."
   ]
  },
  {
   "cell_type": "markdown",
   "metadata": {},
   "source": [
    "# Modeling distributions\n",
    "\n",
    "The distributions we have used so far are called empirical distributions because they are based on empirical observations, which are necessarily finite samples.\n",
    "\n",
    "The alternative is an analytic distribution, which is characterized by a CDF that is a mathematical function. Analytic distributions can be used to model empirical distributions. In this context, a model is a simplification that leaves out unneeded details.\n",
    "\n",
    "## The exponential distribution\n",
    "The CDF of the exponential distribution is\n",
    "\n",
    "<center style=\"font-size:18px\"> $ CDF(x) = 1-e^{-\\lambda x} $ </center>\n",
    "\n",
    "The parameter, $ \\lambda $, determines the shape of the distribution."
   ]
  },
  {
   "cell_type": "code",
   "execution_count": 20,
   "metadata": {
    "ExecuteTime": {
     "end_time": "2020-11-11T13:14:48.941193Z",
     "start_time": "2020-11-11T13:14:48.406708Z"
    }
   },
   "outputs": [
    {
     "data": {
      "image/png": "[encoded data removed]",
      "text/plain": [
       "<Figure size 432x288 with 1 Axes>"
      ]
     },
     "metadata": {},
     "output_type": "display_data"
    }
   ],
   "source": [
    "x = np.linspace(0, 5, 100)\n",
    "plt.plot(x, [1-np.exp(-0.5*i) for i in x], label='lambda = 0.5')\n",
    "plt.plot(x, [1-np.exp(-1*i) for i in x], label='lambda = 1')\n",
    "plt.plot(x, [1-np.exp(-2*i) for i in x], label='lambda = 2')\n",
    "plt.legend();"
   ]
  },
  {
   "cell_type": "markdown",
   "metadata": {},
   "source": [
    "In the real world, exponential distributions come up when we look at a series of events and measure the times between events, called interarrival times. If the events are equally likely to occur at any time, the distribution of interarrival times tends to look like an exponential distribution."
   ]
  },
  {
   "cell_type": "markdown",
   "metadata": {},
   "source": [
    "## The normal distribution\n",
    "The normal distribution, also called Gaussian, is commonly used because it describes many phenomena, at least approximately. It turns out that there is a good reason for its ubiquity.\n",
    "\n",
    "The normal distribution is characterized by two parameters: the mean, $ \\mu $, and standard deviation $ \\sigma $. The normal distribution with $ \\mu $ = 0 and $ \\sigma $ = 1 is called the standard normal distribution. Its CDF is defined by an integral that does not have a closed form solution, but there are algorithms that evaluate it efficiently"
   ]
  },
  {
   "cell_type": "code",
   "execution_count": 21,
   "metadata": {
    "ExecuteTime": {
     "end_time": "2020-11-11T13:14:50.050469Z",
     "start_time": "2020-11-11T13:14:48.945184Z"
    }
   },
   "outputs": [
    {
     "data": {
      "image/png": "[encoded data removed]",
      "text/plain": [
       "<Figure size 432x288 with 1 Axes>"
      ]
     },
     "metadata": {},
     "output_type": "display_data"
    }
   ],
   "source": [
    "x = np.linspace(-5, 5, 1000)\n",
    "plt.plot(x, [scipy.stats.norm.cdf(i, 0, 1) for i in x], label='mu=0 sigma=1')\n",
    "plt.plot(x, [scipy.stats.norm.cdf(i, 0, 0.5) for i in x], label='mu=0 sigma=0.5')\n",
    "plt.plot(x, [scipy.stats.norm.cdf(i, 0, 2) for i in x], label='mu=0 sigma=2')\n",
    "plt.plot(x, [scipy.stats.norm.cdf(i, 1, 1) for i in x], label='mu=1 sigma=1')\n",
    "plt.legend();"
   ]
  },
  {
   "cell_type": "markdown",
   "metadata": {},
   "source": [
    "## The lognormal distribution\n",
    "If the logarithms of a set of values have a normal distribution, the values have a lognormal distribution. The CDF of the lognormal distribution is the same as the CDF of the normal distribution, with log x substituted for x.\n",
    "\n",
    "## The Pareto distribution\n",
    "The Pareto distribution is named after the economist Vilfredo Pareto, who used it to describe the distribution of wealth. Since then, it has been used to describe phenomena in the natural and social sciences including sizes of cities and towns, sand particles and meteorites, forest fires and earthquakes. The CDF of the Pareto distribution is:\n",
    "\n",
    "<center style=\"font-size:18px\"> $ CDF(x) = 1 - (\\frac{x}{x_{m}})^{-\\alpha} $ </center>\n",
    "\n",
    "The parameters $ x_{m} $ and $ \\alpha $ determine the location and shape of the distribution. $ x_{m} $ is the minimum possible value."
   ]
  },
  {
   "cell_type": "code",
   "execution_count": 22,
   "metadata": {
    "ExecuteTime": {
     "end_time": "2020-11-11T13:14:50.507088Z",
     "start_time": "2020-11-11T13:14:50.053400Z"
    }
   },
   "outputs": [
    {
     "data": {
      "image/png": "[encoded data removed]",
      "text/plain": [
       "<Figure size 432x288 with 1 Axes>"
      ]
     },
     "metadata": {},
     "output_type": "display_data"
    }
   ],
   "source": [
    "x = np.linspace(1, 10, 1000)\n",
    "plt.plot(x, [1 - (i/1)**(-1) for i in x], label='xm=1 alpha=1')\n",
    "plt.plot(x, [1 - (i/1)**(-0.5) for i in x], label='xm=1 alpha=0.5')\n",
    "plt.plot(x, [1 - (i/1)**(-2) for i in x], label='xm=1 alpha=2')\n",
    "plt.plot(x, [1 - (i/0.5)**(-1) for i in x], label='xm=0.5 alpha=1')\n",
    "plt.legend();"
   ]
  },
  {
   "cell_type": "markdown",
   "metadata": {},
   "source": [
    "# Probability density functions\n",
    "The derivative of a CDF is called a probability density function, or PDF.\n",
    "\n",
    "Evaluating a PDF for a particular value of x is usually not useful. The result is not a probability; it is a probability density.\n",
    "\n",
    "In physics, density is mass per unit of volume; in order to get a mass, you have to multiply by volume or, if the density is not constant, you have to integrate over volume.\n",
    "\n",
    "Similarly, probability density measures probability per unit of x. In order to get a probability mass, you have to integrate over x.\n",
    "\n",
    "## Exponential Distribution\n",
    "\n",
    "<center style=\"font-size:18px\"> $ PDF(x) = \\lambda e^{-\\lambda x} $ </center>"
   ]
  },
  {
   "cell_type": "code",
   "execution_count": 23,
   "metadata": {
    "ExecuteTime": {
     "end_time": "2020-11-11T13:14:51.078010Z",
     "start_time": "2020-11-11T13:14:50.516907Z"
    }
   },
   "outputs": [
    {
     "data": {
      "image/png": "[encoded data removed]",
      "text/plain": [
       "<Figure size 432x288 with 1 Axes>"
      ]
     },
     "metadata": {},
     "output_type": "display_data"
    }
   ],
   "source": [
    "x = np.linspace(0, 5, 100)\n",
    "plt.plot(x, [0.5*np.exp(-0.5*i) for i in x], label='lambda = 0.5')\n",
    "plt.plot(x, [np.exp(-1*i) for i in x], label='lambda = 1')\n",
    "plt.plot(x, [2*np.exp(-2*i) for i in x], label='lambda = 2')\n",
    "plt.legend();"
   ]
  },
  {
   "cell_type": "markdown",
   "metadata": {},
   "source": [
    "## Normal Distribution\n",
    "\n",
    "<center style=\"font-size:18px\"> $ PDF(x) = \\frac{1}{{\\sigma \\sqrt {2\\pi } }} e^{-(x-\\mu)^{2}/2\\sigma^{2}} $ </center>"
   ]
  },
  {
   "cell_type": "code",
   "execution_count": 24,
   "metadata": {
    "ExecuteTime": {
     "end_time": "2020-11-11T13:14:52.406967Z",
     "start_time": "2020-11-11T13:14:51.084132Z"
    }
   },
   "outputs": [
    {
     "data": {
      "image/png": "[encoded data removed]",
      "text/plain": [
       "<Figure size 432x288 with 1 Axes>"
      ]
     },
     "metadata": {},
     "output_type": "display_data"
    }
   ],
   "source": [
    "x = np.linspace(-5, 5, 1000)\n",
    "plt.plot(x, [scipy.stats.norm.pdf(i, 0, 1) for i in x], label='mu=0 sigma=1')\n",
    "plt.plot(x, [scipy.stats.norm.pdf(i, 0, 0.5) for i in x], label='mu=0 sigma=0.5')\n",
    "plt.plot(x, [scipy.stats.norm.pdf(i, 0, 2) for i in x], label='mu=0 sigma=2')\n",
    "plt.plot(x, [scipy.stats.norm.pdf(i, 1, 1) for i in x], label='mu=1 sigma=1')\n",
    "plt.legend();"
   ]
  },
  {
   "cell_type": "markdown",
   "metadata": {},
   "source": [
    "## Kernel density estimation\n",
    "Kernel density estimation (KDE) is an algorithm that takes a sample and finds an appropriately smooth PDF that fits the data.\n",
    "\n",
    "Estimating a density function with KDE is useful for several purposes:\n",
    "* Visualization: During the exploration phase of a project, CDFs are usually the best visualization of a distribution. After you look at a CDF, you can decide whether an estimated PDF is an appropriate model of the distribution. If so, it can be a better choice for presenting the distribution to an audience that is unfamiliar with CDFs.\n",
    "* Interpolation: An estimated PDF is a way to get from a sample to a model of the population. If you have reason to believe that the population distribution is smooth, you can use KDE to interpolate the density for values that don't appear in the sample.\n",
    "* Simulation: Simulations are often based on the distribution of a sample. If the sample size is small, it might be appropriate to smooth the sample distribution using KDE, which allows the simulation to explore more possible outcomes, rather than replicating the observed data."
   ]
  },
  {
   "cell_type": "markdown",
   "metadata": {},
   "source": [
    "## The distribution framework\n",
    "At this point we have seen PMFs, CDFs and PDFs; let's take a minute to review. \n",
    "\n",
    "![img](../meta/distribution-framework.png)\n",
    "\n",
    "We started with PMFs, which represent the probabilities for a discrete set of values. To get from a PMF to a CDF, you add up the probability masses to get cumulative probabilities. To get from a CDF back to a PMF, you compute differences in cumulative probabilities.\n",
    "\n",
    "A PDF is the derivative of a continuous CDF; or, equivalently, a CDF is the integral of a PDF. Remember that a PDF maps from values to probability densities; to get a probability, you have to integrate.\n",
    "\n",
    "To get from a discrete to a continuous distribution, you can perform various kinds of smoothing. One form of smoothing is to assume that the data come from an analytic continuous distribution (like exponential or normal) and to estimate the parameters of that distribution. Another option is kernel density estimation.\n",
    "\n",
    "The opposite of smoothing is discretizing, or quantizing. If you evaluate a PDF at discrete points, you can generate a PMF that is an approximation of the PDF. You can get a better approximation using numerical integration.\n",
    "\n",
    "To distinguish between continuous and discrete CDFs, it might be better for a discrete CDF to be a \"cumulative mass function\" but in actual practice no one uses that term."
   ]
  },
  {
   "cell_type": "markdown",
   "metadata": {},
   "source": [
    "## Moments\n",
    "Any time you take a sample and reduce it to a single number, that number is a statistic. The statistics we have seen so far include mean, variance, median, and interquartile range.\n",
    "A raw moment is a kind of statistic. If you have a sample of values, $ x_{i} $, the kth raw moment is:\n",
    "\n",
    "<center style=\"font-size:18px\"> $ m'_{k} = \\frac{1}{n} \\sum \\limits _{i=1} ^{n} x^{k}_{i} $ </center>"
   ]
  },
  {
   "cell_type": "code",
   "execution_count": 25,
   "metadata": {
    "ExecuteTime": {
     "end_time": "2020-11-11T13:14:52.439015Z",
     "start_time": "2020-11-11T13:14:52.417839Z"
    }
   },
   "outputs": [],
   "source": [
    "def RawMoment(xs, k):\n",
    "    return sum(x**k for x in xs) / len(xs)"
   ]
  },
  {
   "cell_type": "markdown",
   "metadata": {},
   "source": [
    "When k = 1 the result is the sample mean, $ \\bar{x} $. The other raw moments don't mean much by themselves, but they are used in some computations.\n",
    "\n",
    "The central moments are more useful. The kth central moment is:\n",
    "\n",
    "<center style=\"font-size:18px\"> $ m_{k} = \\frac{1}{n} \\sum \\limits _{i=1} ^{n} (x_{i} - \\bar{x})^{k} $ </center>"
   ]
  },
  {
   "cell_type": "code",
   "execution_count": 26,
   "metadata": {
    "ExecuteTime": {
     "end_time": "2020-11-11T13:14:52.580689Z",
     "start_time": "2020-11-11T13:14:52.448851Z"
    }
   },
   "outputs": [],
   "source": [
    "def CentralMoment(xs, k):\n",
    "    mean = RawMoment(xs, 1)\n",
    "    return sum((x - mean)**k for x in xs) / len(xs)"
   ]
  },
  {
   "cell_type": "markdown",
   "metadata": {},
   "source": [
    "When k = 2 the result is the second central moment, which you might recognize as variance. The definition of variance gives a hint about why these statistics are called moments. If we attach a weight along a ruler at each location, $ x_{i} $, and then spin the ruler around the mean, the moment of inertia of the spinning weights is the variance of the values.\n",
    "\n",
    "When you report moment-based statistics, it is important to think about the units. For example, if the values $ x_{i} $ are in cm, the first raw moment is also in cm. But the second moment is in $ cm^{2} $, the third moment is in $ cm^{3} $, and so on.\n",
    "\n",
    "Because of these units, moments are hard to interpret by themselves. That's why, for the second moment, it is common to report standard deviation, which is the square root of variance, so it is in the same units as $ x_{i} $."
   ]
  },
  {
   "cell_type": "markdown",
   "metadata": {},
   "source": [
    "## Skewness\n",
    "Skewness is a property that describes the shape of a distribution. If the distribution is symmetric around its central tendency, it is unskewed. If the values extend farther to the right, it is \"right skewed\" and if the values extend left, it is \"left skewed.\"\n",
    "\n",
    "This use of \"skewed\" does not have the usual connotation of \"biased.\" Skewness only describes the shape of the distribution; it says nothing about whether the sampling process might have been biased.\n",
    "\n",
    "Several statistics are commonly used to quantify the skewness of a distribution. Given a sequence of values, $ x_{i} $, the sample skewness, $ g_{1} $, can be computed like this:"
   ]
  },
  {
   "cell_type": "code",
   "execution_count": 27,
   "metadata": {
    "ExecuteTime": {
     "end_time": "2020-11-11T13:14:52.688976Z",
     "start_time": "2020-11-11T13:14:52.584484Z"
    }
   },
   "outputs": [],
   "source": [
    "def StandardizedMoment(xs, k):\n",
    "    var = CentralMoment(xs, 2)\n",
    "    std = np.sqrt(var)\n",
    "    return CentralMoment(xs, k) / std**k\n",
    "\n",
    "def Skewness(xs):\n",
    "    return StandardizedMoment(xs, 3)"
   ]
  },
  {
   "cell_type": "markdown",
   "metadata": {},
   "source": [
    "$ g_{1} $ is the third standardized moment, which means that it has been normalized so it has no units.\n",
    "\n",
    "Negative skewness indicates that a distribution skews left; positive skewness indicates that a distribution skews right. The magnitude of g1 indicates the strength of the skewness, but by itself it is not easy to interpret.\n",
    "\n",
    "In practice, computing sample skewness is usually not a good idea. If there are any outliers, they have a disproportionate efect on $ g_{1} $.\n",
    "\n",
    "Another way to evaluate the asymmetry of a distribution is to look at the relationship between the mean and median. Extreme values have more effect on the mean than the median, so in a distribution that skews left, the mean is less than the median. In a distribution that skews right, the mean is greater.\n",
    "\n",
    "**Pearson's median skewness coeffcient** is a measure of skewness based on the difference between the sample mean and median:\n",
    "\n",
    "\n",
    "<center style=\"font-size:18px\"> $ g_{p} = 3(\\bar{x} - m)/S $ </center>\n",
    "\n",
    "This statistic is robust, which means that it is less vulnerable to the effect of outliers."
   ]
  },
  {
   "cell_type": "code",
   "execution_count": 28,
   "metadata": {
    "ExecuteTime": {
     "end_time": "2020-11-11T13:14:52.831486Z",
     "start_time": "2020-11-11T13:14:52.694829Z"
    }
   },
   "outputs": [],
   "source": [
    "def PearsonMedianSkewness(xs):\n",
    "    median = np.median(xs)\n",
    "    mean = np.mean(xs)\n",
    "    std = np.std(xs)\n",
    "    gp = 3 * (mean - median) / std\n",
    "    return gp"
   ]
  },
  {
   "cell_type": "markdown",
   "metadata": {},
   "source": [
    "# Relationships between variables\n",
    "\n",
    "Two variables are related if knowing one gives you information about the other. For example, height and weight are related; people who are taller tend to be heavier. Of course, it is not a perfect relationship: there are short heavy people and tall light ones. But if you are trying to guess someone's weight, you will be more accurate if you know their height than if you don't.\n",
    "\n",
    "## Correlation\n",
    "\n",
    "A correlation is a statistic intended to quantify the strength of the relationship between two variables. A challenge in measuring correlation is that the variables we want to compare are often not expressed in the same units. And even if they are in the same units, they come from different distributions.\n",
    " \n",
    "There are two common solutions to these problems:\n",
    "1. Transform each value to a standard score, which is the number of standard deviations from the mean. This transform leads to the \"Pearson product-moment correlation coeffcient.\"\n",
    "2. Transform each value to its rank, which is its index in the sorted list of values. This transform leads to the \"Spearman rank correlation coeffcient.\"\n",
    "\n",
    "If X is a series of n values, xi, we can convert to standard scores by subtracting the mean and dividing by the standard deviation: $ z_{i} = (x_{i} - \\mu)/\\sigma $.\n",
    "\n",
    "The numerator is a deviation: the distance from the mean. Dividing by $ \\sigma $ standardizes the deviation, so the values of Z are dimensionless (no units) and their distribution has mean 0 and variance 1.\n",
    "\n",
    "If X is normally distributed, so is Z. But if X is skewed or has outliers, so does Z; in those cases, it is more robust to use percentile ranks. If we compute a new variable, R, so that $ r_{i} $ is the rank of $ x_{i} $, the distribution of R is uniform from 1 to n, regardless of the distribution of X.\n",
    "\n",
    "## Covariance\n",
    "Covariance is a measure of the tendency of two variables to vary together. If we have two series, X and Y , their deviations from the mean are\n",
    "\n",
    "$ dx_{i} = x_{i} - \\bar{x} $\n",
    "\n",
    "$ dy_{i} = y_{i} - \\bar{y} $\n",
    "\n",
    "If X and Y vary together, their deviations tend to have the same sign. If we multiply them together, the product is positive when the deviations have the same sign and negative when they have the opposite sign. So adding up the products gives a measure of the tendency to vary together.\n",
    "\n",
    "<center style=\"font-size:18px\"> $ Cov(X, Y) = \\frac{1}{n} \\sum \\limits _{i=1} ^{n} dx_{i}dy_{i}  $ </center>\n",
    "\n",
    "where n is the length of the two series (they have to be the same length). If you have studied linear algebra, you might recognize that Cov is the dot product of the deviations, divided by their length. So the covariance is maximized if the two vectors are identical, 0 if they are orthogonal, and negative if they point in opposite directions."
   ]
  },
  {
   "cell_type": "code",
   "execution_count": 29,
   "metadata": {
    "ExecuteTime": {
     "end_time": "2020-11-11T13:14:52.958204Z",
     "start_time": "2020-11-11T13:14:52.840454Z"
    }
   },
   "outputs": [],
   "source": [
    "def Cov(xs, ys, meanx=None, meany=None):\n",
    "    xs = np.asarray(xs)\n",
    "    ys = np.asarray(ys)\n",
    "    if meanx is None:\n",
    "        meanx = np.mean(xs)\n",
    "    if meany is None:\n",
    "        meany = np.mean(ys)\n",
    "    cov = np.dot(xs-meanx, ys-meany) / len(xs)\n",
    "    return cov"
   ]
  },
  {
   "cell_type": "markdown",
   "metadata": {},
   "source": [
    "## Pearson's correlation\n",
    "Covariance is useful in some computations, but it is seldom reported as a summary statistic because it is hard to interpret. Among other problems, its units are the product of the units of X and Y. One solution to this problem is to divide the deviations by the standard deviation, which yields standard scores, and compute the product of standard scores:\n",
    "\n",
    "<center style=\"font-size:18px\"> $ p_{i} = \\frac{(x_{i} - \\bar{x})}{S_{x}} \\frac{(y_{i} - \\bar{y})}{S_{y}}  $ </center>\n",
    "\n",
    "Where $ S_{x} $ and $ S_{y} $ are the standard deviations of X and Y. The mean of these products is\n",
    "\n",
    "<center style=\"font-size:18px\"> $ \\rho = \\frac{1}{n} \\sum \\limits _{i=1} ^{n} p_{i} $ </center> or\n",
    "<center style=\"font-size:18px\"> $ \\rho = \\frac{Cov(X, Y)}{S_{x}S_{y}} $ </center>\n",
    "\n",
    "This value is called Pearson's correlation after Karl Pearson, an influential early statistician. It is easy to compute and easy to interpret. Because standard scores are dimensionless, so is $ \\rho $"
   ]
  },
  {
   "cell_type": "code",
   "execution_count": 30,
   "metadata": {
    "ExecuteTime": {
     "end_time": "2020-11-11T13:14:53.115503Z",
     "start_time": "2020-11-11T13:14:52.965185Z"
    }
   },
   "outputs": [],
   "source": [
    "def Corr(xs, ys):\n",
    "    return Cov(xs, ys, np.mean(xs), np.mean(ys)) / np.std(xs) * np.std(ys)"
   ]
  },
  {
   "cell_type": "markdown",
   "metadata": {},
   "source": [
    "Pearson's correlation is always between -1 and +1 (including both). If it is positive, we say that the correlation is positive, which means that when one variable is high, the other tends to be high. If it is negative, the correlation is negative, so when one variable is high, the other is low.\n",
    "\n",
    "Its magnitude indicates the strength of the correlation. If it is 1 or -1, the variables are perfectly correlated, which means that if you know one, you can make a perfect prediction about the other.\n",
    "\n",
    "Most correlation in the real world is not perfect, but it is still useful. The correlation of height and weight is 0.51, which is a strong correlation compared to similar human-related variables.\n",
    "\n",
    "## Nonlinear relationships\n",
    "If Pearson's correlation is near 0, it is tempting to conclude that there is no relationship between the variables, but that conclusion is not valid. Pearson's correlation only measures linear relationships. If there's a nonlinear relationship, it understates its strength.\n",
    "\n",
    "## Spearman's rank correlation\n",
    "Pearson's correlation works well if the relationship between variables is linear and if the variables are roughly normal. But it is not robust in the presence of outliers. Spearman's rank correlation is an alternative that mitigates the effect of outliers and skewed distributions. To compute Spearman's correlation, we have to compute the rank of each value, which is its index in the sorted sample. For example, in the sample [1, 2, 5, 7] the rank of the value 5 is 3, because it appears third in the sorted list. Then we compute Pearson's correlation for the ranks."
   ]
  },
  {
   "cell_type": "code",
   "execution_count": 31,
   "metadata": {
    "ExecuteTime": {
     "end_time": "2020-11-11T13:14:53.257156Z",
     "start_time": "2020-11-11T13:14:53.123404Z"
    }
   },
   "outputs": [],
   "source": [
    "def SpearmanCorr(xs, ys):\n",
    "    xranks = pd.Series(xs).rank()\n",
    "    yranks = pd.Series(ys).rank()\n",
    "    return Corr(xranks, yranks)"
   ]
  },
  {
   "cell_type": "markdown",
   "metadata": {},
   "source": [
    "## Correlation and causation\n",
    "If variables A and B are correlated, there are three possible explanations: A causes B, or B causes A, or some other set of factors causes both A and B. These explanations are called \"causal relationships\".\n",
    "Correlation alone does not distinguish between these explanations, so it does not tell you which ones are true. This rule is often summarized with the phrase \"Correlation does not imply causation\""
   ]
  },
  {
   "cell_type": "markdown",
   "metadata": {},
   "source": [
    "# Estimation\n",
    "\n",
    "In statistics, estimation refers to the process by which one makes inferences about a population, based on information obtained from a sample.\n",
    "\n",
    "## Biased Variance\n",
    "While estimating the variance of a distribution, the obvious choice is to use the sample variance, $ S^{2} $, as an estimator.\n",
    "\n",
    "<center style=\"font-size:18px\"> $ S ^{2} = \\frac{1}{n} \\sum \\limits _{i=1} ^{n} (x_{i} - \\bar{x})^{2} $ </center>\n",
    "\n",
    "For large samples, $ S^{2} $ is an adequate estimator, but for small samples it tends to be too low. Because of this unfortunate property, it is called a biased estimator. An estimator is unbiased if the expected total (or mean) error, after many iterations of the estimation game, is 0. Fortunately, there is another simple statistic that is an unbiased estimator of $ \\sigma ^{2} $\n",
    "\n",
    "<center style=\"font-size:18px\"> $ S ^{2} _{n-1} = \\frac{1}{n-1} \\sum \\limits _{i=1} ^{n} (x_{i} - \\bar{x})^{2} $ </center>"
   ]
  },
  {
   "cell_type": "markdown",
   "metadata": {},
   "source": [
    "# Hypothesis testing\n",
    "\n",
    "## Classical hypothesis testing\n",
    "\n",
    "The goal of classical hypothesis testing is to answer the question, \"Given a sample and an apparent effect, what is the probability of seeing such an effect by chance?\" Here's how we answer that question:\n",
    "* The first step is to quantify the size of the apparent effect by choosing a test statistic. In the NSFG example, the apparent effect is a difference in pregnancy length between first babies and others, so a natural choice for the test statistic is the difference in means between the two groups.\n",
    "* The second step is to define a null hypothesis, which is a model of the system based on the assumption that the apparent effect is not real. In the NSFG example the null hypothesis is that there is no difference between first babies and others; that is, that pregnancy lengths for both groups have the same distribution.\n",
    "* The third step is to compute a p-value, which is the probability of seeing the apparent effect if the null hypothesis is true. In the NSFG example, we would compute the actual difference in means, then compute the probability of seeing a difference as big, or bigger, under the null hypothesis.\n",
    "* The last step is to interpret the result. If the p-value is low, the effect is said to be statistically significant, which means that it is unlikely to have occurred by chance. In that case we infer that the effect is more likely to appear in the larger population.\n",
    "\n",
    "The logic of this process is similar to a proof by contradiction. To prove a mathematical statement, A, you assume temporarily that A is false. If that assumption leads to a contradiction, you conclude that A must actually be true.\n",
    "\n",
    "Similarly, to test a hypothesis like, \"This effect is real,\" we assume, temporarily, that it is not. That's the null hypothesis. Based on that assumption, we compute the probability of the apparent effect. That's the p-value. If the p-value is low, we conclude that the null hypothesis is unlikely to be true."
   ]
  },
  {
   "cell_type": "code",
   "execution_count": 32,
   "metadata": {
    "ExecuteTime": {
     "end_time": "2020-11-11T13:14:53.399742Z",
     "start_time": "2020-11-11T13:14:53.264109Z"
    }
   },
   "outputs": [],
   "source": [
    "class HypothesisTest():\n",
    "    def __init__(self, data):\n",
    "        self.data = data\n",
    "        self.MakeModel()\n",
    "        self.actual = self.TestStatistic(data)\n",
    "    \n",
    "    def PValue(self, iters=1000):\n",
    "        self.test_stats = [self.TestStatistic(self.RunModel()) for _ in range(iters)]\n",
    "        count = sum(1 for x in self.test_stats if x >= self.actual)\n",
    "        return count / iters\n",
    "    \n",
    "    def TestStatistic(self, data):\n",
    "        raise UnimplementedMethodException()\n",
    "    \n",
    "    def MakeModel(self):\n",
    "        pass\n",
    "    \n",
    "    def RunModel(self):\n",
    "        raise UnimplementedMethodException()"
   ]
  },
  {
   "cell_type": "markdown",
   "metadata": {},
   "source": [
    "HypothesisTest is an abstract parent class that provides complete defnitions for some methods and place-keepers for others. Child classes based on HypothesisTest inherit `__init__` and `PValue` and provide `TestStatistic`, `RunModel`, and optionally `MakeModel`.\n",
    "\n",
    "`__init__` takes the data in whatever form is appropriate. It calls `MakeModel`, which builds a representation of the null hypothesis, then passes the data to `TestStatistic`, which computes the size of the effect in the sample. `PValue` computes the probability of the apparent effect under the null hypothesis. It takes as a parameter iters, which is the number of simulations\n",
    "to run. The first line generates simulated data, computes test statistics, and stores them in `test_stats`. The result is the fraction of elements in `test_stats` that exceed or equal the observed test statistic, `self.actual`.\n",
    "\n",
    "As a simple example, suppose we toss a coin 250 times and see 140 heads and 110 tails. Based on this result, we might suspect that the coin is biased; that is, more likely to land heads. To test this hypothesis, we compute the probability of seeing such a difference if the coin is actually fair"
   ]
  },
  {
   "cell_type": "code",
   "execution_count": 33,
   "metadata": {
    "ExecuteTime": {
     "end_time": "2020-11-11T13:14:53.525720Z",
     "start_time": "2020-11-11T13:14:53.406724Z"
    }
   },
   "outputs": [],
   "source": [
    "from collections import Counter\n",
    "import random\n",
    "\n",
    "class CoinTest(HypothesisTest):\n",
    "    def TestStatistic(self, data):\n",
    "        heads, tails = data\n",
    "        test_stat = abs(heads - tails)\n",
    "        return test_stat\n",
    "    \n",
    "    def RunModel(self):\n",
    "        heads, tails = self.data\n",
    "        n = heads + tails\n",
    "        sample = [random.choice('HT') for _ in range(n)]\n",
    "        hist = Counter(sample)\n",
    "        data = hist['H'], hist['T']\n",
    "        return data"
   ]
  },
  {
   "cell_type": "code",
   "execution_count": 34,
   "metadata": {
    "ExecuteTime": {
     "end_time": "2020-11-11T13:14:54.156195Z",
     "start_time": "2020-11-11T13:14:53.531674Z"
    }
   },
   "outputs": [
    {
     "data": {
      "text/plain": [
       "0.068"
      ]
     },
     "execution_count": 34,
     "metadata": {},
     "output_type": "execute_result"
    }
   ],
   "source": [
    "ct = CoinTest((140, 110))\n",
    "ct.PValue()"
   ]
  },
  {
   "cell_type": "markdown",
   "metadata": {},
   "source": [
    "The result is about 0.07, which means that if the coin is fair, we expect to see a difference as big as 30 about 7% of the time.\n",
    "\n",
    "How should we interpret this result? By convention, 5% is the threshold of statistical significance. If the p-value is less than 5%, the effect is considered significant; otherwise it is not.\n",
    "\n",
    "But the choice of 5% is arbitrary, and (as we will see later) the p-value de- pends on the choice of the test statistics and the model of the null hypothesis. So p-values should not be considered precise measurements.\n",
    "\n",
    "I recommend interpreting p-values according to their order of magnitude: if the p-value is less than 1%, the effect is unlikely to be due to chance; if it is greater than 10%, the effect can plausibly be explained by chance. P-values between 1% and 10% should be considered borderline. So in this example I conclude that the data do not provide strong evidence that the coin is biased or not"
   ]
  },
  {
   "cell_type": "code",
   "execution_count": 35,
   "metadata": {
    "ExecuteTime": {
     "end_time": "2020-11-11T13:14:54.171730Z",
     "start_time": "2020-11-11T13:14:54.160221Z"
    }
   },
   "outputs": [],
   "source": [
    "class DiffMeansPermute(HypothesisTest):\n",
    "    def TestStatistic(self, data):\n",
    "        group1, group2 = data\n",
    "        test_stat = abs(group1.mean() - group2.mean())\n",
    "        return test_stat\n",
    "    \n",
    "    def MakeModel(self):\n",
    "        group1, group2 = self.data\n",
    "        self.n, self.m = len(group1), len(group2)\n",
    "        self.pool = np.hstack((group1, group2))\n",
    "        \n",
    "    def RunModel(self):\n",
    "        np.random.shuffle(self.pool)\n",
    "        data = self.pool[:self.n], self.pool[self.n:]\n",
    "        return data        "
   ]
  },
  {
   "cell_type": "code",
   "execution_count": 36,
   "metadata": {
    "ExecuteTime": {
     "end_time": "2020-11-11T13:14:54.756373Z",
     "start_time": "2020-11-11T13:14:54.174151Z"
    }
   },
   "outputs": [
    {
     "data": {
      "text/plain": [
       "0.176"
      ]
     },
     "execution_count": 36,
     "metadata": {},
     "output_type": "execute_result"
    }
   ],
   "source": [
    "data = firsts.prglngth.values, others.prglngth.values\n",
    "ht = DiffMeansPermute(data)\n",
    "ht.PValue()"
   ]
  },
  {
   "cell_type": "markdown",
   "metadata": {},
   "source": [
    "The result is about 0.17, which means that we expect to see a difference as big as the observed effect about 17% of the time. So this effect is not statistically significant."
   ]
  },
  {
   "cell_type": "code",
   "execution_count": 37,
   "metadata": {
    "ExecuteTime": {
     "end_time": "2020-11-11T13:14:54.772329Z",
     "start_time": "2020-11-11T13:14:54.759334Z"
    }
   },
   "outputs": [],
   "source": [
    "class CorrelationPermute(HypothesisTest):\n",
    "    def TestStatistic(self, data):\n",
    "        xs, ys = data\n",
    "        test_stat = abs(Corr(xs, ys))\n",
    "        return test_stat\n",
    "    \n",
    "    def RunModel(self):\n",
    "        xs, ys = self.data\n",
    "        xs = np.random.permutation(xs)\n",
    "        return xs, ys"
   ]
  },
  {
   "cell_type": "code",
   "execution_count": 38,
   "metadata": {
    "ExecuteTime": {
     "end_time": "2020-11-11T13:14:55.829937Z",
     "start_time": "2020-11-11T13:14:54.775293Z"
    }
   },
   "outputs": [
    {
     "data": {
      "text/plain": [
       "0.0"
      ]
     },
     "execution_count": 38,
     "metadata": {},
     "output_type": "execute_result"
    }
   ],
   "source": [
    "live.dropna(subset=['agepreg', 'totalwgt_lb'])\n",
    "data = live.agepreg.values, live.totalwgt_lb.values\n",
    "ht = CorrelationPermute(data)\n",
    "ht.PValue()"
   ]
  },
  {
   "cell_type": "markdown",
   "metadata": {},
   "source": [
    "The actual correlation is 0.07. The computed p-value is 0; after 1000 iterations the largest simulated correlation is 0.04. So although the observed correlation is small, it is statistically significant.\n",
    "\n",
    "This example is a reminder that \"statistically significant\" does not always mean that an effect is important, or significant in practice. It only means that it is unlikely to have occurred by chance."
   ]
  },
  {
   "cell_type": "code",
   "execution_count": 39,
   "metadata": {
    "ExecuteTime": {
     "end_time": "2020-11-11T13:14:55.845338Z",
     "start_time": "2020-11-11T13:14:55.833766Z"
    }
   },
   "outputs": [],
   "source": [
    "class DiceTest(HypothesisTest):\n",
    "    def TestStatistic(self, data):\n",
    "        observed = data\n",
    "        n = sum(observed)\n",
    "        expected = np.ones(6) * n / 6\n",
    "        test_stat = sum(abs(observed - expected))\n",
    "        return test_stat\n",
    "    \n",
    "    def RunModel(self):\n",
    "        n = sum(self.data)\n",
    "        values = [1, 2, 3, 4, 5, 6]\n",
    "        rolls = np.random.choice(values, n, replace=True)\n",
    "        hist = Counter(rolls)\n",
    "        freqs = list(hist.values())\n",
    "        return freqs"
   ]
  },
  {
   "cell_type": "code",
   "execution_count": 40,
   "metadata": {
    "ExecuteTime": {
     "end_time": "2020-11-11T13:14:56.191588Z",
     "start_time": "2020-11-11T13:14:55.851926Z"
    }
   },
   "outputs": [
    {
     "data": {
      "text/plain": [
       "0.135"
      ]
     },
     "execution_count": 40,
     "metadata": {},
     "output_type": "execute_result"
    }
   ],
   "source": [
    "ht = DiceTest([8, 9, 19, 5, 8, 11])\n",
    "ht.PValue()"
   ]
  },
  {
   "cell_type": "markdown",
   "metadata": {},
   "source": [
    "The p-value for this data is 0.15, which means that if the die is fair we expect to see the observed total deviation, or more, about 15% of the time. So the apparent effect is not statistically significant.\n",
    "\n",
    "## Chi-squared tests\n",
    "In the previous section we used total deviation as the test statistic. But for testing proportions it is more common to use the chi-squared statistic:\n",
    "\n",
    "<center style=\"font-size:18px\"> $ \\chi ^{2} = \\sum \\limits _{i=1} ^{n} \\frac{(O_{i} - E_{i})^{2}}{E_{i}} $ </center>\n",
    "\n",
    "Where $ O_{i} $ are the observed frequencies and $ E_{i} $ are the expected frequencies."
   ]
  },
  {
   "cell_type": "code",
   "execution_count": 41,
   "metadata": {
    "ExecuteTime": {
     "end_time": "2020-11-11T13:14:56.207545Z",
     "start_time": "2020-11-11T13:14:56.194581Z"
    }
   },
   "outputs": [],
   "source": [
    "class DiceChiTest(DiceTest):\n",
    "    def TestStatistic(self, data):\n",
    "        observed = data\n",
    "        n = sum(observed)\n",
    "        expected = np.ones(6) * n / 6\n",
    "        test_stat = sum((observed - expected)**2 / expected)\n",
    "        return test_stat"
   ]
  },
  {
   "cell_type": "code",
   "execution_count": 42,
   "metadata": {
    "ExecuteTime": {
     "end_time": "2020-11-11T13:14:56.522576Z",
     "start_time": "2020-11-11T13:14:56.210538Z"
    }
   },
   "outputs": [
    {
     "data": {
      "text/plain": [
       "0.044"
      ]
     },
     "execution_count": 42,
     "metadata": {},
     "output_type": "execute_result"
    }
   ],
   "source": [
    "ht = DiceChiTest([8, 9, 19, 5, 8, 11])\n",
    "ht.PValue()"
   ]
  },
  {
   "cell_type": "markdown",
   "metadata": {},
   "source": [
    "Squaring the deviations (rather than taking absolute values) gives more weight to large deviations. Dividing through by expected standardizes the deviations, although in this case it has no effect because the expected frequencies are all equal.\n",
    "\n",
    "The p-value using the chi-squared statistic is 0.04, substantially smaller than what we got using total deviation, 0.13. If we take the 5% threshold seriously, we would consider this effect statistically signiffcant. But considering the two tests togther, I would say that the results are borderline. I would not rule out the possibility that the die is crooked, but I would not convict the accused cheater.\n",
    "\n",
    "This example demonstrates an important point: the p-value depends on the choice of test statistic and the model of the null hypothesis, and sometimes these choices determine whether an effect is statistically significant or not."
   ]
  },
  {
   "cell_type": "markdown",
   "metadata": {},
   "source": [
    "# Linear Least Squares Fit\n",
    "\n",
    "Correlation coeffcients measure the strength and sign of a relationship, but not the slope. There are several ways to estimate the slope; the most common is a linear least squares fit. A \"linear fit\" is a line intended to model the relationship between variables. A \"least squares\" fit is one that minimizes the mean squared error (MSE) between the line and the data.\n",
    "\n",
    "Suppose we have a sequence of points, ys, that we want to express as a function of another sequence xs. If there is a linear relationship between xs and ys with intercept inter and slope slope, we expect each y[i] to be\n",
    "\n",
    "<center style=\"font-size:18px\"> inter + slope * x[i] </center>\n",
    "\n",
    "But unless the correlation is perfect, this prediction is only approximate. The vertical deviation from the line, or residual, is\n",
    "\n",
    "<center style=\"font-size:18px\"> res = ys - (inter + slope * xs) </center>\n",
    "\n",
    "The residuals might be due to random factors like measurement error, or non- random factors that are unknown.\n",
    "\n",
    "If we get the parameters inter and slope wrong, the residuals get bigger, so it makes intuitive sense that the parameters we want are the ones that minimize the residuals.\n",
    "\n",
    "We might try to minimize the absolute value of the residuals, or their squares, or their cubes; but the most common choice is to minimize the sum of squared residuals, sum(res^2).\n",
    "\n",
    "There are three good reasons and one less important one:\n",
    "* Squaring has the feature of treating positive and negative residuals the same, which is usually what we want.\n",
    "* Squaring gives more weight to large residuals, but not so much weight that the largest residual always dominates.\n",
    "* If the residuals are uncorrelated and normally distributed with mean 0 and constant (but unknown) variance, then the least squares fit is alsothe maximum likelihood estimator of inter and slope. See https://en.wikipedia.org/wiki/Linear_regression.\n",
    "* The values of inter and slope that minimize the squared residuals can be computed effciently.\n",
    "\n",
    "The last reason made sense when computational efficiency was more important than choosing the method most appropriate to the problem at hand. That's no longer the case, so it is worth considering whether squared residuals are the right thing to minimize.\n",
    "For example, if you are using xs to predict values of ys, guessing too high might be better (or worse) than guessing too low. In that case you might want to compute some cost function for each residual, and minimize total cost, sum(cost(res)). However, computing a least squares fit is quick, easy and often good enough."
   ]
  },
  {
   "cell_type": "code",
   "execution_count": 43,
   "metadata": {
    "ExecuteTime": {
     "end_time": "2020-11-11T13:14:56.554390Z",
     "start_time": "2020-11-11T13:14:56.525586Z"
    }
   },
   "outputs": [],
   "source": [
    "def LeastSquares(xs, ys):\n",
    "    meanx = np.mean(xs)\n",
    "    varx = np.var(xs)\n",
    "    meany = np.mean(ys)\n",
    "    slope = Cov(xs, ys, meanx, meany) / varx\n",
    "    inter = meany - slope * meanx\n",
    "    return inter, slope"
   ]
  },
  {
   "cell_type": "markdown",
   "metadata": {},
   "source": [
    "## Goodness of fit\n",
    "There are several ways to measure the quality of a linear model, or goodness of fit. One of the simplest is the standard deviation of the residuals. If you use a linear model to make predictions, Std(res) is the root mean squared error (RMSE) of your predictions.\n",
    "\n",
    "**R2 score**:  It is the amount of the variation in the output dependent attribute which is predictable from the input independent variable(s). It is used to check how well-observed results are reproduced by the model, depending on the ratio of total deviation of results described by the model.\n",
    "\n",
    "<center style=\"font-size:18px\"> $ R^{2} = 1- \\frac{\\sum \\limits _{i=1} ^{n} (y_{i} - \\hat{y})^{2}}{\\sum \\limits _{i=1} ^{n} (y_{i} - \\bar{y})^{2}} $ </center>"
   ]
  },
  {
   "cell_type": "markdown",
   "metadata": {},
   "source": [
    "## Regression\n",
    "\n",
    "The linear least squares fit is an example of regression, which is the more general problem of fitting any kind of model to any\n",
    "kind of data. This use of the term \"regression\" is a historical accident; it is only indirectly related to the original meaning of the word.\n",
    "\n",
    "The goal of regression analysis is to describe the relationship between one set of variables, called the dependent variables, and another set of variables, called independent or explanatory variables.\n",
    "\n",
    "When there is only one dependent and one explanatory variable, that's **simple regression**. If there are more than one explanatory variables it is called **multiple regression**. If there is more than one dependent variable, that's **multivariate regression**. If the relationship between the dependent and explanatory variable is linear, that's **linear regression**.\n",
    "\n",
    "For example, if the dependent variable is $ y $ and the explanatory variables are $ x_{1} $ and $ x_{2} $, we would write the following linear regression model:\n",
    "\n",
    "<center style=\"font-size:18px\"> $ y = \\beta_{0} + \\beta_{1}x_{1} + \\beta_{2}x_{2} + \\epsilon $ </center>\n",
    "\n",
    "where $ \\beta_{0} $ is the intercept, $ \\beta_{1} $ is the parameter associated with $ x_{1} $, $ \\beta_{2} $ is the\n",
    "parameter associated with $ x_{2} $, and $ \\epsilon $ is the residual due to random variation or other unknown factors.\n",
    "\n",
    "Given a sequence of values for $ y $ and sequences for $ x_{1} $ and $ x_{2} $, we can find\n",
    "the parameters, $ \\beta_{0} $, $ \\beta_{1} $, and $ \\beta_{2} $, that minimize the sum of $ \\epsilon^{2} $. This process is called ordinary least squares\n",
    "\n",
    "## Logistic Regression\n",
    "\n",
    "Linear regression can be generalized to handle other kinds of dependent variables. If the dependent variable is boolean, the generalized model is called Logistic Regression. If the dependent variable is an integer count, it's called Poisson regression.\n",
    "\n",
    "The problem with using Linear Regression for boolean dependent variables is that it produces predictions that are hard to interpret. Given estimated parameters and values for $ x_{1} $ and $ x_{2} $, the model might predict y = 0.5, but the only meaningful values of y are 0 and 1.\n",
    "\n",
    "It is tempting to interpret a result like that as a probability; for example, we might say that a respondent with particular values of $ x_{1} $ and $ x_{2} $ has a 50% chance of having a boy. But it is also possible for this model to predict y = 1.1 or y = -0.1, and those are not valid probabilities.\n",
    "\n",
    "Logistic regression avoids this problem by expressing predictions in terms of odds rather than probabilities. \"Odds in\n",
    "favor\" of an event is the ratio of the probability it will occur to the probability that it will not.\n",
    "\n",
    "So if I think my team has a 75% chance of winning, I would say that the odds in their favor are three to one, because the chance of winning is three times the chance of losing.\n",
    "\n",
    "Odds and probabilities are di\u000b",
    "erent representations of the same information. Given a probability, you can compute the odds like this:\n",
    "\n",
    "<center style=\"font-size:18px\"> $ o = \\frac{p}{1-p} $ </center>\n",
    "\n",
    "Given odds in favor, you can convert to probability like this:\n",
    "\n",
    "<center style=\"font-size:18px\"> $ p = \\frac{o}{1+o} $ </center>\n",
    "\n",
    "Logistic regression is based on the following model:\n",
    "\n",
    "<center style=\"font-size:18px\"> $ \\log{o} = \\beta_{0} + \\beta_{1}x_{1} + \\beta_{2}x_{2} + \\epsilon $ </center>\n",
    "\n",
    "Where o is the odds in favor of a particular outcome. Suppose we have estimated the parameters $ \\beta_{0} $, $ \\beta_{1} $, and $ \\beta_{2} $. And suppose we are given values for $ x_{1} $ and $ x_{2} $. We can compute the predicted value of log o, and then convert to a probability:\n",
    "<center style=\"font-size:18px\"> $ o = \\exp{\\log{o}} $ <br> $ p = \\frac{o}{1+o} $ </center>\n"
   ]
  },
  {
   "cell_type": "markdown",
   "metadata": {},
   "source": [
    "# Time Series Analysis\n",
    "\n",
    "A time series is a sequence of measurements from a system that varies in time.\n",
    "\n",
    "The example we will work with comes from Zachary M. Jones, a researcher in political science who studies the black market for cannabis in the U.S. (http://zmjones.com/marijuana). He collected data from a web site called \"Price of Weed\" that crowdsources market information by asking participants to report the price, quantity, quality, and location of cannabis transactions (http://www.priceofweed.com/). The goal of his project is to investigate the effect of policy decisions, like legalization, on markets.\n"
   ]
  },
  {
   "cell_type": "code",
   "execution_count": 44,
   "metadata": {
    "ExecuteTime": {
     "end_time": "2020-11-11T13:14:57.233349Z",
     "start_time": "2020-11-11T13:14:56.558317Z"
    }
   },
   "outputs": [
    {
     "name": "stdout",
     "output_type": "stream",
     "text": [
      "(147070, 10)\n"
     ]
    },
    {
     "data": {
      "text/html": [
       "<div>\n",
       "<style scoped>\n",
       "    .dataframe tbody tr th:only-of-type {\n",
       "        vertical-align: middle;\n",
       "    }\n",
       "\n",
       "    .dataframe tbody tr th {\n",
       "        vertical-align: top;\n",
       "    }\n",
       "\n",
       "    .dataframe thead th {\n",
       "        text-align: right;\n",
       "    }\n",
       "</style>\n",
       "<table border=\"1\" class=\"dataframe\">\n",
       "  <thead>\n",
       "    <tr style=\"text-align: right;\">\n",
       "      <th></th>\n",
       "      <th>city</th>\n",
       "      <th>state</th>\n",
       "      <th>price</th>\n",
       "      <th>amount</th>\n",
       "      <th>quality</th>\n",
       "      <th>date</th>\n",
       "      <th>ppg</th>\n",
       "      <th>state.name</th>\n",
       "      <th>lat</th>\n",
       "      <th>lon</th>\n",
       "    </tr>\n",
       "  </thead>\n",
       "  <tbody>\n",
       "    <tr>\n",
       "      <th>0</th>\n",
       "      <td>Annandale</td>\n",
       "      <td>VA</td>\n",
       "      <td>100</td>\n",
       "      <td>7.075</td>\n",
       "      <td>high</td>\n",
       "      <td>2010-09-02</td>\n",
       "      <td>14.13</td>\n",
       "      <td>Virginia</td>\n",
       "      <td>38.830345</td>\n",
       "      <td>-77.213870</td>\n",
       "    </tr>\n",
       "    <tr>\n",
       "      <th>1</th>\n",
       "      <td>Auburn</td>\n",
       "      <td>AL</td>\n",
       "      <td>60</td>\n",
       "      <td>28.300</td>\n",
       "      <td>high</td>\n",
       "      <td>2010-09-02</td>\n",
       "      <td>2.12</td>\n",
       "      <td>Alabama</td>\n",
       "      <td>32.578185</td>\n",
       "      <td>-85.472820</td>\n",
       "    </tr>\n",
       "    <tr>\n",
       "      <th>2</th>\n",
       "      <td>Austin</td>\n",
       "      <td>TX</td>\n",
       "      <td>60</td>\n",
       "      <td>28.300</td>\n",
       "      <td>medium</td>\n",
       "      <td>2010-09-02</td>\n",
       "      <td>2.12</td>\n",
       "      <td>Texas</td>\n",
       "      <td>30.326374</td>\n",
       "      <td>-97.771258</td>\n",
       "    </tr>\n",
       "    <tr>\n",
       "      <th>3</th>\n",
       "      <td>Belleville</td>\n",
       "      <td>IL</td>\n",
       "      <td>400</td>\n",
       "      <td>28.300</td>\n",
       "      <td>high</td>\n",
       "      <td>2010-09-02</td>\n",
       "      <td>14.13</td>\n",
       "      <td>Illinois</td>\n",
       "      <td>38.532311</td>\n",
       "      <td>-89.983521</td>\n",
       "    </tr>\n",
       "    <tr>\n",
       "      <th>4</th>\n",
       "      <td>Boone</td>\n",
       "      <td>NC</td>\n",
       "      <td>55</td>\n",
       "      <td>3.540</td>\n",
       "      <td>high</td>\n",
       "      <td>2010-09-02</td>\n",
       "      <td>15.54</td>\n",
       "      <td>North Carolina</td>\n",
       "      <td>36.217052</td>\n",
       "      <td>-81.687983</td>\n",
       "    </tr>\n",
       "  </tbody>\n",
       "</table>\n",
       "</div>"
      ],
      "text/plain": [
       "         city state  price  amount quality       date    ppg      state.name  \\\n",
       "0   Annandale    VA    100   7.075    high 2010-09-02  14.13        Virginia   \n",
       "1      Auburn    AL     60  28.300    high 2010-09-02   2.12         Alabama   \n",
       "2      Austin    TX     60  28.300  medium 2010-09-02   2.12           Texas   \n",
       "3  Belleville    IL    400  28.300    high 2010-09-02  14.13        Illinois   \n",
       "4       Boone    NC     55   3.540    high 2010-09-02  15.54  North Carolina   \n",
       "\n",
       "         lat        lon  \n",
       "0  38.830345 -77.213870  \n",
       "1  32.578185 -85.472820  \n",
       "2  30.326374 -97.771258  \n",
       "3  38.532311 -89.983521  \n",
       "4  36.217052 -81.687983  "
      ]
     },
     "execution_count": 44,
     "metadata": {},
     "output_type": "execute_result"
    }
   ],
   "source": [
    "transactions = pd.read_csv('../meta/mj-clean.csv', parse_dates=[5])\n",
    "print(transactions.shape)\n",
    "transactions.head()"
   ]
  },
  {
   "cell_type": "markdown",
   "metadata": {},
   "source": [
    "The DataFrame has a row for each reported transaction and the following\n",
    "columns:\n",
    "    \n",
    "Column | Description\n",
    ":---|:---\n",
    "city | string city name.\n",
    "state | two-letter state abbreviation.\n",
    "price | price paid in dollars.\n",
    "amount | quantity purchased in grams.\n",
    "quality | high, medium, or low quality, as reported by the purchaser.\n",
    "date | date of report, presumed to be shortly after date of purchase.\n",
    "ppg | price per gram, in dollars.\n",
    "state.name | string state name.\n",
    "lat | approximate latitude of the transaction, based on city name.\n",
    "lon | approximate longitude of the transaction.\n",
    "\n",
    "Each transaction is an event in time, so we could treat this dataset as a time series. But the events are not equally spaced in time; the number of transactions reported each day varies from 0 to several hundred. Many methods used to analyze time series require the measurements to be equally spaced, or at least things are simpler if they are.\n",
    "\n",
    "In order to demonstrate these methods, We divide the dataset into groups by reported quality, and then transform each group into an equally spaced series by computing the mean daily price per gram."
   ]
  },
  {
   "cell_type": "code",
   "execution_count": 45,
   "metadata": {
    "ExecuteTime": {
     "end_time": "2020-11-11T13:14:57.264911Z",
     "start_time": "2020-11-11T13:14:57.238341Z"
    }
   },
   "outputs": [],
   "source": [
    "def GroupByQualityAndDay(transactions):\n",
    "    groups = transactions.groupby(\"quality\")\n",
    "    dailies = {}\n",
    "    for name, group in groups:\n",
    "        dailies[name] = GroupByDay(group)\n",
    "    return dailies\n",
    "\n",
    "def GroupByDay(transactions, func=np.mean):\n",
    "    grouped = transactions[['date', 'ppg']].groupby('date')\n",
    "    daily = grouped.aggregate(func)\n",
    "    daily['date'] = daily.index\n",
    "    start = daily.date[0]\n",
    "    one_year = np.timedelta64(1, 'Y')\n",
    "    daily['years'] = (daily.date - start) / one_year\n",
    "    return daily"
   ]
  },
  {
   "cell_type": "code",
   "execution_count": 46,
   "metadata": {
    "ExecuteTime": {
     "end_time": "2020-11-11T13:14:57.532542Z",
     "start_time": "2020-11-11T13:14:57.269902Z"
    }
   },
   "outputs": [],
   "source": [
    "transactions_grouped = GroupByQualityAndDay(transactions)\n",
    "transactions_grouped\n",
    "high = pd.DataFrame(transactions_grouped['high'])['ppg']\n",
    "medium = pd.DataFrame(transactions_grouped['medium'])['ppg']\n",
    "low = pd.DataFrame(transactions_grouped['low'])['ppg']"
   ]
  },
  {
   "cell_type": "code",
   "execution_count": 47,
   "metadata": {
    "ExecuteTime": {
     "end_time": "2020-11-11T13:15:00.291266Z",
     "start_time": "2020-11-11T13:14:57.535510Z"
    }
   },
   "outputs": [
    {
     "data": {
      "image/png": "[encoded data removed]",
      "text/plain": [
       "<Figure size 1440x1296 with 3 Axes>"
      ]
     },
     "metadata": {},
     "output_type": "display_data"
    }
   ],
   "source": [
    "fig, ax = plt.subplots(3, 1, figsize=(20, 18))\n",
    "\n",
    "high.plot(style='.', title='High Quality', ax=ax[0]);\n",
    "medium.plot(style='.', title='Medium Quality', ax=ax[1]);\n",
    "low.plot(style='.', title='Low Quality', ax=ax[2]);"
   ]
  },
  {
   "cell_type": "markdown",
   "metadata": {},
   "source": [
    "## Linear regression\n",
    "Although there are methods specific to time series analysis, for many problems a simple way to get started is by applying general-purpose tools like linear regression."
   ]
  },
  {
   "cell_type": "code",
   "execution_count": 48,
   "metadata": {
    "ExecuteTime": {
     "end_time": "2020-11-11T13:15:01.465636Z",
     "start_time": "2020-11-11T13:15:00.294259Z"
    }
   },
   "outputs": [],
   "source": [
    "from sklearn.linear_model import LinearRegression"
   ]
  },
  {
   "cell_type": "code",
   "execution_count": 49,
   "metadata": {
    "ExecuteTime": {
     "end_time": "2020-11-11T13:15:01.496590Z",
     "start_time": "2020-11-11T13:15:01.469625Z"
    }
   },
   "outputs": [],
   "source": [
    "def fit_lin_reg(df):\n",
    "    model = LinearRegression().fit(df.index.astype(int).values.reshape(-1, 1)//1e9, df.values)\n",
    "    return {\n",
    "        'Intercept': model.intercept_,\n",
    "        'Slope': model.coef_[0],\n",
    "        'R2Score': model.score(df.index.astype(int).values.reshape(-1, 1)//1e9, df.values)\n",
    "    }"
   ]
  },
  {
   "cell_type": "code",
   "execution_count": 50,
   "metadata": {
    "ExecuteTime": {
     "end_time": "2020-11-11T13:15:01.637186Z",
     "start_time": "2020-11-11T13:15:01.500743Z"
    }
   },
   "outputs": [
    {
     "data": {
      "text/html": [
       "<div>\n",
       "<style scoped>\n",
       "    .dataframe tbody tr th:only-of-type {\n",
       "        vertical-align: middle;\n",
       "    }\n",
       "\n",
       "    .dataframe tbody tr th {\n",
       "        vertical-align: top;\n",
       "    }\n",
       "\n",
       "    .dataframe thead th {\n",
       "        text-align: right;\n",
       "    }\n",
       "</style>\n",
       "<table border=\"1\" class=\"dataframe\">\n",
       "  <thead>\n",
       "    <tr style=\"text-align: right;\">\n",
       "      <th></th>\n",
       "      <th>Intercept</th>\n",
       "      <th>Slope</th>\n",
       "      <th>R2Score</th>\n",
       "    </tr>\n",
       "  </thead>\n",
       "  <tbody>\n",
       "    <tr>\n",
       "      <th>high</th>\n",
       "      <td>42.251604</td>\n",
       "      <td>-2.244217e-08</td>\n",
       "      <td>0.444078</td>\n",
       "    </tr>\n",
       "    <tr>\n",
       "      <th>medium</th>\n",
       "      <td>-2.638011</td>\n",
       "      <td>8.974030e-09</td>\n",
       "      <td>0.049905</td>\n",
       "    </tr>\n",
       "    <tr>\n",
       "      <th>low</th>\n",
       "      <td>-17.752336</td>\n",
       "      <td>1.801013e-08</td>\n",
       "      <td>0.029596</td>\n",
       "    </tr>\n",
       "  </tbody>\n",
       "</table>\n",
       "</div>"
      ],
      "text/plain": [
       "        Intercept         Slope   R2Score\n",
       "high    42.251604 -2.244217e-08  0.444078\n",
       "medium  -2.638011  8.974030e-09  0.049905\n",
       "low    -17.752336  1.801013e-08  0.029596"
      ]
     },
     "execution_count": 50,
     "metadata": {},
     "output_type": "execute_result"
    }
   ],
   "source": [
    "pd.DataFrame([fit_lin_reg(high), fit_lin_reg(medium), fit_lin_reg(low)], index=['high', 'medium', 'low'])"
   ]
  },
  {
   "cell_type": "markdown",
   "metadata": {},
   "source": [
    "The model seems like a good linear fit for the data; nevertheless, linear regression is not the most appropriate choice for this data:\n",
    "* First, there is no reason to expect the long-term trend to be a line or any other simple function. In general, prices are determined by supply and demand, both of which vary over time in unpredictable ways.\n",
    "* Second, the linear regression model gives equal weight to all data, recent and past. For purposes of prediction, we should probably give more weight to recent data.\n",
    "* Finally, one of the assumptions of linear regression is that the residuals are uncorrelated noise. With time series data, this assumption is often false because successive values are correlated."
   ]
  },
  {
   "cell_type": "markdown",
   "metadata": {},
   "source": [
    "## Moving Averages\n",
    "\n",
    "Most time series analysis is based on the modeling assumption that the observed series is the sum of three components:\n",
    "* Trend: A smooth function that captures persistent changes.\n",
    "* Seasonality: Periodic variation, possibly including daily, weekly, monthly, or yearly cycles.\n",
    "* Noise: Random variation around the long-term trend.\n",
    "\n",
    "Regression is one way to extract the trend from a series. But if the trend is not a simple function, a good alternative is a moving average. A moving average divides the series into overlapping regions, called windows, and computes the average of the values in each window.\n",
    "\n",
    "One of the simplest moving averages is the rolling mean, which computes the mean of the values in each window.\n",
    "\n",
    "Before we can apply rolling_mean to the cannabis data, we have to deal with missing values. There are a few days in the observed interval with no reported transactions for one or more quality categories, and a period in 2013 when data collection was not active.\n",
    "\n",
    "In the DataFrames we have used so far, these dates are absent; the index skips days with no data. For the analysis that follows, we need to represent this missing data explicitly. We can do that by \"reindexing\" the DataFrame"
   ]
  },
  {
   "cell_type": "code",
   "execution_count": 51,
   "metadata": {
    "ExecuteTime": {
     "end_time": "2020-11-11T13:15:01.746978Z",
     "start_time": "2020-11-11T13:15:01.640179Z"
    }
   },
   "outputs": [],
   "source": [
    "def reindex_df(daily):\n",
    "    dates = pd.date_range(daily.index.min(), daily.index.max())\n",
    "    return daily.reindex(dates)"
   ]
  },
  {
   "cell_type": "code",
   "execution_count": 52,
   "metadata": {
    "ExecuteTime": {
     "end_time": "2020-11-11T13:15:01.888922Z",
     "start_time": "2020-11-11T13:15:01.749885Z"
    }
   },
   "outputs": [],
   "source": [
    "high = reindex_df(high)\n",
    "medium = reindex_df(medium)\n",
    "low = reindex_df(low)"
   ]
  },
  {
   "cell_type": "code",
   "execution_count": 53,
   "metadata": {
    "ExecuteTime": {
     "end_time": "2020-11-11T13:15:05.400999Z",
     "start_time": "2020-11-11T13:15:01.892910Z"
    }
   },
   "outputs": [
    {
     "data": {
      "image/png": "[encoded data removed]",
      "text/plain": [
       "<Figure size 1440x864 with 3 Axes>"
      ]
     },
     "metadata": {},
     "output_type": "display_data"
    }
   ],
   "source": [
    "fig, ax = plt.subplots(3, 1, figsize=(20, 12))\n",
    "fig.suptitle('Rolling Mean', fontsize=24)\n",
    "high.rolling(window=30).mean().plot(style='.', title='High Quality', ax=ax[0])\n",
    "medium.rolling(window=30).mean().plot(style='.', title='Medium Quality', ax=ax[1])\n",
    "low.rolling(window=30).mean().plot(style='.', title='Low Quality', ax=ax[2]);"
   ]
  },
  {
   "cell_type": "code",
   "execution_count": 54,
   "metadata": {
    "ExecuteTime": {
     "end_time": "2020-11-11T13:15:09.208311Z",
     "start_time": "2020-11-11T13:15:05.403992Z"
    }
   },
   "outputs": [
    {
     "data": {
      "image/png": "[encoded data removed]",
      "text/plain": [
       "<Figure size 1440x864 with 3 Axes>"
      ]
     },
     "metadata": {},
     "output_type": "display_data"
    }
   ],
   "source": [
    "fig, ax = plt.subplots(3, 1, figsize=(20, 12))\n",
    "fig.suptitle('Exponentially Weighted Rolling Average', fontsize=24)\n",
    "high.ewm(span=30).mean().plot(style='.', title='High Quality', ax=ax[0])\n",
    "medium.ewm(span=30).mean().plot(style='.', title='Medium Quality', ax=ax[1])\n",
    "low.ewm(span=30).mean().plot(style='.', title='Low Quality', ax=ax[2]);"
   ]
  },
  {
   "cell_type": "markdown",
   "metadata": {},
   "source": [
    "## Missing values\n",
    "Now that we have characterized the trend of the time series, the next step is to investigate seasonality, which is periodic behavior. Time series data based on human behavior often exhibits daily, weekly, monthly, or yearly cycles.\n",
    "\n",
    "The methods to test for seasonality don't work well with missing data, so we have to solve that problem first.\n",
    "A simple and common way to fill missing data is to use a moving average."
   ]
  },
  {
   "cell_type": "code",
   "execution_count": 55,
   "metadata": {
    "ExecuteTime": {
     "end_time": "2020-11-11T13:15:09.224297Z",
     "start_time": "2020-11-11T13:15:09.211303Z"
    }
   },
   "outputs": [],
   "source": [
    "high.interpolate(method='time', inplace=True)\n",
    "medium.interpolate(method='time', inplace=True)\n",
    "low.interpolate(method='time', inplace=True)"
   ]
  },
  {
   "cell_type": "markdown",
   "metadata": {},
   "source": [
    "## Serial correlation\n",
    "As prices vary from day to day, you might expect to see patterns. If the price is high on Monday, you might expect it to be high for a few more days; and if it's low, you might expect it to stay low. A pattern like this is called serial correlation, because each value is correlated with the next one in the series.\n",
    "\n",
    "To compute serial correlation, we can shift the time series by an interval called a lag, and then compute the correlation of the shifted series with the original"
   ]
  },
  {
   "cell_type": "code",
   "execution_count": 56,
   "metadata": {
    "ExecuteTime": {
     "end_time": "2020-11-11T13:15:09.379509Z",
     "start_time": "2020-11-11T13:15:09.227261Z"
    }
   },
   "outputs": [],
   "source": [
    "def SerialCorr(series, lag=1):\n",
    "    xs = series[lag:]\n",
    "    ys = series.shift(lag)[lag:]\n",
    "    corr = Corr(xs, ys)\n",
    "    return corr"
   ]
  },
  {
   "cell_type": "code",
   "execution_count": 57,
   "metadata": {
    "ExecuteTime": {
     "end_time": "2020-11-11T13:15:09.632817Z",
     "start_time": "2020-11-11T13:15:09.389740Z"
    }
   },
   "outputs": [
    {
     "data": {
      "text/plain": [
       "(0.5672644418275086, 0.4431379114215992, 1.9868937733189724)"
      ]
     },
     "execution_count": 57,
     "metadata": {},
     "output_type": "execute_result"
    }
   ],
   "source": [
    "SerialCorr(high), SerialCorr(medium), SerialCorr(low)"
   ]
  },
  {
   "cell_type": "markdown",
   "metadata": {},
   "source": [
    "## Autocorrelation\n",
    "If you think a series might have some serial correlation, but you don't know which lags to test, you can test them all! The autocorrelation function is a function that maps from lag to the serial correlation with the given lag. \"Autocorrelation\" is another name for serial correlation, used more often when the lag is not 1."
   ]
  },
  {
   "cell_type": "code",
   "execution_count": 58,
   "metadata": {
    "ExecuteTime": {
     "end_time": "2020-11-11T13:15:11.614431Z",
     "start_time": "2020-11-11T13:15:09.641794Z"
    }
   },
   "outputs": [
    {
     "data": {
      "image/png": "[encoded data removed]",
      "text/plain": [
       "<Figure size 432x288 with 1 Axes>"
      ]
     },
     "metadata": {},
     "output_type": "display_data"
    },
    {
     "data": {
      "image/png": "[encoded data removed]",
      "text/plain": [
       "<Figure size 432x288 with 1 Axes>"
      ]
     },
     "metadata": {},
     "output_type": "display_data"
    },
    {
     "data": {
      "image/png": "[encoded data removed]",
      "text/plain": [
       "<Figure size 432x288 with 1 Axes>"
      ]
     },
     "metadata": {},
     "output_type": "display_data"
    }
   ],
   "source": [
    "from statsmodels.graphics.tsaplots import plot_acf\n",
    "plot_acf(high, title='High Quality', lags=365)\n",
    "plot_acf(medium, title='Medium Quality', lags=365)\n",
    "plot_acf(low, title='Low Quality', lags=365);"
   ]
  },
  {
   "cell_type": "markdown",
   "metadata": {},
   "source": [
    "## Prediction\n",
    "Time series analysis can be used to investigate, and sometimes explain, the behavior of systems that vary in time. It can also make predictions.\n",
    "\n",
    "There are three sources of error we should take into account:\n",
    "* Sampling error: The prediction is based on estimated parameters, which depend on random variation in the sample. If we run the experiment again, we expect the estimates to vary.\n",
    "* Random variation: Even if the estimated parameters are perfect, the observed data varies randomly around the long-term trend, and we expect this variation to continue in the future.\n",
    "* Modeling error: We have already seen evidence that the long-term trend is not linear, so predictions based on a linear model will eventually fail.\n",
    "\n",
    "Another source of error to consider is unexpected future events. Agricultural prices are affected by weather, and all prices are affected by politics and law."
   ]
  },
  {
   "cell_type": "markdown",
   "metadata": {},
   "source": [
    "# Survival analysis\n",
    "Survival analysis is a way to describe how long things last. It is often used to study human lifetimes, but it also applies to “survival” of mechanical and electronic components, or more generally to intervals in time before an event.\n",
    "\n",
    "If someone you know has been diagnosed with a life-threatening disease, you might have seen a “5-year survival rate,” which is the probability of surviving five years after diagnosis. That estimate and related statistics are the result of survival analysis.\n",
    "\n",
    "##  Survival curves\n",
    "The fundamental concept in survival analysis is the survival curve, S(t), which is a function that maps from a duration, t, to the probability of surviving longer than t. If you know the distribution of durations, or “lifetimes”, finding the survival curve is easy; it’s just the complement of the CDF\n",
    "\n",
    "<center style=\"font-size:18px\"> $ S(t) = 1 − CDF(t) $ </center>\n",
    "\n",
    "where CDF(t) is the probability of a lifetime less than or equal to t\n",
    "\n",
    "## Hazard function\n",
    "From the survival curve we can derive the hazard function:\n",
    "<center style=\"font-size:18px\"> $ \\lambda(t) = \\frac{S(t)-S(t+1)}{S(t)} $ </center>    \n",
    "\n",
    "The numerator is the fraction of lifetimes that end at t, which is also PMF(t)"
   ]
  },
  {
   "cell_type": "code",
   "execution_count": 59,
   "metadata": {
    "ExecuteTime": {
     "end_time": "2020-11-11T13:15:12.815584Z",
     "start_time": "2020-11-11T13:15:11.616394Z"
    }
   },
   "outputs": [
    {
     "data": {
      "image/png": "[encoded data removed]",
      "text/plain": [
       "<Figure size 432x288 with 1 Axes>"
      ]
     },
     "metadata": {},
     "output_type": "display_data"
    }
   ],
   "source": [
    "x = np.linspace(-5, 5, 1000)\n",
    "plt.plot(x, [scipy.stats.norm.cdf(i, 0, 1) for i in x], label='CDF Normal Distribution')\n",
    "plt.plot(x, [1-scipy.stats.norm.cdf(i, 0, 1) for i in x], label='Survival Curve Normal Distribution')\n",
    "plt.plot(x, [1 - (1-scipy.stats.norm.cdf(i+1, 0, 1) / 1-scipy.stats.norm.cdf(i, 0, 1)) for i in x],\n",
    "         label='Hazard Function Normal Distribution')\n",
    "plt.legend();"
   ]
  },
  {
   "cell_type": "code",
   "execution_count": 60,
   "metadata": {
    "ExecuteTime": {
     "end_time": "2020-11-11T13:15:13.350316Z",
     "start_time": "2020-11-11T13:15:12.817580Z"
    }
   },
   "outputs": [
    {
     "data": {
      "image/png": "[encoded data removed]",
      "text/plain": [
       "<Figure size 432x288 with 1 Axes>"
      ]
     },
     "metadata": {},
     "output_type": "display_data"
    }
   ],
   "source": [
    "x = np.linspace(0, 2, 100)\n",
    "plt.plot(x, [1-np.exp(-1*i) for i in x], label='CDF Exponential Distribution')\n",
    "plt.plot(x, [np.exp(-1*i) for i in x], label='Surival Curve Exponential Distribution')\n",
    "plt.plot(x, [- np.exp(i) for i in x], label='Hazard Function Exponential Distribution')\n",
    "plt.legend();"
   ]
  },
  {
   "cell_type": "markdown",
   "metadata": {},
   "source": [
    "## Inferring survival curves\n",
    "If someone gives you the CDF of lifetimes, it is easy to compute the survival and hazard functions. But in many real-world scenarios, we can’t measure the distribution of lifetimes directly. We have to infer it.\n",
    "\n",
    "For example, suppose you are following a group of patients to see how long they survive after diagnosis. Not all patients are diagnosed on the same day, so at any point in time, some patients have survived longer than others. If some patients have died, we know their survival times. For patients who are still alive, we don’t know survival times, but we have a lower bound.\n",
    "\n",
    "If we wait until all patients are dead, we can compute the survival curve, but if we are evaluating the effectiveness of a new treatment, we can’t wait that long! We need a way to estimate survival curves using incomplete information.\n",
    "\n",
    "As a more cheerful example, I will use NSFG data to quantify how long respondents “survive” until they get married for the first time. The range of respondents’ ages is 14 to 44 years, so the dataset provides a snapshot of women at different stages in their lives.\n",
    "\n",
    "For women who have been married, the dataset includes the date of their first marriage and their age at the time. For women who have not been married, we know their age when interviewed, but have no way of knowing when or if they will get married. \n",
    "\n",
    "Since we know the age at first marriage for some women, it might be tempting to exclude the rest and compute the CDF of the known data. That is a bad idea. The result would be doubly misleading: (1) older women would be overrepresented, because they are more likely to be married when interviewed, and (2) married women would be overrepresented! In fact, this analysis would lead to the conclusion that all women get married, which is obviously incorrect."
   ]
  },
  {
   "cell_type": "markdown",
   "metadata": {},
   "source": [
    "## Kaplan-Meier estimation\n",
    "\n",
    "The general idea is that we can use the data to estimate the hazard function, then convert the hazard function to a survival curve. \n",
    "\n",
    "To estimate the hazard function, we consider, for each age, (1) the number of women who got married at that age and (2) the number of women “at risk” of getting married, which includes all women who were not married at an earlier age.\n",
    "\n",
    "The chance of surviving past time t is the chance of surviving all times up through t, which is the cumulative product of the complementary hazard function\n",
    "\n",
    "<center style=\"font-size:18px\"> $ [1 − \\lambda(0)][1 − \\lambda(1)] . . . [1 − \\lambda(t)] $ </center>   \n",
    "\n",
    "##  Cohort effects\n",
    "One of the challenges of survival analysis is that different parts of the estimated curve are based on different groups of respondents. The part of the curve at time t is based on respondents whose age was at least t when they were interviewed. So the leftmost part of the curve includes data from all respondents, but the rightmost part includes only the oldest respondents.\n",
    "If the relevant characteristics of the respondents are not changing over time, that’s fine, but in this case it seems likely that marriage patterns are different for women born in different generations. We can investigate this effect by grouping respondents according to their decade of birth. Groups like this, defined by date of birth or similar events, are called cohorts, and differences between the groups are called cohort effects."
   ]
  },
  {
   "cell_type": "code",
   "execution_count": null,
   "metadata": {},
   "outputs": [],
   "source": []
  }
 ],
 "metadata": {
  "kernelspec": {
   "display_name": "Python 3",
   "language": "python",
   "name": "python3"
  },
  "language_info": {
   "codemirror_mode": {
    "name": "ipython",
    "version": 3
   },
   "file_extension": ".py",
   "mimetype": "text/x-python",
   "name": "python",
   "nbconvert_exporter": "python",
   "pygments_lexer": "ipython3",
   "version": "3.7.7"
  },
  "toc": {
   "base_numbering": 1,
   "nav_menu": {},
   "number_sections": true,
   "sideBar": true,
   "skip_h1_title": false,
   "title_cell": "Table of Contents",
   "title_sidebar": "Contents",
   "toc_cell": false,
   "toc_position": {},
   "toc_section_display": true,
   "toc_window_display": false
  },
  "varInspector": {
   "cols": {
    "lenName": 16,
    "lenType": 16,
    "lenVar": 40
   },
   "kernels_config": {
    "python": {
     "delete_cmd_postfix": "",
     "delete_cmd_prefix": "del ",
     "library": "var_list.py",
     "varRefreshCmd": "print(var_dic_list())"
    },
    "r": {
     "delete_cmd_postfix": ") ",
     "delete_cmd_prefix": "rm(",
     "library": "var_list.r",
     "varRefreshCmd": "cat(var_dic_list()) "
    }
   },
   "types_to_exclude": [
    "module",
    "function",
    "builtin_function_or_method",
    "instance",
    "_Feature"
   ],
   "window_display": false
  }
 },
 "nbformat": 4,
 "nbformat_minor": 4
}
