{
 "cells": [
  {
   "cell_type": "code",
   "execution_count": null,
   "metadata": {
    "ExecuteTime": {
     "end_time": "2020-10-24T08:13:26.947520Z",
     "start_time": "2020-10-24T08:13:26.320200Z"
    }
   },
   "outputs": [],
   "source": [
    "import numpy as np\n",
    "import matplotlib.pyplot as plt\n",
    "import cv2"
   ]
  },
  {
   "cell_type": "code",
   "execution_count": null,
   "metadata": {
    "ExecuteTime": {
     "end_time": "2020-10-24T08:13:27.613740Z",
     "start_time": "2020-10-24T08:13:26.950512Z"
    }
   },
   "outputs": [],
   "source": [
    "img1 = cv2.imread('E:/img1.png')\n",
    "img2 = cv2.imread('E:/img2.png')\n",
    "img1 = cv2.cvtColor(img1, cv2.COLOR_BGR2RGB)\n",
    "img2 = cv2.cvtColor(img2, cv2.COLOR_BGR2RGB)"
   ]
  },
  {
   "cell_type": "code",
   "execution_count": null,
   "metadata": {
    "ExecuteTime": {
     "end_time": "2020-10-24T08:13:27.620722Z",
     "start_time": "2020-10-24T08:13:26.326Z"
    }
   },
   "outputs": [],
   "source": [
    "img2 = cv2.resize(img2,((img2.shape[1]*4)//10,(img2.shape[0]*4)//10))\n",
    "print(img1.shape)\n",
    "print(img2.shape)"
   ]
  },
  {
   "cell_type": "code",
   "execution_count": null,
   "metadata": {
    "ExecuteTime": {
     "end_time": "2020-10-24T08:13:27.623715Z",
     "start_time": "2020-10-24T08:13:26.330Z"
    }
   },
   "outputs": [],
   "source": [
    "x_offset=1400-614\n",
    "y_offset=0"
   ]
  },
  {
   "cell_type": "code",
   "execution_count": null,
   "metadata": {
    "ExecuteTime": {
     "end_time": "2020-10-24T08:13:27.625709Z",
     "start_time": "2020-10-24T08:13:26.333Z"
    }
   },
   "outputs": [],
   "source": [
    "roi = img1[y_offset:345,x_offset:1400]\n",
    "plt.imshow(roi)"
   ]
  },
  {
   "cell_type": "code",
   "execution_count": null,
   "metadata": {
    "ExecuteTime": {
     "end_time": "2020-10-24T08:13:27.628701Z",
     "start_time": "2020-10-24T08:13:26.336Z"
    }
   },
   "outputs": [],
   "source": [
    "mask_inv = (cv2.cvtColor(img2,cv2.COLOR_BGR2GRAY))\n",
    "plt.imshow(mask_inv,cmap='gray')"
   ]
  },
  {
   "cell_type": "code",
   "execution_count": null,
   "metadata": {
    "ExecuteTime": {
     "end_time": "2020-10-24T08:13:27.631693Z",
     "start_time": "2020-10-24T08:13:26.341Z"
    }
   },
   "outputs": [],
   "source": [
    "fg = cv2.bitwise_not(cv2.bitwise_or(img2, img2, mask=mask_inv))\n",
    "plt.imshow(fg)"
   ]
  },
  {
   "cell_type": "code",
   "execution_count": null,
   "metadata": {
    "ExecuteTime": {
     "end_time": "2020-10-24T08:13:27.633687Z",
     "start_time": "2020-10-24T08:13:26.345Z"
    }
   },
   "outputs": [],
   "source": [
    "final_roi = cv2.bitwise_or(roi,fg)\n",
    "plt.imshow(final_roi)"
   ]
  },
  {
   "cell_type": "code",
   "execution_count": null,
   "metadata": {
    "ExecuteTime": {
     "end_time": "2020-10-24T08:13:27.635682Z",
     "start_time": "2020-10-24T08:13:26.347Z"
    }
   },
   "outputs": [],
   "source": [
    "large_img = img1.copy()"
   ]
  },
  {
   "cell_type": "code",
   "execution_count": null,
   "metadata": {
    "ExecuteTime": {
     "end_time": "2020-10-24T08:13:27.637676Z",
     "start_time": "2020-10-24T08:13:26.350Z"
    }
   },
   "outputs": [],
   "source": [
    "large_img[y_offset:y_offset+final_roi.shape[0], x_offset:x_offset+final_roi.shape[1]] = final_roi\n",
    "\n",
    "plt.imshow(large_img)"
   ]
  },
  {
   "cell_type": "code",
   "execution_count": null,
   "metadata": {},
   "outputs": [],
   "source": []
  }
 ],
 "metadata": {
  "kernelspec": {
   "display_name": "Python 3",
   "language": "python",
   "name": "python3"
  },
  "language_info": {
   "codemirror_mode": {
    "name": "ipython",
    "version": 3
   },
   "file_extension": ".py",
   "mimetype": "text/x-python",
   "name": "python",
   "nbconvert_exporter": "python",
   "pygments_lexer": "ipython3",
   "version": "3.7.7"
  },
  "toc": {
   "base_numbering": 1,
   "nav_menu": {},
   "number_sections": true,
   "sideBar": true,
   "skip_h1_title": false,
   "title_cell": "Table of Contents",
   "title_sidebar": "Contents",
   "toc_cell": false,
   "toc_position": {},
   "toc_section_display": true,
   "toc_window_display": false
  },
  "varInspector": {
   "cols": {
    "lenName": 16,
    "lenType": 16,
    "lenVar": 40
   },
   "kernels_config": {
    "python": {
     "delete_cmd_postfix": "",
     "delete_cmd_prefix": "del ",
     "library": "var_list.py",
     "varRefreshCmd": "print(var_dic_list())"
    },
    "r": {
     "delete_cmd_postfix": ") ",
     "delete_cmd_prefix": "rm(",
     "library": "var_list.r",
     "varRefreshCmd": "cat(var_dic_list()) "
    }
   },
   "types_to_exclude": [
    "module",
    "function",
    "builtin_function_or_method",
    "instance",
    "_Feature"
   ],
   "window_display": false
  }
 },
 "nbformat": 4,
 "nbformat_minor": 2
}
