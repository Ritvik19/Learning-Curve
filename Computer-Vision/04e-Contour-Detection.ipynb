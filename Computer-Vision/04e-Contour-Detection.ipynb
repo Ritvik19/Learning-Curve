{
 "cells": [
  {
   "cell_type": "code",
   "execution_count": 1,
   "metadata": {
    "ExecuteTime": {
     "end_time": "2020-10-24T07:03:24.254020Z",
     "start_time": "2020-10-24T07:03:23.558881Z"
    }
   },
   "outputs": [],
   "source": [
    "import cv2\n",
    "import numpy as np\n",
    "import matplotlib.pyplot as plt"
   ]
  },
  {
   "cell_type": "code",
   "execution_count": 2,
   "metadata": {
    "ExecuteTime": {
     "end_time": "2020-10-24T07:03:24.493382Z",
     "start_time": "2020-10-24T07:03:24.257014Z"
    }
   },
   "outputs": [
    {
     "data": {
      "text/plain": [
       "<matplotlib.image.AxesImage at 0x1ac99eed3c8>"
      ]
     },
     "execution_count": 2,
     "metadata": {},
     "output_type": "execute_result"
    },
    {
     "data": {
      "image/png": "[encoded data removed]",
      "text/plain": [
       "<Figure size 432x288 with 1 Axes>"
      ]
     },
     "metadata": {
      "needs_background": "light"
     },
     "output_type": "display_data"
    }
   ],
   "source": [
    "img = cv2.imread('../meta/internal_external.png',0)\n",
    "plt.imshow(img,cmap='gray')"
   ]
  },
  {
   "cell_type": "markdown",
   "metadata": {},
   "source": [
    "# Contours\n",
    "**findContours**\n",
    "\n",
    "function will return back contours in an image, and based on the RETR method called, you can get back external, internal, or both:\n",
    "\n",
    "* cv2.RETR_EXTERNAL:Only extracts external contours\n",
    "* cv2.RETR_CCOMP: Extracts both internal and external contours organized in a two-level hierarchy\n",
    "* cv2.RETR_TREE: Extracts both internal and external contours organized in a  tree graph\n",
    "* cv2.RETR_LIST: Extracts all contours without any internal/external relationship"
   ]
  },
  {
   "cell_type": "code",
   "execution_count": 3,
   "metadata": {
    "ExecuteTime": {
     "end_time": "2020-10-24T07:03:24.541259Z",
     "start_time": "2020-10-24T07:03:24.496375Z"
    }
   },
   "outputs": [],
   "source": [
    "contours, hierarchy = cv2.findContours(img, cv2.RETR_CCOMP, cv2.CHAIN_APPROX_SIMPLE)"
   ]
  },
  {
   "cell_type": "code",
   "execution_count": 4,
   "metadata": {
    "ExecuteTime": {
     "end_time": "2020-10-24T07:03:24.762665Z",
     "start_time": "2020-10-24T07:03:24.547238Z"
    }
   },
   "outputs": [
    {
     "data": {
      "text/plain": [
       "array([[[ 4, -1,  1, -1],\n",
       "        [ 2, -1, -1,  0],\n",
       "        [ 3,  1, -1,  0],\n",
       "        [-1,  2, -1,  0],\n",
       "        [21,  0,  5, -1],\n",
       "        [ 6, -1, -1,  4],\n",
       "        [ 7,  5, -1,  4],\n",
       "        [ 8,  6, -1,  4],\n",
       "        [ 9,  7, -1,  4],\n",
       "        [10,  8, -1,  4],\n",
       "        [11,  9, -1,  4],\n",
       "        [12, 10, -1,  4],\n",
       "        [13, 11, -1,  4],\n",
       "        [14, 12, -1,  4],\n",
       "        [15, 13, -1,  4],\n",
       "        [16, 14, -1,  4],\n",
       "        [17, 15, -1,  4],\n",
       "        [18, 16, -1,  4],\n",
       "        [19, 17, -1,  4],\n",
       "        [20, 18, -1,  4],\n",
       "        [-1, 19, -1,  4],\n",
       "        [-1,  4, -1, -1]]], dtype=int32)"
      ]
     },
     "execution_count": 4,
     "metadata": {},
     "output_type": "execute_result"
    }
   ],
   "source": [
    "hierarchy"
   ]
  },
  {
   "cell_type": "code",
   "execution_count": 5,
   "metadata": {
    "ExecuteTime": {
     "end_time": "2020-10-24T07:03:25.297235Z",
     "start_time": "2020-10-24T07:03:24.764657Z"
    }
   },
   "outputs": [
    {
     "data": {
      "text/plain": [
       "<matplotlib.image.AxesImage at 0x1ac9afde208>"
      ]
     },
     "execution_count": 5,
     "metadata": {},
     "output_type": "execute_result"
    },
    {
     "data": {
      "image/png": "[encoded data removed]",
      "text/plain": [
       "<Figure size 432x288 with 1 Axes>"
      ]
     },
     "metadata": {
      "needs_background": "light"
     },
     "output_type": "display_data"
    }
   ],
   "source": [
    "external_contours = np.zeros(img.shape)\n",
    "\n",
    "for i in range(len(contours)):\n",
    "    if hierarchy[0][i][3] == -1:\n",
    "        cv2.drawContours(external_contours, contours, i, 255, -1)\n",
    "plt.imshow(external_contours,cmap='gray')      "
   ]
  },
  {
   "cell_type": "code",
   "execution_count": 6,
   "metadata": {
    "ExecuteTime": {
     "end_time": "2020-10-24T07:03:25.630347Z",
     "start_time": "2020-10-24T07:03:25.300226Z"
    }
   },
   "outputs": [
    {
     "data": {
      "text/plain": [
       "<matplotlib.image.AxesImage at 0x1ac9bb27fc8>"
      ]
     },
     "execution_count": 6,
     "metadata": {},
     "output_type": "execute_result"
    },
    {
     "data": {
      "image/png": "[encoded data removed]",
      "text/plain": [
       "<Figure size 432x288 with 1 Axes>"
      ]
     },
     "metadata": {
      "needs_background": "light"
     },
     "output_type": "display_data"
    }
   ],
   "source": [
    "internal_contours = np.zeros(img.shape)\n",
    "\n",
    "for i in range(len(contours)):\n",
    "    if hierarchy[0][i][3] != -1:\n",
    "        cv2.drawContours(internal_contours, contours, i, 255, -1)\n",
    "plt.imshow(internal_contours,cmap='gray')        "
   ]
  },
  {
   "cell_type": "code",
   "execution_count": 7,
   "metadata": {
    "ExecuteTime": {
     "end_time": "2020-10-24T07:03:25.961458Z",
     "start_time": "2020-10-24T07:03:25.633335Z"
    }
   },
   "outputs": [
    {
     "data": {
      "image/png": "[encoded data removed]",
      "text/plain": [
       "<Figure size 1440x864 with 3 Axes>"
      ]
     },
     "metadata": {
      "needs_background": "light"
     },
     "output_type": "display_data"
    }
   ],
   "source": [
    "fig, ax = plt.subplots(1, 3, figsize=(20, 12))\n",
    "for idx, val in enumerate([-1, 0, 4]):\n",
    "    img_contours = np.zeros(img.shape)\n",
    "\n",
    "    for i in range(len(contours)):\n",
    "        if hierarchy[0][i][3] == val:\n",
    "            cv2.drawContours(img_contours, contours, i, 255, -1)\n",
    "    ax[idx].imshow(img_contours,cmap='gray')  \n",
    "    ax[idx].set_title(f\"{val}\")\n",
    "    ax[idx].set_axis_off()"
   ]
  },
  {
   "cell_type": "code",
   "execution_count": null,
   "metadata": {},
   "outputs": [],
   "source": []
  }
 ],
 "metadata": {
  "kernelspec": {
   "display_name": "Python 3",
   "language": "python",
   "name": "python3"
  },
  "language_info": {
   "codemirror_mode": {
    "name": "ipython",
    "version": 3
   },
   "file_extension": ".py",
   "mimetype": "text/x-python",
   "name": "python",
   "nbconvert_exporter": "python",
   "pygments_lexer": "ipython3",
   "version": "3.7.7"
  },
  "toc": {
   "base_numbering": 1,
   "nav_menu": {},
   "number_sections": true,
   "sideBar": true,
   "skip_h1_title": false,
   "title_cell": "Table of Contents",
   "title_sidebar": "Contents",
   "toc_cell": false,
   "toc_position": {},
   "toc_section_display": true,
   "toc_window_display": false
  },
  "varInspector": {
   "cols": {
    "lenName": 16,
    "lenType": 16,
    "lenVar": 40
   },
   "kernels_config": {
    "python": {
     "delete_cmd_postfix": "",
     "delete_cmd_prefix": "del ",
     "library": "var_list.py",
     "varRefreshCmd": "print(var_dic_list())"
    },
    "r": {
     "delete_cmd_postfix": ") ",
     "delete_cmd_prefix": "rm(",
     "library": "var_list.r",
     "varRefreshCmd": "cat(var_dic_list()) "
    }
   },
   "types_to_exclude": [
    "module",
    "function",
    "builtin_function_or_method",
    "instance",
    "_Feature"
   ],
   "window_display": false
  }
 },
 "nbformat": 4,
 "nbformat_minor": 2
}
