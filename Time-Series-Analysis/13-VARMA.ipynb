{
 "cells": [
  {
   "cell_type": "markdown",
   "metadata": {},
   "source": [
    "# Vector Autoregressive Moving Average: VARMA(p,q)\n",
    "The system of equations for a 2-dimensional VAR(1) model is:\n",
    "\n",
    "&nbsp;&nbsp;&nbsp;&nbsp;$y_{1,t} = c_1 + \\phi_{11,1}y_{1,t-1} + \\phi_{12,1}y_{2,t-1} + \\varepsilon_{1,t}$<br>\n",
    "&nbsp;&nbsp;&nbsp;&nbsp;$y_{2,t} = c_2 + \\phi_{21,1}y_{1,t-1} + \\phi_{22,1}y_{2,t-1} + \\varepsilon_{2,t}$\n",
    "\n",
    "where the coefficient $\\phi_{ii,l}$ captures the influence of the $l$th lag of variable $y_i$ on itself,<br>\n",
    "the coefficient $\\phi_{ij,l}$ captures the influence of the $l$th lag of variable $y_j$ on $y_i$.<br>\n",
    "Most importantly, $\\varepsilon_{1,t}$ and $\\varepsilon_{2,t}$ are white noise processes that may be correlated.<br>\n",
    "\n",
    "In a <strong>VARMA(p,q)</strong> model we give the error terms $\\varepsilon_t$ a moving average representation of order $q$.\n",
    "\n",
    "\n",
    "## Formulation\n",
    "We've seen that an autoregressive moving average ARMA(p,q) model is described by the following:\n",
    "\n",
    "&nbsp;&nbsp;&nbsp;&nbsp; $y_{t} = c + \\phi_{1}y_{t-1} + \\phi_{2}y_{t-2} + \\dots + \\phi_{p}y_{t-p} + \\theta_{1}\\varepsilon_{t-1} + \\theta_{2}\\varepsilon_{t-2} + \\dots + \\theta_{q}\\varepsilon_{t-q} + \\varepsilon_{t}$"
   ]
  },
  {
   "cell_type": "markdown",
   "metadata": {},
   "source": [
    "A $K$-dimensional VARMA model of order $(p,q)$ considers each variable $y_K$ in the system.<br>\n",
    "\n",
    "For example, the system of equations for a 2-dimensional VARMA(1,1) model is:\n",
    "\n",
    "&nbsp;&nbsp;&nbsp;&nbsp;$y_{1,t} = c_1 + \\phi_{11,1}y_{1,t-1} + \\phi_{12,1}y_{2,t-1} + \\theta_{11,1}\\varepsilon_{1,t-1} + \\theta_{12,1}\\varepsilon_{2,t-1} + \\varepsilon_{1,t}$<br>\n",
    "&nbsp;&nbsp;&nbsp;&nbsp;$y_{2,t} = c_2 + \\phi_{21,1}y_{1,t-1} + \\phi_{22,1}y_{2,t-1} + \\theta_{21,1}\\varepsilon_{1,t-1} + \\theta_{22,1}\\varepsilon_{2,t-1} + \\varepsilon_{2,t}$\n",
    "\n",
    "where the coefficient $\\theta_{ii,l}$ captures the influence of the $l$th lag of error $\\varepsilon_i$ on itself,<br>\n",
    "the coefficient $\\theta_{ij,l}$ captures the influence of the $l$th lag of error $\\varepsilon_j$ on $\\varepsilon_i$,<br>\n",
    "and $\\varepsilon_{1,t}$ and $\\varepsilon_{2,t}$ are residual white noise.<br>\n",
    "\n",
    "\n",
    "The general steps involved in building a VARMA model are:\n",
    "* Examine the data\n",
    "* Visualize the data\n",
    "* Test for stationarity\n",
    "* If necessary, transform the data to make it stationary\n",
    "* Select the appropriate <em>p</em> and <em>q</em> orders\n",
    "* Instantiate the model and fit it to a training set\n",
    "* If necessary, invert the earlier transformation\n",
    "* Evaluate model predictions against a known test set\n",
    "* Forecast the future"
   ]
  },
  {
   "cell_type": "code",
   "execution_count": 1,
   "metadata": {
    "ExecuteTime": {
     "end_time": "2020-11-06T04:26:59.743440Z",
     "start_time": "2020-11-06T04:26:58.661794Z"
    }
   },
   "outputs": [],
   "source": [
    "import pandas as pd\n",
    "import numpy as np\n",
    "\n",
    "import warnings\n",
    "warnings.filterwarnings(\"ignore\")\n",
    "\n",
    "from pylab import rcParams\n",
    "\n",
    "rcParams['figure.figsize'] = 20, 6\n",
    "rcParams['axes.grid'] = True"
   ]
  },
  {
   "cell_type": "code",
   "execution_count": 2,
   "metadata": {
    "ExecuteTime": {
     "end_time": "2020-11-06T04:27:01.817239Z",
     "start_time": "2020-11-06T04:26:59.745458Z"
    }
   },
   "outputs": [],
   "source": [
    "from statsmodels.tsa.statespace.varmax import VARMAX, VARMAXResults\n",
    "from statsmodels.tsa.stattools import adfuller\n",
    "from pmdarima import auto_arima\n",
    "from statsmodels.tools.eval_measures import rmse\n",
    "\n",
    "# Load datasets\n",
    "df = pd.read_csv('../meta/M2SLMoneyStock.csv',index_col=0, parse_dates=True)\n",
    "df.index.freq = 'MS'\n",
    "\n",
    "sp = pd.read_csv('../meta/PCEPersonalSpending.csv',index_col=0, parse_dates=True)\n",
    "sp.index.freq = 'MS'"
   ]
  },
  {
   "cell_type": "code",
   "execution_count": 3,
   "metadata": {
    "ExecuteTime": {
     "end_time": "2020-11-06T04:27:01.849092Z",
     "start_time": "2020-11-06T04:27:01.820169Z"
    }
   },
   "outputs": [
    {
     "data": {
      "text/html": [
       "<div>\n",
       "<style scoped>\n",
       "    .dataframe tbody tr th:only-of-type {\n",
       "        vertical-align: middle;\n",
       "    }\n",
       "\n",
       "    .dataframe tbody tr th {\n",
       "        vertical-align: top;\n",
       "    }\n",
       "\n",
       "    .dataframe thead th {\n",
       "        text-align: right;\n",
       "    }\n",
       "</style>\n",
       "<table border=\"1\" class=\"dataframe\">\n",
       "  <thead>\n",
       "    <tr style=\"text-align: right;\">\n",
       "      <th></th>\n",
       "      <th>Money</th>\n",
       "      <th>Spending</th>\n",
       "    </tr>\n",
       "    <tr>\n",
       "      <th>Date</th>\n",
       "      <th></th>\n",
       "      <th></th>\n",
       "    </tr>\n",
       "  </thead>\n",
       "  <tbody>\n",
       "    <tr>\n",
       "      <th>1995-01-01</th>\n",
       "      <td>3492.4</td>\n",
       "      <td>4851.2</td>\n",
       "    </tr>\n",
       "    <tr>\n",
       "      <th>1995-02-01</th>\n",
       "      <td>3489.9</td>\n",
       "      <td>4850.8</td>\n",
       "    </tr>\n",
       "    <tr>\n",
       "      <th>1995-03-01</th>\n",
       "      <td>3491.1</td>\n",
       "      <td>4885.4</td>\n",
       "    </tr>\n",
       "    <tr>\n",
       "      <th>1995-04-01</th>\n",
       "      <td>3499.2</td>\n",
       "      <td>4890.2</td>\n",
       "    </tr>\n",
       "    <tr>\n",
       "      <th>1995-05-01</th>\n",
       "      <td>3524.2</td>\n",
       "      <td>4933.1</td>\n",
       "    </tr>\n",
       "  </tbody>\n",
       "</table>\n",
       "</div>"
      ],
      "text/plain": [
       "             Money  Spending\n",
       "Date                        \n",
       "1995-01-01  3492.4    4851.2\n",
       "1995-02-01  3489.9    4850.8\n",
       "1995-03-01  3491.1    4885.4\n",
       "1995-04-01  3499.2    4890.2\n",
       "1995-05-01  3524.2    4933.1"
      ]
     },
     "execution_count": 3,
     "metadata": {},
     "output_type": "execute_result"
    }
   ],
   "source": [
    "df = df.join(sp)\n",
    "df = df.dropna()\n",
    "df.shape\n",
    "df.head()"
   ]
  },
  {
   "cell_type": "code",
   "execution_count": 4,
   "metadata": {
    "ExecuteTime": {
     "end_time": "2020-11-06T04:27:02.326322Z",
     "start_time": "2020-11-06T04:27:01.853082Z"
    }
   },
   "outputs": [
    {
     "data": {
      "image/png": "[encoded data removed]",
      "text/plain": [
       "<Figure size 1440x432 with 1 Axes>"
      ]
     },
     "metadata": {
      "needs_background": "light"
     },
     "output_type": "display_data"
    }
   ],
   "source": [
    "title = 'M2 Money Stock vs. Personal Consumption Expenditures'\n",
    "ylabel='Billions of dollars'\n",
    "xlabel=''\n",
    "\n",
    "ax = df['Spending'].plot(legend=True)\n",
    "ax.set(xlabel=xlabel, ylabel=ylabel,title=title)\n",
    "df['Money'].plot(legend=True);"
   ]
  },
  {
   "cell_type": "markdown",
   "metadata": {},
   "source": [
    "## Test for stationarity, perform any necessary transformations"
   ]
  },
  {
   "cell_type": "code",
   "execution_count": 5,
   "metadata": {
    "ExecuteTime": {
     "end_time": "2020-11-06T04:27:02.342277Z",
     "start_time": "2020-11-06T04:27:02.328314Z"
    }
   },
   "outputs": [],
   "source": [
    "from statsmodels.tsa.stattools import adfuller\n",
    "\n",
    "def adf_test(series,title=''):\n",
    "    \"\"\"\n",
    "    Pass in a time series and an optional title, returns an ADF report\n",
    "    \"\"\"\n",
    "    print(f'Augmented Dickey-Fuller Test: {title}')\n",
    "    result = adfuller(series.dropna(),autolag='AIC') # .dropna() handles differenced data\n",
    "    \n",
    "    labels = ['ADF test statistic','p-value','# lags used','# observations']\n",
    "    out = pd.Series(result[0:4],index=labels)\n",
    "\n",
    "    for key,val in result[4].items():\n",
    "        out[f'critical value ({key})']=val\n",
    "        \n",
    "    print(out.to_string(), '\\n')          # .to_string() removes the line \"dtype: float64\"\n",
    "    \n",
    "    if result[1] <= 0.05:\n",
    "        print(\"Strong evidence against the null hypothesis\")\n",
    "        print(\"Reject the null hypothesis\")\n",
    "        print(\"Data has no unit root and is stationary\")\n",
    "    else:\n",
    "        print(\"Weak evidence against the null hypothesis\")\n",
    "        print(\"Fail to reject the null hypothesis\")\n",
    "        print(\"Data has a unit root and is non-stationary\")\n",
    "        \n",
    "    return out"
   ]
  },
  {
   "cell_type": "code",
   "execution_count": 6,
   "metadata": {
    "ExecuteTime": {
     "end_time": "2020-11-06T04:27:03.771162Z",
     "start_time": "2020-11-06T04:27:02.345270Z"
    }
   },
   "outputs": [
    {
     "data": {
      "text/plain": [
       "ARIMA(maxiter=1000, order=(1, 2, 1), scoring_args={}, with_intercept=False)"
      ]
     },
     "execution_count": 6,
     "metadata": {},
     "output_type": "execute_result"
    }
   ],
   "source": [
    "auto_arima(df['Money'],maxiter=1000)"
   ]
  },
  {
   "cell_type": "code",
   "execution_count": 7,
   "metadata": {
    "ExecuteTime": {
     "end_time": "2020-11-06T04:27:07.669889Z",
     "start_time": "2020-11-06T04:27:03.774138Z"
    }
   },
   "outputs": [
    {
     "data": {
      "text/plain": [
       "ARIMA(maxiter=1000, order=(1, 1, 2), scoring_args={})"
      ]
     },
     "execution_count": 7,
     "metadata": {},
     "output_type": "execute_result"
    }
   ],
   "source": [
    "auto_arima(df['Spending'],maxiter=1000)"
   ]
  },
  {
   "cell_type": "markdown",
   "metadata": {},
   "source": [
    "It looks like a VARMA(1,2) model is recommended. Note that the $d$ term (2 for Money, 1 for Spending) is about to be addressed by transforming the data to make it stationary. As before we'll apply a second order difference."
   ]
  },
  {
   "cell_type": "code",
   "execution_count": 8,
   "metadata": {
    "ExecuteTime": {
     "end_time": "2020-11-06T04:27:07.701807Z",
     "start_time": "2020-11-06T04:27:07.673881Z"
    }
   },
   "outputs": [
    {
     "data": {
      "text/html": [
       "<div>\n",
       "<style scoped>\n",
       "    .dataframe tbody tr th:only-of-type {\n",
       "        vertical-align: middle;\n",
       "    }\n",
       "\n",
       "    .dataframe tbody tr th {\n",
       "        vertical-align: top;\n",
       "    }\n",
       "\n",
       "    .dataframe thead th {\n",
       "        text-align: right;\n",
       "    }\n",
       "</style>\n",
       "<table border=\"1\" class=\"dataframe\">\n",
       "  <thead>\n",
       "    <tr style=\"text-align: right;\">\n",
       "      <th></th>\n",
       "      <th>Money</th>\n",
       "      <th>Spending</th>\n",
       "    </tr>\n",
       "    <tr>\n",
       "      <th>Date</th>\n",
       "      <th></th>\n",
       "      <th></th>\n",
       "    </tr>\n",
       "  </thead>\n",
       "  <tbody>\n",
       "    <tr>\n",
       "      <th>1995-03-01</th>\n",
       "      <td>3.7</td>\n",
       "      <td>35.0</td>\n",
       "    </tr>\n",
       "    <tr>\n",
       "      <th>1995-04-01</th>\n",
       "      <td>6.9</td>\n",
       "      <td>-29.8</td>\n",
       "    </tr>\n",
       "    <tr>\n",
       "      <th>1995-05-01</th>\n",
       "      <td>16.9</td>\n",
       "      <td>38.1</td>\n",
       "    </tr>\n",
       "    <tr>\n",
       "      <th>1995-06-01</th>\n",
       "      <td>-0.3</td>\n",
       "      <td>1.5</td>\n",
       "    </tr>\n",
       "    <tr>\n",
       "      <th>1995-07-01</th>\n",
       "      <td>-6.2</td>\n",
       "      <td>-51.7</td>\n",
       "    </tr>\n",
       "  </tbody>\n",
       "</table>\n",
       "</div>"
      ],
      "text/plain": [
       "            Money  Spending\n",
       "Date                       \n",
       "1995-03-01    3.7      35.0\n",
       "1995-04-01    6.9     -29.8\n",
       "1995-05-01   16.9      38.1\n",
       "1995-06-01   -0.3       1.5\n",
       "1995-07-01   -6.2     -51.7"
      ]
     },
     "execution_count": 8,
     "metadata": {},
     "output_type": "execute_result"
    }
   ],
   "source": [
    "df_transformed = df.diff().diff()\n",
    "df_transformed = df_transformed.dropna()\n",
    "df_transformed.head()"
   ]
  },
  {
   "cell_type": "markdown",
   "metadata": {},
   "source": [
    "**Train/test/split**"
   ]
  },
  {
   "cell_type": "code",
   "execution_count": 9,
   "metadata": {
    "ExecuteTime": {
     "end_time": "2020-11-06T04:27:07.844745Z",
     "start_time": "2020-11-06T04:27:07.708789Z"
    }
   },
   "outputs": [],
   "source": [
    "nobs=12\n",
    "train, test = df_transformed[0:-nobs], df_transformed[-nobs:]"
   ]
  },
  {
   "cell_type": "markdown",
   "metadata": {},
   "source": [
    "## Fit the VARMA(1,2) Model"
   ]
  },
  {
   "cell_type": "code",
   "execution_count": 10,
   "metadata": {
    "ExecuteTime": {
     "end_time": "2020-11-06T04:27:17.665708Z",
     "start_time": "2020-11-06T04:27:07.849731Z"
    }
   },
   "outputs": [
    {
     "name": "stderr",
     "output_type": "stream",
     "text": [
      "D:\\Users\\Ritvik\\Anaconda3\\envs\\ailab\\lib\\site-packages\\statsmodels\\tsa\\statespace\\varmax.py:163: EstimationWarning: Estimation of VARMA(p,q) models is not generically robust, due especially to identification issues.\n",
      "  EstimationWarning)\n"
     ]
    },
    {
     "data": {
      "text/html": [
       "<table class=\"simpletable\">\n",
       "<caption>Statespace Model Results</caption>\n",
       "<tr>\n",
       "  <th>Dep. Variable:</th>   <td>['Money', 'Spending']</td> <th>  No. Observations:  </th>    <td>238</td>   \n",
       "</tr>\n",
       "<tr>\n",
       "  <th>Model:</th>                <td>VARMA(1,2)</td>       <th>  Log Likelihood     </th> <td>-2286.603</td>\n",
       "</tr>\n",
       "<tr>\n",
       "  <th></th>                      <td>+ intercept</td>      <th>  AIC                </th> <td>4607.206</td> \n",
       "</tr>\n",
       "<tr>\n",
       "  <th>Date:</th>              <td>Fri, 06 Nov 2020</td>    <th>  BIC                </th> <td>4666.235</td> \n",
       "</tr>\n",
       "<tr>\n",
       "  <th>Time:</th>                  <td>09:57:17</td>        <th>  HQIC               </th> <td>4630.996</td> \n",
       "</tr>\n",
       "<tr>\n",
       "  <th>Sample:</th>               <td>03-01-1995</td>       <th>                     </th>     <td> </td>    \n",
       "</tr>\n",
       "<tr>\n",
       "  <th></th>                     <td>- 12-01-2014</td>      <th>                     </th>     <td> </td>    \n",
       "</tr>\n",
       "<tr>\n",
       "  <th>Covariance Type:</th>          <td>opg</td>          <th>                     </th>     <td> </td>    \n",
       "</tr>\n",
       "</table>\n",
       "<table class=\"simpletable\">\n",
       "<tr>\n",
       "  <th>Ljung-Box (Q):</th>          <td>68.08, 28.16</td> <th>  Jarque-Bera (JB):  </th> <td>556.20, 123.98</td>\n",
       "</tr>\n",
       "<tr>\n",
       "  <th>Prob(Q):</th>                 <td>0.00, 0.92</td>  <th>  Prob(JB):          </th>   <td>0.00, 0.00</td>  \n",
       "</tr>\n",
       "<tr>\n",
       "  <th>Heteroskedasticity (H):</th>  <td>5.69, 2.87</td>  <th>  Skew:              </th>   <td>1.32, -0.34</td> \n",
       "</tr>\n",
       "<tr>\n",
       "  <th>Prob(H) (two-sided):</th>     <td>0.00, 0.00</td>  <th>  Kurtosis:          </th>   <td>10.01, 6.47</td> \n",
       "</tr>\n",
       "</table>\n",
       "<table class=\"simpletable\">\n",
       "<caption>Results for equation Money</caption>\n",
       "<tr>\n",
       "         <td></td>           <th>coef</th>     <th>std err</th>      <th>z</th>      <th>P>|z|</th>  <th>[0.025</th>    <th>0.975]</th>  \n",
       "</tr>\n",
       "<tr>\n",
       "  <th>intercept</th>      <td>   -0.0648</td> <td>    0.857</td> <td>   -0.076</td> <td> 0.940</td> <td>   -1.744</td> <td>    1.614</td>\n",
       "</tr>\n",
       "<tr>\n",
       "  <th>L1.Money</th>       <td>   -1.1435</td> <td>    3.507</td> <td>   -0.326</td> <td> 0.744</td> <td>   -8.016</td> <td>    5.729</td>\n",
       "</tr>\n",
       "<tr>\n",
       "  <th>L1.Spending</th>    <td>    1.8355</td> <td>    5.445</td> <td>    0.337</td> <td> 0.736</td> <td>   -8.836</td> <td>   12.507</td>\n",
       "</tr>\n",
       "<tr>\n",
       "  <th>L1.e(Money)</th>    <td>    0.3797</td> <td>    3.497</td> <td>    0.109</td> <td> 0.914</td> <td>   -6.474</td> <td>    7.233</td>\n",
       "</tr>\n",
       "<tr>\n",
       "  <th>L1.e(Spending)</th> <td>   -1.9566</td> <td>    5.450</td> <td>   -0.359</td> <td> 0.720</td> <td>  -12.638</td> <td>    8.725</td>\n",
       "</tr>\n",
       "<tr>\n",
       "  <th>L2.e(Money)</th>    <td>   -1.3750</td> <td>    3.472</td> <td>   -0.396</td> <td> 0.692</td> <td>   -8.180</td> <td>    5.430</td>\n",
       "</tr>\n",
       "<tr>\n",
       "  <th>L2.e(Spending)</th> <td>    1.6884</td> <td>    4.742</td> <td>    0.356</td> <td> 0.722</td> <td>   -7.606</td> <td>   10.983</td>\n",
       "</tr>\n",
       "</table>\n",
       "<table class=\"simpletable\">\n",
       "<caption>Results for equation Spending</caption>\n",
       "<tr>\n",
       "         <td></td>           <th>coef</th>     <th>std err</th>      <th>z</th>      <th>P>|z|</th>  <th>[0.025</th>    <th>0.975]</th>  \n",
       "</tr>\n",
       "<tr>\n",
       "  <th>intercept</th>      <td>    0.1154</td> <td>    0.408</td> <td>    0.282</td> <td> 0.778</td> <td>   -0.685</td> <td>    0.916</td>\n",
       "</tr>\n",
       "<tr>\n",
       "  <th>L1.Money</th>       <td>   -0.4091</td> <td>    2.436</td> <td>   -0.168</td> <td> 0.867</td> <td>   -5.183</td> <td>    4.365</td>\n",
       "</tr>\n",
       "<tr>\n",
       "  <th>L1.Spending</th>    <td>    0.7442</td> <td>    3.577</td> <td>    0.208</td> <td> 0.835</td> <td>   -6.267</td> <td>    7.755</td>\n",
       "</tr>\n",
       "<tr>\n",
       "  <th>L1.e(Money)</th>    <td>    0.5409</td> <td>    2.486</td> <td>    0.218</td> <td> 0.828</td> <td>   -4.332</td> <td>    5.413</td>\n",
       "</tr>\n",
       "<tr>\n",
       "  <th>L1.e(Spending)</th> <td>   -1.7000</td> <td>    3.556</td> <td>   -0.478</td> <td> 0.633</td> <td>   -8.670</td> <td>    5.270</td>\n",
       "</tr>\n",
       "<tr>\n",
       "  <th>L2.e(Money)</th>    <td>   -0.5405</td> <td>    2.481</td> <td>   -0.218</td> <td> 0.828</td> <td>   -5.404</td> <td>    4.323</td>\n",
       "</tr>\n",
       "<tr>\n",
       "  <th>L2.e(Spending)</th> <td>    0.7237</td> <td>    3.069</td> <td>    0.236</td> <td> 0.814</td> <td>   -5.291</td> <td>    6.738</td>\n",
       "</tr>\n",
       "</table>\n",
       "<table class=\"simpletable\">\n",
       "<caption>Error covariance matrix</caption>\n",
       "<tr>\n",
       "             <td></td>                <th>coef</th>     <th>std err</th>      <th>z</th>      <th>P>|z|</th>  <th>[0.025</th>    <th>0.975]</th>  \n",
       "</tr>\n",
       "<tr>\n",
       "  <th>sqrt.var.Money</th>          <td>   26.5417</td> <td>    1.929</td> <td>   13.756</td> <td> 0.000</td> <td>   22.760</td> <td>   30.323</td>\n",
       "</tr>\n",
       "<tr>\n",
       "  <th>sqrt.cov.Money.Spending</th> <td>  -10.2161</td> <td>    1.979</td> <td>   -5.162</td> <td> 0.000</td> <td>  -14.095</td> <td>   -6.337</td>\n",
       "</tr>\n",
       "<tr>\n",
       "  <th>sqrt.var.Spending</th>       <td>   33.0095</td> <td>    1.188</td> <td>   27.786</td> <td> 0.000</td> <td>   30.681</td> <td>   35.338</td>\n",
       "</tr>\n",
       "</table><br/><br/>Warnings:<br/>[1] Covariance matrix calculated using the outer product of gradients (complex-step)."
      ],
      "text/plain": [
       "<class 'statsmodels.iolib.summary.Summary'>\n",
       "\"\"\"\n",
       "                             Statespace Model Results                            \n",
       "=================================================================================\n",
       "Dep. Variable:     ['Money', 'Spending']   No. Observations:                  238\n",
       "Model:                        VARMA(1,2)   Log Likelihood               -2286.603\n",
       "                             + intercept   AIC                           4607.206\n",
       "Date:                   Fri, 06 Nov 2020   BIC                           4666.235\n",
       "Time:                           09:57:17   HQIC                          4630.996\n",
       "Sample:                       03-01-1995                                         \n",
       "                            - 12-01-2014                                         \n",
       "Covariance Type:                     opg                                         \n",
       "===================================================================================\n",
       "Ljung-Box (Q):                68.08, 28.16   Jarque-Bera (JB):       556.20, 123.98\n",
       "Prob(Q):                        0.00, 0.92   Prob(JB):                   0.00, 0.00\n",
       "Heteroskedasticity (H):         5.69, 2.87   Skew:                      1.32, -0.34\n",
       "Prob(H) (two-sided):            0.00, 0.00   Kurtosis:                  10.01, 6.47\n",
       "                            Results for equation Money                            \n",
       "==================================================================================\n",
       "                     coef    std err          z      P>|z|      [0.025      0.975]\n",
       "----------------------------------------------------------------------------------\n",
       "intercept         -0.0648      0.857     -0.076      0.940      -1.744       1.614\n",
       "L1.Money          -1.1435      3.507     -0.326      0.744      -8.016       5.729\n",
       "L1.Spending        1.8355      5.445      0.337      0.736      -8.836      12.507\n",
       "L1.e(Money)        0.3797      3.497      0.109      0.914      -6.474       7.233\n",
       "L1.e(Spending)    -1.9566      5.450     -0.359      0.720     -12.638       8.725\n",
       "L2.e(Money)       -1.3750      3.472     -0.396      0.692      -8.180       5.430\n",
       "L2.e(Spending)     1.6884      4.742      0.356      0.722      -7.606      10.983\n",
       "                          Results for equation Spending                           \n",
       "==================================================================================\n",
       "                     coef    std err          z      P>|z|      [0.025      0.975]\n",
       "----------------------------------------------------------------------------------\n",
       "intercept          0.1154      0.408      0.282      0.778      -0.685       0.916\n",
       "L1.Money          -0.4091      2.436     -0.168      0.867      -5.183       4.365\n",
       "L1.Spending        0.7442      3.577      0.208      0.835      -6.267       7.755\n",
       "L1.e(Money)        0.5409      2.486      0.218      0.828      -4.332       5.413\n",
       "L1.e(Spending)    -1.7000      3.556     -0.478      0.633      -8.670       5.270\n",
       "L2.e(Money)       -0.5405      2.481     -0.218      0.828      -5.404       4.323\n",
       "L2.e(Spending)     0.7237      3.069      0.236      0.814      -5.291       6.738\n",
       "                                  Error covariance matrix                                  \n",
       "===========================================================================================\n",
       "                              coef    std err          z      P>|z|      [0.025      0.975]\n",
       "-------------------------------------------------------------------------------------------\n",
       "sqrt.var.Money             26.5417      1.929     13.756      0.000      22.760      30.323\n",
       "sqrt.cov.Money.Spending   -10.2161      1.979     -5.162      0.000     -14.095      -6.337\n",
       "sqrt.var.Spending          33.0095      1.188     27.786      0.000      30.681      35.338\n",
       "===========================================================================================\n",
       "\n",
       "Warnings:\n",
       "[1] Covariance matrix calculated using the outer product of gradients (complex-step).\n",
       "\"\"\""
      ]
     },
     "execution_count": 10,
     "metadata": {},
     "output_type": "execute_result"
    }
   ],
   "source": [
    "model = VARMAX(train, order=(1,2), trend='c').fit(maxiter=1000, disp=False)\n",
    "model.summary()"
   ]
  },
  {
   "cell_type": "markdown",
   "metadata": {},
   "source": [
    "## Predict the next 12 values\n",
    "Unlike the VAR model we used in the previous section, the VARMAX <tt>.forecast()</tt> function won't require that we pass in a number of previous observations, and it will provide an extended DateTime index."
   ]
  },
  {
   "cell_type": "code",
   "execution_count": 11,
   "metadata": {
    "ExecuteTime": {
     "end_time": "2020-11-06T04:27:17.744497Z",
     "start_time": "2020-11-06T04:27:17.668702Z"
    }
   },
   "outputs": [
    {
     "name": "stderr",
     "output_type": "stream",
     "text": [
      "D:\\Users\\Ritvik\\Anaconda3\\envs\\ailab\\lib\\site-packages\\statsmodels\\tsa\\statespace\\varmax.py:163: EstimationWarning: Estimation of VARMA(p,q) models is not generically robust, due especially to identification issues.\n",
      "  EstimationWarning)\n"
     ]
    },
    {
     "data": {
      "text/html": [
       "<div>\n",
       "<style scoped>\n",
       "    .dataframe tbody tr th:only-of-type {\n",
       "        vertical-align: middle;\n",
       "    }\n",
       "\n",
       "    .dataframe tbody tr th {\n",
       "        vertical-align: top;\n",
       "    }\n",
       "\n",
       "    .dataframe thead th {\n",
       "        text-align: right;\n",
       "    }\n",
       "</style>\n",
       "<table border=\"1\" class=\"dataframe\">\n",
       "  <thead>\n",
       "    <tr style=\"text-align: right;\">\n",
       "      <th></th>\n",
       "      <th>Money</th>\n",
       "      <th>Spending</th>\n",
       "    </tr>\n",
       "  </thead>\n",
       "  <tbody>\n",
       "    <tr>\n",
       "      <th>2015-01-01</th>\n",
       "      <td>-13.281861</td>\n",
       "      <td>39.344715</td>\n",
       "    </tr>\n",
       "    <tr>\n",
       "      <th>2015-02-01</th>\n",
       "      <td>-11.455247</td>\n",
       "      <td>-6.184248</td>\n",
       "    </tr>\n",
       "    <tr>\n",
       "      <th>2015-03-01</th>\n",
       "      <td>1.683158</td>\n",
       "      <td>0.199094</td>\n",
       "    </tr>\n",
       "    <tr>\n",
       "      <th>2015-04-01</th>\n",
       "      <td>-1.624029</td>\n",
       "      <td>-0.425024</td>\n",
       "    </tr>\n",
       "    <tr>\n",
       "      <th>2015-05-01</th>\n",
       "      <td>1.012199</td>\n",
       "      <td>0.463433</td>\n",
       "    </tr>\n",
       "    <tr>\n",
       "      <th>2015-06-01</th>\n",
       "      <td>-0.371582</td>\n",
       "      <td>0.046191</td>\n",
       "    </tr>\n",
       "    <tr>\n",
       "      <th>2015-07-01</th>\n",
       "      <td>0.444934</td>\n",
       "      <td>0.301760</td>\n",
       "    </tr>\n",
       "    <tr>\n",
       "      <th>2015-08-01</th>\n",
       "      <td>-0.019660</td>\n",
       "      <td>0.157933</td>\n",
       "    </tr>\n",
       "    <tr>\n",
       "      <th>2015-09-01</th>\n",
       "      <td>0.247611</td>\n",
       "      <td>0.240954</td>\n",
       "    </tr>\n",
       "    <tr>\n",
       "      <th>2015-10-01</th>\n",
       "      <td>0.094369</td>\n",
       "      <td>0.193402</td>\n",
       "    </tr>\n",
       "    <tr>\n",
       "      <th>2015-11-01</th>\n",
       "      <td>0.182321</td>\n",
       "      <td>0.220702</td>\n",
       "    </tr>\n",
       "    <tr>\n",
       "      <th>2015-12-01</th>\n",
       "      <td>0.131858</td>\n",
       "      <td>0.205040</td>\n",
       "    </tr>\n",
       "  </tbody>\n",
       "</table>\n",
       "</div>"
      ],
      "text/plain": [
       "                Money   Spending\n",
       "2015-01-01 -13.281861  39.344715\n",
       "2015-02-01 -11.455247  -6.184248\n",
       "2015-03-01   1.683158   0.199094\n",
       "2015-04-01  -1.624029  -0.425024\n",
       "2015-05-01   1.012199   0.463433\n",
       "2015-06-01  -0.371582   0.046191\n",
       "2015-07-01   0.444934   0.301760\n",
       "2015-08-01  -0.019660   0.157933\n",
       "2015-09-01   0.247611   0.240954\n",
       "2015-10-01   0.094369   0.193402\n",
       "2015-11-01   0.182321   0.220702\n",
       "2015-12-01   0.131858   0.205040"
      ]
     },
     "execution_count": 11,
     "metadata": {},
     "output_type": "execute_result"
    }
   ],
   "source": [
    "df_forecast = model.forecast(12)\n",
    "df_forecast"
   ]
  },
  {
   "cell_type": "markdown",
   "metadata": {},
   "source": [
    "## Invert the Transformation\n",
    "Remember that the forecasted values represent second-order differences. To compare them to the original data we have to roll back each difference. To roll back a first-order difference we take the most recent value on the training side of the original series, and add it to a cumulative sum of forecasted values. When working with second-order differences we first must perform this operation on the most recent first-order difference.\n",
    "\n",
    "Here we'll use the <tt>nobs</tt> variable we defined during the train/test/split step."
   ]
  },
  {
   "cell_type": "code",
   "execution_count": 12,
   "metadata": {
    "ExecuteTime": {
     "end_time": "2020-11-06T04:27:17.854581Z",
     "start_time": "2020-11-06T04:27:17.747490Z"
    }
   },
   "outputs": [],
   "source": [
    "# Add the most recent first difference from the training side of the original dataset to the forecast cumulative sum\n",
    "df_forecast['Money1d'] = (df['Money'].iloc[-nobs-1]-df['Money'].iloc[-nobs-2]) + df_forecast['Money'].cumsum()\n",
    "df_forecast['Spending1d'] = (df['Spending'].iloc[-nobs-1]-df['Spending'].iloc[-nobs-2]) + df_forecast['Spending'].cumsum()\n",
    "\n",
    "# Now build the forecast values from the first difference set\n",
    "df_forecast['MoneyForecast'] = df['Money'].iloc[-nobs-1] + df_forecast['Money'].cumsum()\n",
    "df_forecast['SpendingForecast'] = df['Spending'].iloc[-nobs-1] + df_forecast['Spending'].cumsum()"
   ]
  },
  {
   "cell_type": "code",
   "execution_count": 13,
   "metadata": {
    "ExecuteTime": {
     "end_time": "2020-11-06T04:27:18.044409Z",
     "start_time": "2020-11-06T04:27:17.856612Z"
    }
   },
   "outputs": [
    {
     "data": {
      "text/html": [
       "<div>\n",
       "<style scoped>\n",
       "    .dataframe tbody tr th:only-of-type {\n",
       "        vertical-align: middle;\n",
       "    }\n",
       "\n",
       "    .dataframe tbody tr th {\n",
       "        vertical-align: top;\n",
       "    }\n",
       "\n",
       "    .dataframe thead th {\n",
       "        text-align: right;\n",
       "    }\n",
       "</style>\n",
       "<table border=\"1\" class=\"dataframe\">\n",
       "  <thead>\n",
       "    <tr style=\"text-align: right;\">\n",
       "      <th></th>\n",
       "      <th>Money</th>\n",
       "      <th>Spending</th>\n",
       "      <th>Money1d</th>\n",
       "      <th>Spending1d</th>\n",
       "      <th>MoneyForecast</th>\n",
       "      <th>SpendingForecast</th>\n",
       "    </tr>\n",
       "  </thead>\n",
       "  <tbody>\n",
       "    <tr>\n",
       "      <th>2015-01-01</th>\n",
       "      <td>-13.281861</td>\n",
       "      <td>39.344715</td>\n",
       "      <td>65.318139</td>\n",
       "      <td>49.944715</td>\n",
       "      <td>11656.818139</td>\n",
       "      <td>12101.344715</td>\n",
       "    </tr>\n",
       "    <tr>\n",
       "      <th>2015-02-01</th>\n",
       "      <td>-11.455247</td>\n",
       "      <td>-6.184248</td>\n",
       "      <td>53.862892</td>\n",
       "      <td>43.760467</td>\n",
       "      <td>11645.362892</td>\n",
       "      <td>12095.160467</td>\n",
       "    </tr>\n",
       "    <tr>\n",
       "      <th>2015-03-01</th>\n",
       "      <td>1.683158</td>\n",
       "      <td>0.199094</td>\n",
       "      <td>55.546050</td>\n",
       "      <td>43.959561</td>\n",
       "      <td>11647.046050</td>\n",
       "      <td>12095.359561</td>\n",
       "    </tr>\n",
       "    <tr>\n",
       "      <th>2015-04-01</th>\n",
       "      <td>-1.624029</td>\n",
       "      <td>-0.425024</td>\n",
       "      <td>53.922020</td>\n",
       "      <td>43.534537</td>\n",
       "      <td>11645.422020</td>\n",
       "      <td>12094.934537</td>\n",
       "    </tr>\n",
       "    <tr>\n",
       "      <th>2015-05-01</th>\n",
       "      <td>1.012199</td>\n",
       "      <td>0.463433</td>\n",
       "      <td>54.934219</td>\n",
       "      <td>43.997970</td>\n",
       "      <td>11646.434219</td>\n",
       "      <td>12095.397970</td>\n",
       "    </tr>\n",
       "    <tr>\n",
       "      <th>2015-06-01</th>\n",
       "      <td>-0.371582</td>\n",
       "      <td>0.046191</td>\n",
       "      <td>54.562637</td>\n",
       "      <td>44.044161</td>\n",
       "      <td>11646.062637</td>\n",
       "      <td>12095.444161</td>\n",
       "    </tr>\n",
       "    <tr>\n",
       "      <th>2015-07-01</th>\n",
       "      <td>0.444934</td>\n",
       "      <td>0.301760</td>\n",
       "      <td>55.007571</td>\n",
       "      <td>44.345921</td>\n",
       "      <td>11646.507571</td>\n",
       "      <td>12095.745921</td>\n",
       "    </tr>\n",
       "    <tr>\n",
       "      <th>2015-08-01</th>\n",
       "      <td>-0.019660</td>\n",
       "      <td>0.157933</td>\n",
       "      <td>54.987911</td>\n",
       "      <td>44.503854</td>\n",
       "      <td>11646.487911</td>\n",
       "      <td>12095.903854</td>\n",
       "    </tr>\n",
       "    <tr>\n",
       "      <th>2015-09-01</th>\n",
       "      <td>0.247611</td>\n",
       "      <td>0.240954</td>\n",
       "      <td>55.235522</td>\n",
       "      <td>44.744808</td>\n",
       "      <td>11646.735522</td>\n",
       "      <td>12096.144808</td>\n",
       "    </tr>\n",
       "    <tr>\n",
       "      <th>2015-10-01</th>\n",
       "      <td>0.094369</td>\n",
       "      <td>0.193402</td>\n",
       "      <td>55.329891</td>\n",
       "      <td>44.938210</td>\n",
       "      <td>11646.829891</td>\n",
       "      <td>12096.338210</td>\n",
       "    </tr>\n",
       "    <tr>\n",
       "      <th>2015-11-01</th>\n",
       "      <td>0.182321</td>\n",
       "      <td>0.220702</td>\n",
       "      <td>55.512212</td>\n",
       "      <td>45.158912</td>\n",
       "      <td>11647.012212</td>\n",
       "      <td>12096.558912</td>\n",
       "    </tr>\n",
       "    <tr>\n",
       "      <th>2015-12-01</th>\n",
       "      <td>0.131858</td>\n",
       "      <td>0.205040</td>\n",
       "      <td>55.644070</td>\n",
       "      <td>45.363952</td>\n",
       "      <td>11647.144070</td>\n",
       "      <td>12096.763952</td>\n",
       "    </tr>\n",
       "  </tbody>\n",
       "</table>\n",
       "</div>"
      ],
      "text/plain": [
       "                Money   Spending    Money1d  Spending1d  MoneyForecast  \\\n",
       "2015-01-01 -13.281861  39.344715  65.318139   49.944715   11656.818139   \n",
       "2015-02-01 -11.455247  -6.184248  53.862892   43.760467   11645.362892   \n",
       "2015-03-01   1.683158   0.199094  55.546050   43.959561   11647.046050   \n",
       "2015-04-01  -1.624029  -0.425024  53.922020   43.534537   11645.422020   \n",
       "2015-05-01   1.012199   0.463433  54.934219   43.997970   11646.434219   \n",
       "2015-06-01  -0.371582   0.046191  54.562637   44.044161   11646.062637   \n",
       "2015-07-01   0.444934   0.301760  55.007571   44.345921   11646.507571   \n",
       "2015-08-01  -0.019660   0.157933  54.987911   44.503854   11646.487911   \n",
       "2015-09-01   0.247611   0.240954  55.235522   44.744808   11646.735522   \n",
       "2015-10-01   0.094369   0.193402  55.329891   44.938210   11646.829891   \n",
       "2015-11-01   0.182321   0.220702  55.512212   45.158912   11647.012212   \n",
       "2015-12-01   0.131858   0.205040  55.644070   45.363952   11647.144070   \n",
       "\n",
       "            SpendingForecast  \n",
       "2015-01-01      12101.344715  \n",
       "2015-02-01      12095.160467  \n",
       "2015-03-01      12095.359561  \n",
       "2015-04-01      12094.934537  \n",
       "2015-05-01      12095.397970  \n",
       "2015-06-01      12095.444161  \n",
       "2015-07-01      12095.745921  \n",
       "2015-08-01      12095.903854  \n",
       "2015-09-01      12096.144808  \n",
       "2015-10-01      12096.338210  \n",
       "2015-11-01      12096.558912  \n",
       "2015-12-01      12096.763952  "
      ]
     },
     "execution_count": 13,
     "metadata": {},
     "output_type": "execute_result"
    }
   ],
   "source": [
    "df_forecast"
   ]
  },
  {
   "cell_type": "code",
   "execution_count": 14,
   "metadata": {
    "ExecuteTime": {
     "end_time": "2020-11-06T04:27:18.201118Z",
     "start_time": "2020-11-06T04:27:18.046402Z"
    }
   },
   "outputs": [
    {
     "data": {
      "text/html": [
       "<div>\n",
       "<style scoped>\n",
       "    .dataframe tbody tr th:only-of-type {\n",
       "        vertical-align: middle;\n",
       "    }\n",
       "\n",
       "    .dataframe tbody tr th {\n",
       "        vertical-align: top;\n",
       "    }\n",
       "\n",
       "    .dataframe thead th {\n",
       "        text-align: right;\n",
       "    }\n",
       "</style>\n",
       "<table border=\"1\" class=\"dataframe\">\n",
       "  <thead>\n",
       "    <tr style=\"text-align: right;\">\n",
       "      <th></th>\n",
       "      <th>Money</th>\n",
       "      <th>Spending</th>\n",
       "      <th>MoneyForecast</th>\n",
       "      <th>SpendingForecast</th>\n",
       "    </tr>\n",
       "    <tr>\n",
       "      <th>Date</th>\n",
       "      <th></th>\n",
       "      <th></th>\n",
       "      <th></th>\n",
       "      <th></th>\n",
       "    </tr>\n",
       "  </thead>\n",
       "  <tbody>\n",
       "    <tr>\n",
       "      <th>2015-01-01</th>\n",
       "      <td>11733.2</td>\n",
       "      <td>12046.0</td>\n",
       "      <td>11656.818139</td>\n",
       "      <td>12101.344715</td>\n",
       "    </tr>\n",
       "    <tr>\n",
       "      <th>2015-02-01</th>\n",
       "      <td>11852.4</td>\n",
       "      <td>12082.4</td>\n",
       "      <td>11645.362892</td>\n",
       "      <td>12095.160467</td>\n",
       "    </tr>\n",
       "    <tr>\n",
       "      <th>2015-03-01</th>\n",
       "      <td>11868.8</td>\n",
       "      <td>12158.3</td>\n",
       "      <td>11647.046050</td>\n",
       "      <td>12095.359561</td>\n",
       "    </tr>\n",
       "    <tr>\n",
       "      <th>2015-04-01</th>\n",
       "      <td>11916.1</td>\n",
       "      <td>12193.8</td>\n",
       "      <td>11645.422020</td>\n",
       "      <td>12094.934537</td>\n",
       "    </tr>\n",
       "    <tr>\n",
       "      <th>2015-05-01</th>\n",
       "      <td>11947.6</td>\n",
       "      <td>12268.1</td>\n",
       "      <td>11646.434219</td>\n",
       "      <td>12095.397970</td>\n",
       "    </tr>\n",
       "    <tr>\n",
       "      <th>2015-06-01</th>\n",
       "      <td>11993.1</td>\n",
       "      <td>12308.3</td>\n",
       "      <td>11646.062637</td>\n",
       "      <td>12095.444161</td>\n",
       "    </tr>\n",
       "    <tr>\n",
       "      <th>2015-07-01</th>\n",
       "      <td>12045.3</td>\n",
       "      <td>12355.4</td>\n",
       "      <td>11646.507571</td>\n",
       "      <td>12095.745921</td>\n",
       "    </tr>\n",
       "    <tr>\n",
       "      <th>2015-08-01</th>\n",
       "      <td>12096.8</td>\n",
       "      <td>12394.0</td>\n",
       "      <td>11646.487911</td>\n",
       "      <td>12095.903854</td>\n",
       "    </tr>\n",
       "    <tr>\n",
       "      <th>2015-09-01</th>\n",
       "      <td>12153.8</td>\n",
       "      <td>12392.8</td>\n",
       "      <td>11646.735522</td>\n",
       "      <td>12096.144808</td>\n",
       "    </tr>\n",
       "    <tr>\n",
       "      <th>2015-10-01</th>\n",
       "      <td>12187.7</td>\n",
       "      <td>12416.1</td>\n",
       "      <td>11646.829891</td>\n",
       "      <td>12096.338210</td>\n",
       "    </tr>\n",
       "    <tr>\n",
       "      <th>2015-11-01</th>\n",
       "      <td>12277.4</td>\n",
       "      <td>12450.1</td>\n",
       "      <td>11647.012212</td>\n",
       "      <td>12096.558912</td>\n",
       "    </tr>\n",
       "    <tr>\n",
       "      <th>2015-12-01</th>\n",
       "      <td>12335.9</td>\n",
       "      <td>12469.1</td>\n",
       "      <td>11647.144070</td>\n",
       "      <td>12096.763952</td>\n",
       "    </tr>\n",
       "  </tbody>\n",
       "</table>\n",
       "</div>"
      ],
      "text/plain": [
       "              Money  Spending  MoneyForecast  SpendingForecast\n",
       "Date                                                          \n",
       "2015-01-01  11733.2   12046.0   11656.818139      12101.344715\n",
       "2015-02-01  11852.4   12082.4   11645.362892      12095.160467\n",
       "2015-03-01  11868.8   12158.3   11647.046050      12095.359561\n",
       "2015-04-01  11916.1   12193.8   11645.422020      12094.934537\n",
       "2015-05-01  11947.6   12268.1   11646.434219      12095.397970\n",
       "2015-06-01  11993.1   12308.3   11646.062637      12095.444161\n",
       "2015-07-01  12045.3   12355.4   11646.507571      12095.745921\n",
       "2015-08-01  12096.8   12394.0   11646.487911      12095.903854\n",
       "2015-09-01  12153.8   12392.8   11646.735522      12096.144808\n",
       "2015-10-01  12187.7   12416.1   11646.829891      12096.338210\n",
       "2015-11-01  12277.4   12450.1   11647.012212      12096.558912\n",
       "2015-12-01  12335.9   12469.1   11647.144070      12096.763952"
      ]
     },
     "execution_count": 14,
     "metadata": {},
     "output_type": "execute_result"
    }
   ],
   "source": [
    "pd.concat([df.iloc[-12:],df_forecast[['MoneyForecast','SpendingForecast']]],axis=1)"
   ]
  },
  {
   "cell_type": "markdown",
   "metadata": {},
   "source": [
    "## Plot the results"
   ]
  },
  {
   "cell_type": "code",
   "execution_count": 15,
   "metadata": {
    "ExecuteTime": {
     "end_time": "2020-11-06T04:27:18.566396Z",
     "start_time": "2020-11-06T04:27:18.204020Z"
    }
   },
   "outputs": [
    {
     "data": {
      "image/png": "[encoded data removed]",
      "text/plain": [
       "<Figure size 1440x432 with 1 Axes>"
      ]
     },
     "metadata": {
      "needs_background": "light"
     },
     "output_type": "display_data"
    }
   ],
   "source": [
    "df['Money'][-nobs:].plot(legend=True)\n",
    "df_forecast['MoneyForecast'].plot(legend=True);"
   ]
  },
  {
   "cell_type": "code",
   "execution_count": 16,
   "metadata": {
    "ExecuteTime": {
     "end_time": "2020-11-06T04:27:18.850667Z",
     "start_time": "2020-11-06T04:27:18.569391Z"
    }
   },
   "outputs": [
    {
     "data": {
      "image/png": "[encoded data removed]",
      "text/plain": [
       "<Figure size 1440x432 with 1 Axes>"
      ]
     },
     "metadata": {
      "needs_background": "light"
     },
     "output_type": "display_data"
    }
   ],
   "source": [
    "df['Spending'][-nobs:].plot(legend=True)\n",
    "df_forecast['SpendingForecast'].plot(legend=True);"
   ]
  },
  {
   "cell_type": "code",
   "execution_count": 17,
   "metadata": {
    "ExecuteTime": {
     "end_time": "2020-11-06T04:27:18.866595Z",
     "start_time": "2020-11-06T04:27:18.852630Z"
    }
   },
   "outputs": [
    {
     "name": "stdout",
     "output_type": "stream",
     "text": [
      "Money VAR(5) RMSE: 424.806\n"
     ]
    }
   ],
   "source": [
    "RMSE1 = rmse(df['Money'][-nobs:], df_forecast['MoneyForecast'])\n",
    "print(f'Money VAR(5) RMSE: {RMSE1:.3f}')"
   ]
  },
  {
   "cell_type": "code",
   "execution_count": 18,
   "metadata": {
    "ExecuteTime": {
     "end_time": "2020-11-06T04:27:18.978705Z",
     "start_time": "2020-11-06T04:27:18.870584Z"
    }
   },
   "outputs": [
    {
     "name": "stdout",
     "output_type": "stream",
     "text": [
      "Spending VAR(5) RMSE: 241.912\n"
     ]
    }
   ],
   "source": [
    "RMSE2 = rmse(df['Spending'][-nobs:], df_forecast['SpendingForecast'])\n",
    "print(f'Spending VAR(5) RMSE: {RMSE2:.3f}')"
   ]
  },
  {
   "cell_type": "markdown",
   "metadata": {},
   "source": [
    "Clearly these results are less accurate than our earlier VAR(5) model. Still, this tells us something!\n",
    "## Let's compare these results to individual ARMA(1,2) models"
   ]
  },
  {
   "cell_type": "code",
   "execution_count": 19,
   "metadata": {
    "ExecuteTime": {
     "end_time": "2020-11-06T04:27:19.104674Z",
     "start_time": "2020-11-06T04:27:18.981661Z"
    }
   },
   "outputs": [],
   "source": [
    "from statsmodels.tsa.arima_model import ARMA,ARMAResults"
   ]
  },
  {
   "cell_type": "markdown",
   "metadata": {},
   "source": [
    "### Money"
   ]
  },
  {
   "cell_type": "code",
   "execution_count": 20,
   "metadata": {
    "ExecuteTime": {
     "end_time": "2020-11-06T04:27:19.970642Z",
     "start_time": "2020-11-06T04:27:19.108663Z"
    }
   },
   "outputs": [
    {
     "data": {
      "text/html": [
       "<table class=\"simpletable\">\n",
       "<caption>ARMA Model Results</caption>\n",
       "<tr>\n",
       "  <th>Dep. Variable:</th>       <td>Money</td>      <th>  No. Observations:  </th>    <td>238</td>   \n",
       "</tr>\n",
       "<tr>\n",
       "  <th>Model:</th>            <td>ARMA(1, 2)</td>    <th>  Log Likelihood     </th> <td>-1117.710</td>\n",
       "</tr>\n",
       "<tr>\n",
       "  <th>Method:</th>             <td>css-mle</td>     <th>  S.D. of innovations</th>  <td>26.214</td>  \n",
       "</tr>\n",
       "<tr>\n",
       "  <th>Date:</th>          <td>Fri, 06 Nov 2020</td> <th>  AIC                </th> <td>2245.421</td> \n",
       "</tr>\n",
       "<tr>\n",
       "  <th>Time:</th>              <td>09:57:19</td>     <th>  BIC                </th> <td>2262.782</td> \n",
       "</tr>\n",
       "<tr>\n",
       "  <th>Sample:</th>           <td>03-01-1995</td>    <th>  HQIC               </th> <td>2252.418</td> \n",
       "</tr>\n",
       "<tr>\n",
       "  <th></th>                 <td>- 12-01-2014</td>   <th>                     </th>     <td> </td>    \n",
       "</tr>\n",
       "</table>\n",
       "<table class=\"simpletable\">\n",
       "<tr>\n",
       "       <td></td>          <th>coef</th>     <th>std err</th>      <th>z</th>      <th>P>|z|</th>  <th>[0.025</th>    <th>0.975]</th>  \n",
       "</tr>\n",
       "<tr>\n",
       "  <th>const</th>       <td>    0.1814</td> <td>    0.029</td> <td>    6.302</td> <td> 0.000</td> <td>    0.125</td> <td>    0.238</td>\n",
       "</tr>\n",
       "<tr>\n",
       "  <th>ar.L1.Money</th> <td>   -0.3569</td> <td>    0.293</td> <td>   -1.217</td> <td> 0.223</td> <td>   -0.931</td> <td>    0.218</td>\n",
       "</tr>\n",
       "<tr>\n",
       "  <th>ma.L1.Money</th> <td>   -0.4087</td> <td>    0.260</td> <td>   -1.572</td> <td> 0.116</td> <td>   -0.918</td> <td>    0.101</td>\n",
       "</tr>\n",
       "<tr>\n",
       "  <th>ma.L2.Money</th> <td>   -0.5912</td> <td>    0.260</td> <td>   -2.278</td> <td> 0.023</td> <td>   -1.100</td> <td>   -0.083</td>\n",
       "</tr>\n",
       "</table>\n",
       "<table class=\"simpletable\">\n",
       "<caption>Roots</caption>\n",
       "<tr>\n",
       "    <td></td>   <th>            Real</th>  <th>         Imaginary</th> <th>         Modulus</th>  <th>        Frequency</th>\n",
       "</tr>\n",
       "<tr>\n",
       "  <th>AR.1</th> <td>          -2.8023</td> <td>          +0.0000j</td> <td>           2.8023</td> <td>           0.5000</td>\n",
       "</tr>\n",
       "<tr>\n",
       "  <th>MA.1</th> <td>           1.0000</td> <td>          +0.0000j</td> <td>           1.0000</td> <td>           0.0000</td>\n",
       "</tr>\n",
       "<tr>\n",
       "  <th>MA.2</th> <td>          -1.6913</td> <td>          +0.0000j</td> <td>           1.6913</td> <td>           0.5000</td>\n",
       "</tr>\n",
       "</table>"
      ],
      "text/plain": [
       "<class 'statsmodels.iolib.summary.Summary'>\n",
       "\"\"\"\n",
       "                              ARMA Model Results                              \n",
       "==============================================================================\n",
       "Dep. Variable:                  Money   No. Observations:                  238\n",
       "Model:                     ARMA(1, 2)   Log Likelihood               -1117.710\n",
       "Method:                       css-mle   S.D. of innovations             26.214\n",
       "Date:                Fri, 06 Nov 2020   AIC                           2245.421\n",
       "Time:                        09:57:19   BIC                           2262.782\n",
       "Sample:                    03-01-1995   HQIC                          2252.418\n",
       "                         - 12-01-2014                                         \n",
       "===============================================================================\n",
       "                  coef    std err          z      P>|z|      [0.025      0.975]\n",
       "-------------------------------------------------------------------------------\n",
       "const           0.1814      0.029      6.302      0.000       0.125       0.238\n",
       "ar.L1.Money    -0.3569      0.293     -1.217      0.223      -0.931       0.218\n",
       "ma.L1.Money    -0.4087      0.260     -1.572      0.116      -0.918       0.101\n",
       "ma.L2.Money    -0.5912      0.260     -2.278      0.023      -1.100      -0.083\n",
       "                                    Roots                                    \n",
       "=============================================================================\n",
       "                  Real          Imaginary           Modulus         Frequency\n",
       "-----------------------------------------------------------------------------\n",
       "AR.1           -2.8023           +0.0000j            2.8023            0.5000\n",
       "MA.1            1.0000           +0.0000j            1.0000            0.0000\n",
       "MA.2           -1.6913           +0.0000j            1.6913            0.5000\n",
       "-----------------------------------------------------------------------------\n",
       "\"\"\""
      ]
     },
     "execution_count": 20,
     "metadata": {},
     "output_type": "execute_result"
    }
   ],
   "source": [
    "model = ARMA(train['Money'],order=(1,2))\n",
    "results = model.fit()\n",
    "results.summary()"
   ]
  },
  {
   "cell_type": "code",
   "execution_count": 21,
   "metadata": {
    "ExecuteTime": {
     "end_time": "2020-11-06T04:27:20.017670Z",
     "start_time": "2020-11-06T04:27:19.973636Z"
    }
   },
   "outputs": [],
   "source": [
    "start=len(train)\n",
    "end=len(train)+len(test)-1\n",
    "z1 = results.predict(start=start, end=end).rename('Money')\n",
    "z1 = pd.DataFrame(z1)"
   ]
  },
  {
   "cell_type": "code",
   "execution_count": 22,
   "metadata": {
    "ExecuteTime": {
     "end_time": "2020-11-06T04:27:20.160682Z",
     "start_time": "2020-11-06T04:27:20.019674Z"
    }
   },
   "outputs": [
    {
     "data": {
      "text/html": [
       "<div>\n",
       "<style scoped>\n",
       "    .dataframe tbody tr th:only-of-type {\n",
       "        vertical-align: middle;\n",
       "    }\n",
       "\n",
       "    .dataframe tbody tr th {\n",
       "        vertical-align: top;\n",
       "    }\n",
       "\n",
       "    .dataframe thead th {\n",
       "        text-align: right;\n",
       "    }\n",
       "</style>\n",
       "<table border=\"1\" class=\"dataframe\">\n",
       "  <thead>\n",
       "    <tr style=\"text-align: right;\">\n",
       "      <th></th>\n",
       "      <th>Money</th>\n",
       "    </tr>\n",
       "  </thead>\n",
       "  <tbody>\n",
       "    <tr>\n",
       "      <th>2015-01-01</th>\n",
       "      <td>-14.499055</td>\n",
       "    </tr>\n",
       "    <tr>\n",
       "      <th>2015-02-01</th>\n",
       "      <td>-10.946985</td>\n",
       "    </tr>\n",
       "    <tr>\n",
       "      <th>2015-03-01</th>\n",
       "      <td>4.152604</td>\n",
       "    </tr>\n",
       "    <tr>\n",
       "      <th>2015-04-01</th>\n",
       "      <td>-1.235745</td>\n",
       "    </tr>\n",
       "    <tr>\n",
       "      <th>2015-05-01</th>\n",
       "      <td>0.687109</td>\n",
       "    </tr>\n",
       "    <tr>\n",
       "      <th>2015-06-01</th>\n",
       "      <td>0.000931</td>\n",
       "    </tr>\n",
       "    <tr>\n",
       "      <th>2015-07-01</th>\n",
       "      <td>0.245796</td>\n",
       "    </tr>\n",
       "    <tr>\n",
       "      <th>2015-08-01</th>\n",
       "      <td>0.158415</td>\n",
       "    </tr>\n",
       "    <tr>\n",
       "      <th>2015-09-01</th>\n",
       "      <td>0.189598</td>\n",
       "    </tr>\n",
       "    <tr>\n",
       "      <th>2015-10-01</th>\n",
       "      <td>0.178470</td>\n",
       "    </tr>\n",
       "    <tr>\n",
       "      <th>2015-11-01</th>\n",
       "      <td>0.182441</td>\n",
       "    </tr>\n",
       "    <tr>\n",
       "      <th>2015-12-01</th>\n",
       "      <td>0.181024</td>\n",
       "    </tr>\n",
       "  </tbody>\n",
       "</table>\n",
       "</div>"
      ],
      "text/plain": [
       "                Money\n",
       "2015-01-01 -14.499055\n",
       "2015-02-01 -10.946985\n",
       "2015-03-01   4.152604\n",
       "2015-04-01  -1.235745\n",
       "2015-05-01   0.687109\n",
       "2015-06-01   0.000931\n",
       "2015-07-01   0.245796\n",
       "2015-08-01   0.158415\n",
       "2015-09-01   0.189598\n",
       "2015-10-01   0.178470\n",
       "2015-11-01   0.182441\n",
       "2015-12-01   0.181024"
      ]
     },
     "execution_count": 22,
     "metadata": {},
     "output_type": "execute_result"
    }
   ],
   "source": [
    "z1"
   ]
  },
  {
   "cell_type": "markdown",
   "metadata": {},
   "source": [
    "### Invert the Transformation, Evaluate the Forecast"
   ]
  },
  {
   "cell_type": "code",
   "execution_count": 23,
   "metadata": {
    "ExecuteTime": {
     "end_time": "2020-11-06T04:27:20.270030Z",
     "start_time": "2020-11-06T04:27:20.167667Z"
    }
   },
   "outputs": [],
   "source": [
    "# Add the most recent first difference from the training set to the forecast cumulative sum\n",
    "z1['Money1d'] = (df['Money'].iloc[-nobs-1]-df['Money'].iloc[-nobs-2]) + z1['Money'].cumsum()\n",
    "\n",
    "# Now build the forecast values from the first difference set\n",
    "z1['MoneyForecast'] = df['Money'].iloc[-nobs-1] + z1['Money1d'].cumsum()"
   ]
  },
  {
   "cell_type": "code",
   "execution_count": 24,
   "metadata": {
    "ExecuteTime": {
     "end_time": "2020-11-06T04:27:20.395910Z",
     "start_time": "2020-11-06T04:27:20.277934Z"
    }
   },
   "outputs": [
    {
     "data": {
      "text/html": [
       "<div>\n",
       "<style scoped>\n",
       "    .dataframe tbody tr th:only-of-type {\n",
       "        vertical-align: middle;\n",
       "    }\n",
       "\n",
       "    .dataframe tbody tr th {\n",
       "        vertical-align: top;\n",
       "    }\n",
       "\n",
       "    .dataframe thead th {\n",
       "        text-align: right;\n",
       "    }\n",
       "</style>\n",
       "<table border=\"1\" class=\"dataframe\">\n",
       "  <thead>\n",
       "    <tr style=\"text-align: right;\">\n",
       "      <th></th>\n",
       "      <th>Money</th>\n",
       "      <th>Money1d</th>\n",
       "      <th>MoneyForecast</th>\n",
       "    </tr>\n",
       "  </thead>\n",
       "  <tbody>\n",
       "    <tr>\n",
       "      <th>2015-01-01</th>\n",
       "      <td>-14.499055</td>\n",
       "      <td>64.100945</td>\n",
       "      <td>11734.200945</td>\n",
       "    </tr>\n",
       "    <tr>\n",
       "      <th>2015-02-01</th>\n",
       "      <td>-10.946985</td>\n",
       "      <td>53.153960</td>\n",
       "      <td>11787.354905</td>\n",
       "    </tr>\n",
       "    <tr>\n",
       "      <th>2015-03-01</th>\n",
       "      <td>4.152604</td>\n",
       "      <td>57.306565</td>\n",
       "      <td>11844.661470</td>\n",
       "    </tr>\n",
       "    <tr>\n",
       "      <th>2015-04-01</th>\n",
       "      <td>-1.235745</td>\n",
       "      <td>56.070820</td>\n",
       "      <td>11900.732290</td>\n",
       "    </tr>\n",
       "    <tr>\n",
       "      <th>2015-05-01</th>\n",
       "      <td>0.687109</td>\n",
       "      <td>56.757929</td>\n",
       "      <td>11957.490219</td>\n",
       "    </tr>\n",
       "    <tr>\n",
       "      <th>2015-06-01</th>\n",
       "      <td>0.000931</td>\n",
       "      <td>56.758860</td>\n",
       "      <td>12014.249079</td>\n",
       "    </tr>\n",
       "    <tr>\n",
       "      <th>2015-07-01</th>\n",
       "      <td>0.245796</td>\n",
       "      <td>57.004656</td>\n",
       "      <td>12071.253735</td>\n",
       "    </tr>\n",
       "    <tr>\n",
       "      <th>2015-08-01</th>\n",
       "      <td>0.158415</td>\n",
       "      <td>57.163072</td>\n",
       "      <td>12128.416807</td>\n",
       "    </tr>\n",
       "    <tr>\n",
       "      <th>2015-09-01</th>\n",
       "      <td>0.189598</td>\n",
       "      <td>57.352669</td>\n",
       "      <td>12185.769476</td>\n",
       "    </tr>\n",
       "    <tr>\n",
       "      <th>2015-10-01</th>\n",
       "      <td>0.178470</td>\n",
       "      <td>57.531139</td>\n",
       "      <td>12243.300615</td>\n",
       "    </tr>\n",
       "    <tr>\n",
       "      <th>2015-11-01</th>\n",
       "      <td>0.182441</td>\n",
       "      <td>57.713580</td>\n",
       "      <td>12301.014195</td>\n",
       "    </tr>\n",
       "    <tr>\n",
       "      <th>2015-12-01</th>\n",
       "      <td>0.181024</td>\n",
       "      <td>57.894604</td>\n",
       "      <td>12358.908799</td>\n",
       "    </tr>\n",
       "  </tbody>\n",
       "</table>\n",
       "</div>"
      ],
      "text/plain": [
       "                Money    Money1d  MoneyForecast\n",
       "2015-01-01 -14.499055  64.100945   11734.200945\n",
       "2015-02-01 -10.946985  53.153960   11787.354905\n",
       "2015-03-01   4.152604  57.306565   11844.661470\n",
       "2015-04-01  -1.235745  56.070820   11900.732290\n",
       "2015-05-01   0.687109  56.757929   11957.490219\n",
       "2015-06-01   0.000931  56.758860   12014.249079\n",
       "2015-07-01   0.245796  57.004656   12071.253735\n",
       "2015-08-01   0.158415  57.163072   12128.416807\n",
       "2015-09-01   0.189598  57.352669   12185.769476\n",
       "2015-10-01   0.178470  57.531139   12243.300615\n",
       "2015-11-01   0.182441  57.713580   12301.014195\n",
       "2015-12-01   0.181024  57.894604   12358.908799"
      ]
     },
     "execution_count": 24,
     "metadata": {},
     "output_type": "execute_result"
    }
   ],
   "source": [
    "z1"
   ]
  },
  {
   "cell_type": "code",
   "execution_count": 25,
   "metadata": {
    "ExecuteTime": {
     "end_time": "2020-11-06T04:27:20.519368Z",
     "start_time": "2020-11-06T04:27:20.398902Z"
    }
   },
   "outputs": [
    {
     "name": "stdout",
     "output_type": "stream",
     "text": [
      "Money VARMA(1,2) RMSE: 424.806\n",
      "Money  ARMA(1,2) RMSE: 32.236\n"
     ]
    }
   ],
   "source": [
    "RMSE3 = rmse(df['Money'][-nobs:], z1['MoneyForecast'])\n",
    "\n",
    "print(f'Money VARMA(1,2) RMSE: {RMSE1:.3f}')\n",
    "print(f'Money  ARMA(1,2) RMSE: {RMSE3:.3f}')"
   ]
  },
  {
   "cell_type": "markdown",
   "metadata": {},
   "source": [
    "### Personal Spending"
   ]
  },
  {
   "cell_type": "code",
   "execution_count": 26,
   "metadata": {
    "ExecuteTime": {
     "end_time": "2020-11-06T04:27:20.885138Z",
     "start_time": "2020-11-06T04:27:20.522359Z"
    }
   },
   "outputs": [
    {
     "data": {
      "text/html": [
       "<table class=\"simpletable\">\n",
       "<caption>ARMA Model Results</caption>\n",
       "<tr>\n",
       "  <th>Dep. Variable:</th>     <td>Spending</td>     <th>  No. Observations:  </th>    <td>238</td>   \n",
       "</tr>\n",
       "<tr>\n",
       "  <th>Model:</th>            <td>ARMA(1, 2)</td>    <th>  Log Likelihood     </th> <td>-1182.411</td>\n",
       "</tr>\n",
       "<tr>\n",
       "  <th>Method:</th>             <td>css-mle</td>     <th>  S.D. of innovations</th>  <td>34.661</td>  \n",
       "</tr>\n",
       "<tr>\n",
       "  <th>Date:</th>          <td>Fri, 06 Nov 2020</td> <th>  AIC                </th> <td>2374.823</td> \n",
       "</tr>\n",
       "<tr>\n",
       "  <th>Time:</th>              <td>09:57:20</td>     <th>  BIC                </th> <td>2392.184</td> \n",
       "</tr>\n",
       "<tr>\n",
       "  <th>Sample:</th>           <td>03-01-1995</td>    <th>  HQIC               </th> <td>2381.820</td> \n",
       "</tr>\n",
       "<tr>\n",
       "  <th></th>                 <td>- 12-01-2014</td>   <th>                     </th>     <td> </td>    \n",
       "</tr>\n",
       "</table>\n",
       "<table class=\"simpletable\">\n",
       "<tr>\n",
       "         <td></td>           <th>coef</th>     <th>std err</th>      <th>z</th>      <th>P>|z|</th>  <th>[0.025</th>    <th>0.975]</th>  \n",
       "</tr>\n",
       "<tr>\n",
       "  <th>const</th>          <td>    0.0856</td> <td>    0.245</td> <td>    0.350</td> <td> 0.726</td> <td>   -0.394</td> <td>    0.565</td>\n",
       "</tr>\n",
       "<tr>\n",
       "  <th>ar.L1.Spending</th> <td>   -0.3403</td> <td>    0.511</td> <td>   -0.666</td> <td> 0.505</td> <td>   -1.342</td> <td>    0.661</td>\n",
       "</tr>\n",
       "<tr>\n",
       "  <th>ma.L1.Spending</th> <td>   -0.6451</td> <td>    0.521</td> <td>   -1.237</td> <td> 0.216</td> <td>   -1.667</td> <td>    0.377</td>\n",
       "</tr>\n",
       "<tr>\n",
       "  <th>ma.L2.Spending</th> <td>   -0.2139</td> <td>    0.485</td> <td>   -0.441</td> <td> 0.659</td> <td>   -1.165</td> <td>    0.737</td>\n",
       "</tr>\n",
       "</table>\n",
       "<table class=\"simpletable\">\n",
       "<caption>Roots</caption>\n",
       "<tr>\n",
       "    <td></td>   <th>            Real</th>  <th>         Imaginary</th> <th>         Modulus</th>  <th>        Frequency</th>\n",
       "</tr>\n",
       "<tr>\n",
       "  <th>AR.1</th> <td>          -2.9387</td> <td>          +0.0000j</td> <td>           2.9387</td> <td>           0.5000</td>\n",
       "</tr>\n",
       "<tr>\n",
       "  <th>MA.1</th> <td>           1.1281</td> <td>          +0.0000j</td> <td>           1.1281</td> <td>           0.0000</td>\n",
       "</tr>\n",
       "<tr>\n",
       "  <th>MA.2</th> <td>          -4.1438</td> <td>          +0.0000j</td> <td>           4.1438</td> <td>           0.5000</td>\n",
       "</tr>\n",
       "</table>"
      ],
      "text/plain": [
       "<class 'statsmodels.iolib.summary.Summary'>\n",
       "\"\"\"\n",
       "                              ARMA Model Results                              \n",
       "==============================================================================\n",
       "Dep. Variable:               Spending   No. Observations:                  238\n",
       "Model:                     ARMA(1, 2)   Log Likelihood               -1182.411\n",
       "Method:                       css-mle   S.D. of innovations             34.661\n",
       "Date:                Fri, 06 Nov 2020   AIC                           2374.823\n",
       "Time:                        09:57:20   BIC                           2392.184\n",
       "Sample:                    03-01-1995   HQIC                          2381.820\n",
       "                         - 12-01-2014                                         \n",
       "==================================================================================\n",
       "                     coef    std err          z      P>|z|      [0.025      0.975]\n",
       "----------------------------------------------------------------------------------\n",
       "const              0.0856      0.245      0.350      0.726      -0.394       0.565\n",
       "ar.L1.Spending    -0.3403      0.511     -0.666      0.505      -1.342       0.661\n",
       "ma.L1.Spending    -0.6451      0.521     -1.237      0.216      -1.667       0.377\n",
       "ma.L2.Spending    -0.2139      0.485     -0.441      0.659      -1.165       0.737\n",
       "                                    Roots                                    \n",
       "=============================================================================\n",
       "                  Real          Imaginary           Modulus         Frequency\n",
       "-----------------------------------------------------------------------------\n",
       "AR.1           -2.9387           +0.0000j            2.9387            0.5000\n",
       "MA.1            1.1281           +0.0000j            1.1281            0.0000\n",
       "MA.2           -4.1438           +0.0000j            4.1438            0.5000\n",
       "-----------------------------------------------------------------------------\n",
       "\"\"\""
      ]
     },
     "execution_count": 26,
     "metadata": {},
     "output_type": "execute_result"
    }
   ],
   "source": [
    "model = ARMA(train['Spending'],order=(1,2))\n",
    "results = model.fit()\n",
    "results.summary()"
   ]
  },
  {
   "cell_type": "code",
   "execution_count": 27,
   "metadata": {
    "ExecuteTime": {
     "end_time": "2020-11-06T04:27:20.932013Z",
     "start_time": "2020-11-06T04:27:20.888131Z"
    }
   },
   "outputs": [
    {
     "data": {
      "text/html": [
       "<div>\n",
       "<style scoped>\n",
       "    .dataframe tbody tr th:only-of-type {\n",
       "        vertical-align: middle;\n",
       "    }\n",
       "\n",
       "    .dataframe tbody tr th {\n",
       "        vertical-align: top;\n",
       "    }\n",
       "\n",
       "    .dataframe thead th {\n",
       "        text-align: right;\n",
       "    }\n",
       "</style>\n",
       "<table border=\"1\" class=\"dataframe\">\n",
       "  <thead>\n",
       "    <tr style=\"text-align: right;\">\n",
       "      <th></th>\n",
       "      <th>Spending</th>\n",
       "    </tr>\n",
       "  </thead>\n",
       "  <tbody>\n",
       "    <tr>\n",
       "      <th>2015-01-01</th>\n",
       "      <td>33.555817</td>\n",
       "    </tr>\n",
       "    <tr>\n",
       "      <th>2015-02-01</th>\n",
       "      <td>-3.338242</td>\n",
       "    </tr>\n",
       "    <tr>\n",
       "      <th>2015-03-01</th>\n",
       "      <td>1.250708</td>\n",
       "    </tr>\n",
       "    <tr>\n",
       "      <th>2015-04-01</th>\n",
       "      <td>-0.310836</td>\n",
       "    </tr>\n",
       "    <tr>\n",
       "      <th>2015-05-01</th>\n",
       "      <td>0.220532</td>\n",
       "    </tr>\n",
       "    <tr>\n",
       "      <th>2015-06-01</th>\n",
       "      <td>0.039716</td>\n",
       "    </tr>\n",
       "    <tr>\n",
       "      <th>2015-07-01</th>\n",
       "      <td>0.101245</td>\n",
       "    </tr>\n",
       "    <tr>\n",
       "      <th>2015-08-01</th>\n",
       "      <td>0.080307</td>\n",
       "    </tr>\n",
       "    <tr>\n",
       "      <th>2015-09-01</th>\n",
       "      <td>0.087432</td>\n",
       "    </tr>\n",
       "    <tr>\n",
       "      <th>2015-10-01</th>\n",
       "      <td>0.085008</td>\n",
       "    </tr>\n",
       "    <tr>\n",
       "      <th>2015-11-01</th>\n",
       "      <td>0.085833</td>\n",
       "    </tr>\n",
       "    <tr>\n",
       "      <th>2015-12-01</th>\n",
       "      <td>0.085552</td>\n",
       "    </tr>\n",
       "  </tbody>\n",
       "</table>\n",
       "</div>"
      ],
      "text/plain": [
       "             Spending\n",
       "2015-01-01  33.555817\n",
       "2015-02-01  -3.338242\n",
       "2015-03-01   1.250708\n",
       "2015-04-01  -0.310836\n",
       "2015-05-01   0.220532\n",
       "2015-06-01   0.039716\n",
       "2015-07-01   0.101245\n",
       "2015-08-01   0.080307\n",
       "2015-09-01   0.087432\n",
       "2015-10-01   0.085008\n",
       "2015-11-01   0.085833\n",
       "2015-12-01   0.085552"
      ]
     },
     "execution_count": 27,
     "metadata": {},
     "output_type": "execute_result"
    }
   ],
   "source": [
    "start=len(train)\n",
    "end=len(train)+len(test)-1\n",
    "z2 = results.predict(start=start, end=end).rename('Spending')\n",
    "z2 = pd.DataFrame(z2)\n",
    "z2"
   ]
  },
  {
   "cell_type": "markdown",
   "metadata": {},
   "source": [
    "### Invert the Transformation, Evaluate the Forecast"
   ]
  },
  {
   "cell_type": "code",
   "execution_count": 28,
   "metadata": {
    "ExecuteTime": {
     "end_time": "2020-11-06T04:27:21.071106Z",
     "start_time": "2020-11-06T04:27:20.935012Z"
    }
   },
   "outputs": [],
   "source": [
    "# Add the most recent first difference from the training set to the forecast cumulative sum\n",
    "z2['Spending1d'] = (df['Spending'].iloc[-nobs-1]-df['Spending'].iloc[-nobs-2]) + z2['Spending'].cumsum()\n",
    "\n",
    "# Now build the forecast values from the first difference set\n",
    "z2['SpendingForecast'] = df['Spending'].iloc[-nobs-1] + z2['Spending1d'].cumsum()"
   ]
  },
  {
   "cell_type": "code",
   "execution_count": 29,
   "metadata": {
    "ExecuteTime": {
     "end_time": "2020-11-06T04:27:21.213362Z",
     "start_time": "2020-11-06T04:27:21.073070Z"
    }
   },
   "outputs": [
    {
     "data": {
      "text/html": [
       "<div>\n",
       "<style scoped>\n",
       "    .dataframe tbody tr th:only-of-type {\n",
       "        vertical-align: middle;\n",
       "    }\n",
       "\n",
       "    .dataframe tbody tr th {\n",
       "        vertical-align: top;\n",
       "    }\n",
       "\n",
       "    .dataframe thead th {\n",
       "        text-align: right;\n",
       "    }\n",
       "</style>\n",
       "<table border=\"1\" class=\"dataframe\">\n",
       "  <thead>\n",
       "    <tr style=\"text-align: right;\">\n",
       "      <th></th>\n",
       "      <th>Spending</th>\n",
       "      <th>Spending1d</th>\n",
       "      <th>SpendingForecast</th>\n",
       "    </tr>\n",
       "  </thead>\n",
       "  <tbody>\n",
       "    <tr>\n",
       "      <th>2015-01-01</th>\n",
       "      <td>33.555817</td>\n",
       "      <td>44.155817</td>\n",
       "      <td>12106.155817</td>\n",
       "    </tr>\n",
       "    <tr>\n",
       "      <th>2015-02-01</th>\n",
       "      <td>-3.338242</td>\n",
       "      <td>40.817575</td>\n",
       "      <td>12146.973392</td>\n",
       "    </tr>\n",
       "    <tr>\n",
       "      <th>2015-03-01</th>\n",
       "      <td>1.250708</td>\n",
       "      <td>42.068283</td>\n",
       "      <td>12189.041675</td>\n",
       "    </tr>\n",
       "    <tr>\n",
       "      <th>2015-04-01</th>\n",
       "      <td>-0.310836</td>\n",
       "      <td>41.757447</td>\n",
       "      <td>12230.799121</td>\n",
       "    </tr>\n",
       "    <tr>\n",
       "      <th>2015-05-01</th>\n",
       "      <td>0.220532</td>\n",
       "      <td>41.977978</td>\n",
       "      <td>12272.777100</td>\n",
       "    </tr>\n",
       "    <tr>\n",
       "      <th>2015-06-01</th>\n",
       "      <td>0.039716</td>\n",
       "      <td>42.017694</td>\n",
       "      <td>12314.794794</td>\n",
       "    </tr>\n",
       "    <tr>\n",
       "      <th>2015-07-01</th>\n",
       "      <td>0.101245</td>\n",
       "      <td>42.118939</td>\n",
       "      <td>12356.913733</td>\n",
       "    </tr>\n",
       "    <tr>\n",
       "      <th>2015-08-01</th>\n",
       "      <td>0.080307</td>\n",
       "      <td>42.199246</td>\n",
       "      <td>12399.112979</td>\n",
       "    </tr>\n",
       "    <tr>\n",
       "      <th>2015-09-01</th>\n",
       "      <td>0.087432</td>\n",
       "      <td>42.286678</td>\n",
       "      <td>12441.399657</td>\n",
       "    </tr>\n",
       "    <tr>\n",
       "      <th>2015-10-01</th>\n",
       "      <td>0.085008</td>\n",
       "      <td>42.371686</td>\n",
       "      <td>12483.771343</td>\n",
       "    </tr>\n",
       "    <tr>\n",
       "      <th>2015-11-01</th>\n",
       "      <td>0.085833</td>\n",
       "      <td>42.457518</td>\n",
       "      <td>12526.228861</td>\n",
       "    </tr>\n",
       "    <tr>\n",
       "      <th>2015-12-01</th>\n",
       "      <td>0.085552</td>\n",
       "      <td>42.543070</td>\n",
       "      <td>12568.771931</td>\n",
       "    </tr>\n",
       "  </tbody>\n",
       "</table>\n",
       "</div>"
      ],
      "text/plain": [
       "             Spending  Spending1d  SpendingForecast\n",
       "2015-01-01  33.555817   44.155817      12106.155817\n",
       "2015-02-01  -3.338242   40.817575      12146.973392\n",
       "2015-03-01   1.250708   42.068283      12189.041675\n",
       "2015-04-01  -0.310836   41.757447      12230.799121\n",
       "2015-05-01   0.220532   41.977978      12272.777100\n",
       "2015-06-01   0.039716   42.017694      12314.794794\n",
       "2015-07-01   0.101245   42.118939      12356.913733\n",
       "2015-08-01   0.080307   42.199246      12399.112979\n",
       "2015-09-01   0.087432   42.286678      12441.399657\n",
       "2015-10-01   0.085008   42.371686      12483.771343\n",
       "2015-11-01   0.085833   42.457518      12526.228861\n",
       "2015-12-01   0.085552   42.543070      12568.771931"
      ]
     },
     "execution_count": 29,
     "metadata": {},
     "output_type": "execute_result"
    }
   ],
   "source": [
    "z2"
   ]
  },
  {
   "cell_type": "code",
   "execution_count": 30,
   "metadata": {
    "ExecuteTime": {
     "end_time": "2020-11-06T04:27:21.401142Z",
     "start_time": "2020-11-06T04:27:21.217353Z"
    }
   },
   "outputs": [
    {
     "name": "stdout",
     "output_type": "stream",
     "text": [
      "Spending VARMA(1,2) RMSE: 241.912\n",
      "Spending  ARMA(1,2) RMSE: 52.334\n"
     ]
    }
   ],
   "source": [
    "RMSE4 = rmse(df['Spending'][-nobs:], z2['SpendingForecast'])\n",
    "\n",
    "print(f'Spending VARMA(1,2) RMSE: {RMSE2:.3f}')\n",
    "print(f'Spending  ARMA(1,2) RMSE: {RMSE4:.3f}')"
   ]
  },
  {
   "cell_type": "markdown",
   "metadata": {},
   "source": [
    "<strong>CONCLUSION:</strong> It looks like the VARMA(1,2) model did a relatively poor job compared to simpler alternatives. This tells us that there is little or no interdepence between Money Stock and Personal Consumption Expenditures, at least for the timespan we investigated. This is helpful! By fitting a model and getting poor results we know more about the data than we did before."
   ]
  },
  {
   "cell_type": "code",
   "execution_count": null,
   "metadata": {},
   "outputs": [],
   "source": []
  }
 ],
 "metadata": {
  "kernelspec": {
   "display_name": "Python 3",
   "language": "python",
   "name": "python3"
  },
  "language_info": {
   "codemirror_mode": {
    "name": "ipython",
    "version": 3
   },
   "file_extension": ".py",
   "mimetype": "text/x-python",
   "name": "python",
   "nbconvert_exporter": "python",
   "pygments_lexer": "ipython3",
   "version": "3.7.7"
  },
  "toc": {
   "base_numbering": 1,
   "nav_menu": {},
   "number_sections": true,
   "sideBar": true,
   "skip_h1_title": false,
   "title_cell": "Table of Contents",
   "title_sidebar": "Contents",
   "toc_cell": false,
   "toc_position": {},
   "toc_section_display": true,
   "toc_window_display": false
  },
  "varInspector": {
   "cols": {
    "lenName": 16,
    "lenType": 16,
    "lenVar": 40
   },
   "kernels_config": {
    "python": {
     "delete_cmd_postfix": "",
     "delete_cmd_prefix": "del ",
     "library": "var_list.py",
     "varRefreshCmd": "print(var_dic_list())"
    },
    "r": {
     "delete_cmd_postfix": ") ",
     "delete_cmd_prefix": "rm(",
     "library": "var_list.r",
     "varRefreshCmd": "cat(var_dic_list()) "
    }
   },
   "types_to_exclude": [
    "module",
    "function",
    "builtin_function_or_method",
    "instance",
    "_Feature"
   ],
   "window_display": false
  }
 },
 "nbformat": 4,
 "nbformat_minor": 2
}
